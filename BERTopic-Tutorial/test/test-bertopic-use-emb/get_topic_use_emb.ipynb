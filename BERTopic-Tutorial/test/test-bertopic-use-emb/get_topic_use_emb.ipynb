{
 "cells": [
  {
   "cell_type": "markdown",
   "metadata": {},
   "source": [
    "# 导入"
   ]
  },
  {
   "cell_type": "code",
   "execution_count": null,
   "metadata": {},
   "outputs": [],
   "source": [
    "import numpy as np\n",
    "from bertopic import BERTopic\n",
    "from umap import UMAP\n",
    "from transformers.pipelines import pipeline"
   ]
  },
  {
   "cell_type": "markdown",
   "metadata": {},
   "source": [
    "# 加载数据"
   ]
  },
  {
   "cell_type": "code",
   "execution_count": null,
   "metadata": {},
   "outputs": [],
   "source": [
    "# step1 加载文件\n",
    "with open('./切词_100.txt', 'r', encoding='utf-8') as file:\n",
    "  docs = file.readlines()\n",
    "print('文档条数: ', len(docs))\n",
    "print('预览第一条: ', docs[0])"
   ]
  },
  {
   "cell_type": "markdown",
   "metadata": {},
   "source": [
    "# 创建词向量模型"
   ]
  },
  {
   "cell_type": "markdown",
   "metadata": {},
   "source": [
    "官方文档\n",
    "To use a Hugging Face transformers model, load in a pipeline and point to any model found on their model hub (https://huggingface.co/models):\n",
    "\n",
    "from transformers.pipelines import pipeline\n",
    "\n",
    "embedding_model = pipeline(\"feature-extraction\", model=\"distilbert-base-cased\")\n",
    "topic_model = BERTopic(embedding_model=embedding_model)"
   ]
  },
  {
   "cell_type": "code",
   "execution_count": null,
   "metadata": {},
   "outputs": [],
   "source": [
    "# transformers.pipelines 模块的主要功能是提供了一系列预定义的管道（pipelines），每个管道对应一个特定的 NLP 任务。通过调用这些管道的方法，可以直接将文本输入传递给相应的预训练模型，然后获取模型的输出结果\n",
    "# 特征提取（Feature Extraction）是指从文本数据中提取有意义的特征或表示。这些特征可以用于各种下游任务，如文本分类\n",
    "# https://maartengr.github.io/BERTopic/getting_started/embeddings/embeddings.html#sentence-transformers\n",
    "# https://huggingface.co/docs/transformers/v4.39.3/en/main_classes/pipelines#transformers.FeatureExtractionPipeline\n",
    "embedding_model = pipeline(\n",
    "  \"feature-extraction\",\n",
    "  # model=\"bert-base-chinese\",\n",
    "  model=\"hfl/chinese-bert-wwm\",\n",
    ")\n",
    "embedding_model"
   ]
  },
  {
   "cell_type": "markdown",
   "metadata": {},
   "source": [
    "# 加载词向量，很快"
   ]
  },
  {
   "cell_type": "code",
   "execution_count": null,
   "metadata": {},
   "outputs": [],
   "source": [
    "embeddings = np.load('emb.npy')\n",
    "print(type(embeddings), embeddings.shape)"
   ]
  },
  {
   "cell_type": "markdown",
   "metadata": {},
   "source": [
    "# 文本聚类 ⭐"
   ]
  },
  {
   "cell_type": "code",
   "execution_count": null,
   "metadata": {},
   "outputs": [],
   "source": [
    "# 创建模型，跑出来的结果可能和我的不一样\n",
    "topic_model = BERTopic(\n",
    "  embedding_model=embedding_model,\n",
    "  min_topic_size=10, # 重要参数\n",
    "  verbose=True,\n",
    ")\n",
    "\n",
    "# 训练模型\n",
    "topic_model.fit_transform(docs, embeddings=embeddings)\n",
    "\n",
    "# 获取聚类结果\n",
    "topic_info = topic_model.get_topic_info()\n",
    "topic_info"
   ]
  },
  {
   "cell_type": "markdown",
   "metadata": {},
   "source": [
    "# 可视化"
   ]
  },
  {
   "cell_type": "code",
   "execution_count": null,
   "metadata": {},
   "outputs": [],
   "source": [
    "# ⭐ UMAP可视化\n",
    "reduced_embeddings = UMAP(n_neighbors=10, n_components=2, min_dist=0.0, metric='cosine',).fit_transform(embeddings)\n",
    "topic_model.visualize_documents(docs, reduced_embeddings=reduced_embeddings)"
   ]
  }
 ],
 "metadata": {
  "kernelspec": {
   "display_name": "topic",
   "language": "python",
   "name": "topic"
  },
  "language_info": {
   "codemirror_mode": {
    "name": "ipython",
    "version": 3
   },
   "file_extension": ".py",
   "mimetype": "text/x-python",
   "name": "python",
   "nbconvert_exporter": "python",
   "pygments_lexer": "ipython3",
   "version": "3.10.14"
  },
  "orig_nbformat": 4
 },
 "nbformat": 4,
 "nbformat_minor": 2
}
