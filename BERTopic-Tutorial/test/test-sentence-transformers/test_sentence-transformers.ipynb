{
 "cells": [
  {
   "cell_type": "markdown",
   "metadata": {},
   "source": [
    "# 一个官方示例"
   ]
  },
  {
   "cell_type": "code",
   "execution_count": 1,
   "metadata": {},
   "outputs": [
    {
     "name": "stderr",
     "output_type": "stream",
     "text": [
      "d:\\SoftwareData\\Anaconda3\\envs\\topic\\lib\\site-packages\\tqdm\\auto.py:21: TqdmWarning: IProgress not found. Please update jupyter and ipywidgets. See https://ipywidgets.readthedocs.io/en/stable/user_install.html\n",
      "  from .autonotebook import tqdm as notebook_tqdm\n"
     ]
    }
   ],
   "source": [
    "# https://www.sbert.net/\n",
    "# 导入\n",
    "from sentence_transformers import SentenceTransformer, util"
   ]
  },
  {
   "cell_type": "code",
   "execution_count": 2,
   "metadata": {},
   "outputs": [],
   "source": [
    "# 加载模型\n",
    "# conda activate test\n",
    "# pip install -U huggingface_hub\n",
    "# $env:HF_ENDPOINT = \"https://hf-mirror.com\"\n",
    "# huggingface-cli download --resume-download sentence-transformers/all-MiniLM-L6-v2\n",
    "model = SentenceTransformer(\"all-MiniLM-L6-v2\")\n",
    "# model = SentenceTransformer(\"C:\\\\Users\\\\ji\\\\.cache\\\\huggingface\\\\hub\\\\models--sentence-transformers--all-MiniLM-L6-v2\\\\snapshots\\\\e4ce9877abf3edfe10b0d82785e83bdcb973e22e\")\n"
   ]
  },
  {
   "cell_type": "code",
   "execution_count": null,
   "metadata": {},
   "outputs": [],
   "source": [
    "# 要编码的句子\n",
    "sentences = [\n",
    "    \"Sentences are passed as a list of string.\",\n",
    "    \"Sentences are passed as a list of some strings.\",\n",
    "    \"The quick brown fox jumps over the lazy dog.\"\n",
    "]"
   ]
  },
  {
   "cell_type": "code",
   "execution_count": null,
   "metadata": {},
   "outputs": [],
   "source": [
    "# ⭐ 编码，这个就是我们的核心API\n",
    "embeddings = model.encode(sentences)\n",
    "embeddings.shape"
   ]
  },
  {
   "cell_type": "code",
   "execution_count": null,
   "metadata": {},
   "outputs": [],
   "source": [
    "# 查看句子和它对应的编码\n",
    "for sentence, embedding in zip(sentences, embeddings):\n",
    "    print(\"Sentence:\", sentence)\n",
    "    print(\"Embedding:\", len(embedding), embedding[:10])\n",
    "    print(\"\")"
   ]
  },
  {
   "cell_type": "code",
   "execution_count": null,
   "metadata": {},
   "outputs": [],
   "source": [
    "# 计算句子余弦相似度\n",
    "cos_sim_1 = util.cos_sim(embeddings[0], embeddings[1])\n",
    "cos_sim_2 = util.cos_sim(embeddings[0], embeddings[2])\n",
    "print(cos_sim_1)\n",
    "print(cos_sim_2)"
   ]
  }
 ],
 "metadata": {
  "kernelspec": {
   "display_name": "topic",
   "language": "python",
   "name": "topic"
  },
  "language_info": {
   "codemirror_mode": {
    "name": "ipython",
    "version": 3
   },
   "file_extension": ".py",
   "mimetype": "text/x-python",
   "name": "python",
   "nbconvert_exporter": "python",
   "pygments_lexer": "ipython3",
   "version": "3.10.14"
  }
 },
 "nbformat": 4,
 "nbformat_minor": 2
}
