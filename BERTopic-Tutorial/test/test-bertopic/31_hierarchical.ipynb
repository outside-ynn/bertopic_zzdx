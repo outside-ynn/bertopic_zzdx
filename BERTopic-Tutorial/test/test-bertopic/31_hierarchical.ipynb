{
 "cells": [
  {
   "cell_type": "code",
   "execution_count": 1,
   "metadata": {},
   "outputs": [
    {
     "name": "stderr",
     "output_type": "stream",
     "text": [
      "d:\\SoftwareData\\Anaconda3\\envs\\topic\\lib\\site-packages\\tqdm\\auto.py:21: TqdmWarning: IProgress not found. Please update jupyter and ipywidgets. See https://ipywidgets.readthedocs.io/en/stable/user_install.html\n",
      "  from .autonotebook import tqdm as notebook_tqdm\n"
     ]
    }
   ],
   "source": [
    "import numpy as np\n",
    "from bertopic import BERTopic\n",
    "from sentence_transformers import SentenceTransformer\n",
    "from sklearn.feature_extraction.text import CountVectorizer\n",
    "from transformers.pipelines import pipeline\n",
    "from umap import UMAP\n",
    "from hdbscan import HDBSCAN\n",
    "from sklearn.feature_extraction.text import CountVectorizer"
   ]
  },
  {
   "cell_type": "markdown",
   "metadata": {},
   "source": [
    "# 加载数据"
   ]
  },
  {
   "cell_type": "code",
   "execution_count": 2,
   "metadata": {},
   "outputs": [
    {
     "name": "stdout",
     "output_type": "stream",
     "text": [
      "条数:  2714\n",
      "预览第一条:  This article shows how symbolic computing and the mathematical formalism induced by maximizing entropy and minimizing the mean deviation from statistical equilibrium may be effectively applied to obtaining probabilistic models for the structure of atoms, using trial wave functions compatible with an average shell picture of the atom. The objective is not only to recover the experimental value of the ground state mean energy of the atom, but rather to better approximate the unknown parameters of these trial\n",
      "\n"
     ]
    }
   ],
   "source": [
    "# step1 加载文件\n",
    "with open('../../data/切词.txt', 'r', encoding='utf-8') as file:\n",
    "  docs = file.readlines()\n",
    "print('条数: ', len(docs))\n",
    "print('预览第一条: ', docs[0])\n",
    "\n",
    "vectorizer_model = None"
   ]
  },
  {
   "cell_type": "markdown",
   "metadata": {},
   "source": [
    "# 创建"
   ]
  },
  {
   "cell_type": "code",
   "execution_count": 3,
   "metadata": {},
   "outputs": [
    {
     "name": "stderr",
     "output_type": "stream",
     "text": [
      "Some weights of the model checkpoint at bert-base-chinese were not used when initializing BertModel: ['cls.seq_relationship.weight', 'cls.predictions.transform.dense.bias', 'cls.predictions.transform.LayerNorm.bias', 'cls.predictions.transform.dense.weight', 'cls.predictions.bias', 'cls.predictions.transform.LayerNorm.weight', 'cls.seq_relationship.bias']\n",
      "- This IS expected if you are initializing BertModel from the checkpoint of a model trained on another task or with another architecture (e.g. initializing a BertForSequenceClassification model from a BertForPreTraining model).\n",
      "- This IS NOT expected if you are initializing BertModel from the checkpoint of a model that you expect to be exactly identical (initializing a BertForSequenceClassification model from a BertForSequenceClassification model).\n"
     ]
    },
    {
     "name": "stdout",
     "output_type": "stream",
     "text": [
      "(2714, 384)\n"
     ]
    }
   ],
   "source": [
    "# 1. 词向量模型，同时加载本地训练好的词向量\n",
    "embedding_model = pipeline(\"feature-extraction\", model=\"bert-base-chinese\") # 使用bert-base-chinese\n",
    "embeddings = np.load('../../data/emb.npy') # 使用bert-base-chinese向量\n",
    "print(embeddings.shape)\n",
    "\n",
    "# 2. 创建分词模型\n",
    "vectorizer_model = CountVectorizer() # 因为我们已经分好词了，所以这里不需要传入分词函数了\n",
    "\n",
    "# 3. 创建UMAP降维模型\n",
    "umap_model = UMAP(\n",
    "  n_neighbors=15,\n",
    "  n_components=5,\n",
    "  min_dist=0.0,\n",
    "  metric='cosine',\n",
    "  random_state=30  # ⚠️ 防止随机 https://maartengr.github.io/BERTopic/faq.html\n",
    ")\n",
    "\n",
    "# 4. 创建HDBSCAN聚类模型\n",
    "# 如果要建设离群值，可以减小下面两个参数\n",
    "# https://hdbscan.readthedocs.io/en/latest/faq.html\n",
    "hdbscan_model = HDBSCAN(\n",
    "  min_cluster_size=10,\n",
    "  min_samples=5,\n",
    ")\n",
    "\n",
    "# 5. 创建CountVectorizer模型\n",
    "vectorizer_model = CountVectorizer(stop_words=['洛阳', '旅游', '文化'])"
   ]
  },
  {
   "cell_type": "code",
   "execution_count": 4,
   "metadata": {},
   "outputs": [
    {
     "data": {
      "text/html": [
       "<div>\n",
       "<style scoped>\n",
       "    .dataframe tbody tr th:only-of-type {\n",
       "        vertical-align: middle;\n",
       "    }\n",
       "\n",
       "    .dataframe tbody tr th {\n",
       "        vertical-align: top;\n",
       "    }\n",
       "\n",
       "    .dataframe thead th {\n",
       "        text-align: right;\n",
       "    }\n",
       "</style>\n",
       "<table border=\"1\" class=\"dataframe\">\n",
       "  <thead>\n",
       "    <tr style=\"text-align: right;\">\n",
       "      <th></th>\n",
       "      <th>Topic</th>\n",
       "      <th>Count</th>\n",
       "      <th>Name</th>\n",
       "      <th>Representation</th>\n",
       "      <th>Representative_Docs</th>\n",
       "    </tr>\n",
       "  </thead>\n",
       "  <tbody>\n",
       "    <tr>\n",
       "      <th>0</th>\n",
       "      <td>-1</td>\n",
       "      <td>937</td>\n",
       "      <td>-1_the_of_we_and</td>\n",
       "      <td>[the, of, we, and, in, to, quantum, for, is, t...</td>\n",
       "      <td>[We investigate the entanglement dynamics of t...</td>\n",
       "    </tr>\n",
       "    <tr>\n",
       "      <th>1</th>\n",
       "      <td>0</td>\n",
       "      <td>97</td>\n",
       "      <td>0_topological_majorana_superconductivity_super...</td>\n",
       "      <td>[topological, majorana, superconductivity, sup...</td>\n",
       "      <td>[Superconductors with topological surface or e...</td>\n",
       "    </tr>\n",
       "    <tr>\n",
       "      <th>2</th>\n",
       "      <td>1</td>\n",
       "      <td>92</td>\n",
       "      <td>1_quantum_learning_computers_computing</td>\n",
       "      <td>[quantum, learning, computers, computing, and,...</td>\n",
       "      <td>[quantum computer encodes information in quant...</td>\n",
       "    </tr>\n",
       "    <tr>\n",
       "      <th>3</th>\n",
       "      <td>2</td>\n",
       "      <td>87</td>\n",
       "      <td>2_laser_ion_the_ions</td>\n",
       "      <td>[laser, ion, the, ions, energy, and, of, ioniz...</td>\n",
       "      <td>[Yb ions were trapped in quadrupole ion trap. ...</td>\n",
       "    </tr>\n",
       "    <tr>\n",
       "      <th>4</th>\n",
       "      <td>3</td>\n",
       "      <td>80</td>\n",
       "      <td>3_stars_ray_star_galaxies</td>\n",
       "      <td>[stars, ray, star, galaxies, galaxy, the, of, ...</td>\n",
       "      <td>[We propose stellar locus outlier (SLOT) metho...</td>\n",
       "    </tr>\n",
       "    <tr>\n",
       "      <th>...</th>\n",
       "      <td>...</td>\n",
       "      <td>...</td>\n",
       "      <td>...</td>\n",
       "      <td>...</td>\n",
       "      <td>...</td>\n",
       "    </tr>\n",
       "    <tr>\n",
       "      <th>61</th>\n",
       "      <td>60</td>\n",
       "      <td>10</td>\n",
       "      <td>60_photons_conversion_fiber_fibers</td>\n",
       "      <td>[photons, conversion, fiber, fibers, key, low,...</td>\n",
       "      <td>[We report single-stage bidirectional interfac...</td>\n",
       "    </tr>\n",
       "    <tr>\n",
       "      <th>62</th>\n",
       "      <td>61</td>\n",
       "      <td>10</td>\n",
       "      <td>61_environment_dynamics_qubit_le</td>\n",
       "      <td>[environment, dynamics, qubit, le, general, ce...</td>\n",
       "      <td>[The Loschmidt echo (LE) of central two-level ...</td>\n",
       "    </tr>\n",
       "    <tr>\n",
       "      <th>63</th>\n",
       "      <td>62</td>\n",
       "      <td>10</td>\n",
       "      <td>62_cloning_covariant_machine_repair</td>\n",
       "      <td>[cloning, covariant, machine, repair, optimal,...</td>\n",
       "      <td>[While exact cloning of an unknown quantum sta...</td>\n",
       "    </tr>\n",
       "    <tr>\n",
       "      <th>64</th>\n",
       "      <td>63</td>\n",
       "      <td>10</td>\n",
       "      <td>63_lzs_zener_landau_lz</td>\n",
       "      <td>[lzs, zener, landau, lz, transition, interfere...</td>\n",
       "      <td>[single bichromatic field near resonant to qub...</td>\n",
       "    </tr>\n",
       "    <tr>\n",
       "      <th>65</th>\n",
       "      <td>64</td>\n",
       "      <td>10</td>\n",
       "      <td>64_unitary_gf_gates_circuit</td>\n",
       "      <td>[unitary, gf, gates, circuit, canonical, cliff...</td>\n",
       "      <td>[We develop efficient algorithms for compiling...</td>\n",
       "    </tr>\n",
       "  </tbody>\n",
       "</table>\n",
       "<p>66 rows × 5 columns</p>\n",
       "</div>"
      ],
      "text/plain": [
       "    Topic  Count                                               Name  \\\n",
       "0      -1    937                                   -1_the_of_we_and   \n",
       "1       0     97  0_topological_majorana_superconductivity_super...   \n",
       "2       1     92             1_quantum_learning_computers_computing   \n",
       "3       2     87                               2_laser_ion_the_ions   \n",
       "4       3     80                          3_stars_ray_star_galaxies   \n",
       "..    ...    ...                                                ...   \n",
       "61     60     10                 60_photons_conversion_fiber_fibers   \n",
       "62     61     10                   61_environment_dynamics_qubit_le   \n",
       "63     62     10                62_cloning_covariant_machine_repair   \n",
       "64     63     10                             63_lzs_zener_landau_lz   \n",
       "65     64     10                        64_unitary_gf_gates_circuit   \n",
       "\n",
       "                                       Representation  \\\n",
       "0   [the, of, we, and, in, to, quantum, for, is, t...   \n",
       "1   [topological, majorana, superconductivity, sup...   \n",
       "2   [quantum, learning, computers, computing, and,...   \n",
       "3   [laser, ion, the, ions, energy, and, of, ioniz...   \n",
       "4   [stars, ray, star, galaxies, galaxy, the, of, ...   \n",
       "..                                                ...   \n",
       "61  [photons, conversion, fiber, fibers, key, low,...   \n",
       "62  [environment, dynamics, qubit, le, general, ce...   \n",
       "63  [cloning, covariant, machine, repair, optimal,...   \n",
       "64  [lzs, zener, landau, lz, transition, interfere...   \n",
       "65  [unitary, gf, gates, circuit, canonical, cliff...   \n",
       "\n",
       "                                  Representative_Docs  \n",
       "0   [We investigate the entanglement dynamics of t...  \n",
       "1   [Superconductors with topological surface or e...  \n",
       "2   [quantum computer encodes information in quant...  \n",
       "3   [Yb ions were trapped in quadrupole ion trap. ...  \n",
       "4   [We propose stellar locus outlier (SLOT) metho...  \n",
       "..                                                ...  \n",
       "61  [We report single-stage bidirectional interfac...  \n",
       "62  [The Loschmidt echo (LE) of central two-level ...  \n",
       "63  [While exact cloning of an unknown quantum sta...  \n",
       "64  [single bichromatic field near resonant to qub...  \n",
       "65  [We develop efficient algorithms for compiling...  \n",
       "\n",
       "[66 rows x 5 columns]"
      ]
     },
     "execution_count": 4,
     "metadata": {},
     "output_type": "execute_result"
    }
   ],
   "source": [
    "topic_model = BERTopic(\n",
    "  embedding_model=embedding_model,\n",
    "  vectorizer_model=vectorizer_model,\n",
    "  umap_model=umap_model,\n",
    "  hdbscan_model=hdbscan_model,\n",
    ")\n",
    "\n",
    "topics, probs = topic_model.fit_transform(docs, embeddings=embeddings) #传入训练好的词向量\n",
    "topic_info = topic_model.get_topic_info()\n",
    "topic_info"
   ]
  },
  {
   "cell_type": "markdown",
   "metadata": {},
   "source": [
    "# 层次聚类"
   ]
  },
  {
   "cell_type": "code",
   "execution_count": 5,
   "metadata": {},
   "outputs": [
    {
     "name": "stderr",
     "output_type": "stream",
     "text": [
      "100%|██████████| 64/64 [00:00<00:00, 191.52it/s]\n"
     ]
    },
    {
     "data": {
      "application/vnd.plotly.v1+json": {
       "config": {
        "plotlyServerURL": "https://plot.ly"
       },
       "data": [
        {
         "hoverinfo": "text",
         "marker": {
          "color": "rgb(61,153,112)"
         },
         "mode": "lines",
         "text": [
          "gate_cavity_atoms_gates_two",
          "",
          "",
          "gate_qubit_distortions_errors_error"
         ],
         "type": "scatter",
         "x": [
          0,
          0.5799604882863963,
          0.5799604882863963,
          0
         ],
         "xaxis": "x",
         "y": [
          -25,
          -25,
          -35,
          -35
         ],
         "yaxis": "y"
        },
        {
         "hoverinfo": "text",
         "marker": {
          "color": "rgb(61,153,112)"
         },
         "mode": "lines",
         "text": [
          "performance_transmon_gate_crosstalk_scalable",
          "",
          "",
          "gate_cavity_qubit_two_gates"
         ],
         "type": "scatter",
         "x": [
          0,
          0.6634292090077284,
          0.6634292090077284,
          0.5799604882863963
         ],
         "xaxis": "x",
         "y": [
          -15,
          -15,
          -30,
          -30
         ],
         "yaxis": "y"
        },
        {
         "hoverinfo": "text",
         "marker": {
          "color": "rgb(61,153,112)"
         },
         "mode": "lines",
         "text": [
          "gate_cavity_gates_qubit_two",
          "",
          "",
          "qubits_operations_promising_addressing_are"
         ],
         "type": "scatter",
         "x": [
          0.6634292090077284,
          0.6896513547234201,
          0.6896513547234201,
          0
         ],
         "xaxis": "x",
         "y": [
          -22.5,
          -22.5,
          -45,
          -45
         ],
         "yaxis": "y"
        },
        {
         "hoverinfo": "text",
         "marker": {
          "color": "rgb(61,153,112)"
         },
         "mode": "lines",
         "text": [
          "codes_error_correction_code_errors",
          "",
          "",
          "gate_cavity_gates_qubit_two"
         ],
         "type": "scatter",
         "x": [
          0,
          0.7358753000938436,
          0.7358753000938436,
          0.6896513547234201
         ],
         "xaxis": "x",
         "y": [
          -5,
          -5,
          -33.75,
          -33.75
         ],
         "yaxis": "y"
        },
        {
         "hoverinfo": "text",
         "marker": {
          "color": "rgb(61,153,112)"
         },
         "mode": "lines",
         "text": [
          "gates_clifford_gate_logical_controlled",
          "",
          "",
          "unitary_gf_gates_circuit_canonical"
         ],
         "type": "scatter",
         "x": [
          0,
          0.5642313456190036,
          0.5642313456190036,
          0
         ],
         "xaxis": "x",
         "y": [
          -65,
          -65,
          -75,
          -75
         ],
         "yaxis": "y"
        },
        {
         "hoverinfo": "text",
         "marker": {
          "color": "rgb(61,153,112)"
         },
         "mode": "lines",
         "text": [
          "toffoli_gate_depth_gates_qubit",
          "",
          "",
          "gates_clifford_gate_unitary_circuit"
         ],
         "type": "scatter",
         "x": [
          0,
          0.7165461601978557,
          0.7165461601978557,
          0.5642313456190036
         ],
         "xaxis": "x",
         "y": [
          -55,
          -55,
          -70,
          -70
         ],
         "yaxis": "y"
        },
        {
         "hoverinfo": "text",
         "marker": {
          "color": "rgb(61,153,112)"
         },
         "mode": "lines",
         "text": [
          "gate_error_codes_cavity_qubit",
          "",
          "",
          "gates_gate_toffoli_clifford_circuit"
         ],
         "type": "scatter",
         "x": [
          0.7358753000938436,
          0.9379049335636013,
          0.9379049335636013,
          0.7165461601978557
         ],
         "xaxis": "x",
         "y": [
          -19.375,
          -19.375,
          -62.5,
          -62.5
         ],
         "yaxis": "y"
        },
        {
         "hoverinfo": "text",
         "marker": {
          "color": "rgb(255,65,54)"
         },
         "mode": "lines",
         "text": [
          "states_entanglement_symmetric_entangled_measure",
          "",
          "",
          "entanglement_subspaces_multipartite_depth_states"
         ],
         "type": "scatter",
         "x": [
          0,
          0.4902310004563817,
          0.4902310004563817,
          0
         ],
         "xaxis": "x",
         "y": [
          -105,
          -105,
          -115,
          -115
         ],
         "yaxis": "y"
        },
        {
         "hoverinfo": "text",
         "marker": {
          "color": "rgb(255,65,54)"
         },
         "mode": "lines",
         "text": [
          "states_ghz_pure_local_uniquely",
          "",
          "",
          "states_entanglement_entangled_multipartite_of"
         ],
         "type": "scatter",
         "x": [
          0,
          0.6161033418895119,
          0.6161033418895119,
          0.4902310004563817
         ],
         "xaxis": "x",
         "y": [
          -95,
          -95,
          -110,
          -110
         ],
         "yaxis": "y"
        },
        {
         "hoverinfo": "text",
         "marker": {
          "color": "rgb(255,65,54)"
         },
         "mode": "lines",
         "text": [
          "sets_polynomial_invariants_bases_local",
          "",
          "",
          "states_entanglement_pure_local_ghz"
         ],
         "type": "scatter",
         "x": [
          0,
          0.7121974882289679,
          0.7121974882289679,
          0.6161033418895119
         ],
         "xaxis": "x",
         "y": [
          -85,
          -85,
          -102.5,
          -102.5
         ],
         "yaxis": "y"
        },
        {
         "hoverinfo": "text",
         "marker": {
          "color": "rgb(255,65,54)"
         },
         "mode": "lines",
         "text": [
          "states_entanglement_local_pure_of",
          "",
          "",
          "geometric_mixed_quantal_evolution_phase"
         ],
         "type": "scatter",
         "x": [
          0.7121974882289679,
          0.8182091151115933,
          0.8182091151115933,
          0
         ],
         "xaxis": "x",
         "y": [
          -93.75,
          -93.75,
          -125,
          -125
         ],
         "yaxis": "y"
        },
        {
         "hoverinfo": "text",
         "marker": {
          "color": "rgb(35,205,205)"
         },
         "mode": "lines",
         "text": [
          "discord_correlation_quantum_states_entanglement",
          "",
          "",
          "correlations_markovian_correlation_systems_ancilla"
         ],
         "type": "scatter",
         "x": [
          0,
          0.6907136621486957,
          0.6907136621486957,
          0
         ],
         "xaxis": "x",
         "y": [
          -135,
          -135,
          -145,
          -145
         ],
         "yaxis": "y"
        },
        {
         "hoverinfo": "text",
         "marker": {
          "color": "rgb(35,205,205)"
         },
         "mode": "lines",
         "text": [
          "teleportation_entangled_scheme_state_states",
          "",
          "",
          "states_state_protocol_bell_mie"
         ],
         "type": "scatter",
         "x": [
          0,
          0.5056290215975103,
          0.5056290215975103,
          0
         ],
         "xaxis": "x",
         "y": [
          -175,
          -175,
          -185,
          -185
         ],
         "yaxis": "y"
        },
        {
         "hoverinfo": "text",
         "marker": {
          "color": "rgb(35,205,205)"
         },
         "mode": "lines",
         "text": [
          "protocol_key_secret_protocols_attack",
          "",
          "",
          "teleportation_entangled_state_scheme_states"
         ],
         "type": "scatter",
         "x": [
          0,
          0.6722773222993419,
          0.6722773222993419,
          0.5056290215975103
         ],
         "xaxis": "x",
         "y": [
          -165,
          -165,
          -180,
          -180
         ],
         "yaxis": "y"
        },
        {
         "hoverinfo": "text",
         "marker": {
          "color": "rgb(35,205,205)"
         },
         "mode": "lines",
         "text": [
          "protocol_teleportation_entangled_scheme_state",
          "",
          "",
          "measurement_program_quantum_tomography_estimation"
         ],
         "type": "scatter",
         "x": [
          0.6722773222993419,
          0.6770975869950588,
          0.6770975869950588,
          0
         ],
         "xaxis": "x",
         "y": [
          -172.5,
          -172.5,
          -195,
          -195
         ],
         "yaxis": "y"
        },
        {
         "hoverinfo": "text",
         "marker": {
          "color": "rgb(35,205,205)"
         },
         "mode": "lines",
         "text": [
          "bell_inequality_inequalities_violation_chsh",
          "",
          "",
          "protocol_state_quantum_scheme_entangled"
         ],
         "type": "scatter",
         "x": [
          0,
          0.8016697731590521,
          0.8016697731590521,
          0.6770975869950588
         ],
         "xaxis": "x",
         "y": [
          -155,
          -155,
          -183.75,
          -183.75
         ],
         "yaxis": "y"
        },
        {
         "hoverinfo": "text",
         "marker": {
          "color": "rgb(35,205,205)"
         },
         "mode": "lines",
         "text": [
          "algorithm_simulation_quantum_preparation_computer",
          "",
          "",
          "quantum_learning_computers_computing_and"
         ],
         "type": "scatter",
         "x": [
          0,
          0.5752930540405023,
          0.5752930540405023,
          0
         ],
         "xaxis": "x",
         "y": [
          -205,
          -205,
          -215,
          -215
         ],
         "yaxis": "y"
        },
        {
         "hoverinfo": "text",
         "marker": {
          "color": "rgb(35,205,205)"
         },
         "mode": "lines",
         "text": [
          "entanglement_enz_quantum_resource_information",
          "",
          "",
          "entanglement_energetic_system_nonclassicality_systems"
         ],
         "type": "scatter",
         "x": [
          0,
          0.604667487513386,
          0.604667487513386,
          0
         ],
         "xaxis": "x",
         "y": [
          -225,
          -225,
          -235,
          -235
         ],
         "yaxis": "y"
        },
        {
         "hoverinfo": "text",
         "marker": {
          "color": "rgb(35,205,205)"
         },
         "mode": "lines",
         "text": [
          "quantum_algorithm_algorithms_and_to",
          "",
          "",
          "entanglement_quantum_information_is_entangled"
         ],
         "type": "scatter",
         "x": [
          0.5752930540405023,
          0.7901270450728995,
          0.7901270450728995,
          0.604667487513386
         ],
         "xaxis": "x",
         "y": [
          -210,
          -210,
          -230,
          -230
         ],
         "yaxis": "y"
        },
        {
         "hoverinfo": "text",
         "marker": {
          "color": "rgb(35,205,205)"
         },
         "mode": "lines",
         "text": [
          "protocol_bell_state_quantum_entangled",
          "",
          "",
          "quantum_algorithm_to_and_entanglement"
         ],
         "type": "scatter",
         "x": [
          0.8016697731590521,
          0.8725264993239613,
          0.8725264993239613,
          0.7901270450728995
         ],
         "xaxis": "x",
         "y": [
          -169.375,
          -169.375,
          -220,
          -220
         ],
         "yaxis": "y"
        },
        {
         "hoverinfo": "text",
         "marker": {
          "color": "rgb(35,205,205)"
         },
         "mode": "lines",
         "text": [
          "quantum_is_to_the_of",
          "",
          "",
          "cloning_covariant_machine_repair_optimal"
         ],
         "type": "scatter",
         "x": [
          0.8725264993239613,
          0.898816587078108,
          0.898816587078108,
          0
         ],
         "xaxis": "x",
         "y": [
          -194.6875,
          -194.6875,
          -245,
          -245
         ],
         "yaxis": "y"
        },
        {
         "hoverinfo": "text",
         "marker": {
          "color": "rgb(35,205,205)"
         },
         "mode": "lines",
         "text": [
          "discord_correlations_correlation_quantum_markovian",
          "",
          "",
          "quantum_is_to_the_of"
         ],
         "type": "scatter",
         "x": [
          0.6907136621486957,
          0.937653207422977,
          0.937653207422977,
          0.898816587078108
         ],
         "xaxis": "x",
         "y": [
          -140,
          -140,
          -219.84375,
          -219.84375
         ],
         "yaxis": "y"
        },
        {
         "hoverinfo": "text",
         "marker": {
          "color": "rgb(133,20,75)"
         },
         "mode": "lines",
         "text": [
          "polarization_photon_entangled_state_scheme",
          "",
          "",
          "light_photon_photons_optical_quantum"
         ],
         "type": "scatter",
         "x": [
          0,
          0.5448584349985837,
          0.5448584349985837,
          0
         ],
         "xaxis": "x",
         "y": [
          -255,
          -255,
          -265,
          -265
         ],
         "yaxis": "y"
        },
        {
         "hoverinfo": "text",
         "marker": {
          "color": "rgb(133,20,75)"
         },
         "mode": "lines",
         "text": [
          "photon_light_photons_optical_polarization",
          "",
          "",
          "photons_conversion_fiber_fibers_key"
         ],
         "type": "scatter",
         "x": [
          0.5448584349985837,
          0.6768273538295987,
          0.6768273538295987,
          0
         ],
         "xaxis": "x",
         "y": [
          -260,
          -260,
          -275,
          -275
         ],
         "yaxis": "y"
        },
        {
         "hoverinfo": "text",
         "marker": {
          "color": "rgb(0,116,217)"
         },
         "mode": "lines",
         "text": [
          "quantum_is_the_of_to",
          "",
          "",
          "photon_photons_optical_light_polarization"
         ],
         "type": "scatter",
         "x": [
          0.937653207422977,
          1.019716013472258,
          1.019716013472258,
          0.6768273538295987
         ],
         "xaxis": "x",
         "y": [
          -179.921875,
          -179.921875,
          -267.5,
          -267.5
         ],
         "yaxis": "y"
        },
        {
         "hoverinfo": "text",
         "marker": {
          "color": "rgb(0,116,217)"
         },
         "mode": "lines",
         "text": [
          "states_mixed_entanglement_local_of",
          "",
          "",
          "quantum_of_and_the_to"
         ],
         "type": "scatter",
         "x": [
          0.8182091151115933,
          1.0836126322100506,
          1.0836126322100506,
          1.019716013472258
         ],
         "xaxis": "x",
         "y": [
          -109.375,
          -109.375,
          -223.7109375,
          -223.7109375
         ],
         "yaxis": "y"
        },
        {
         "hoverinfo": "text",
         "marker": {
          "color": "rgb(0,116,217)"
         },
         "mode": "lines",
         "text": [
          "gate_gates_qubit_error_qubits",
          "",
          "",
          "quantum_states_of_the_entanglement"
         ],
         "type": "scatter",
         "x": [
          0.9379049335636013,
          1.3064041921220042,
          1.3064041921220042,
          1.0836126322100506
         ],
         "xaxis": "x",
         "y": [
          -40.9375,
          -40.9375,
          -166.54296875,
          -166.54296875
         ],
         "yaxis": "y"
        },
        {
         "hoverinfo": "text",
         "marker": {
          "color": "rgb(255,220,0)"
         },
         "mode": "lines",
         "text": [
          "sic_silicon_4h_carbide_vacancy",
          "",
          "",
          "diamond_nv_vacancy_nitrogen_center"
         ],
         "type": "scatter",
         "x": [
          0,
          0.47167413090992794,
          0.47167413090992794,
          0
         ],
         "xaxis": "x",
         "y": [
          -285,
          -285,
          -295,
          -295
         ],
         "yaxis": "y"
        },
        {
         "hoverinfo": "text",
         "marker": {
          "color": "rgb(255,220,0)"
         },
         "mode": "lines",
         "text": [
          "nuclear_si_donor_spin_electron",
          "",
          "",
          "spin_nuclear_spins_electron_resonance"
         ],
         "type": "scatter",
         "x": [
          0,
          0.4914329588289903,
          0.4914329588289903,
          0
         ],
         "xaxis": "x",
         "y": [
          -315,
          -315,
          -325,
          -325
         ],
         "yaxis": "y"
        },
        {
         "hoverinfo": "text",
         "marker": {
          "color": "rgb(255,220,0)"
         },
         "mode": "lines",
         "text": [
          "donor_si_silicon_donors_electron",
          "",
          "",
          "nuclear_spin_spins_electron_si"
         ],
         "type": "scatter",
         "x": [
          0,
          0.677043849808938,
          0.677043849808938,
          0.4914329588289903
         ],
         "xaxis": "x",
         "y": [
          -305,
          -305,
          -320,
          -320
         ],
         "yaxis": "y"
        },
        {
         "hoverinfo": "text",
         "marker": {
          "color": "rgb(255,220,0)"
         },
         "mode": "lines",
         "text": [
          "dots_dot_spin_quantum_silicon",
          "",
          "",
          "spin_electric_orbit_factor_interaction"
         ],
         "type": "scatter",
         "x": [
          0,
          0.5249029250209707,
          0.5249029250209707,
          0
         ],
         "xaxis": "x",
         "y": [
          -335,
          -335,
          -345,
          -345
         ],
         "yaxis": "y"
        },
        {
         "hoverinfo": "text",
         "marker": {
          "color": "rgb(255,220,0)"
         },
         "mode": "lines",
         "text": [
          "donor_nuclear_spin_electron_si",
          "",
          "",
          "dots_spin_dot_quantum_electron"
         ],
         "type": "scatter",
         "x": [
          0.677043849808938,
          0.7415958814627774,
          0.7415958814627774,
          0.5249029250209707
         ],
         "xaxis": "x",
         "y": [
          -312.5,
          -312.5,
          -340,
          -340
         ],
         "yaxis": "y"
        },
        {
         "hoverinfo": "text",
         "marker": {
          "color": "rgb(255,220,0)"
         },
         "mode": "lines",
         "text": [
          "vacancy_diamond_nv_center_nitrogen",
          "",
          "",
          "spin_dot_dots_electron_si"
         ],
         "type": "scatter",
         "x": [
          0.47167413090992794,
          0.8929437238357205,
          0.8929437238357205,
          0.7415958814627774
         ],
         "xaxis": "x",
         "y": [
          -290,
          -290,
          -326.25,
          -326.25
         ],
         "yaxis": "y"
        },
        {
         "hoverinfo": "text",
         "marker": {
          "color": "rgb(40,35,35)"
         },
         "mode": "lines",
         "text": [
          "abelian_hall_filling_non_statistics",
          "",
          "",
          "topological_majorana_superconductivity_superconductor_superconductors"
         ],
         "type": "scatter",
         "x": [
          0,
          0.6869021527891922,
          0.6869021527891922,
          0
         ],
         "xaxis": "x",
         "y": [
          -355,
          -355,
          -365,
          -365
         ],
         "yaxis": "y"
        },
        {
         "hoverinfo": "text",
         "marker": {
          "color": "rgb(40,35,35)"
         },
         "mode": "lines",
         "text": [
          "spin_chain_transfer_bath_the",
          "",
          "",
          "thermal_entanglement_heisenberg_magnetic_field"
         ],
         "type": "scatter",
         "x": [
          0,
          0.5385743793112646,
          0.5385743793112646,
          0
         ],
         "xaxis": "x",
         "y": [
          -395,
          -395,
          -405,
          -405
         ],
         "yaxis": "y"
        },
        {
         "hoverinfo": "text",
         "marker": {
          "color": "rgb(40,35,35)"
         },
         "mode": "lines",
         "text": [
          "model_spin_kitaev_lattice_honeycomb",
          "",
          "",
          "thermal_chain_heisenberg_entanglement_spin"
         ],
         "type": "scatter",
         "x": [
          0,
          0.5919528256442635,
          0.5919528256442635,
          0.5385743793112646
         ],
         "xaxis": "x",
         "y": [
          -385,
          -385,
          -400,
          -400
         ],
         "yaxis": "y"
        },
        {
         "hoverinfo": "text",
         "marker": {
          "color": "rgb(40,35,35)"
         },
         "mode": "lines",
         "text": [
          "hamiltonian_gauge_hamiltonians_spinor_the",
          "",
          "",
          "spin_model_the_heisenberg_thermal"
         ],
         "type": "scatter",
         "x": [
          0,
          0.6565129359404602,
          0.6565129359404602,
          0.5919528256442635
         ],
         "xaxis": "x",
         "y": [
          -375,
          -375,
          -392.5,
          -392.5
         ],
         "yaxis": "y"
        },
        {
         "hoverinfo": "text",
         "marker": {
          "color": "rgb(40,35,35)"
         },
         "mode": "lines",
         "text": [
          "environment_dynamics_qubit_le_general",
          "",
          "",
          "pt_symmetric_symmetry_parity_systems"
         ],
         "type": "scatter",
         "x": [
          0,
          0.6844829269382553,
          0.6844829269382553,
          0
         ],
         "xaxis": "x",
         "y": [
          -415,
          -415,
          -425,
          -425
         ],
         "yaxis": "y"
        },
        {
         "hoverinfo": "text",
         "marker": {
          "color": "rgb(40,35,35)"
         },
         "mode": "lines",
         "text": [
          "spin_the_model_heisenberg_hamiltonian",
          "",
          "",
          "pt_symmetric_symmetry_parity_anti"
         ],
         "type": "scatter",
         "x": [
          0.6565129359404602,
          0.9021995206102487,
          0.9021995206102487,
          0.6844829269382553
         ],
         "xaxis": "x",
         "y": [
          -383.75,
          -383.75,
          -420,
          -420
         ],
         "yaxis": "y"
        },
        {
         "hoverinfo": "text",
         "marker": {
          "color": "rgb(40,35,35)"
         },
         "mode": "lines",
         "text": [
          "topological_majorana_superconductivity_superconductor_superconductors",
          "",
          "",
          "spin_the_model_hamiltonian_of"
         ],
         "type": "scatter",
         "x": [
          0.6869021527891922,
          0.9462789547327601,
          0.9462789547327601,
          0.9021995206102487
         ],
         "xaxis": "x",
         "y": [
          -360,
          -360,
          -401.875,
          -401.875
         ],
         "yaxis": "y"
        },
        {
         "hoverinfo": "text",
         "marker": {
          "color": "rgb(61,153,112)"
         },
         "mode": "lines",
         "text": [
          "josephson_junctions_junction_tunneling_switching",
          "",
          "",
          "frequency_dielectric_set_filter_current"
         ],
         "type": "scatter",
         "x": [
          0,
          0.7593612716291599,
          0.7593612716291599,
          0
         ],
         "xaxis": "x",
         "y": [
          -435,
          -435,
          -445,
          -445
         ],
         "yaxis": "y"
        },
        {
         "hoverinfo": "text",
         "marker": {
          "color": "rgb(61,153,112)"
         },
         "mode": "lines",
         "text": [
          "flux_superconducting_qubit_noise_frequency",
          "",
          "",
          "superconducting_qubits_qubit_device_circuit"
         ],
         "type": "scatter",
         "x": [
          0,
          0.5311124844658703,
          0.5311124844658703,
          0
         ],
         "xaxis": "x",
         "y": [
          -465,
          -465,
          -475,
          -475
         ],
         "yaxis": "y"
        },
        {
         "hoverinfo": "text",
         "marker": {
          "color": "rgb(61,153,112)"
         },
         "mode": "lines",
         "text": [
          "noise_decoherence_decoupling_the_chaotic",
          "",
          "",
          "superconducting_flux_qubit_device_qubits"
         ],
         "type": "scatter",
         "x": [
          0,
          0.6081299557866818,
          0.6081299557866818,
          0.5311124844658703
         ],
         "xaxis": "x",
         "y": [
          -455,
          -455,
          -470,
          -470
         ],
         "yaxis": "y"
        },
        {
         "hoverinfo": "text",
         "marker": {
          "color": "rgb(61,153,112)"
         },
         "mode": "lines",
         "text": [
          "josephson_junctions_tunneling_current_junction",
          "",
          "",
          "noise_superconducting_qubit_flux_the"
         ],
         "type": "scatter",
         "x": [
          0.7593612716291599,
          0.799255618332475,
          0.799255618332475,
          0.6081299557866818
         ],
         "xaxis": "x",
         "y": [
          -440,
          -440,
          -462.5,
          -462.5
         ],
         "yaxis": "y"
        },
        {
         "hoverinfo": "text",
         "marker": {
          "color": "rgb(61,153,112)"
         },
         "mode": "lines",
         "text": [
          "magnetic_resonance_temperature_the_relaxation",
          "",
          "",
          "laser_ion_the_ions_energy"
         ],
         "type": "scatter",
         "x": [
          0,
          0.5370167570929526,
          0.5370167570929526,
          0
         ],
         "xaxis": "x",
         "y": [
          -495,
          -495,
          -505,
          -505
         ],
         "yaxis": "y"
        },
        {
         "hoverinfo": "text",
         "marker": {
          "color": "rgb(61,153,112)"
         },
         "mode": "lines",
         "text": [
          "laser_the_ion_and_of",
          "",
          "",
          "raman_laser_stimulated_atomic_cars"
         ],
         "type": "scatter",
         "x": [
          0.5370167570929526,
          0.6747581457945416,
          0.6747581457945416,
          0
         ],
         "xaxis": "x",
         "y": [
          -500,
          -500,
          -515,
          -515
         ],
         "yaxis": "y"
        },
        {
         "hoverinfo": "text",
         "marker": {
          "color": "rgb(61,153,112)"
         },
         "mode": "lines",
         "text": [
          "stars_ray_star_galaxies_galaxy",
          "",
          "",
          "laser_the_and_of_ion"
         ],
         "type": "scatter",
         "x": [
          0,
          0.767802091994527,
          0.767802091994527,
          0.6747581457945416
         ],
         "xaxis": "x",
         "y": [
          -485,
          -485,
          -507.5,
          -507.5
         ],
         "yaxis": "y"
        },
        {
         "hoverinfo": "text",
         "marker": {
          "color": "rgb(61,153,112)"
         },
         "mode": "lines",
         "text": [
          "recombination_puffing_he_volumetric_dominated",
          "",
          "",
          "cat_schrödinger_states_oscillator_driving"
         ],
         "type": "scatter",
         "x": [
          0,
          0.8025758201876059,
          0.8025758201876059,
          0
         ],
         "xaxis": "x",
         "y": [
          -535,
          -535,
          -545,
          -545
         ],
         "yaxis": "y"
        },
        {
         "hoverinfo": "text",
         "marker": {
          "color": "rgb(61,153,112)"
         },
         "mode": "lines",
         "text": [
          "lzs_zener_landau_lz_transition",
          "",
          "",
          "cat_schrödinger_recombination_driving_puffing"
         ],
         "type": "scatter",
         "x": [
          0,
          0.8444507184656239,
          0.8444507184656239,
          0.8025758201876059
         ],
         "xaxis": "x",
         "y": [
          -525,
          -525,
          -540,
          -540
         ],
         "yaxis": "y"
        },
        {
         "hoverinfo": "text",
         "marker": {
          "color": "rgb(61,153,112)"
         },
         "mode": "lines",
         "text": [
          "the_stars_of_and_in",
          "",
          "",
          "cat_schrödinger_zener_recombination_landau"
         ],
         "type": "scatter",
         "x": [
          0.767802091994527,
          0.8906241590108677,
          0.8906241590108677,
          0.8444507184656239
         ],
         "xaxis": "x",
         "y": [
          -496.25,
          -496.25,
          -532.5,
          -532.5
         ],
         "yaxis": "y"
        },
        {
         "hoverinfo": "text",
         "marker": {
          "color": "rgb(61,153,112)"
         },
         "mode": "lines",
         "text": [
          "noise_superconducting_the_qubit_josephson",
          "",
          "",
          "the_of_stars_and_in"
         ],
         "type": "scatter",
         "x": [
          0.799255618332475,
          0.9666472901303444,
          0.9666472901303444,
          0.8906241590108677
         ],
         "xaxis": "x",
         "y": [
          -451.25,
          -451.25,
          -514.375,
          -514.375
         ],
         "yaxis": "y"
        },
        {
         "hoverinfo": "text",
         "marker": {
          "color": "rgb(0,116,217)"
         },
         "mode": "lines",
         "text": [
          "topological_the_spin_majorana_of",
          "",
          "",
          "the_of_and_in_to"
         ],
         "type": "scatter",
         "x": [
          0.9462789547327601,
          1.0795041466451645,
          1.0795041466451645,
          0.9666472901303444
         ],
         "xaxis": "x",
         "y": [
          -380.9375,
          -380.9375,
          -482.8125,
          -482.8125
         ],
         "yaxis": "y"
        },
        {
         "hoverinfo": "text",
         "marker": {
          "color": "rgb(255,65,54)"
         },
         "mode": "lines",
         "text": [
          "yang_baxter_functionals_value_unitary",
          "",
          "",
          "should_eq_paper_differential_hkl"
         ],
         "type": "scatter",
         "x": [
          0,
          0.8708321178891043,
          0.8708321178891043,
          0
         ],
         "xaxis": "x",
         "y": [
          -555,
          -555,
          -565,
          -565
         ],
         "yaxis": "y"
        },
        {
         "hoverinfo": "text",
         "marker": {
          "color": "rgb(255,65,54)"
         },
         "mode": "lines",
         "text": [
          "yang_baxter_equation_should_paper",
          "",
          "",
          "segmented_mirror_aberrations_telescope_zernike"
         ],
         "type": "scatter",
         "x": [
          0.8708321178891043,
          0.9129683746726133,
          0.9129683746726133,
          0
         ],
         "xaxis": "x",
         "y": [
          -560,
          -560,
          -575,
          -575
         ],
         "yaxis": "y"
        },
        {
         "hoverinfo": "text",
         "marker": {
          "color": "rgb(255,65,54)"
         },
         "mode": "lines",
         "text": [
          "transistors_drain_organic_fets_base",
          "",
          "",
          "films_zno_film_valley_tmdcs"
         ],
         "type": "scatter",
         "x": [
          0,
          0.7841595391354496,
          0.7841595391354496,
          0
         ],
         "xaxis": "x",
         "y": [
          -595,
          -595,
          -605,
          -605
         ],
         "yaxis": "y"
        },
        {
         "hoverinfo": "text",
         "marker": {
          "color": "rgb(255,65,54)"
         },
         "mode": "lines",
         "text": [
          "viscosity_flow_electrodes_accuracy_sample",
          "",
          "",
          "heat_foams_gas_metal_pressure"
         ],
         "type": "scatter",
         "x": [
          0,
          0.8713282123003683,
          0.8713282123003683,
          0
         ],
         "xaxis": "x",
         "y": [
          -615,
          -615,
          -625,
          -625
         ],
         "yaxis": "y"
        },
        {
         "hoverinfo": "text",
         "marker": {
          "color": "rgb(255,65,54)"
         },
         "mode": "lines",
         "text": [
          "viscosity_flow_electrodes_accuracy_heat",
          "",
          "",
          "cells_quorum_luminescence_proteins_abfps"
         ],
         "type": "scatter",
         "x": [
          0.8713282123003683,
          0.8986263478354567,
          0.8986263478354567,
          0
         ],
         "xaxis": "x",
         "y": [
          -620,
          -620,
          -635,
          -635
         ],
         "yaxis": "y"
        },
        {
         "hoverinfo": "text",
         "marker": {
          "color": "rgb(255,65,54)"
         },
         "mode": "lines",
         "text": [
          "films_film_were_zno_metal",
          "",
          "",
          "viscosity_flow_electrodes_accuracy_using"
         ],
         "type": "scatter",
         "x": [
          0.7841595391354496,
          0.9128485464209324,
          0.9128485464209324,
          0.8986263478354567
         ],
         "xaxis": "x",
         "y": [
          -600,
          -600,
          -627.5,
          -627.5
         ],
         "yaxis": "y"
        },
        {
         "hoverinfo": "text",
         "marker": {
          "color": "rgb(255,65,54)"
         },
         "mode": "lines",
         "text": [
          "patients_doc_awareness_radiation_brain",
          "",
          "",
          "viscosity_flow_electrodes_and_the"
         ],
         "type": "scatter",
         "x": [
          0,
          0.9323545499371293,
          0.9323545499371293,
          0.9128485464209324
         ],
         "xaxis": "x",
         "y": [
          -585,
          -585,
          -613.75,
          -613.75
         ],
         "yaxis": "y"
        },
        {
         "hoverinfo": "text",
         "marker": {
          "color": "rgb(255,65,54)"
         },
         "mode": "lines",
         "text": [
          "patients_and_viscosity_the_flow",
          "",
          "",
          "recrystallization_niobium_arc_films_cathodes"
         ],
         "type": "scatter",
         "x": [
          0.9323545499371293,
          0.967506933763907,
          0.967506933763907,
          0
         ],
         "xaxis": "x",
         "y": [
          -599.375,
          -599.375,
          -645,
          -645
         ],
         "yaxis": "y"
        },
        {
         "hoverinfo": "text",
         "marker": {
          "color": "rgb(255,65,54)"
         },
         "mode": "lines",
         "text": [
          "yang_baxter_segmented_paper_mirror",
          "",
          "",
          "films_was_and_patients_the"
         ],
         "type": "scatter",
         "x": [
          0.9129683746726133,
          0.9963570409425485,
          0.9963570409425485,
          0.967506933763907
         ],
         "xaxis": "x",
         "y": [
          -567.5,
          -567.5,
          -622.1875,
          -622.1875
         ],
         "yaxis": "y"
        },
        {
         "hoverinfo": "text",
         "marker": {
          "color": "rgb(0,116,217)"
         },
         "mode": "lines",
         "text": [
          "the_of_in_and_to",
          "",
          "",
          "the_and_of_films_in"
         ],
         "type": "scatter",
         "x": [
          1.0795041466451645,
          1.2014472867647765,
          1.2014472867647765,
          0.9963570409425485
         ],
         "xaxis": "x",
         "y": [
          -431.875,
          -431.875,
          -594.84375,
          -594.84375
         ],
         "yaxis": "y"
        },
        {
         "hoverinfo": "text",
         "marker": {
          "color": "rgb(0,116,217)"
         },
         "mode": "lines",
         "text": [
          "spin_nuclear_silicon_vacancy_nv",
          "",
          "",
          "the_of_in_and_to"
         ],
         "type": "scatter",
         "x": [
          0.8929437238357205,
          1.351794871038865,
          1.351794871038865,
          1.2014472867647765
         ],
         "xaxis": "x",
         "y": [
          -308.125,
          -308.125,
          -513.359375,
          -513.359375
         ],
         "yaxis": "y"
        },
        {
         "hoverinfo": "text",
         "marker": {
          "color": "rgb(0,116,217)"
         },
         "mode": "lines",
         "text": [
          "quantum_of_the_to_and",
          "",
          "",
          "the_of_in_and_spin"
         ],
         "type": "scatter",
         "x": [
          1.3064041921220042,
          1.559527011611809,
          1.559527011611809,
          1.351794871038865
         ],
         "xaxis": "x",
         "y": [
          -103.740234375,
          -103.740234375,
          -410.7421875,
          -410.7421875
         ],
         "yaxis": "y"
        },
        {
         "hoverinfo": "text",
         "hovertext": [
          "gate_cavity_gates_qubit_two",
          "gate_error_codes_cavity_qubit",
          "states_entanglement_local_pure_of",
          "protocol_teleportation_entangled_scheme_state",
          "quantum_algorithm_algorithms_and_to",
          "protocol_bell_state_quantum_entangled",
          "quantum_is_to_the_of",
          "discord_correlations_correlation_quantum_markovian",
          "photon_light_photons_optical_polarization",
          "quantum_is_the_of_to",
          "states_mixed_entanglement_local_of",
          "gate_gates_qubit_error_qubits",
          "donor_nuclear_spin_electron_si",
          "vacancy_diamond_nv_center_nitrogen",
          "spin_the_model_heisenberg_hamiltonian",
          "topological_majorana_superconductivity_superconductor_superconductors",
          "josephson_junctions_tunneling_current_junction",
          "laser_the_ion_and_of",
          "the_stars_of_and_in",
          "noise_superconducting_the_qubit_josephson",
          "topological_the_spin_majorana_of",
          "yang_baxter_equation_should_paper",
          "viscosity_flow_electrodes_accuracy_heat",
          "films_film_were_zno_metal",
          "patients_and_viscosity_the_flow",
          "yang_baxter_segmented_paper_mirror",
          "the_of_in_and_to",
          "spin_nuclear_silicon_vacancy_nv",
          "quantum_of_the_to_and"
         ],
         "marker": {
          "color": "black"
         },
         "mode": "markers",
         "showlegend": false,
         "type": "scatter",
         "x": [
          0.6634292090077284,
          0.7358753000938436,
          0.7121974882289679,
          0.6722773222993419,
          0.5752930540405023,
          0.8016697731590521,
          0.8725264993239613,
          0.6907136621486957,
          0.5448584349985837,
          0.937653207422977,
          0.8182091151115933,
          0.9379049335636013,
          0.677043849808938,
          0.47167413090992794,
          0.6565129359404602,
          0.6869021527891922,
          0.7593612716291599,
          0.5370167570929526,
          0.767802091994527,
          0.799255618332475,
          0.9462789547327601,
          0.8708321178891043,
          0.8713282123003683,
          0.7841595391354496,
          0.9323545499371293,
          0.9129683746726133,
          1.0795041466451645,
          0.8929437238357205,
          1.3064041921220042
         ],
         "y": [
          -22.5,
          -19.375,
          -93.75,
          -172.5,
          -210,
          -169.375,
          -194.6875,
          -140,
          -260,
          -179.921875,
          -109.375,
          -40.9375,
          -312.5,
          -290,
          -383.75,
          -360,
          -440,
          -500,
          -496.25,
          -451.25,
          -380.9375,
          -560,
          -620,
          -600,
          -599.375,
          -567.5,
          -431.875,
          -308.125,
          -103.740234375
         ]
        },
        {
         "hoverinfo": "text",
         "hovertext": [
          "gate_cavity_qubit_two_gates",
          "gate_cavity_gates_qubit_two",
          "gates_clifford_gate_unitary_circuit",
          "gates_gate_toffoli_clifford_circuit",
          "states_entanglement_entangled_multipartite_of",
          "states_entanglement_pure_local_ghz",
          "teleportation_entangled_state_scheme_states",
          "protocol_state_quantum_scheme_entangled",
          "entanglement_quantum_information_is_entangled",
          "quantum_algorithm_to_and_entanglement",
          "quantum_is_to_the_of",
          "photon_photons_optical_light_polarization",
          "quantum_of_and_the_to",
          "quantum_states_of_the_entanglement",
          "nuclear_spin_spins_electron_si",
          "dots_spin_dot_quantum_electron",
          "spin_dot_dots_electron_si",
          "thermal_chain_heisenberg_entanglement_spin",
          "spin_model_the_heisenberg_thermal",
          "pt_symmetric_symmetry_parity_anti",
          "spin_the_model_hamiltonian_of",
          "superconducting_flux_qubit_device_qubits",
          "noise_superconducting_qubit_flux_the",
          "laser_the_and_of_ion",
          "cat_schrödinger_recombination_driving_puffing",
          "cat_schrödinger_zener_recombination_landau",
          "the_of_stars_and_in",
          "the_of_and_in_to",
          "viscosity_flow_electrodes_accuracy_using",
          "viscosity_flow_electrodes_and_the",
          "films_was_and_patients_the",
          "the_and_of_films_in",
          "the_of_in_and_to",
          "the_of_in_and_spin"
         ],
         "marker": {
          "color": "black"
         },
         "mode": "markers",
         "showlegend": false,
         "type": "scatter",
         "x": [
          0.5799604882863963,
          0.6896513547234201,
          0.5642313456190036,
          0.7165461601978557,
          0.4902310004563817,
          0.6161033418895119,
          0.5056290215975103,
          0.6770975869950588,
          0.604667487513386,
          0.7901270450728995,
          0.898816587078108,
          0.6768273538295987,
          1.019716013472258,
          1.0836126322100506,
          0.4914329588289903,
          0.5249029250209707,
          0.7415958814627774,
          0.5385743793112646,
          0.5919528256442635,
          0.6844829269382553,
          0.9021995206102487,
          0.5311124844658703,
          0.6081299557866818,
          0.6747581457945416,
          0.8025758201876059,
          0.8444507184656239,
          0.8906241590108677,
          0.9666472901303444,
          0.8986263478354567,
          0.9128485464209324,
          0.967506933763907,
          0.9963570409425485,
          1.2014472867647765,
          1.351794871038865
         ],
         "y": [
          -30,
          -33.75,
          -70,
          -62.5,
          -110,
          -102.5,
          -180,
          -183.75,
          -230,
          -220,
          -219.84375,
          -267.5,
          -223.7109375,
          -166.54296875,
          -320,
          -340,
          -326.25,
          -400,
          -392.5,
          -420,
          -401.875,
          -470,
          -462.5,
          -507.5,
          -540,
          -532.5,
          -514.375,
          -482.8125,
          -627.5,
          -613.75,
          -622.1875,
          -594.84375,
          -513.359375,
          -410.7421875
         ]
        }
       ],
       "layout": {
        "autosize": false,
        "height": 1175,
        "hoverlabel": {
         "bgcolor": "white",
         "font": {
          "family": "Rockwell",
          "size": 16
         }
        },
        "hovermode": "closest",
        "plot_bgcolor": "#ECEFF1",
        "showlegend": false,
        "template": {
         "data": {
          "bar": [
           {
            "error_x": {
             "color": "#2a3f5f"
            },
            "error_y": {
             "color": "#2a3f5f"
            },
            "marker": {
             "line": {
              "color": "white",
              "width": 0.5
             },
             "pattern": {
              "fillmode": "overlay",
              "size": 10,
              "solidity": 0.2
             }
            },
            "type": "bar"
           }
          ],
          "barpolar": [
           {
            "marker": {
             "line": {
              "color": "white",
              "width": 0.5
             },
             "pattern": {
              "fillmode": "overlay",
              "size": 10,
              "solidity": 0.2
             }
            },
            "type": "barpolar"
           }
          ],
          "carpet": [
           {
            "aaxis": {
             "endlinecolor": "#2a3f5f",
             "gridcolor": "#C8D4E3",
             "linecolor": "#C8D4E3",
             "minorgridcolor": "#C8D4E3",
             "startlinecolor": "#2a3f5f"
            },
            "baxis": {
             "endlinecolor": "#2a3f5f",
             "gridcolor": "#C8D4E3",
             "linecolor": "#C8D4E3",
             "minorgridcolor": "#C8D4E3",
             "startlinecolor": "#2a3f5f"
            },
            "type": "carpet"
           }
          ],
          "choropleth": [
           {
            "colorbar": {
             "outlinewidth": 0,
             "ticks": ""
            },
            "type": "choropleth"
           }
          ],
          "contour": [
           {
            "colorbar": {
             "outlinewidth": 0,
             "ticks": ""
            },
            "colorscale": [
             [
              0,
              "#0d0887"
             ],
             [
              0.1111111111111111,
              "#46039f"
             ],
             [
              0.2222222222222222,
              "#7201a8"
             ],
             [
              0.3333333333333333,
              "#9c179e"
             ],
             [
              0.4444444444444444,
              "#bd3786"
             ],
             [
              0.5555555555555556,
              "#d8576b"
             ],
             [
              0.6666666666666666,
              "#ed7953"
             ],
             [
              0.7777777777777778,
              "#fb9f3a"
             ],
             [
              0.8888888888888888,
              "#fdca26"
             ],
             [
              1,
              "#f0f921"
             ]
            ],
            "type": "contour"
           }
          ],
          "contourcarpet": [
           {
            "colorbar": {
             "outlinewidth": 0,
             "ticks": ""
            },
            "type": "contourcarpet"
           }
          ],
          "heatmap": [
           {
            "colorbar": {
             "outlinewidth": 0,
             "ticks": ""
            },
            "colorscale": [
             [
              0,
              "#0d0887"
             ],
             [
              0.1111111111111111,
              "#46039f"
             ],
             [
              0.2222222222222222,
              "#7201a8"
             ],
             [
              0.3333333333333333,
              "#9c179e"
             ],
             [
              0.4444444444444444,
              "#bd3786"
             ],
             [
              0.5555555555555556,
              "#d8576b"
             ],
             [
              0.6666666666666666,
              "#ed7953"
             ],
             [
              0.7777777777777778,
              "#fb9f3a"
             ],
             [
              0.8888888888888888,
              "#fdca26"
             ],
             [
              1,
              "#f0f921"
             ]
            ],
            "type": "heatmap"
           }
          ],
          "heatmapgl": [
           {
            "colorbar": {
             "outlinewidth": 0,
             "ticks": ""
            },
            "colorscale": [
             [
              0,
              "#0d0887"
             ],
             [
              0.1111111111111111,
              "#46039f"
             ],
             [
              0.2222222222222222,
              "#7201a8"
             ],
             [
              0.3333333333333333,
              "#9c179e"
             ],
             [
              0.4444444444444444,
              "#bd3786"
             ],
             [
              0.5555555555555556,
              "#d8576b"
             ],
             [
              0.6666666666666666,
              "#ed7953"
             ],
             [
              0.7777777777777778,
              "#fb9f3a"
             ],
             [
              0.8888888888888888,
              "#fdca26"
             ],
             [
              1,
              "#f0f921"
             ]
            ],
            "type": "heatmapgl"
           }
          ],
          "histogram": [
           {
            "marker": {
             "pattern": {
              "fillmode": "overlay",
              "size": 10,
              "solidity": 0.2
             }
            },
            "type": "histogram"
           }
          ],
          "histogram2d": [
           {
            "colorbar": {
             "outlinewidth": 0,
             "ticks": ""
            },
            "colorscale": [
             [
              0,
              "#0d0887"
             ],
             [
              0.1111111111111111,
              "#46039f"
             ],
             [
              0.2222222222222222,
              "#7201a8"
             ],
             [
              0.3333333333333333,
              "#9c179e"
             ],
             [
              0.4444444444444444,
              "#bd3786"
             ],
             [
              0.5555555555555556,
              "#d8576b"
             ],
             [
              0.6666666666666666,
              "#ed7953"
             ],
             [
              0.7777777777777778,
              "#fb9f3a"
             ],
             [
              0.8888888888888888,
              "#fdca26"
             ],
             [
              1,
              "#f0f921"
             ]
            ],
            "type": "histogram2d"
           }
          ],
          "histogram2dcontour": [
           {
            "colorbar": {
             "outlinewidth": 0,
             "ticks": ""
            },
            "colorscale": [
             [
              0,
              "#0d0887"
             ],
             [
              0.1111111111111111,
              "#46039f"
             ],
             [
              0.2222222222222222,
              "#7201a8"
             ],
             [
              0.3333333333333333,
              "#9c179e"
             ],
             [
              0.4444444444444444,
              "#bd3786"
             ],
             [
              0.5555555555555556,
              "#d8576b"
             ],
             [
              0.6666666666666666,
              "#ed7953"
             ],
             [
              0.7777777777777778,
              "#fb9f3a"
             ],
             [
              0.8888888888888888,
              "#fdca26"
             ],
             [
              1,
              "#f0f921"
             ]
            ],
            "type": "histogram2dcontour"
           }
          ],
          "mesh3d": [
           {
            "colorbar": {
             "outlinewidth": 0,
             "ticks": ""
            },
            "type": "mesh3d"
           }
          ],
          "parcoords": [
           {
            "line": {
             "colorbar": {
              "outlinewidth": 0,
              "ticks": ""
             }
            },
            "type": "parcoords"
           }
          ],
          "pie": [
           {
            "automargin": true,
            "type": "pie"
           }
          ],
          "scatter": [
           {
            "fillpattern": {
             "fillmode": "overlay",
             "size": 10,
             "solidity": 0.2
            },
            "type": "scatter"
           }
          ],
          "scatter3d": [
           {
            "line": {
             "colorbar": {
              "outlinewidth": 0,
              "ticks": ""
             }
            },
            "marker": {
             "colorbar": {
              "outlinewidth": 0,
              "ticks": ""
             }
            },
            "type": "scatter3d"
           }
          ],
          "scattercarpet": [
           {
            "marker": {
             "colorbar": {
              "outlinewidth": 0,
              "ticks": ""
             }
            },
            "type": "scattercarpet"
           }
          ],
          "scattergeo": [
           {
            "marker": {
             "colorbar": {
              "outlinewidth": 0,
              "ticks": ""
             }
            },
            "type": "scattergeo"
           }
          ],
          "scattergl": [
           {
            "marker": {
             "colorbar": {
              "outlinewidth": 0,
              "ticks": ""
             }
            },
            "type": "scattergl"
           }
          ],
          "scattermapbox": [
           {
            "marker": {
             "colorbar": {
              "outlinewidth": 0,
              "ticks": ""
             }
            },
            "type": "scattermapbox"
           }
          ],
          "scatterpolar": [
           {
            "marker": {
             "colorbar": {
              "outlinewidth": 0,
              "ticks": ""
             }
            },
            "type": "scatterpolar"
           }
          ],
          "scatterpolargl": [
           {
            "marker": {
             "colorbar": {
              "outlinewidth": 0,
              "ticks": ""
             }
            },
            "type": "scatterpolargl"
           }
          ],
          "scatterternary": [
           {
            "marker": {
             "colorbar": {
              "outlinewidth": 0,
              "ticks": ""
             }
            },
            "type": "scatterternary"
           }
          ],
          "surface": [
           {
            "colorbar": {
             "outlinewidth": 0,
             "ticks": ""
            },
            "colorscale": [
             [
              0,
              "#0d0887"
             ],
             [
              0.1111111111111111,
              "#46039f"
             ],
             [
              0.2222222222222222,
              "#7201a8"
             ],
             [
              0.3333333333333333,
              "#9c179e"
             ],
             [
              0.4444444444444444,
              "#bd3786"
             ],
             [
              0.5555555555555556,
              "#d8576b"
             ],
             [
              0.6666666666666666,
              "#ed7953"
             ],
             [
              0.7777777777777778,
              "#fb9f3a"
             ],
             [
              0.8888888888888888,
              "#fdca26"
             ],
             [
              1,
              "#f0f921"
             ]
            ],
            "type": "surface"
           }
          ],
          "table": [
           {
            "cells": {
             "fill": {
              "color": "#EBF0F8"
             },
             "line": {
              "color": "white"
             }
            },
            "header": {
             "fill": {
              "color": "#C8D4E3"
             },
             "line": {
              "color": "white"
             }
            },
            "type": "table"
           }
          ]
         },
         "layout": {
          "annotationdefaults": {
           "arrowcolor": "#2a3f5f",
           "arrowhead": 0,
           "arrowwidth": 1
          },
          "autotypenumbers": "strict",
          "coloraxis": {
           "colorbar": {
            "outlinewidth": 0,
            "ticks": ""
           }
          },
          "colorscale": {
           "diverging": [
            [
             0,
             "#8e0152"
            ],
            [
             0.1,
             "#c51b7d"
            ],
            [
             0.2,
             "#de77ae"
            ],
            [
             0.3,
             "#f1b6da"
            ],
            [
             0.4,
             "#fde0ef"
            ],
            [
             0.5,
             "#f7f7f7"
            ],
            [
             0.6,
             "#e6f5d0"
            ],
            [
             0.7,
             "#b8e186"
            ],
            [
             0.8,
             "#7fbc41"
            ],
            [
             0.9,
             "#4d9221"
            ],
            [
             1,
             "#276419"
            ]
           ],
           "sequential": [
            [
             0,
             "#0d0887"
            ],
            [
             0.1111111111111111,
             "#46039f"
            ],
            [
             0.2222222222222222,
             "#7201a8"
            ],
            [
             0.3333333333333333,
             "#9c179e"
            ],
            [
             0.4444444444444444,
             "#bd3786"
            ],
            [
             0.5555555555555556,
             "#d8576b"
            ],
            [
             0.6666666666666666,
             "#ed7953"
            ],
            [
             0.7777777777777778,
             "#fb9f3a"
            ],
            [
             0.8888888888888888,
             "#fdca26"
            ],
            [
             1,
             "#f0f921"
            ]
           ],
           "sequentialminus": [
            [
             0,
             "#0d0887"
            ],
            [
             0.1111111111111111,
             "#46039f"
            ],
            [
             0.2222222222222222,
             "#7201a8"
            ],
            [
             0.3333333333333333,
             "#9c179e"
            ],
            [
             0.4444444444444444,
             "#bd3786"
            ],
            [
             0.5555555555555556,
             "#d8576b"
            ],
            [
             0.6666666666666666,
             "#ed7953"
            ],
            [
             0.7777777777777778,
             "#fb9f3a"
            ],
            [
             0.8888888888888888,
             "#fdca26"
            ],
            [
             1,
             "#f0f921"
            ]
           ]
          },
          "colorway": [
           "#636efa",
           "#EF553B",
           "#00cc96",
           "#ab63fa",
           "#FFA15A",
           "#19d3f3",
           "#FF6692",
           "#B6E880",
           "#FF97FF",
           "#FECB52"
          ],
          "font": {
           "color": "#2a3f5f"
          },
          "geo": {
           "bgcolor": "white",
           "lakecolor": "white",
           "landcolor": "white",
           "showlakes": true,
           "showland": true,
           "subunitcolor": "#C8D4E3"
          },
          "hoverlabel": {
           "align": "left"
          },
          "hovermode": "closest",
          "mapbox": {
           "style": "light"
          },
          "paper_bgcolor": "white",
          "plot_bgcolor": "white",
          "polar": {
           "angularaxis": {
            "gridcolor": "#EBF0F8",
            "linecolor": "#EBF0F8",
            "ticks": ""
           },
           "bgcolor": "white",
           "radialaxis": {
            "gridcolor": "#EBF0F8",
            "linecolor": "#EBF0F8",
            "ticks": ""
           }
          },
          "scene": {
           "xaxis": {
            "backgroundcolor": "white",
            "gridcolor": "#DFE8F3",
            "gridwidth": 2,
            "linecolor": "#EBF0F8",
            "showbackground": true,
            "ticks": "",
            "zerolinecolor": "#EBF0F8"
           },
           "yaxis": {
            "backgroundcolor": "white",
            "gridcolor": "#DFE8F3",
            "gridwidth": 2,
            "linecolor": "#EBF0F8",
            "showbackground": true,
            "ticks": "",
            "zerolinecolor": "#EBF0F8"
           },
           "zaxis": {
            "backgroundcolor": "white",
            "gridcolor": "#DFE8F3",
            "gridwidth": 2,
            "linecolor": "#EBF0F8",
            "showbackground": true,
            "ticks": "",
            "zerolinecolor": "#EBF0F8"
           }
          },
          "shapedefaults": {
           "line": {
            "color": "#2a3f5f"
           }
          },
          "ternary": {
           "aaxis": {
            "gridcolor": "#DFE8F3",
            "linecolor": "#A2B1C6",
            "ticks": ""
           },
           "baxis": {
            "gridcolor": "#DFE8F3",
            "linecolor": "#A2B1C6",
            "ticks": ""
           },
           "bgcolor": "white",
           "caxis": {
            "gridcolor": "#DFE8F3",
            "linecolor": "#A2B1C6",
            "ticks": ""
           }
          },
          "title": {
           "x": 0.05
          },
          "xaxis": {
           "automargin": true,
           "gridcolor": "#EBF0F8",
           "linecolor": "#EBF0F8",
           "ticks": "",
           "title": {
            "standoff": 15
           },
           "zerolinecolor": "#EBF0F8",
           "zerolinewidth": 2
          },
          "yaxis": {
           "automargin": true,
           "gridcolor": "#EBF0F8",
           "linecolor": "#EBF0F8",
           "ticks": "",
           "title": {
            "standoff": 15
           },
           "zerolinecolor": "#EBF0F8",
           "zerolinewidth": 2
          }
         }
        },
        "title": {
         "font": {
          "color": "Black",
          "size": 22
         },
         "text": "<b>Hierarchical Clustering</b>",
         "x": 0.5,
         "xanchor": "center",
         "yanchor": "top"
        },
        "width": 1000,
        "xaxis": {
         "mirror": "allticks",
         "rangemode": "tozero",
         "showgrid": false,
         "showline": true,
         "showticklabels": true,
         "ticks": "outside",
         "type": "linear",
         "zeroline": false
        },
        "yaxis": {
         "mirror": "allticks",
         "range": [
          -650,
          0
         ],
         "rangemode": "tozero",
         "showgrid": false,
         "showline": true,
         "showticklabels": true,
         "tickmode": "array",
         "ticks": "outside",
         "ticktext": [
          "17_codes_error_correction",
          "38_performance_transmon_gate",
          "4_gate_cavity_atoms",
          "35_gate_qubit_distortions",
          "55_qubits_operations_promis...",
          "48_toffoli_gate_depth",
          "40_gates_clifford_gate",
          "64_unitary_gf_gates",
          "29_sets_polynomial_invariants",
          "30_states_ghz_pure",
          "18_states_entanglement_symm...",
          "46_entanglement_subspaces_m...",
          "57_geometric_mixed_quantal",
          "54_discord_correlation_quan...",
          "51_correlations_markovian_c...",
          "26_bell_inequality_inequali...",
          "16_protocol_key_secret",
          "6_teleportation_entangled_s...",
          "41_states_state_protocol",
          "19_measurement_program_quan...",
          "22_algorithm_simulation_qua...",
          "1_quantum_learning_computers",
          "43_entanglement_enz_quantum",
          "49_entanglement_energetic_s...",
          "62_cloning_covariant_machine",
          "21_polarization_photon_enta...",
          "12_light_photon_photons",
          "60_photons_conversion_fiber",
          "23_sic_silicon_4h",
          "5_diamond_nv_vacancy",
          "27_donor_si_silicon",
          "56_nuclear_si_donor",
          "24_spin_nuclear_spins",
          "7_dots_dot_spin",
          "32_spin_electric_orbit",
          "37_abelian_hall_filling",
          "0_topological_majorana_supe...",
          "14_hamiltonian_gauge_hamilt...",
          "13_model_spin_kitaev",
          "20_spin_chain_transfer",
          "11_thermal_entanglement_hei...",
          "61_environment_dynamics_qubit",
          "44_pt_symmetric_symmetry",
          "33_josephson_junctions_junc...",
          "39_frequency_dielectric_set",
          "9_noise_decoherence_decoupl...",
          "36_flux_superconducting_qubit",
          "15_superconducting_qubits_q...",
          "3_stars_ray_star",
          "8_magnetic_resonance_temper...",
          "2_laser_ion_the",
          "52_raman_laser_stimulated",
          "63_lzs_zener_landau",
          "47_recombination_puffing_he",
          "45_cat_schrödinger_states",
          "42_yang_baxter_functionals",
          "10_should_eq_paper",
          "59_segmented_mirror_aberrat...",
          "31_patients_doc_awareness",
          "53_transistors_drain_organic",
          "34_films_zno_film",
          "25_viscosity_flow_electrodes",
          "50_heat_foams_gas",
          "28_cells_quorum_luminescence",
          "58_recrystallization_niobiu..."
         ],
         "tickvals": [
          -5,
          -15,
          -25,
          -35,
          -45,
          -55,
          -65,
          -75,
          -85,
          -95,
          -105,
          -115,
          -125,
          -135,
          -145,
          -155,
          -165,
          -175,
          -185,
          -195,
          -205,
          -215,
          -225,
          -235,
          -245,
          -255,
          -265,
          -275,
          -285,
          -295,
          -305,
          -315,
          -325,
          -335,
          -345,
          -355,
          -365,
          -375,
          -385,
          -395,
          -405,
          -415,
          -425,
          -435,
          -445,
          -455,
          -465,
          -475,
          -485,
          -495,
          -505,
          -515,
          -525,
          -535,
          -545,
          -555,
          -565,
          -575,
          -585,
          -595,
          -605,
          -615,
          -625,
          -635,
          -645
         ],
         "type": "linear",
         "zeroline": false
        }
       }
      }
     },
     "metadata": {},
     "output_type": "display_data"
    }
   ],
   "source": [
    "hierarchical_topics = topic_model.hierarchical_topics(docs)\n",
    "topic_model.visualize_hierarchy(hierarchical_topics=hierarchical_topics)"
   ]
  },
  {
   "cell_type": "markdown",
   "metadata": {},
   "source": [
    "# 参数：方向"
   ]
  },
  {
   "cell_type": "code",
   "execution_count": null,
   "metadata": {},
   "outputs": [],
   "source": [
    "topic_model.visualize_hierarchy(hierarchical_topics=hierarchical_topics, orientation='bottom')"
   ]
  },
  {
   "cell_type": "markdown",
   "metadata": {},
   "source": [
    "# label"
   ]
  },
  {
   "cell_type": "code",
   "execution_count": null,
   "metadata": {},
   "outputs": [],
   "source": [
    "topic_model.set_topic_labels({\n",
    "  0: '景区运营',\n",
    "  1: '知名景点',\n",
    "})\n",
    "topic_model.visualize_hierarchy(hierarchical_topics=hierarchical_topics, custom_labels=True)"
   ]
  },
  {
   "cell_type": "markdown",
   "metadata": {},
   "source": [
    "# 合并主题"
   ]
  },
  {
   "cell_type": "code",
   "execution_count": null,
   "metadata": {},
   "outputs": [],
   "source": [
    "topic_model.merge_topics(docs, [\n",
    "  [19, 2],\n",
    "  [9, 6, 1, 12, 20, 5, 15, 18],\n",
    "  [11, 16, 4, 10, 7],\n",
    "  [17, 13, 0, 3, 8, 14]\n",
    "])\n",
    "\n",
    "topic_info = topic_model.get_topic_info()\n",
    "topic_info"
   ]
  },
  {
   "cell_type": "code",
   "execution_count": null,
   "metadata": {},
   "outputs": [],
   "source": [
    "topic_model.visualize_topics()"
   ]
  }
 ],
 "metadata": {
  "kernelspec": {
   "display_name": "topic",
   "language": "python",
   "name": "topic"
  },
  "language_info": {
   "codemirror_mode": {
    "name": "ipython",
    "version": 3
   },
   "file_extension": ".py",
   "mimetype": "text/x-python",
   "name": "python",
   "nbconvert_exporter": "python",
   "pygments_lexer": "ipython3",
   "version": "3.10.14"
  }
 },
 "nbformat": 4,
 "nbformat_minor": 2
}
