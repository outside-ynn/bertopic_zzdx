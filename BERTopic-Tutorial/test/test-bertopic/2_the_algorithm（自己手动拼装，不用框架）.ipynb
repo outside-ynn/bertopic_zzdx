{
 "cells": [
  {
   "cell_type": "markdown",
   "metadata": {},
   "source": [
    "### 我们先来自己看一下这些模块的功能，BERTopic也只是把这些功能拼装起来了而已"
   ]
  },
  {
   "cell_type": "code",
   "execution_count": 1,
   "metadata": {},
   "outputs": [],
   "source": [
    "# 20个句子，一部分讨论天气，一部分讨论自然语言处理\n",
    "sentences = [\n",
    "    \"The weather today is sunny with clear skies.\",\n",
    "    \"Tomorrow's forecast predicts heavy rain and thunderstorms.\",\n",
    "    \"I love watching the sunset during mild weather evenings.\",\n",
    "    \"Natural language processing is a field of study in computer science.\",\n",
    "    \"NLP techniques are widely used in text analysis and language understanding.\",\n",
    "    \"Weather forecasting relies on complex algorithms and data analysis.\",\n",
    "    \"Understanding weather patterns is crucial for agriculture and disaster management.\",\n",
    "    \"NLP algorithms can help in sentiment analysis of social media posts.\",\n",
    "    \"The weather can be unpredictable, especially during transitional seasons.\",\n",
    "    \"NLP models like BERT and GPT-3 have revolutionized language understanding tasks.\",\n",
    "    \"Extreme weather events like hurricanes and tornadoes require advanced prediction models.\",\n",
    "    \"NLP is used in virtual assistants like Siri and Alexa to understand human commands.\",\n",
    "    \"Climate change is affecting global weather patterns.\",\n",
    "    \"NLP can aid in machine translation, making communication across languages easier.\",\n",
    "    \"Weather satellites provide real-time data for meteorologists to analyze.\",\n",
    "    \"Semantic analysis is an important aspect of natural language processing.\",\n",
    "    \"Weather phenomena such as El Niño impact weather worldwide.\",\n",
    "    \"Part of speech tagging is a fundamental task in NLP.\",\n",
    "    \"The weather in coastal areas is often influenced by ocean currents.\",\n",
    "    \"NLP helps in chatbots to generate human-like responses.\"\n",
    "]"
   ]
  },
  {
   "cell_type": "markdown",
   "metadata": {},
   "source": [
    "# 1. Embedding"
   ]
  },
  {
   "cell_type": "code",
   "execution_count": 2,
   "metadata": {},
   "outputs": [
    {
     "name": "stderr",
     "output_type": "stream",
     "text": [
      "d:\\SoftwareData\\Anaconda3\\envs\\topic\\lib\\site-packages\\tqdm\\auto.py:21: TqdmWarning: IProgress not found. Please update jupyter and ipywidgets. See https://ipywidgets.readthedocs.io/en/stable/user_install.html\n",
      "  from .autonotebook import tqdm as notebook_tqdm\n"
     ]
    },
    {
     "data": {
      "text/plain": [
       "SentenceTransformer(\n",
       "  (0): Transformer({'max_seq_length': 256, 'do_lower_case': False}) with Transformer model: BertModel \n",
       "  (1): Pooling({'word_embedding_dimension': 384, 'pooling_mode_cls_token': False, 'pooling_mode_mean_tokens': True, 'pooling_mode_max_tokens': False, 'pooling_mode_mean_sqrt_len_tokens': False})\n",
       "  (2): Normalize()\n",
       ")"
      ]
     },
     "execution_count": 2,
     "metadata": {},
     "output_type": "execute_result"
    }
   ],
   "source": [
    "from sentence_transformers import SentenceTransformer\n",
    "embedding_model = SentenceTransformer(\"all-MiniLM-L6-v2\")\n",
    "embedding_model"
   ]
  },
  {
   "cell_type": "code",
   "execution_count": 3,
   "metadata": {},
   "outputs": [
    {
     "name": "stdout",
     "output_type": "stream",
     "text": [
      "(20, 384) [[-0.00087367  0.07574052  0.11562107 ... -0.02699838 -0.13160647\n",
      "   0.0789917 ]\n",
      " [-0.06452917 -0.03723237  0.11404095 ... -0.03348763 -0.072191\n",
      "   0.05458361]\n",
      " [ 0.05412411  0.00382099  0.12769882 ...  0.03218493 -0.08884916\n",
      "   0.02998088]\n",
      " ...\n",
      " [ 0.01936746  0.01480617  0.02865423 ...  0.11244405  0.02719998\n",
      "   0.03334691]\n",
      " [ 0.0031242  -0.00348336  0.14544897 ...  0.01540683 -0.0115954\n",
      "   0.10587738]\n",
      " [-0.06357919 -0.03346664  0.08694217 ...  0.15366903  0.0432005\n",
      "  -0.01385404]]\n"
     ]
    }
   ],
   "source": [
    "# 展示一下Embedding的能力\n",
    "embeddings = embedding_model.encode(sentences)\n",
    "print(embeddings.shape, embeddings)"
   ]
  },
  {
   "cell_type": "markdown",
   "metadata": {},
   "source": [
    "# 2. 降维"
   ]
  },
  {
   "cell_type": "markdown",
   "metadata": {},
   "source": [
    "在创建了文档的数字表示之后，我们必须降低这些表示的维数。由于维数灾难的存在，集群模型通常难以处理高维数据。有很多方法可以降低维数，如 PCA，但是在 BERTopic 中选择默认的 UMAP。这是一种技术，可以保持一些数据集的局部和全局结构时，降低其维数。\n",
    "https://maartengr.github.io/BERTopic/algorithm/algorithm.html#1-embed-documents"
   ]
  },
  {
   "cell_type": "code",
   "execution_count": 4,
   "metadata": {},
   "outputs": [],
   "source": [
    "from umap import UMAP\n",
    "umap_model = UMAP(n_components=2, metric='cosine')"
   ]
  },
  {
   "cell_type": "markdown",
   "metadata": {},
   "source": [
    "UMAP官方文档 https://umap-learn.readthedocs.io/en/latest/basic_usage.html\n",
    "\n",
    "视频教程：https://www.bilibili.com/video/BV1qB4y1p7CF/?spm_id_from=333.337.search-card.all.click&vd_source=eace37b0970f8d3d597d32f39dec89d8"
   ]
  },
  {
   "cell_type": "code",
   "execution_count": 5,
   "metadata": {},
   "outputs": [
    {
     "name": "stdout",
     "output_type": "stream",
     "text": [
      "(20, 2) [[  1.6563208    3.549062  ]\n",
      " [  0.08020698   3.997313  ]\n",
      " [  1.3128753    3.1775773 ]\n",
      " [-11.100674    -2.2752435 ]\n",
      " [-11.101866    -1.213619  ]\n",
      " [  0.39741704   3.3635428 ]\n",
      " [  0.5931425    4.419767  ]\n",
      " [-11.16301     -0.6777456 ]\n",
      " [  1.1681012    4.6074734 ]\n",
      " [-12.102499    -1.6443162 ]\n",
      " [ -0.14899762   3.475925  ]\n",
      " [-12.134771    -0.9694408 ]\n",
      " [  2.026962     3.818347  ]\n",
      " [-11.757858    -1.2455496 ]\n",
      " [  0.69328356   3.7060478 ]\n",
      " [-10.920809    -1.8465972 ]\n",
      " [  1.8398787    4.348851  ]\n",
      " [-11.5266485   -1.840161  ]\n",
      " [  1.4825392    4.121247  ]\n",
      " [-12.494074    -1.3882904 ]]\n"
     ]
    }
   ],
   "source": [
    "# 转换为低维表示\n",
    "reduced_embeddings = umap_model.fit_transform(embeddings)\n",
    "print(reduced_embeddings.shape, reduced_embeddings)"
   ]
  },
  {
   "cell_type": "code",
   "execution_count": 6,
   "metadata": {},
   "outputs": [
    {
     "data": {
      "text/plain": [
       "<matplotlib.collections.PathCollection at 0x15584411d80>"
      ]
     },
     "execution_count": 6,
     "metadata": {},
     "output_type": "execute_result"
    },
    {
     "data": {
      "image/png": "[encoded data removed]",
      "text/plain": [
       "<Figure size 640x480 with 1 Axes>"
      ]
     },
     "metadata": {},
     "output_type": "display_data"
    }
   ],
   "source": [
    "import matplotlib.pyplot as plt\n",
    "plt.scatter(reduced_embeddings[:, 0], reduced_embeddings[:, 1])"
   ]
  },
  {
   "cell_type": "markdown",
   "metadata": {},
   "source": [
    "# 3. 聚类"
   ]
  },
  {
   "cell_type": "code",
   "execution_count": 7,
   "metadata": {},
   "outputs": [
    {
     "data": {
      "text/plain": [
       "array([1, 1, 1, 0, 0, 1, 1, 0, 1, 0, 1, 0, 1, 0, 1, 0, 1, 0, 1, 0],\n",
       "      dtype=int64)"
      ]
     },
     "execution_count": 7,
     "metadata": {},
     "output_type": "execute_result"
    }
   ],
   "source": [
    "from hdbscan import HDBSCAN\n",
    "hdbscan_model = HDBSCAN(min_cluster_size=2)\n",
    "hdbscan_model.fit(reduced_embeddings)\n",
    "hdbscan_model.labels_"
   ]
  },
  {
   "cell_type": "markdown",
   "metadata": {},
   "source": [
    "# 4. 统计每个类的词频"
   ]
  },
  {
   "cell_type": "code",
   "execution_count": 8,
   "metadata": {},
   "outputs": [
    {
     "name": "stdout",
     "output_type": "stream",
     "text": [
      "128 ['across' 'advanced' 'affecting' 'agriculture' 'aid' 'alexa' 'algorithms'\n",
      " 'an' 'analysis' 'analyze' 'and' 'are' 'areas' 'as' 'aspect' 'assistants'\n",
      " 'be' 'bert' 'by' 'can' 'change' 'chatbots' 'clear' 'climate' 'coastal'\n",
      " 'commands' 'communication' 'complex' 'computer' 'crucial' 'currents'\n",
      " 'data' 'disaster' 'during' 'easier' 'el' 'especially' 'evenings' 'events'\n",
      " 'extreme' 'field' 'for' 'forecast' 'forecasting' 'fundamental' 'generate'\n",
      " 'global' 'gpt' 'have' 'heavy' 'help' 'helps' 'human' 'hurricanes'\n",
      " 'impact' 'important' 'in' 'influenced' 'is' 'language' 'languages' 'like'\n",
      " 'love' 'machine' 'making' 'management' 'media' 'meteorologists' 'mild'\n",
      " 'models' 'natural' 'niño' 'nlp' 'ocean' 'of' 'often' 'on' 'part'\n",
      " 'patterns' 'phenomena' 'posts' 'prediction' 'predicts' 'processing'\n",
      " 'provide' 'rain' 'real' 'relies' 'require' 'responses' 'revolutionized'\n",
      " 'satellites' 'science' 'seasons' 'semantic' 'sentiment' 'siri' 'skies'\n",
      " 'social' 'speech' 'study' 'such' 'sunny' 'sunset' 'tagging' 'task'\n",
      " 'tasks' 'techniques' 'text' 'the' 'thunderstorms' 'time' 'to' 'today'\n",
      " 'tomorrow' 'tornadoes' 'transitional' 'translation' 'understand'\n",
      " 'understanding' 'unpredictable' 'used' 'virtual' 'watching' 'weather'\n",
      " 'widely' 'with' 'worldwide']\n",
      "(2, 128) [[ 0  1  1  1  0  0  1  0  1  1  4  0  1  1  0  0  1  0  1  1  1  0  1  1\n",
      "   1  0  0  1  0  1  1  2  1  2  0  1  1  1  1  1  0  2  1  1  0  0  1  0\n",
      "   0  1  0  0  0  1  1  0  1  1  4  0  0  1  1  0  0  1  0  1  1  1  0  1\n",
      "   0  1  0  1  1  0  2  1  0  1  1  0  1  1  1  1  1  0  0  1  0  1  0  0\n",
      "   0  1  0  0  0  1  1  1  0  0  0  0  0  4  1  1  1  1  1  1  1  0  0  1\n",
      "   1  0  0  1 11  0  1  1]\n",
      " [ 1  0  0  0  1  1  1  1  3  0  3  1  0  0  1  1  0  1  0  2  0  1  0  0\n",
      "   0  1  1  0  1  0  0  0  0  0  1  0  0  0  0  0  1  0  0  0  1  1  0  1\n",
      "   1  0  1  1  2  0  0  1  7  0  4  4  1  3  0  1  1  0  1  0  0  1  2  0\n",
      "   7  0  4  0  0  1  0  0  1  0  0  2  0  0  0  0  0  1  1  0  1  0  1  1\n",
      "   1  0  1  1  1  0  0  0  1  1  1  1  1  0  0  0  2  0  0  0  0  1  1  2\n",
      "   0  2  1  0  0  1  0  0]]\n"
     ]
    }
   ],
   "source": [
    "from sklearn.feature_extraction.text import CountVectorizer\n",
    "\n",
    "topic1 = sentences[0] + sentences[1] + sentences[2] + sentences[5] + sentences[6] + sentences[8] + sentences[10] + sentences[12] + sentences[14] + sentences[16] + sentences[18]\n",
    "\n",
    "topic2 = sentences[3] + sentences[4] + sentences[7] + sentences[9] + sentences[11] + sentences[13] + sentences[15] + sentences[17] + sentences[19]\n",
    "\n",
    "vectorizer = CountVectorizer()\n",
    "X = vectorizer.fit_transform([topic1, topic2])\n",
    "\n",
    "# 查看字典\n",
    "vocab = vectorizer.get_feature_names_out()\n",
    "print(len(vocab), vocab)\n",
    "\n",
    "# 查看20个句子中，每个单词出现的次数\n",
    "#  注意, 其顺序和词汇表保持一致, 比如第一行表示, 在第一个句子中, across出现0次, advanced出现0次...\n",
    "X_arr = X.toarray()\n",
    "print(X_arr.shape, X_arr)"
   ]
  },
  {
   "cell_type": "markdown",
   "metadata": {},
   "source": [
    "# 5 用c-TF-IDF生成主题表示\n",
    "https://github.com/MaartenGr/BERTopic/blob/424cefc68ede08ff9f1c7e56ee6103c16c1429c6/tests/test_vectorizers/test_ctfidf.py#L37"
   ]
  },
  {
   "cell_type": "code",
   "execution_count": 9,
   "metadata": {},
   "outputs": [
    {
     "name": "stdout",
     "output_type": "stream",
     "text": [
      "(2, 128) [[0.         0.0463128  0.0463128  0.0463128  0.         0.\n",
      "  0.03941387 0.         0.03261441 0.0463128  0.10902953 0.\n",
      "  0.0463128  0.0463128  0.         0.         0.0463128  0.\n",
      "  0.0463128  0.03541978 0.0463128  0.         0.0463128  0.0463128\n",
      "  0.0463128  0.         0.         0.0463128  0.         0.0463128\n",
      "  0.0463128  0.07882773 0.0463128  0.07882773 0.         0.0463128\n",
      "  0.0463128  0.0463128  0.0463128  0.0463128  0.         0.07882773\n",
      "  0.0463128  0.0463128  0.         0.         0.0463128  0.\n",
      "  0.         0.0463128  0.         0.         0.         0.0463128\n",
      "  0.0463128  0.         0.02600524 0.0463128  0.10402096 0.\n",
      "  0.         0.03261441 0.0463128  0.         0.         0.0463128\n",
      "  0.         0.0463128  0.0463128  0.03941387 0.         0.0463128\n",
      "  0.         0.0463128  0.         0.0463128  0.0463128  0.\n",
      "  0.07882773 0.0463128  0.         0.0463128  0.0463128  0.\n",
      "  0.0463128  0.0463128  0.0463128  0.0463128  0.0463128  0.\n",
      "  0.         0.0463128  0.         0.0463128  0.         0.\n",
      "  0.         0.0463128  0.         0.         0.         0.0463128\n",
      "  0.0463128  0.0463128  0.         0.         0.         0.\n",
      "  0.         0.13045762 0.0463128  0.0463128  0.03541978 0.0463128\n",
      "  0.0463128  0.0463128  0.0463128  0.         0.         0.03541978\n",
      "  0.0463128  0.         0.         0.0463128  0.25380399 0.\n",
      "  0.0463128  0.0463128 ]\n",
      " [0.04776008 0.         0.         0.         0.04776008 0.04776008\n",
      "  0.04064555 0.04776008 0.10090082 0.         0.08432752 0.04776008\n",
      "  0.         0.         0.04776008 0.04776008 0.         0.04776008\n",
      "  0.         0.07305329 0.         0.04776008 0.         0.\n",
      "  0.         0.04776008 0.04776008 0.         0.04776008 0.\n",
      "  0.         0.         0.         0.         0.04776008 0.\n",
      "  0.         0.         0.         0.         0.04776008 0.\n",
      "  0.         0.         0.04776008 0.04776008 0.         0.04776008\n",
      "  0.04776008 0.         0.04776008 0.04776008 0.0812911  0.\n",
      "  0.         0.04776008 0.18772533 0.         0.10727162 0.13453442\n",
      "  0.04776008 0.10090082 0.         0.04776008 0.04776008 0.\n",
      "  0.04776008 0.         0.         0.04064555 0.0812911  0.\n",
      "  0.19676422 0.         0.13453442 0.         0.         0.04776008\n",
      "  0.         0.         0.04776008 0.         0.         0.0812911\n",
      "  0.         0.         0.         0.         0.         0.04776008\n",
      "  0.04776008 0.         0.04776008 0.         0.04776008 0.04776008\n",
      "  0.04776008 0.         0.04776008 0.04776008 0.04776008 0.\n",
      "  0.         0.         0.04776008 0.04776008 0.04776008 0.04776008\n",
      "  0.04776008 0.         0.         0.         0.07305329 0.\n",
      "  0.         0.         0.         0.04776008 0.04776008 0.07305329\n",
      "  0.         0.0812911  0.04776008 0.         0.         0.04776008\n",
      "  0.         0.        ]]\n"
     ]
    }
   ],
   "source": [
    "from bertopic.vectorizers import ClassTfidfTransformer\n",
    "class_vectorizer = ClassTfidfTransformer()\n",
    "c_tf_idf = class_vectorizer.fit_transform(X).toarray()\n",
    "print(c_tf_idf.shape, c_tf_idf)"
   ]
  },
  {
   "cell_type": "code",
   "execution_count": 10,
   "metadata": {},
   "outputs": [
    {
     "name": "stdout",
     "output_type": "stream",
     "text": [
      "weather the and\n",
      "nlp in language\n"
     ]
    }
   ],
   "source": [
    "# 提取重要的词，提取前三个\n",
    "import numpy as np\n",
    "topic1_important_words_index = np.argsort(c_tf_idf[0])[::-1] # 获取tf-idf值最高的下标\n",
    "print(vocab[topic1_important_words_index[0]], vocab[topic1_important_words_index[1]], vocab[topic1_important_words_index[2]])\n",
    "\n",
    "topic2_important_words_index = np.argsort(c_tf_idf[1])[::-1]\n",
    "print(vocab[topic2_important_words_index[0]], vocab[topic2_important_words_index[1]], vocab[topic2_important_words_index[2]])"
   ]
  },
  {
   "cell_type": "markdown",
   "metadata": {},
   "source": [
    "#### 其实到现在为止，我们已经拼装出来了BERTopic\n",
    "#### 如果我们使用BERTopic实现上述代码"
   ]
  },
  {
   "cell_type": "code",
   "execution_count": 11,
   "metadata": {},
   "outputs": [
    {
     "data": {
      "text/html": [
       "<div>\n",
       "<style scoped>\n",
       "    .dataframe tbody tr th:only-of-type {\n",
       "        vertical-align: middle;\n",
       "    }\n",
       "\n",
       "    .dataframe tbody tr th {\n",
       "        vertical-align: top;\n",
       "    }\n",
       "\n",
       "    .dataframe thead th {\n",
       "        text-align: right;\n",
       "    }\n",
       "</style>\n",
       "<table border=\"1\" class=\"dataframe\">\n",
       "  <thead>\n",
       "    <tr style=\"text-align: right;\">\n",
       "      <th></th>\n",
       "      <th>Topic</th>\n",
       "      <th>Count</th>\n",
       "      <th>Name</th>\n",
       "      <th>Representation</th>\n",
       "      <th>Representative_Docs</th>\n",
       "    </tr>\n",
       "  </thead>\n",
       "  <tbody>\n",
       "    <tr>\n",
       "      <th>0</th>\n",
       "      <td>0</td>\n",
       "      <td>11</td>\n",
       "      <td>0_weather_the_and_is</td>\n",
       "      <td>[weather, the, and, is, during, for, patterns,...</td>\n",
       "      <td>[The weather today is sunny with clear skies.,...</td>\n",
       "    </tr>\n",
       "    <tr>\n",
       "      <th>1</th>\n",
       "      <td>1</td>\n",
       "      <td>9</td>\n",
       "      <td>1_nlp_in_of_language</td>\n",
       "      <td>[nlp, in, of, language, is, analysis, and, nat...</td>\n",
       "      <td>[Natural language processing is a field of stu...</td>\n",
       "    </tr>\n",
       "  </tbody>\n",
       "</table>\n",
       "</div>"
      ],
      "text/plain": [
       "   Topic  Count                  Name  \\\n",
       "0      0     11  0_weather_the_and_is   \n",
       "1      1      9  1_nlp_in_of_language   \n",
       "\n",
       "                                      Representation  \\\n",
       "0  [weather, the, and, is, during, for, patterns,...   \n",
       "1  [nlp, in, of, language, is, analysis, and, nat...   \n",
       "\n",
       "                                 Representative_Docs  \n",
       "0  [The weather today is sunny with clear skies.,...  \n",
       "1  [Natural language processing is a field of stu...  "
      ]
     },
     "execution_count": 11,
     "metadata": {},
     "output_type": "execute_result"
    }
   ],
   "source": [
    "from bertopic import BERTopic\n",
    "# 20个句子，一部分讨论天气，一部分讨论自然语言处理\n",
    "sentences = [\n",
    "    \"The weather today is sunny with clear skies.\",\n",
    "    \"Tomorrow's forecast predicts heavy rain and thunderstorms.\",\n",
    "    \"I love watching the sunset during mild weather evenings.\",\n",
    "    \"Natural language processing is a field of study in computer science.\",\n",
    "    \"NLP techniques are widely used in text analysis and language understanding.\",\n",
    "    \"Weather forecasting relies on complex algorithms and data analysis.\",\n",
    "    \"Understanding weather patterns is crucial for agriculture and disaster management.\",\n",
    "    \"NLP algorithms can help in sentiment analysis of social media posts.\",\n",
    "    \"The weather can be unpredictable, especially during transitional seasons.\",\n",
    "    \"NLP models like BERT and GPT-3 have revolutionized language understanding tasks.\",\n",
    "    \"Extreme weather events like hurricanes and tornadoes require advanced prediction models.\",\n",
    "    \"NLP is used in virtual assistants like Siri and Alexa to understand human commands.\",\n",
    "    \"Climate change is affecting global weather patterns.\",\n",
    "    \"NLP can aid in machine translation, making communication across languages easier.\",\n",
    "    \"Weather satellites provide real-time data for meteorologists to analyze.\",\n",
    "    \"Semantic analysis is an important aspect of natural language processing.\",\n",
    "    \"Weather phenomena such as El Niño impact weather worldwide.\",\n",
    "    \"Part of speech tagging is a fundamental task in NLP.\",\n",
    "    \"The weather in coastal areas is often influenced by ocean currents.\",\n",
    "    \"NLP helps in chatbots to generate human-like responses.\"\n",
    "]\n",
    "\n",
    "# 核心代码是下面这一行，我们创建了一个BERTopic模型，其实就是在背后创建了：Embedding模型、UMAP降维模型、HDBSCAN聚类模型、CountVectorizer分词模型、c-tf-idf主题表示模型，然后从上到下将它拼装在了一起\n",
    "# 这个min_topic_size=2，本质上是传递给HDBSCAN聚类模型的，说的是：一个类中至少需要包含两个文档\n",
    "# 事实上我们在这里传给BERTopic()的参数，绝大多数都会传递给背后的Embedding、UMAP、HDBSCAN等具体模型\n",
    "topic_model = BERTopic(min_topic_size=2) \n",
    "\n",
    "topic_model.fit_transform(sentences) # 拟合模型\n",
    "topic_model.get_topic_info() # 获取主题聚类信息\n",
    "# 可以看到得出的topic信息基本类似"
   ]
  },
  {
   "cell_type": "markdown",
   "metadata": {},
   "source": [
    "# 还可以用另外一种方式调用BERTopic\n",
    "改编自官方示例 https://maartengr.github.io/BERTopic/algorithm/algorithm.html#code-overview"
   ]
  },
  {
   "cell_type": "code",
   "execution_count": null,
   "metadata": {},
   "outputs": [
    {
     "data": {
      "text/html": [
       "<div>\n",
       "<style scoped>\n",
       "    .dataframe tbody tr th:only-of-type {\n",
       "        vertical-align: middle;\n",
       "    }\n",
       "\n",
       "    .dataframe tbody tr th {\n",
       "        vertical-align: top;\n",
       "    }\n",
       "\n",
       "    .dataframe thead th {\n",
       "        text-align: right;\n",
       "    }\n",
       "</style>\n",
       "<table border=\"1\" class=\"dataframe\">\n",
       "  <thead>\n",
       "    <tr style=\"text-align: right;\">\n",
       "      <th></th>\n",
       "      <th>Topic</th>\n",
       "      <th>Count</th>\n",
       "      <th>Name</th>\n",
       "      <th>Representation</th>\n",
       "      <th>Representative_Docs</th>\n",
       "    </tr>\n",
       "  </thead>\n",
       "  <tbody>\n",
       "    <tr>\n",
       "      <th>0</th>\n",
       "      <td>0</td>\n",
       "      <td>11</td>\n",
       "      <td>0_weather_the_and_is</td>\n",
       "      <td>[weather, the, and, is, during, for, patterns,...</td>\n",
       "      <td>[The weather today is sunny with clear skies.,...</td>\n",
       "    </tr>\n",
       "    <tr>\n",
       "      <th>1</th>\n",
       "      <td>1</td>\n",
       "      <td>9</td>\n",
       "      <td>1_nlp_in_of_language</td>\n",
       "      <td>[nlp, in, of, language, is, like, analysis, an...</td>\n",
       "      <td>[Natural language processing is a field of stu...</td>\n",
       "    </tr>\n",
       "  </tbody>\n",
       "</table>\n",
       "</div>"
      ],
      "text/plain": [
       "   Topic  Count                  Name  \\\n",
       "0      0     11  0_weather_the_and_is   \n",
       "1      1      9  1_nlp_in_of_language   \n",
       "\n",
       "                                      Representation  \\\n",
       "0  [weather, the, and, is, during, for, patterns,...   \n",
       "1  [nlp, in, of, language, is, like, analysis, an...   \n",
       "\n",
       "                                 Representative_Docs  \n",
       "0  [The weather today is sunny with clear skies.,...  \n",
       "1  [Natural language processing is a field of stu...  "
      ]
     },
     "execution_count": 12,
     "metadata": {},
     "output_type": "execute_result"
    }
   ],
   "source": [
    "from sentence_transformers import SentenceTransformer\n",
    "from umap import UMAP\n",
    "from hdbscan import HDBSCAN\n",
    "from sklearn.feature_extraction.text import CountVectorizer\n",
    "from bertopic.vectorizers import ClassTfidfTransformer\n",
    "from bertopic import BERTopic\n",
    "\n",
    "sentences = [\n",
    "    \"The weather today is sunny with clear skies.\",\n",
    "    \"Tomorrow's forecast predicts heavy rain and thunderstorms.\",\n",
    "    \"I love watching the sunset during mild weather evenings.\",\n",
    "    \"Natural language processing is a field of study in computer science.\",\n",
    "    \"NLP techniques are widely used in text analysis and language understanding.\",\n",
    "    \"Weather forecasting relies on complex algorithms and data analysis.\",\n",
    "    \"Understanding weather patterns is crucial for agriculture and disaster management.\",\n",
    "    \"NLP algorithms can help in sentiment analysis of social media posts.\",\n",
    "    \"The weather can be unpredictable, especially during transitional seasons.\",\n",
    "    \"NLP models like BERT and GPT-3 have revolutionized language understanding tasks.\",\n",
    "    \"Extreme weather events like hurricanes and tornadoes require advanced prediction models.\",\n",
    "    \"NLP is used in virtual assistants like Siri and Alexa to understand human commands.\",\n",
    "    \"Climate change is affecting global weather patterns.\",\n",
    "    \"NLP can aid in machine translation, making communication across languages easier.\",\n",
    "    \"Weather satellites provide real-time data for meteorologists to analyze.\",\n",
    "    \"Semantic analysis is an important aspect of natural language processing.\",\n",
    "    \"Weather phenomena such as El Niño impact weather worldwide.\",\n",
    "    \"Part of speech tagging is a fundamental task in NLP.\",\n",
    "    \"The weather in coastal areas is often influenced by ocean currents.\",\n",
    "    \"NLP helps in chatbots to generate human-like responses.\"\n",
    "]\n",
    "\n",
    "# 下面更可以看出，BERTopic是各个模型的堆叠组合⭐\n",
    "# 我们可以选择每个模型都自己创建，以方便调节其参数\n",
    "\n",
    "# Step 1 - Extract embeddings（这一步实际上实在指定用什么来转换成向量）\n",
    "embedding_model = SentenceTransformer(\"all-MiniLM-L6-v2\")\n",
    "\n",
    "# Step 2 - Reduce dimensionality（降维算法）\n",
    "umap_model = UMAP(n_neighbors=15, n_components=5, min_dist=0.0, metric='cosine')\n",
    "\n",
    "# Step 3 - Cluster reduced embeddings（聚类算法）\n",
    "hdbscan_model = HDBSCAN(min_cluster_size=2)\n",
    "\n",
    "# Step 4 - Tokenize topics（分词）\n",
    "vectorizer_model = CountVectorizer()\n",
    "\n",
    "# Step 5 - Create topic representation（统计）\n",
    "ctfidf_model = ClassTfidfTransformer()\n",
    "\n",
    "# All steps together\n",
    "topic_model = BERTopic(\n",
    "  embedding_model=embedding_model,          # Step 1 - Extract embeddings\n",
    "  umap_model=umap_model,                    # Step 2 - Reduce dimensionality\n",
    "  hdbscan_model=hdbscan_model,              # Step 3 - Cluster reduced embeddings\n",
    "  vectorizer_model=vectorizer_model,        # Step 4 - Tokenize topics\n",
    "  ctfidf_model=ctfidf_model,                # Step 5 - Extract topic words\n",
    ")\n",
    "\n",
    "topic_model.fit_transform(sentences) # 拟合模型\n",
    "topic_model.get_topic_info() # 获取主题聚类信息"
   ]
  },
  {
   "cell_type": "markdown",
   "metadata": {},
   "source": []
  }
 ],
 "metadata": {
  "kernelspec": {
   "display_name": "topic",
   "language": "python",
   "name": "topic"
  },
  "language_info": {
   "codemirror_mode": {
    "name": "ipython",
    "version": 3
   },
   "file_extension": ".py",
   "mimetype": "text/x-python",
   "name": "python",
   "nbconvert_exporter": "python",
   "pygments_lexer": "ipython3",
   "version": "3.10.14"
  }
 },
 "nbformat": 4,
 "nbformat_minor": 2
}
