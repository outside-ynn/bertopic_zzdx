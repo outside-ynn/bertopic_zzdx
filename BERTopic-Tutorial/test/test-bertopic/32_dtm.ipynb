{
 "cells": [
  {
   "cell_type": "code",
   "execution_count": 2,
   "metadata": {},
   "outputs": [],
   "source": [
    "import numpy as np\n",
    "from bertopic import BERTopic\n",
    "from sentence_transformers import SentenceTransformer\n",
    "from sklearn.feature_extraction.text import CountVectorizer\n",
    "from transformers.pipelines import pipeline\n",
    "from umap import UMAP\n",
    "from hdbscan import HDBSCAN\n",
    "from sklearn.feature_extraction.text import CountVectorizer"
   ]
  },
  {
   "cell_type": "markdown",
   "metadata": {},
   "source": [
    "# 加载数据"
   ]
  },
  {
   "cell_type": "code",
   "execution_count": 3,
   "metadata": {},
   "outputs": [
    {
     "name": "stdout",
     "output_type": "stream",
     "text": [
      "条数:  2714\n",
      "预览第一条:  This article shows how symbolic computing and the mathematical formalism induced by maximizing entropy and minimizing the mean deviation from statistical equilibrium may be effectively applied to obtaining probabilistic models for the structure of atoms, using trial wave functions compatible with an average shell picture of the atom. The objective is not only to recover the experimental value of the ground state mean energy of the atom, but rather to better approximate the unknown parameters of these trial\n",
      "\n"
     ]
    }
   ],
   "source": [
    "# step1 加载文件\n",
    "with open('../../data/切词.txt', 'r', encoding='utf-8') as file:\n",
    "  docs = file.readlines()\n",
    "print('条数: ', len(docs))\n",
    "print('预览第一条: ', docs[0])\n",
    "\n",
    "vectorizer_model = None"
   ]
  },
  {
   "cell_type": "markdown",
   "metadata": {},
   "source": [
    "# 创建"
   ]
  },
  {
   "cell_type": "code",
   "execution_count": 4,
   "metadata": {},
   "outputs": [
    {
     "name": "stderr",
     "output_type": "stream",
     "text": [
      "Some weights of the model checkpoint at bert-base-chinese were not used when initializing BertModel: ['cls.seq_relationship.weight', 'cls.predictions.transform.LayerNorm.weight', 'cls.predictions.transform.dense.bias', 'cls.seq_relationship.bias', 'cls.predictions.bias', 'cls.predictions.transform.dense.weight', 'cls.predictions.transform.LayerNorm.bias']\n",
      "- This IS expected if you are initializing BertModel from the checkpoint of a model trained on another task or with another architecture (e.g. initializing a BertForSequenceClassification model from a BertForPreTraining model).\n",
      "- This IS NOT expected if you are initializing BertModel from the checkpoint of a model that you expect to be exactly identical (initializing a BertForSequenceClassification model from a BertForSequenceClassification model).\n"
     ]
    },
    {
     "name": "stdout",
     "output_type": "stream",
     "text": [
      "(2714, 384)\n"
     ]
    }
   ],
   "source": [
    "# 1. 词向量模型，同时加载本地训练好的词向量\n",
    "embedding_model = pipeline(\"feature-extraction\", model=\"bert-base-chinese\") # 使用bert-base-chinese\n",
    "embeddings = np.load('../../data/emb.npy') # 使用bert-base-chinese向量\n",
    "print(embeddings.shape)\n",
    "\n",
    "# 2. 创建分词模型\n",
    "vectorizer_model = CountVectorizer() # 因为我们已经分好词了，所以这里不需要传入分词函数了\n",
    "\n",
    "# 3. 创建UMAP降维模型\n",
    "umap_model = UMAP(\n",
    "  n_neighbors=15,\n",
    "  n_components=5,\n",
    "  min_dist=0.0,\n",
    "  metric='cosine',\n",
    "  random_state=30  # ⚠️ 防止随机 https://maartengr.github.io/BERTopic/faq.html\n",
    ")\n",
    "\n",
    "# 4. 创建HDBSCAN聚类模型\n",
    "# 如果要建设离群值，可以减小下面两个参数\n",
    "# https://hdbscan.readthedocs.io/en/latest/faq.html\n",
    "hdbscan_model = HDBSCAN(\n",
    "  min_cluster_size=10,\n",
    "  min_samples=5,\n",
    ")\n",
    "\n",
    "# 5. 创建CountVectorizer模型\n",
    "vectorizer_model = CountVectorizer(stop_words=['洛阳', '旅游', '文化'])"
   ]
  },
  {
   "cell_type": "code",
   "execution_count": 5,
   "metadata": {},
   "outputs": [
    {
     "data": {
      "text/html": [
       "<div>\n",
       "<style scoped>\n",
       "    .dataframe tbody tr th:only-of-type {\n",
       "        vertical-align: middle;\n",
       "    }\n",
       "\n",
       "    .dataframe tbody tr th {\n",
       "        vertical-align: top;\n",
       "    }\n",
       "\n",
       "    .dataframe thead th {\n",
       "        text-align: right;\n",
       "    }\n",
       "</style>\n",
       "<table border=\"1\" class=\"dataframe\">\n",
       "  <thead>\n",
       "    <tr style=\"text-align: right;\">\n",
       "      <th></th>\n",
       "      <th>Topic</th>\n",
       "      <th>Count</th>\n",
       "      <th>Name</th>\n",
       "      <th>Representation</th>\n",
       "      <th>Representative_Docs</th>\n",
       "    </tr>\n",
       "  </thead>\n",
       "  <tbody>\n",
       "    <tr>\n",
       "      <th>0</th>\n",
       "      <td>-1</td>\n",
       "      <td>937</td>\n",
       "      <td>-1_the_of_we_and</td>\n",
       "      <td>[the, of, we, and, in, to, quantum, for, is, t...</td>\n",
       "      <td>[We investigate the entanglement dynamics of t...</td>\n",
       "    </tr>\n",
       "    <tr>\n",
       "      <th>1</th>\n",
       "      <td>0</td>\n",
       "      <td>97</td>\n",
       "      <td>0_topological_majorana_superconductivity_super...</td>\n",
       "      <td>[topological, majorana, superconductivity, sup...</td>\n",
       "      <td>[Superconductors with topological surface or e...</td>\n",
       "    </tr>\n",
       "    <tr>\n",
       "      <th>2</th>\n",
       "      <td>1</td>\n",
       "      <td>92</td>\n",
       "      <td>1_quantum_learning_computers_computing</td>\n",
       "      <td>[quantum, learning, computers, computing, and,...</td>\n",
       "      <td>[quantum computer encodes information in quant...</td>\n",
       "    </tr>\n",
       "    <tr>\n",
       "      <th>3</th>\n",
       "      <td>2</td>\n",
       "      <td>87</td>\n",
       "      <td>2_laser_ion_the_ions</td>\n",
       "      <td>[laser, ion, the, ions, energy, and, of, ioniz...</td>\n",
       "      <td>[Yb ions were trapped in quadrupole ion trap. ...</td>\n",
       "    </tr>\n",
       "    <tr>\n",
       "      <th>4</th>\n",
       "      <td>3</td>\n",
       "      <td>80</td>\n",
       "      <td>3_stars_ray_star_galaxies</td>\n",
       "      <td>[stars, ray, star, galaxies, galaxy, the, of, ...</td>\n",
       "      <td>[We propose stellar locus outlier (SLOT) metho...</td>\n",
       "    </tr>\n",
       "    <tr>\n",
       "      <th>...</th>\n",
       "      <td>...</td>\n",
       "      <td>...</td>\n",
       "      <td>...</td>\n",
       "      <td>...</td>\n",
       "      <td>...</td>\n",
       "    </tr>\n",
       "    <tr>\n",
       "      <th>61</th>\n",
       "      <td>60</td>\n",
       "      <td>10</td>\n",
       "      <td>60_photons_conversion_fiber_fibers</td>\n",
       "      <td>[photons, conversion, fiber, fibers, key, low,...</td>\n",
       "      <td>[We report single-stage bidirectional interfac...</td>\n",
       "    </tr>\n",
       "    <tr>\n",
       "      <th>62</th>\n",
       "      <td>61</td>\n",
       "      <td>10</td>\n",
       "      <td>61_environment_dynamics_qubit_le</td>\n",
       "      <td>[environment, dynamics, qubit, le, general, ce...</td>\n",
       "      <td>[The Loschmidt echo (LE) of central two-level ...</td>\n",
       "    </tr>\n",
       "    <tr>\n",
       "      <th>63</th>\n",
       "      <td>62</td>\n",
       "      <td>10</td>\n",
       "      <td>62_cloning_covariant_machine_repair</td>\n",
       "      <td>[cloning, covariant, machine, repair, optimal,...</td>\n",
       "      <td>[While exact cloning of an unknown quantum sta...</td>\n",
       "    </tr>\n",
       "    <tr>\n",
       "      <th>64</th>\n",
       "      <td>63</td>\n",
       "      <td>10</td>\n",
       "      <td>63_lzs_zener_landau_lz</td>\n",
       "      <td>[lzs, zener, landau, lz, transition, interfere...</td>\n",
       "      <td>[single bichromatic field near resonant to qub...</td>\n",
       "    </tr>\n",
       "    <tr>\n",
       "      <th>65</th>\n",
       "      <td>64</td>\n",
       "      <td>10</td>\n",
       "      <td>64_unitary_gf_gates_circuit</td>\n",
       "      <td>[unitary, gf, gates, circuit, canonical, cliff...</td>\n",
       "      <td>[We develop efficient algorithms for compiling...</td>\n",
       "    </tr>\n",
       "  </tbody>\n",
       "</table>\n",
       "<p>66 rows × 5 columns</p>\n",
       "</div>"
      ],
      "text/plain": [
       "    Topic  Count                                               Name  \\\n",
       "0      -1    937                                   -1_the_of_we_and   \n",
       "1       0     97  0_topological_majorana_superconductivity_super...   \n",
       "2       1     92             1_quantum_learning_computers_computing   \n",
       "3       2     87                               2_laser_ion_the_ions   \n",
       "4       3     80                          3_stars_ray_star_galaxies   \n",
       "..    ...    ...                                                ...   \n",
       "61     60     10                 60_photons_conversion_fiber_fibers   \n",
       "62     61     10                   61_environment_dynamics_qubit_le   \n",
       "63     62     10                62_cloning_covariant_machine_repair   \n",
       "64     63     10                             63_lzs_zener_landau_lz   \n",
       "65     64     10                        64_unitary_gf_gates_circuit   \n",
       "\n",
       "                                       Representation  \\\n",
       "0   [the, of, we, and, in, to, quantum, for, is, t...   \n",
       "1   [topological, majorana, superconductivity, sup...   \n",
       "2   [quantum, learning, computers, computing, and,...   \n",
       "3   [laser, ion, the, ions, energy, and, of, ioniz...   \n",
       "4   [stars, ray, star, galaxies, galaxy, the, of, ...   \n",
       "..                                                ...   \n",
       "61  [photons, conversion, fiber, fibers, key, low,...   \n",
       "62  [environment, dynamics, qubit, le, general, ce...   \n",
       "63  [cloning, covariant, machine, repair, optimal,...   \n",
       "64  [lzs, zener, landau, lz, transition, interfere...   \n",
       "65  [unitary, gf, gates, circuit, canonical, cliff...   \n",
       "\n",
       "                                  Representative_Docs  \n",
       "0   [We investigate the entanglement dynamics of t...  \n",
       "1   [Superconductors with topological surface or e...  \n",
       "2   [quantum computer encodes information in quant...  \n",
       "3   [Yb ions were trapped in quadrupole ion trap. ...  \n",
       "4   [We propose stellar locus outlier (SLOT) metho...  \n",
       "..                                                ...  \n",
       "61  [We report single-stage bidirectional interfac...  \n",
       "62  [The Loschmidt echo (LE) of central two-level ...  \n",
       "63  [While exact cloning of an unknown quantum sta...  \n",
       "64  [single bichromatic field near resonant to qub...  \n",
       "65  [We develop efficient algorithms for compiling...  \n",
       "\n",
       "[66 rows x 5 columns]"
      ]
     },
     "execution_count": 5,
     "metadata": {},
     "output_type": "execute_result"
    }
   ],
   "source": [
    "topic_model = BERTopic(\n",
    "  embedding_model=embedding_model,\n",
    "  vectorizer_model=vectorizer_model,\n",
    "  umap_model=umap_model,\n",
    "  hdbscan_model=hdbscan_model,\n",
    ")\n",
    "\n",
    "topics, probs = topic_model.fit_transform(docs, embeddings=embeddings) #传入训练好的词向量\n",
    "topic_info = topic_model.get_topic_info()\n",
    "topic_info"
   ]
  },
  {
   "cell_type": "markdown",
   "metadata": {},
   "source": [
    "# 层次聚类"
   ]
  },
  {
   "cell_type": "code",
   "execution_count": 6,
   "metadata": {},
   "outputs": [
    {
     "name": "stderr",
     "output_type": "stream",
     "text": [
      "100%|██████████| 64/64 [00:00<00:00, 127.60it/s]\n"
     ]
    },
    {
     "data": {
      "application/vnd.plotly.v1+json": {
       "config": {
        "plotlyServerURL": "https://plot.ly"
       },
       "data": [
        {
         "hoverinfo": "text",
         "marker": {
          "color": "rgb(61,153,112)"
         },
         "mode": "lines",
         "text": [
          "gate_cavity_atoms_gates_two",
          "",
          "",
          "gate_qubit_distortions_errors_error"
         ],
         "type": "scatter",
         "x": [
          0,
          0.5799604882863963,
          0.5799604882863963,
          0
         ],
         "xaxis": "x",
         "y": [
          -25,
          -25,
          -35,
          -35
         ],
         "yaxis": "y"
        },
        {
         "hoverinfo": "text",
         "marker": {
          "color": "rgb(61,153,112)"
         },
         "mode": "lines",
         "text": [
          "performance_transmon_gate_crosstalk_scalable",
          "",
          "",
          "gate_cavity_qubit_two_gates"
         ],
         "type": "scatter",
         "x": [
          0,
          0.6634292090077284,
          0.6634292090077284,
          0.5799604882863963
         ],
         "xaxis": "x",
         "y": [
          -15,
          -15,
          -30,
          -30
         ],
         "yaxis": "y"
        },
        {
         "hoverinfo": "text",
         "marker": {
          "color": "rgb(61,153,112)"
         },
         "mode": "lines",
         "text": [
          "gate_cavity_gates_qubit_two",
          "",
          "",
          "qubits_operations_promising_addressing_are"
         ],
         "type": "scatter",
         "x": [
          0.6634292090077284,
          0.6896513547234201,
          0.6896513547234201,
          0
         ],
         "xaxis": "x",
         "y": [
          -22.5,
          -22.5,
          -45,
          -45
         ],
         "yaxis": "y"
        },
        {
         "hoverinfo": "text",
         "marker": {
          "color": "rgb(61,153,112)"
         },
         "mode": "lines",
         "text": [
          "codes_error_correction_code_errors",
          "",
          "",
          "gate_cavity_gates_qubit_two"
         ],
         "type": "scatter",
         "x": [
          0,
          0.7358753000938436,
          0.7358753000938436,
          0.6896513547234201
         ],
         "xaxis": "x",
         "y": [
          -5,
          -5,
          -33.75,
          -33.75
         ],
         "yaxis": "y"
        },
        {
         "hoverinfo": "text",
         "marker": {
          "color": "rgb(61,153,112)"
         },
         "mode": "lines",
         "text": [
          "gates_clifford_gate_logical_controlled",
          "",
          "",
          "unitary_gf_gates_circuit_canonical"
         ],
         "type": "scatter",
         "x": [
          0,
          0.5642313456190036,
          0.5642313456190036,
          0
         ],
         "xaxis": "x",
         "y": [
          -65,
          -65,
          -75,
          -75
         ],
         "yaxis": "y"
        },
        {
         "hoverinfo": "text",
         "marker": {
          "color": "rgb(61,153,112)"
         },
         "mode": "lines",
         "text": [
          "toffoli_gate_depth_gates_qubit",
          "",
          "",
          "gates_clifford_gate_unitary_circuit"
         ],
         "type": "scatter",
         "x": [
          0,
          0.7165461601978557,
          0.7165461601978557,
          0.5642313456190036
         ],
         "xaxis": "x",
         "y": [
          -55,
          -55,
          -70,
          -70
         ],
         "yaxis": "y"
        },
        {
         "hoverinfo": "text",
         "marker": {
          "color": "rgb(61,153,112)"
         },
         "mode": "lines",
         "text": [
          "gate_error_codes_cavity_qubit",
          "",
          "",
          "gates_gate_toffoli_clifford_circuit"
         ],
         "type": "scatter",
         "x": [
          0.7358753000938436,
          0.9379049335636013,
          0.9379049335636013,
          0.7165461601978557
         ],
         "xaxis": "x",
         "y": [
          -19.375,
          -19.375,
          -62.5,
          -62.5
         ],
         "yaxis": "y"
        },
        {
         "hoverinfo": "text",
         "marker": {
          "color": "rgb(255,65,54)"
         },
         "mode": "lines",
         "text": [
          "states_entanglement_symmetric_entangled_measure",
          "",
          "",
          "entanglement_subspaces_multipartite_depth_states"
         ],
         "type": "scatter",
         "x": [
          0,
          0.4902310004563817,
          0.4902310004563817,
          0
         ],
         "xaxis": "x",
         "y": [
          -105,
          -105,
          -115,
          -115
         ],
         "yaxis": "y"
        },
        {
         "hoverinfo": "text",
         "marker": {
          "color": "rgb(255,65,54)"
         },
         "mode": "lines",
         "text": [
          "states_ghz_pure_local_uniquely",
          "",
          "",
          "states_entanglement_entangled_multipartite_of"
         ],
         "type": "scatter",
         "x": [
          0,
          0.6161033418895119,
          0.6161033418895119,
          0.4902310004563817
         ],
         "xaxis": "x",
         "y": [
          -95,
          -95,
          -110,
          -110
         ],
         "yaxis": "y"
        },
        {
         "hoverinfo": "text",
         "marker": {
          "color": "rgb(255,65,54)"
         },
         "mode": "lines",
         "text": [
          "sets_polynomial_invariants_bases_local",
          "",
          "",
          "states_entanglement_pure_local_ghz"
         ],
         "type": "scatter",
         "x": [
          0,
          0.7121974882289679,
          0.7121974882289679,
          0.6161033418895119
         ],
         "xaxis": "x",
         "y": [
          -85,
          -85,
          -102.5,
          -102.5
         ],
         "yaxis": "y"
        },
        {
         "hoverinfo": "text",
         "marker": {
          "color": "rgb(255,65,54)"
         },
         "mode": "lines",
         "text": [
          "states_entanglement_local_pure_of",
          "",
          "",
          "geometric_mixed_quantal_evolution_phase"
         ],
         "type": "scatter",
         "x": [
          0.7121974882289679,
          0.8182091151115933,
          0.8182091151115933,
          0
         ],
         "xaxis": "x",
         "y": [
          -93.75,
          -93.75,
          -125,
          -125
         ],
         "yaxis": "y"
        },
        {
         "hoverinfo": "text",
         "marker": {
          "color": "rgb(35,205,205)"
         },
         "mode": "lines",
         "text": [
          "discord_correlation_quantum_states_entanglement",
          "",
          "",
          "correlations_markovian_correlation_systems_ancilla"
         ],
         "type": "scatter",
         "x": [
          0,
          0.6907136621486957,
          0.6907136621486957,
          0
         ],
         "xaxis": "x",
         "y": [
          -135,
          -135,
          -145,
          -145
         ],
         "yaxis": "y"
        },
        {
         "hoverinfo": "text",
         "marker": {
          "color": "rgb(35,205,205)"
         },
         "mode": "lines",
         "text": [
          "teleportation_entangled_scheme_state_states",
          "",
          "",
          "states_state_protocol_bell_mie"
         ],
         "type": "scatter",
         "x": [
          0,
          0.5056290215975103,
          0.5056290215975103,
          0
         ],
         "xaxis": "x",
         "y": [
          -175,
          -175,
          -185,
          -185
         ],
         "yaxis": "y"
        },
        {
         "hoverinfo": "text",
         "marker": {
          "color": "rgb(35,205,205)"
         },
         "mode": "lines",
         "text": [
          "protocol_key_secret_protocols_attack",
          "",
          "",
          "teleportation_entangled_state_scheme_states"
         ],
         "type": "scatter",
         "x": [
          0,
          0.6722773222993419,
          0.6722773222993419,
          0.5056290215975103
         ],
         "xaxis": "x",
         "y": [
          -165,
          -165,
          -180,
          -180
         ],
         "yaxis": "y"
        },
        {
         "hoverinfo": "text",
         "marker": {
          "color": "rgb(35,205,205)"
         },
         "mode": "lines",
         "text": [
          "protocol_teleportation_entangled_scheme_state",
          "",
          "",
          "measurement_program_quantum_tomography_estimation"
         ],
         "type": "scatter",
         "x": [
          0.6722773222993419,
          0.6770975869950588,
          0.6770975869950588,
          0
         ],
         "xaxis": "x",
         "y": [
          -172.5,
          -172.5,
          -195,
          -195
         ],
         "yaxis": "y"
        },
        {
         "hoverinfo": "text",
         "marker": {
          "color": "rgb(35,205,205)"
         },
         "mode": "lines",
         "text": [
          "bell_inequality_inequalities_violation_chsh",
          "",
          "",
          "protocol_state_quantum_scheme_entangled"
         ],
         "type": "scatter",
         "x": [
          0,
          0.8016697731590521,
          0.8016697731590521,
          0.6770975869950588
         ],
         "xaxis": "x",
         "y": [
          -155,
          -155,
          -183.75,
          -183.75
         ],
         "yaxis": "y"
        },
        {
         "hoverinfo": "text",
         "marker": {
          "color": "rgb(35,205,205)"
         },
         "mode": "lines",
         "text": [
          "algorithm_simulation_quantum_preparation_computer",
          "",
          "",
          "quantum_learning_computers_computing_and"
         ],
         "type": "scatter",
         "x": [
          0,
          0.5752930540405023,
          0.5752930540405023,
          0
         ],
         "xaxis": "x",
         "y": [
          -205,
          -205,
          -215,
          -215
         ],
         "yaxis": "y"
        },
        {
         "hoverinfo": "text",
         "marker": {
          "color": "rgb(35,205,205)"
         },
         "mode": "lines",
         "text": [
          "entanglement_enz_quantum_resource_information",
          "",
          "",
          "entanglement_energetic_system_nonclassicality_systems"
         ],
         "type": "scatter",
         "x": [
          0,
          0.604667487513386,
          0.604667487513386,
          0
         ],
         "xaxis": "x",
         "y": [
          -225,
          -225,
          -235,
          -235
         ],
         "yaxis": "y"
        },
        {
         "hoverinfo": "text",
         "marker": {
          "color": "rgb(35,205,205)"
         },
         "mode": "lines",
         "text": [
          "quantum_algorithm_algorithms_and_to",
          "",
          "",
          "entanglement_quantum_information_is_entangled"
         ],
         "type": "scatter",
         "x": [
          0.5752930540405023,
          0.7901270450728995,
          0.7901270450728995,
          0.604667487513386
         ],
         "xaxis": "x",
         "y": [
          -210,
          -210,
          -230,
          -230
         ],
         "yaxis": "y"
        },
        {
         "hoverinfo": "text",
         "marker": {
          "color": "rgb(35,205,205)"
         },
         "mode": "lines",
         "text": [
          "protocol_bell_state_quantum_entangled",
          "",
          "",
          "quantum_algorithm_to_and_entanglement"
         ],
         "type": "scatter",
         "x": [
          0.8016697731590521,
          0.8725264993239613,
          0.8725264993239613,
          0.7901270450728995
         ],
         "xaxis": "x",
         "y": [
          -169.375,
          -169.375,
          -220,
          -220
         ],
         "yaxis": "y"
        },
        {
         "hoverinfo": "text",
         "marker": {
          "color": "rgb(35,205,205)"
         },
         "mode": "lines",
         "text": [
          "quantum_is_to_the_of",
          "",
          "",
          "cloning_covariant_machine_repair_optimal"
         ],
         "type": "scatter",
         "x": [
          0.8725264993239613,
          0.898816587078108,
          0.898816587078108,
          0
         ],
         "xaxis": "x",
         "y": [
          -194.6875,
          -194.6875,
          -245,
          -245
         ],
         "yaxis": "y"
        },
        {
         "hoverinfo": "text",
         "marker": {
          "color": "rgb(35,205,205)"
         },
         "mode": "lines",
         "text": [
          "discord_correlations_correlation_quantum_markovian",
          "",
          "",
          "quantum_is_to_the_of"
         ],
         "type": "scatter",
         "x": [
          0.6907136621486957,
          0.937653207422977,
          0.937653207422977,
          0.898816587078108
         ],
         "xaxis": "x",
         "y": [
          -140,
          -140,
          -219.84375,
          -219.84375
         ],
         "yaxis": "y"
        },
        {
         "hoverinfo": "text",
         "marker": {
          "color": "rgb(133,20,75)"
         },
         "mode": "lines",
         "text": [
          "polarization_photon_entangled_state_scheme",
          "",
          "",
          "light_photon_photons_optical_quantum"
         ],
         "type": "scatter",
         "x": [
          0,
          0.5448584349985837,
          0.5448584349985837,
          0
         ],
         "xaxis": "x",
         "y": [
          -255,
          -255,
          -265,
          -265
         ],
         "yaxis": "y"
        },
        {
         "hoverinfo": "text",
         "marker": {
          "color": "rgb(133,20,75)"
         },
         "mode": "lines",
         "text": [
          "photon_light_photons_optical_polarization",
          "",
          "",
          "photons_conversion_fiber_fibers_key"
         ],
         "type": "scatter",
         "x": [
          0.5448584349985837,
          0.6768273538295987,
          0.6768273538295987,
          0
         ],
         "xaxis": "x",
         "y": [
          -260,
          -260,
          -275,
          -275
         ],
         "yaxis": "y"
        },
        {
         "hoverinfo": "text",
         "marker": {
          "color": "rgb(0,116,217)"
         },
         "mode": "lines",
         "text": [
          "quantum_is_the_of_to",
          "",
          "",
          "photon_photons_optical_light_polarization"
         ],
         "type": "scatter",
         "x": [
          0.937653207422977,
          1.019716013472258,
          1.019716013472258,
          0.6768273538295987
         ],
         "xaxis": "x",
         "y": [
          -179.921875,
          -179.921875,
          -267.5,
          -267.5
         ],
         "yaxis": "y"
        },
        {
         "hoverinfo": "text",
         "marker": {
          "color": "rgb(0,116,217)"
         },
         "mode": "lines",
         "text": [
          "states_mixed_entanglement_local_of",
          "",
          "",
          "quantum_of_and_the_to"
         ],
         "type": "scatter",
         "x": [
          0.8182091151115933,
          1.0836126322100506,
          1.0836126322100506,
          1.019716013472258
         ],
         "xaxis": "x",
         "y": [
          -109.375,
          -109.375,
          -223.7109375,
          -223.7109375
         ],
         "yaxis": "y"
        },
        {
         "hoverinfo": "text",
         "marker": {
          "color": "rgb(0,116,217)"
         },
         "mode": "lines",
         "text": [
          "gate_gates_qubit_error_qubits",
          "",
          "",
          "quantum_states_of_the_entanglement"
         ],
         "type": "scatter",
         "x": [
          0.9379049335636013,
          1.3064041921220042,
          1.3064041921220042,
          1.0836126322100506
         ],
         "xaxis": "x",
         "y": [
          -40.9375,
          -40.9375,
          -166.54296875,
          -166.54296875
         ],
         "yaxis": "y"
        },
        {
         "hoverinfo": "text",
         "marker": {
          "color": "rgb(255,220,0)"
         },
         "mode": "lines",
         "text": [
          "sic_silicon_4h_carbide_vacancy",
          "",
          "",
          "diamond_nv_vacancy_nitrogen_center"
         ],
         "type": "scatter",
         "x": [
          0,
          0.47167413090992794,
          0.47167413090992794,
          0
         ],
         "xaxis": "x",
         "y": [
          -285,
          -285,
          -295,
          -295
         ],
         "yaxis": "y"
        },
        {
         "hoverinfo": "text",
         "marker": {
          "color": "rgb(255,220,0)"
         },
         "mode": "lines",
         "text": [
          "nuclear_si_donor_spin_electron",
          "",
          "",
          "spin_nuclear_spins_electron_resonance"
         ],
         "type": "scatter",
         "x": [
          0,
          0.4914329588289903,
          0.4914329588289903,
          0
         ],
         "xaxis": "x",
         "y": [
          -315,
          -315,
          -325,
          -325
         ],
         "yaxis": "y"
        },
        {
         "hoverinfo": "text",
         "marker": {
          "color": "rgb(255,220,0)"
         },
         "mode": "lines",
         "text": [
          "donor_si_silicon_donors_electron",
          "",
          "",
          "nuclear_spin_spins_electron_si"
         ],
         "type": "scatter",
         "x": [
          0,
          0.677043849808938,
          0.677043849808938,
          0.4914329588289903
         ],
         "xaxis": "x",
         "y": [
          -305,
          -305,
          -320,
          -320
         ],
         "yaxis": "y"
        },
        {
         "hoverinfo": "text",
         "marker": {
          "color": "rgb(255,220,0)"
         },
         "mode": "lines",
         "text": [
          "dots_dot_spin_quantum_silicon",
          "",
          "",
          "spin_electric_orbit_factor_interaction"
         ],
         "type": "scatter",
         "x": [
          0,
          0.5249029250209707,
          0.5249029250209707,
          0
         ],
         "xaxis": "x",
         "y": [
          -335,
          -335,
          -345,
          -345
         ],
         "yaxis": "y"
        },
        {
         "hoverinfo": "text",
         "marker": {
          "color": "rgb(255,220,0)"
         },
         "mode": "lines",
         "text": [
          "donor_nuclear_spin_electron_si",
          "",
          "",
          "dots_spin_dot_quantum_electron"
         ],
         "type": "scatter",
         "x": [
          0.677043849808938,
          0.7415958814627774,
          0.7415958814627774,
          0.5249029250209707
         ],
         "xaxis": "x",
         "y": [
          -312.5,
          -312.5,
          -340,
          -340
         ],
         "yaxis": "y"
        },
        {
         "hoverinfo": "text",
         "marker": {
          "color": "rgb(255,220,0)"
         },
         "mode": "lines",
         "text": [
          "vacancy_diamond_nv_center_nitrogen",
          "",
          "",
          "spin_dot_dots_electron_si"
         ],
         "type": "scatter",
         "x": [
          0.47167413090992794,
          0.8929437238357205,
          0.8929437238357205,
          0.7415958814627774
         ],
         "xaxis": "x",
         "y": [
          -290,
          -290,
          -326.25,
          -326.25
         ],
         "yaxis": "y"
        },
        {
         "hoverinfo": "text",
         "marker": {
          "color": "rgb(40,35,35)"
         },
         "mode": "lines",
         "text": [
          "abelian_hall_filling_non_statistics",
          "",
          "",
          "topological_majorana_superconductivity_superconductor_superconductors"
         ],
         "type": "scatter",
         "x": [
          0,
          0.6869021527891922,
          0.6869021527891922,
          0
         ],
         "xaxis": "x",
         "y": [
          -355,
          -355,
          -365,
          -365
         ],
         "yaxis": "y"
        },
        {
         "hoverinfo": "text",
         "marker": {
          "color": "rgb(40,35,35)"
         },
         "mode": "lines",
         "text": [
          "spin_chain_transfer_bath_the",
          "",
          "",
          "thermal_entanglement_heisenberg_magnetic_field"
         ],
         "type": "scatter",
         "x": [
          0,
          0.5385743793112646,
          0.5385743793112646,
          0
         ],
         "xaxis": "x",
         "y": [
          -395,
          -395,
          -405,
          -405
         ],
         "yaxis": "y"
        },
        {
         "hoverinfo": "text",
         "marker": {
          "color": "rgb(40,35,35)"
         },
         "mode": "lines",
         "text": [
          "model_spin_kitaev_lattice_honeycomb",
          "",
          "",
          "thermal_chain_heisenberg_entanglement_spin"
         ],
         "type": "scatter",
         "x": [
          0,
          0.5919528256442635,
          0.5919528256442635,
          0.5385743793112646
         ],
         "xaxis": "x",
         "y": [
          -385,
          -385,
          -400,
          -400
         ],
         "yaxis": "y"
        },
        {
         "hoverinfo": "text",
         "marker": {
          "color": "rgb(40,35,35)"
         },
         "mode": "lines",
         "text": [
          "hamiltonian_gauge_hamiltonians_spinor_the",
          "",
          "",
          "spin_model_the_heisenberg_thermal"
         ],
         "type": "scatter",
         "x": [
          0,
          0.6565129359404602,
          0.6565129359404602,
          0.5919528256442635
         ],
         "xaxis": "x",
         "y": [
          -375,
          -375,
          -392.5,
          -392.5
         ],
         "yaxis": "y"
        },
        {
         "hoverinfo": "text",
         "marker": {
          "color": "rgb(40,35,35)"
         },
         "mode": "lines",
         "text": [
          "environment_dynamics_qubit_le_general",
          "",
          "",
          "pt_symmetric_symmetry_parity_systems"
         ],
         "type": "scatter",
         "x": [
          0,
          0.6844829269382553,
          0.6844829269382553,
          0
         ],
         "xaxis": "x",
         "y": [
          -415,
          -415,
          -425,
          -425
         ],
         "yaxis": "y"
        },
        {
         "hoverinfo": "text",
         "marker": {
          "color": "rgb(40,35,35)"
         },
         "mode": "lines",
         "text": [
          "spin_the_model_heisenberg_hamiltonian",
          "",
          "",
          "pt_symmetric_symmetry_parity_anti"
         ],
         "type": "scatter",
         "x": [
          0.6565129359404602,
          0.9021995206102487,
          0.9021995206102487,
          0.6844829269382553
         ],
         "xaxis": "x",
         "y": [
          -383.75,
          -383.75,
          -420,
          -420
         ],
         "yaxis": "y"
        },
        {
         "hoverinfo": "text",
         "marker": {
          "color": "rgb(40,35,35)"
         },
         "mode": "lines",
         "text": [
          "topological_majorana_superconductivity_superconductor_superconductors",
          "",
          "",
          "spin_the_model_hamiltonian_of"
         ],
         "type": "scatter",
         "x": [
          0.6869021527891922,
          0.9462789547327601,
          0.9462789547327601,
          0.9021995206102487
         ],
         "xaxis": "x",
         "y": [
          -360,
          -360,
          -401.875,
          -401.875
         ],
         "yaxis": "y"
        },
        {
         "hoverinfo": "text",
         "marker": {
          "color": "rgb(61,153,112)"
         },
         "mode": "lines",
         "text": [
          "josephson_junctions_junction_tunneling_switching",
          "",
          "",
          "frequency_dielectric_set_filter_current"
         ],
         "type": "scatter",
         "x": [
          0,
          0.7593612716291599,
          0.7593612716291599,
          0
         ],
         "xaxis": "x",
         "y": [
          -435,
          -435,
          -445,
          -445
         ],
         "yaxis": "y"
        },
        {
         "hoverinfo": "text",
         "marker": {
          "color": "rgb(61,153,112)"
         },
         "mode": "lines",
         "text": [
          "flux_superconducting_qubit_noise_frequency",
          "",
          "",
          "superconducting_qubits_qubit_device_circuit"
         ],
         "type": "scatter",
         "x": [
          0,
          0.5311124844658703,
          0.5311124844658703,
          0
         ],
         "xaxis": "x",
         "y": [
          -465,
          -465,
          -475,
          -475
         ],
         "yaxis": "y"
        },
        {
         "hoverinfo": "text",
         "marker": {
          "color": "rgb(61,153,112)"
         },
         "mode": "lines",
         "text": [
          "noise_decoherence_decoupling_the_chaotic",
          "",
          "",
          "superconducting_flux_qubit_device_qubits"
         ],
         "type": "scatter",
         "x": [
          0,
          0.6081299557866818,
          0.6081299557866818,
          0.5311124844658703
         ],
         "xaxis": "x",
         "y": [
          -455,
          -455,
          -470,
          -470
         ],
         "yaxis": "y"
        },
        {
         "hoverinfo": "text",
         "marker": {
          "color": "rgb(61,153,112)"
         },
         "mode": "lines",
         "text": [
          "josephson_junctions_tunneling_current_junction",
          "",
          "",
          "noise_superconducting_qubit_flux_the"
         ],
         "type": "scatter",
         "x": [
          0.7593612716291599,
          0.799255618332475,
          0.799255618332475,
          0.6081299557866818
         ],
         "xaxis": "x",
         "y": [
          -440,
          -440,
          -462.5,
          -462.5
         ],
         "yaxis": "y"
        },
        {
         "hoverinfo": "text",
         "marker": {
          "color": "rgb(61,153,112)"
         },
         "mode": "lines",
         "text": [
          "magnetic_resonance_temperature_the_relaxation",
          "",
          "",
          "laser_ion_the_ions_energy"
         ],
         "type": "scatter",
         "x": [
          0,
          0.5370167570929526,
          0.5370167570929526,
          0
         ],
         "xaxis": "x",
         "y": [
          -495,
          -495,
          -505,
          -505
         ],
         "yaxis": "y"
        },
        {
         "hoverinfo": "text",
         "marker": {
          "color": "rgb(61,153,112)"
         },
         "mode": "lines",
         "text": [
          "laser_the_ion_and_of",
          "",
          "",
          "raman_laser_stimulated_atomic_cars"
         ],
         "type": "scatter",
         "x": [
          0.5370167570929526,
          0.6747581457945416,
          0.6747581457945416,
          0
         ],
         "xaxis": "x",
         "y": [
          -500,
          -500,
          -515,
          -515
         ],
         "yaxis": "y"
        },
        {
         "hoverinfo": "text",
         "marker": {
          "color": "rgb(61,153,112)"
         },
         "mode": "lines",
         "text": [
          "stars_ray_star_galaxies_galaxy",
          "",
          "",
          "laser_the_and_of_ion"
         ],
         "type": "scatter",
         "x": [
          0,
          0.767802091994527,
          0.767802091994527,
          0.6747581457945416
         ],
         "xaxis": "x",
         "y": [
          -485,
          -485,
          -507.5,
          -507.5
         ],
         "yaxis": "y"
        },
        {
         "hoverinfo": "text",
         "marker": {
          "color": "rgb(61,153,112)"
         },
         "mode": "lines",
         "text": [
          "recombination_puffing_he_volumetric_dominated",
          "",
          "",
          "cat_schrödinger_states_oscillator_driving"
         ],
         "type": "scatter",
         "x": [
          0,
          0.8025758201876059,
          0.8025758201876059,
          0
         ],
         "xaxis": "x",
         "y": [
          -535,
          -535,
          -545,
          -545
         ],
         "yaxis": "y"
        },
        {
         "hoverinfo": "text",
         "marker": {
          "color": "rgb(61,153,112)"
         },
         "mode": "lines",
         "text": [
          "lzs_zener_landau_lz_transition",
          "",
          "",
          "cat_schrödinger_recombination_driving_puffing"
         ],
         "type": "scatter",
         "x": [
          0,
          0.8444507184656239,
          0.8444507184656239,
          0.8025758201876059
         ],
         "xaxis": "x",
         "y": [
          -525,
          -525,
          -540,
          -540
         ],
         "yaxis": "y"
        },
        {
         "hoverinfo": "text",
         "marker": {
          "color": "rgb(61,153,112)"
         },
         "mode": "lines",
         "text": [
          "the_stars_of_and_in",
          "",
          "",
          "cat_schrödinger_zener_recombination_landau"
         ],
         "type": "scatter",
         "x": [
          0.767802091994527,
          0.8906241590108677,
          0.8906241590108677,
          0.8444507184656239
         ],
         "xaxis": "x",
         "y": [
          -496.25,
          -496.25,
          -532.5,
          -532.5
         ],
         "yaxis": "y"
        },
        {
         "hoverinfo": "text",
         "marker": {
          "color": "rgb(61,153,112)"
         },
         "mode": "lines",
         "text": [
          "noise_superconducting_the_qubit_josephson",
          "",
          "",
          "the_of_stars_and_in"
         ],
         "type": "scatter",
         "x": [
          0.799255618332475,
          0.9666472901303444,
          0.9666472901303444,
          0.8906241590108677
         ],
         "xaxis": "x",
         "y": [
          -451.25,
          -451.25,
          -514.375,
          -514.375
         ],
         "yaxis": "y"
        },
        {
         "hoverinfo": "text",
         "marker": {
          "color": "rgb(0,116,217)"
         },
         "mode": "lines",
         "text": [
          "topological_the_spin_majorana_of",
          "",
          "",
          "the_of_and_in_to"
         ],
         "type": "scatter",
         "x": [
          0.9462789547327601,
          1.0795041466451645,
          1.0795041466451645,
          0.9666472901303444
         ],
         "xaxis": "x",
         "y": [
          -380.9375,
          -380.9375,
          -482.8125,
          -482.8125
         ],
         "yaxis": "y"
        },
        {
         "hoverinfo": "text",
         "marker": {
          "color": "rgb(255,65,54)"
         },
         "mode": "lines",
         "text": [
          "yang_baxter_functionals_value_unitary",
          "",
          "",
          "should_eq_paper_differential_hkl"
         ],
         "type": "scatter",
         "x": [
          0,
          0.8708321178891043,
          0.8708321178891043,
          0
         ],
         "xaxis": "x",
         "y": [
          -555,
          -555,
          -565,
          -565
         ],
         "yaxis": "y"
        },
        {
         "hoverinfo": "text",
         "marker": {
          "color": "rgb(255,65,54)"
         },
         "mode": "lines",
         "text": [
          "yang_baxter_equation_should_paper",
          "",
          "",
          "segmented_mirror_aberrations_telescope_zernike"
         ],
         "type": "scatter",
         "x": [
          0.8708321178891043,
          0.9129683746726133,
          0.9129683746726133,
          0
         ],
         "xaxis": "x",
         "y": [
          -560,
          -560,
          -575,
          -575
         ],
         "yaxis": "y"
        },
        {
         "hoverinfo": "text",
         "marker": {
          "color": "rgb(255,65,54)"
         },
         "mode": "lines",
         "text": [
          "transistors_drain_organic_fets_base",
          "",
          "",
          "films_zno_film_valley_tmdcs"
         ],
         "type": "scatter",
         "x": [
          0,
          0.7841595391354496,
          0.7841595391354496,
          0
         ],
         "xaxis": "x",
         "y": [
          -595,
          -595,
          -605,
          -605
         ],
         "yaxis": "y"
        },
        {
         "hoverinfo": "text",
         "marker": {
          "color": "rgb(255,65,54)"
         },
         "mode": "lines",
         "text": [
          "viscosity_flow_electrodes_accuracy_sample",
          "",
          "",
          "heat_foams_gas_metal_pressure"
         ],
         "type": "scatter",
         "x": [
          0,
          0.8713282123003683,
          0.8713282123003683,
          0
         ],
         "xaxis": "x",
         "y": [
          -615,
          -615,
          -625,
          -625
         ],
         "yaxis": "y"
        },
        {
         "hoverinfo": "text",
         "marker": {
          "color": "rgb(255,65,54)"
         },
         "mode": "lines",
         "text": [
          "viscosity_flow_electrodes_accuracy_heat",
          "",
          "",
          "cells_quorum_luminescence_proteins_abfps"
         ],
         "type": "scatter",
         "x": [
          0.8713282123003683,
          0.8986263478354567,
          0.8986263478354567,
          0
         ],
         "xaxis": "x",
         "y": [
          -620,
          -620,
          -635,
          -635
         ],
         "yaxis": "y"
        },
        {
         "hoverinfo": "text",
         "marker": {
          "color": "rgb(255,65,54)"
         },
         "mode": "lines",
         "text": [
          "films_film_were_zno_metal",
          "",
          "",
          "viscosity_flow_electrodes_accuracy_using"
         ],
         "type": "scatter",
         "x": [
          0.7841595391354496,
          0.9128485464209324,
          0.9128485464209324,
          0.8986263478354567
         ],
         "xaxis": "x",
         "y": [
          -600,
          -600,
          -627.5,
          -627.5
         ],
         "yaxis": "y"
        },
        {
         "hoverinfo": "text",
         "marker": {
          "color": "rgb(255,65,54)"
         },
         "mode": "lines",
         "text": [
          "patients_doc_awareness_radiation_brain",
          "",
          "",
          "viscosity_flow_electrodes_and_the"
         ],
         "type": "scatter",
         "x": [
          0,
          0.9323545499371293,
          0.9323545499371293,
          0.9128485464209324
         ],
         "xaxis": "x",
         "y": [
          -585,
          -585,
          -613.75,
          -613.75
         ],
         "yaxis": "y"
        },
        {
         "hoverinfo": "text",
         "marker": {
          "color": "rgb(255,65,54)"
         },
         "mode": "lines",
         "text": [
          "patients_and_viscosity_the_flow",
          "",
          "",
          "recrystallization_niobium_arc_films_cathodes"
         ],
         "type": "scatter",
         "x": [
          0.9323545499371293,
          0.967506933763907,
          0.967506933763907,
          0
         ],
         "xaxis": "x",
         "y": [
          -599.375,
          -599.375,
          -645,
          -645
         ],
         "yaxis": "y"
        },
        {
         "hoverinfo": "text",
         "marker": {
          "color": "rgb(255,65,54)"
         },
         "mode": "lines",
         "text": [
          "yang_baxter_segmented_paper_mirror",
          "",
          "",
          "films_was_and_patients_the"
         ],
         "type": "scatter",
         "x": [
          0.9129683746726133,
          0.9963570409425485,
          0.9963570409425485,
          0.967506933763907
         ],
         "xaxis": "x",
         "y": [
          -567.5,
          -567.5,
          -622.1875,
          -622.1875
         ],
         "yaxis": "y"
        },
        {
         "hoverinfo": "text",
         "marker": {
          "color": "rgb(0,116,217)"
         },
         "mode": "lines",
         "text": [
          "the_of_in_and_to",
          "",
          "",
          "the_and_of_films_in"
         ],
         "type": "scatter",
         "x": [
          1.0795041466451645,
          1.2014472867647765,
          1.2014472867647765,
          0.9963570409425485
         ],
         "xaxis": "x",
         "y": [
          -431.875,
          -431.875,
          -594.84375,
          -594.84375
         ],
         "yaxis": "y"
        },
        {
         "hoverinfo": "text",
         "marker": {
          "color": "rgb(0,116,217)"
         },
         "mode": "lines",
         "text": [
          "spin_nuclear_silicon_vacancy_nv",
          "",
          "",
          "the_of_in_and_to"
         ],
         "type": "scatter",
         "x": [
          0.8929437238357205,
          1.351794871038865,
          1.351794871038865,
          1.2014472867647765
         ],
         "xaxis": "x",
         "y": [
          -308.125,
          -308.125,
          -513.359375,
          -513.359375
         ],
         "yaxis": "y"
        },
        {
         "hoverinfo": "text",
         "marker": {
          "color": "rgb(0,116,217)"
         },
         "mode": "lines",
         "text": [
          "quantum_of_the_to_and",
          "",
          "",
          "the_of_in_and_spin"
         ],
         "type": "scatter",
         "x": [
          1.3064041921220042,
          1.559527011611809,
          1.559527011611809,
          1.351794871038865
         ],
         "xaxis": "x",
         "y": [
          -103.740234375,
          -103.740234375,
          -410.7421875,
          -410.7421875
         ],
         "yaxis": "y"
        },
        {
         "hoverinfo": "text",
         "hovertext": [
          "gate_cavity_gates_qubit_two",
          "gate_error_codes_cavity_qubit",
          "states_entanglement_local_pure_of",
          "protocol_teleportation_entangled_scheme_state",
          "quantum_algorithm_algorithms_and_to",
          "protocol_bell_state_quantum_entangled",
          "quantum_is_to_the_of",
          "discord_correlations_correlation_quantum_markovian",
          "photon_light_photons_optical_polarization",
          "quantum_is_the_of_to",
          "states_mixed_entanglement_local_of",
          "gate_gates_qubit_error_qubits",
          "donor_nuclear_spin_electron_si",
          "vacancy_diamond_nv_center_nitrogen",
          "spin_the_model_heisenberg_hamiltonian",
          "topological_majorana_superconductivity_superconductor_superconductors",
          "josephson_junctions_tunneling_current_junction",
          "laser_the_ion_and_of",
          "the_stars_of_and_in",
          "noise_superconducting_the_qubit_josephson",
          "topological_the_spin_majorana_of",
          "yang_baxter_equation_should_paper",
          "viscosity_flow_electrodes_accuracy_heat",
          "films_film_were_zno_metal",
          "patients_and_viscosity_the_flow",
          "yang_baxter_segmented_paper_mirror",
          "the_of_in_and_to",
          "spin_nuclear_silicon_vacancy_nv",
          "quantum_of_the_to_and"
         ],
         "marker": {
          "color": "black"
         },
         "mode": "markers",
         "showlegend": false,
         "type": "scatter",
         "x": [
          0.6634292090077284,
          0.7358753000938436,
          0.7121974882289679,
          0.6722773222993419,
          0.5752930540405023,
          0.8016697731590521,
          0.8725264993239613,
          0.6907136621486957,
          0.5448584349985837,
          0.937653207422977,
          0.8182091151115933,
          0.9379049335636013,
          0.677043849808938,
          0.47167413090992794,
          0.6565129359404602,
          0.6869021527891922,
          0.7593612716291599,
          0.5370167570929526,
          0.767802091994527,
          0.799255618332475,
          0.9462789547327601,
          0.8708321178891043,
          0.8713282123003683,
          0.7841595391354496,
          0.9323545499371293,
          0.9129683746726133,
          1.0795041466451645,
          0.8929437238357205,
          1.3064041921220042
         ],
         "y": [
          -22.5,
          -19.375,
          -93.75,
          -172.5,
          -210,
          -169.375,
          -194.6875,
          -140,
          -260,
          -179.921875,
          -109.375,
          -40.9375,
          -312.5,
          -290,
          -383.75,
          -360,
          -440,
          -500,
          -496.25,
          -451.25,
          -380.9375,
          -560,
          -620,
          -600,
          -599.375,
          -567.5,
          -431.875,
          -308.125,
          -103.740234375
         ]
        },
        {
         "hoverinfo": "text",
         "hovertext": [
          "gate_cavity_qubit_two_gates",
          "gate_cavity_gates_qubit_two",
          "gates_clifford_gate_unitary_circuit",
          "gates_gate_toffoli_clifford_circuit",
          "states_entanglement_entangled_multipartite_of",
          "states_entanglement_pure_local_ghz",
          "teleportation_entangled_state_scheme_states",
          "protocol_state_quantum_scheme_entangled",
          "entanglement_quantum_information_is_entangled",
          "quantum_algorithm_to_and_entanglement",
          "quantum_is_to_the_of",
          "photon_photons_optical_light_polarization",
          "quantum_of_and_the_to",
          "quantum_states_of_the_entanglement",
          "nuclear_spin_spins_electron_si",
          "dots_spin_dot_quantum_electron",
          "spin_dot_dots_electron_si",
          "thermal_chain_heisenberg_entanglement_spin",
          "spin_model_the_heisenberg_thermal",
          "pt_symmetric_symmetry_parity_anti",
          "spin_the_model_hamiltonian_of",
          "superconducting_flux_qubit_device_qubits",
          "noise_superconducting_qubit_flux_the",
          "laser_the_and_of_ion",
          "cat_schrödinger_recombination_driving_puffing",
          "cat_schrödinger_zener_recombination_landau",
          "the_of_stars_and_in",
          "the_of_and_in_to",
          "viscosity_flow_electrodes_accuracy_using",
          "viscosity_flow_electrodes_and_the",
          "films_was_and_patients_the",
          "the_and_of_films_in",
          "the_of_in_and_to",
          "the_of_in_and_spin"
         ],
         "marker": {
          "color": "black"
         },
         "mode": "markers",
         "showlegend": false,
         "type": "scatter",
         "x": [
          0.5799604882863963,
          0.6896513547234201,
          0.5642313456190036,
          0.7165461601978557,
          0.4902310004563817,
          0.6161033418895119,
          0.5056290215975103,
          0.6770975869950588,
          0.604667487513386,
          0.7901270450728995,
          0.898816587078108,
          0.6768273538295987,
          1.019716013472258,
          1.0836126322100506,
          0.4914329588289903,
          0.5249029250209707,
          0.7415958814627774,
          0.5385743793112646,
          0.5919528256442635,
          0.6844829269382553,
          0.9021995206102487,
          0.5311124844658703,
          0.6081299557866818,
          0.6747581457945416,
          0.8025758201876059,
          0.8444507184656239,
          0.8906241590108677,
          0.9666472901303444,
          0.8986263478354567,
          0.9128485464209324,
          0.967506933763907,
          0.9963570409425485,
          1.2014472867647765,
          1.351794871038865
         ],
         "y": [
          -30,
          -33.75,
          -70,
          -62.5,
          -110,
          -102.5,
          -180,
          -183.75,
          -230,
          -220,
          -219.84375,
          -267.5,
          -223.7109375,
          -166.54296875,
          -320,
          -340,
          -326.25,
          -400,
          -392.5,
          -420,
          -401.875,
          -470,
          -462.5,
          -507.5,
          -540,
          -532.5,
          -514.375,
          -482.8125,
          -627.5,
          -613.75,
          -622.1875,
          -594.84375,
          -513.359375,
          -410.7421875
         ]
        }
       ],
       "layout": {
        "autosize": false,
        "height": 1175,
        "hoverlabel": {
         "bgcolor": "white",
         "font": {
          "family": "Rockwell",
          "size": 16
         }
        },
        "hovermode": "closest",
        "plot_bgcolor": "#ECEFF1",
        "showlegend": false,
        "template": {
         "data": {
          "bar": [
           {
            "error_x": {
             "color": "#2a3f5f"
            },
            "error_y": {
             "color": "#2a3f5f"
            },
            "marker": {
             "line": {
              "color": "white",
              "width": 0.5
             },
             "pattern": {
              "fillmode": "overlay",
              "size": 10,
              "solidity": 0.2
             }
            },
            "type": "bar"
           }
          ],
          "barpolar": [
           {
            "marker": {
             "line": {
              "color": "white",
              "width": 0.5
             },
             "pattern": {
              "fillmode": "overlay",
              "size": 10,
              "solidity": 0.2
             }
            },
            "type": "barpolar"
           }
          ],
          "carpet": [
           {
            "aaxis": {
             "endlinecolor": "#2a3f5f",
             "gridcolor": "#C8D4E3",
             "linecolor": "#C8D4E3",
             "minorgridcolor": "#C8D4E3",
             "startlinecolor": "#2a3f5f"
            },
            "baxis": {
             "endlinecolor": "#2a3f5f",
             "gridcolor": "#C8D4E3",
             "linecolor": "#C8D4E3",
             "minorgridcolor": "#C8D4E3",
             "startlinecolor": "#2a3f5f"
            },
            "type": "carpet"
           }
          ],
          "choropleth": [
           {
            "colorbar": {
             "outlinewidth": 0,
             "ticks": ""
            },
            "type": "choropleth"
           }
          ],
          "contour": [
           {
            "colorbar": {
             "outlinewidth": 0,
             "ticks": ""
            },
            "colorscale": [
             [
              0,
              "#0d0887"
             ],
             [
              0.1111111111111111,
              "#46039f"
             ],
             [
              0.2222222222222222,
              "#7201a8"
             ],
             [
              0.3333333333333333,
              "#9c179e"
             ],
             [
              0.4444444444444444,
              "#bd3786"
             ],
             [
              0.5555555555555556,
              "#d8576b"
             ],
             [
              0.6666666666666666,
              "#ed7953"
             ],
             [
              0.7777777777777778,
              "#fb9f3a"
             ],
             [
              0.8888888888888888,
              "#fdca26"
             ],
             [
              1,
              "#f0f921"
             ]
            ],
            "type": "contour"
           }
          ],
          "contourcarpet": [
           {
            "colorbar": {
             "outlinewidth": 0,
             "ticks": ""
            },
            "type": "contourcarpet"
           }
          ],
          "heatmap": [
           {
            "colorbar": {
             "outlinewidth": 0,
             "ticks": ""
            },
            "colorscale": [
             [
              0,
              "#0d0887"
             ],
             [
              0.1111111111111111,
              "#46039f"
             ],
             [
              0.2222222222222222,
              "#7201a8"
             ],
             [
              0.3333333333333333,
              "#9c179e"
             ],
             [
              0.4444444444444444,
              "#bd3786"
             ],
             [
              0.5555555555555556,
              "#d8576b"
             ],
             [
              0.6666666666666666,
              "#ed7953"
             ],
             [
              0.7777777777777778,
              "#fb9f3a"
             ],
             [
              0.8888888888888888,
              "#fdca26"
             ],
             [
              1,
              "#f0f921"
             ]
            ],
            "type": "heatmap"
           }
          ],
          "heatmapgl": [
           {
            "colorbar": {
             "outlinewidth": 0,
             "ticks": ""
            },
            "colorscale": [
             [
              0,
              "#0d0887"
             ],
             [
              0.1111111111111111,
              "#46039f"
             ],
             [
              0.2222222222222222,
              "#7201a8"
             ],
             [
              0.3333333333333333,
              "#9c179e"
             ],
             [
              0.4444444444444444,
              "#bd3786"
             ],
             [
              0.5555555555555556,
              "#d8576b"
             ],
             [
              0.6666666666666666,
              "#ed7953"
             ],
             [
              0.7777777777777778,
              "#fb9f3a"
             ],
             [
              0.8888888888888888,
              "#fdca26"
             ],
             [
              1,
              "#f0f921"
             ]
            ],
            "type": "heatmapgl"
           }
          ],
          "histogram": [
           {
            "marker": {
             "pattern": {
              "fillmode": "overlay",
              "size": 10,
              "solidity": 0.2
             }
            },
            "type": "histogram"
           }
          ],
          "histogram2d": [
           {
            "colorbar": {
             "outlinewidth": 0,
             "ticks": ""
            },
            "colorscale": [
             [
              0,
              "#0d0887"
             ],
             [
              0.1111111111111111,
              "#46039f"
             ],
             [
              0.2222222222222222,
              "#7201a8"
             ],
             [
              0.3333333333333333,
              "#9c179e"
             ],
             [
              0.4444444444444444,
              "#bd3786"
             ],
             [
              0.5555555555555556,
              "#d8576b"
             ],
             [
              0.6666666666666666,
              "#ed7953"
             ],
             [
              0.7777777777777778,
              "#fb9f3a"
             ],
             [
              0.8888888888888888,
              "#fdca26"
             ],
             [
              1,
              "#f0f921"
             ]
            ],
            "type": "histogram2d"
           }
          ],
          "histogram2dcontour": [
           {
            "colorbar": {
             "outlinewidth": 0,
             "ticks": ""
            },
            "colorscale": [
             [
              0,
              "#0d0887"
             ],
             [
              0.1111111111111111,
              "#46039f"
             ],
             [
              0.2222222222222222,
              "#7201a8"
             ],
             [
              0.3333333333333333,
              "#9c179e"
             ],
             [
              0.4444444444444444,
              "#bd3786"
             ],
             [
              0.5555555555555556,
              "#d8576b"
             ],
             [
              0.6666666666666666,
              "#ed7953"
             ],
             [
              0.7777777777777778,
              "#fb9f3a"
             ],
             [
              0.8888888888888888,
              "#fdca26"
             ],
             [
              1,
              "#f0f921"
             ]
            ],
            "type": "histogram2dcontour"
           }
          ],
          "mesh3d": [
           {
            "colorbar": {
             "outlinewidth": 0,
             "ticks": ""
            },
            "type": "mesh3d"
           }
          ],
          "parcoords": [
           {
            "line": {
             "colorbar": {
              "outlinewidth": 0,
              "ticks": ""
             }
            },
            "type": "parcoords"
           }
          ],
          "pie": [
           {
            "automargin": true,
            "type": "pie"
           }
          ],
          "scatter": [
           {
            "fillpattern": {
             "fillmode": "overlay",
             "size": 10,
             "solidity": 0.2
            },
            "type": "scatter"
           }
          ],
          "scatter3d": [
           {
            "line": {
             "colorbar": {
              "outlinewidth": 0,
              "ticks": ""
             }
            },
            "marker": {
             "colorbar": {
              "outlinewidth": 0,
              "ticks": ""
             }
            },
            "type": "scatter3d"
           }
          ],
          "scattercarpet": [
           {
            "marker": {
             "colorbar": {
              "outlinewidth": 0,
              "ticks": ""
             }
            },
            "type": "scattercarpet"
           }
          ],
          "scattergeo": [
           {
            "marker": {
             "colorbar": {
              "outlinewidth": 0,
              "ticks": ""
             }
            },
            "type": "scattergeo"
           }
          ],
          "scattergl": [
           {
            "marker": {
             "colorbar": {
              "outlinewidth": 0,
              "ticks": ""
             }
            },
            "type": "scattergl"
           }
          ],
          "scattermapbox": [
           {
            "marker": {
             "colorbar": {
              "outlinewidth": 0,
              "ticks": ""
             }
            },
            "type": "scattermapbox"
           }
          ],
          "scatterpolar": [
           {
            "marker": {
             "colorbar": {
              "outlinewidth": 0,
              "ticks": ""
             }
            },
            "type": "scatterpolar"
           }
          ],
          "scatterpolargl": [
           {
            "marker": {
             "colorbar": {
              "outlinewidth": 0,
              "ticks": ""
             }
            },
            "type": "scatterpolargl"
           }
          ],
          "scatterternary": [
           {
            "marker": {
             "colorbar": {
              "outlinewidth": 0,
              "ticks": ""
             }
            },
            "type": "scatterternary"
           }
          ],
          "surface": [
           {
            "colorbar": {
             "outlinewidth": 0,
             "ticks": ""
            },
            "colorscale": [
             [
              0,
              "#0d0887"
             ],
             [
              0.1111111111111111,
              "#46039f"
             ],
             [
              0.2222222222222222,
              "#7201a8"
             ],
             [
              0.3333333333333333,
              "#9c179e"
             ],
             [
              0.4444444444444444,
              "#bd3786"
             ],
             [
              0.5555555555555556,
              "#d8576b"
             ],
             [
              0.6666666666666666,
              "#ed7953"
             ],
             [
              0.7777777777777778,
              "#fb9f3a"
             ],
             [
              0.8888888888888888,
              "#fdca26"
             ],
             [
              1,
              "#f0f921"
             ]
            ],
            "type": "surface"
           }
          ],
          "table": [
           {
            "cells": {
             "fill": {
              "color": "#EBF0F8"
             },
             "line": {
              "color": "white"
             }
            },
            "header": {
             "fill": {
              "color": "#C8D4E3"
             },
             "line": {
              "color": "white"
             }
            },
            "type": "table"
           }
          ]
         },
         "layout": {
          "annotationdefaults": {
           "arrowcolor": "#2a3f5f",
           "arrowhead": 0,
           "arrowwidth": 1
          },
          "autotypenumbers": "strict",
          "coloraxis": {
           "colorbar": {
            "outlinewidth": 0,
            "ticks": ""
           }
          },
          "colorscale": {
           "diverging": [
            [
             0,
             "#8e0152"
            ],
            [
             0.1,
             "#c51b7d"
            ],
            [
             0.2,
             "#de77ae"
            ],
            [
             0.3,
             "#f1b6da"
            ],
            [
             0.4,
             "#fde0ef"
            ],
            [
             0.5,
             "#f7f7f7"
            ],
            [
             0.6,
             "#e6f5d0"
            ],
            [
             0.7,
             "#b8e186"
            ],
            [
             0.8,
             "#7fbc41"
            ],
            [
             0.9,
             "#4d9221"
            ],
            [
             1,
             "#276419"
            ]
           ],
           "sequential": [
            [
             0,
             "#0d0887"
            ],
            [
             0.1111111111111111,
             "#46039f"
            ],
            [
             0.2222222222222222,
             "#7201a8"
            ],
            [
             0.3333333333333333,
             "#9c179e"
            ],
            [
             0.4444444444444444,
             "#bd3786"
            ],
            [
             0.5555555555555556,
             "#d8576b"
            ],
            [
             0.6666666666666666,
             "#ed7953"
            ],
            [
             0.7777777777777778,
             "#fb9f3a"
            ],
            [
             0.8888888888888888,
             "#fdca26"
            ],
            [
             1,
             "#f0f921"
            ]
           ],
           "sequentialminus": [
            [
             0,
             "#0d0887"
            ],
            [
             0.1111111111111111,
             "#46039f"
            ],
            [
             0.2222222222222222,
             "#7201a8"
            ],
            [
             0.3333333333333333,
             "#9c179e"
            ],
            [
             0.4444444444444444,
             "#bd3786"
            ],
            [
             0.5555555555555556,
             "#d8576b"
            ],
            [
             0.6666666666666666,
             "#ed7953"
            ],
            [
             0.7777777777777778,
             "#fb9f3a"
            ],
            [
             0.8888888888888888,
             "#fdca26"
            ],
            [
             1,
             "#f0f921"
            ]
           ]
          },
          "colorway": [
           "#636efa",
           "#EF553B",
           "#00cc96",
           "#ab63fa",
           "#FFA15A",
           "#19d3f3",
           "#FF6692",
           "#B6E880",
           "#FF97FF",
           "#FECB52"
          ],
          "font": {
           "color": "#2a3f5f"
          },
          "geo": {
           "bgcolor": "white",
           "lakecolor": "white",
           "landcolor": "white",
           "showlakes": true,
           "showland": true,
           "subunitcolor": "#C8D4E3"
          },
          "hoverlabel": {
           "align": "left"
          },
          "hovermode": "closest",
          "mapbox": {
           "style": "light"
          },
          "paper_bgcolor": "white",
          "plot_bgcolor": "white",
          "polar": {
           "angularaxis": {
            "gridcolor": "#EBF0F8",
            "linecolor": "#EBF0F8",
            "ticks": ""
           },
           "bgcolor": "white",
           "radialaxis": {
            "gridcolor": "#EBF0F8",
            "linecolor": "#EBF0F8",
            "ticks": ""
           }
          },
          "scene": {
           "xaxis": {
            "backgroundcolor": "white",
            "gridcolor": "#DFE8F3",
            "gridwidth": 2,
            "linecolor": "#EBF0F8",
            "showbackground": true,
            "ticks": "",
            "zerolinecolor": "#EBF0F8"
           },
           "yaxis": {
            "backgroundcolor": "white",
            "gridcolor": "#DFE8F3",
            "gridwidth": 2,
            "linecolor": "#EBF0F8",
            "showbackground": true,
            "ticks": "",
            "zerolinecolor": "#EBF0F8"
           },
           "zaxis": {
            "backgroundcolor": "white",
            "gridcolor": "#DFE8F3",
            "gridwidth": 2,
            "linecolor": "#EBF0F8",
            "showbackground": true,
            "ticks": "",
            "zerolinecolor": "#EBF0F8"
           }
          },
          "shapedefaults": {
           "line": {
            "color": "#2a3f5f"
           }
          },
          "ternary": {
           "aaxis": {
            "gridcolor": "#DFE8F3",
            "linecolor": "#A2B1C6",
            "ticks": ""
           },
           "baxis": {
            "gridcolor": "#DFE8F3",
            "linecolor": "#A2B1C6",
            "ticks": ""
           },
           "bgcolor": "white",
           "caxis": {
            "gridcolor": "#DFE8F3",
            "linecolor": "#A2B1C6",
            "ticks": ""
           }
          },
          "title": {
           "x": 0.05
          },
          "xaxis": {
           "automargin": true,
           "gridcolor": "#EBF0F8",
           "linecolor": "#EBF0F8",
           "ticks": "",
           "title": {
            "standoff": 15
           },
           "zerolinecolor": "#EBF0F8",
           "zerolinewidth": 2
          },
          "yaxis": {
           "automargin": true,
           "gridcolor": "#EBF0F8",
           "linecolor": "#EBF0F8",
           "ticks": "",
           "title": {
            "standoff": 15
           },
           "zerolinecolor": "#EBF0F8",
           "zerolinewidth": 2
          }
         }
        },
        "title": {
         "font": {
          "color": "Black",
          "size": 22
         },
         "text": "<b>Hierarchical Clustering</b>",
         "x": 0.5,
         "xanchor": "center",
         "yanchor": "top"
        },
        "width": 1000,
        "xaxis": {
         "mirror": "allticks",
         "rangemode": "tozero",
         "showgrid": false,
         "showline": true,
         "showticklabels": true,
         "ticks": "outside",
         "type": "linear",
         "zeroline": false
        },
        "yaxis": {
         "mirror": "allticks",
         "range": [
          -650,
          0
         ],
         "rangemode": "tozero",
         "showgrid": false,
         "showline": true,
         "showticklabels": true,
         "tickmode": "array",
         "ticks": "outside",
         "ticktext": [
          "17_codes_error_correction",
          "38_performance_transmon_gate",
          "4_gate_cavity_atoms",
          "35_gate_qubit_distortions",
          "55_qubits_operations_promis...",
          "48_toffoli_gate_depth",
          "40_gates_clifford_gate",
          "64_unitary_gf_gates",
          "29_sets_polynomial_invariants",
          "30_states_ghz_pure",
          "18_states_entanglement_symm...",
          "46_entanglement_subspaces_m...",
          "57_geometric_mixed_quantal",
          "54_discord_correlation_quan...",
          "51_correlations_markovian_c...",
          "26_bell_inequality_inequali...",
          "16_protocol_key_secret",
          "6_teleportation_entangled_s...",
          "41_states_state_protocol",
          "19_measurement_program_quan...",
          "22_algorithm_simulation_qua...",
          "1_quantum_learning_computers",
          "43_entanglement_enz_quantum",
          "49_entanglement_energetic_s...",
          "62_cloning_covariant_machine",
          "21_polarization_photon_enta...",
          "12_light_photon_photons",
          "60_photons_conversion_fiber",
          "23_sic_silicon_4h",
          "5_diamond_nv_vacancy",
          "27_donor_si_silicon",
          "56_nuclear_si_donor",
          "24_spin_nuclear_spins",
          "7_dots_dot_spin",
          "32_spin_electric_orbit",
          "37_abelian_hall_filling",
          "0_topological_majorana_supe...",
          "14_hamiltonian_gauge_hamilt...",
          "13_model_spin_kitaev",
          "20_spin_chain_transfer",
          "11_thermal_entanglement_hei...",
          "61_environment_dynamics_qubit",
          "44_pt_symmetric_symmetry",
          "33_josephson_junctions_junc...",
          "39_frequency_dielectric_set",
          "9_noise_decoherence_decoupl...",
          "36_flux_superconducting_qubit",
          "15_superconducting_qubits_q...",
          "3_stars_ray_star",
          "8_magnetic_resonance_temper...",
          "2_laser_ion_the",
          "52_raman_laser_stimulated",
          "63_lzs_zener_landau",
          "47_recombination_puffing_he",
          "45_cat_schrödinger_states",
          "42_yang_baxter_functionals",
          "10_should_eq_paper",
          "59_segmented_mirror_aberrat...",
          "31_patients_doc_awareness",
          "53_transistors_drain_organic",
          "34_films_zno_film",
          "25_viscosity_flow_electrodes",
          "50_heat_foams_gas",
          "28_cells_quorum_luminescence",
          "58_recrystallization_niobiu..."
         ],
         "tickvals": [
          -5,
          -15,
          -25,
          -35,
          -45,
          -55,
          -65,
          -75,
          -85,
          -95,
          -105,
          -115,
          -125,
          -135,
          -145,
          -155,
          -165,
          -175,
          -185,
          -195,
          -205,
          -215,
          -225,
          -235,
          -245,
          -255,
          -265,
          -275,
          -285,
          -295,
          -305,
          -315,
          -325,
          -335,
          -345,
          -355,
          -365,
          -375,
          -385,
          -395,
          -405,
          -415,
          -425,
          -435,
          -445,
          -455,
          -465,
          -475,
          -485,
          -495,
          -505,
          -515,
          -525,
          -535,
          -545,
          -555,
          -565,
          -575,
          -585,
          -595,
          -605,
          -615,
          -625,
          -635,
          -645
         ],
         "type": "linear",
         "zeroline": false
        }
       }
      }
     },
     "metadata": {},
     "output_type": "display_data"
    }
   ],
   "source": [
    "hierarchical_topics = topic_model.hierarchical_topics(docs)\n",
    "topic_model.visualize_hierarchy(hierarchical_topics=hierarchical_topics)"
   ]
  },
  {
   "cell_type": "markdown",
   "metadata": {},
   "source": [
    "# 合并主题"
   ]
  },
  {
   "cell_type": "code",
   "execution_count": 6,
   "metadata": {},
   "outputs": [
    {
     "data": {
      "text/html": [
       "<div>\n",
       "<style scoped>\n",
       "    .dataframe tbody tr th:only-of-type {\n",
       "        vertical-align: middle;\n",
       "    }\n",
       "\n",
       "    .dataframe tbody tr th {\n",
       "        vertical-align: top;\n",
       "    }\n",
       "\n",
       "    .dataframe thead th {\n",
       "        text-align: right;\n",
       "    }\n",
       "</style>\n",
       "<table border=\"1\" class=\"dataframe\">\n",
       "  <thead>\n",
       "    <tr style=\"text-align: right;\">\n",
       "      <th></th>\n",
       "      <th>Topic</th>\n",
       "      <th>Count</th>\n",
       "      <th>Name</th>\n",
       "      <th>Representation</th>\n",
       "      <th>Representative_Docs</th>\n",
       "    </tr>\n",
       "  </thead>\n",
       "  <tbody>\n",
       "    <tr>\n",
       "      <th>0</th>\n",
       "      <td>-1</td>\n",
       "      <td>335</td>\n",
       "      <td>-1_景区_河南_城市_中国</td>\n",
       "      <td>[景区, 河南, 城市, 中国, 游客, 活动, 洛阳市, 博物馆, 遗址, 发展]</td>\n",
       "      <td>[河南 多家 景区 陆续 发布 开园 公告 台风 杜苏芮 强度 逐渐 减弱 河南 景区 陆续...</td>\n",
       "    </tr>\n",
       "    <tr>\n",
       "      <th>1</th>\n",
       "      <td>0</td>\n",
       "      <td>244</td>\n",
       "      <td>0_河南_旅行_历史_中国</td>\n",
       "      <td>[河南, 旅行, 历史, 中国, 景区, 地方, 古城, 位于, 泉州, 郑州]</td>\n",
       "      <td>[文旅 河南 Hello 世界 外国 嘉宾 河南 印象 河南 历史 文化 圈粉 无数 日本 ...</td>\n",
       "    </tr>\n",
       "    <tr>\n",
       "      <th>2</th>\n",
       "      <td>1</td>\n",
       "      <td>205</td>\n",
       "      <td>1_景区_游客_郑州_旅客</td>\n",
       "      <td>[景区, 游客, 郑州, 旅客, 活动, 门票, 年票, 高速, 假期, 时间]</td>\n",
       "      <td>[洛阳 热门 栾川县 八大 景区 洛阳 市民 门票 第七个 中国 旅游 栾川县 八大 景区 ...</td>\n",
       "    </tr>\n",
       "    <tr>\n",
       "      <th>3</th>\n",
       "      <td>2</td>\n",
       "      <td>154</td>\n",
       "      <td>2_建设_发展_项目_河南</td>\n",
       "      <td>[建设, 发展, 项目, 河南, 博物馆, 国家, 工作, 文旅, 洛阳市, 城市]</td>\n",
       "      <td>[行走 河南 读懂 中国 关注 全省 文旅文创 发展 大会 二十大 报告 指出 坚持 以文塑...</td>\n",
       "    </tr>\n",
       "    <tr>\n",
       "      <th>4</th>\n",
       "      <td>3</td>\n",
       "      <td>62</td>\n",
       "      <td>3_中国_龙门石窟_石窟_艺术</td>\n",
       "      <td>[中国, 龙门石窟, 石窟, 艺术, 世界, 文化遗产, 少林寺, 朝代, 造像, 位于]</td>\n",
       "      <td>[洛阳 周边游 龙门石窟 中国 石刻 艺术 宝库 现为 世界 文化遗产 全国 重点 文物保护...</td>\n",
       "    </tr>\n",
       "  </tbody>\n",
       "</table>\n",
       "</div>"
      ],
      "text/plain": [
       "   Topic  Count             Name  \\\n",
       "0     -1    335   -1_景区_河南_城市_中国   \n",
       "1      0    244    0_河南_旅行_历史_中国   \n",
       "2      1    205    1_景区_游客_郑州_旅客   \n",
       "3      2    154    2_建设_发展_项目_河南   \n",
       "4      3     62  3_中国_龙门石窟_石窟_艺术   \n",
       "\n",
       "                                  Representation  \\\n",
       "0     [景区, 河南, 城市, 中国, 游客, 活动, 洛阳市, 博物馆, 遗址, 发展]   \n",
       "1       [河南, 旅行, 历史, 中国, 景区, 地方, 古城, 位于, 泉州, 郑州]   \n",
       "2       [景区, 游客, 郑州, 旅客, 活动, 门票, 年票, 高速, 假期, 时间]   \n",
       "3     [建设, 发展, 项目, 河南, 博物馆, 国家, 工作, 文旅, 洛阳市, 城市]   \n",
       "4  [中国, 龙门石窟, 石窟, 艺术, 世界, 文化遗产, 少林寺, 朝代, 造像, 位于]   \n",
       "\n",
       "                                 Representative_Docs  \n",
       "0  [河南 多家 景区 陆续 发布 开园 公告 台风 杜苏芮 强度 逐渐 减弱 河南 景区 陆续...  \n",
       "1  [文旅 河南 Hello 世界 外国 嘉宾 河南 印象 河南 历史 文化 圈粉 无数 日本 ...  \n",
       "2  [洛阳 热门 栾川县 八大 景区 洛阳 市民 门票 第七个 中国 旅游 栾川县 八大 景区 ...  \n",
       "3  [行走 河南 读懂 中国 关注 全省 文旅文创 发展 大会 二十大 报告 指出 坚持 以文塑...  \n",
       "4  [洛阳 周边游 龙门石窟 中国 石刻 艺术 宝库 现为 世界 文化遗产 全国 重点 文物保护...  "
      ]
     },
     "execution_count": 6,
     "metadata": {},
     "output_type": "execute_result"
    }
   ],
   "source": [
    "topic_model.merge_topics(docs, [\n",
    "  [19, 2],\n",
    "  [9, 6, 1, 12, 20, 5, 15, 18],\n",
    "  [11, 16, 4, 10, 7],\n",
    "  [17, 13, 0, 3, 8, 14]\n",
    "])\n",
    "\n",
    "topic_info = topic_model.get_topic_info()\n",
    "topic_info"
   ]
  },
  {
   "cell_type": "markdown",
   "metadata": {},
   "source": [
    "# 动态主题模型"
   ]
  },
  {
   "cell_type": "code",
   "execution_count": 7,
   "metadata": {},
   "outputs": [
    {
     "name": "stdout",
     "output_type": "stream",
     "text": [
      "2714 [2024, 2006, 2025, 2017, 2008, 2004, 2011, 2001, 1998, 2004]\n"
     ]
    }
   ],
   "source": [
    "# 读取时间戳\n",
    "with open('../../data/时间.txt', \"r\", encoding='utf-8') as file:\n",
    "    lines = file.readlines()\n",
    "    timestamps = [int(line.strip()) for line in lines]\n",
    "print(len(timestamps), timestamps[:10])"
   ]
  },
  {
   "cell_type": "code",
   "execution_count": 8,
   "metadata": {},
   "outputs": [
    {
     "data": {
      "application/vnd.plotly.v1+json": {
       "config": {
        "plotlyServerURL": "https://plot.ly"
       },
       "data": [
        {
         "hoverinfo": "text",
         "hovertext": [
          "<b>Topic 0</b><br>Words: superconductors, topological, mzms, majorana, vortices",
          "<b>Topic 0</b><br>Words: majorana, topological, reversal, superconductor, surface",
          "<b>Topic 0</b><br>Words: superconductivity, topological, mbs, qh, majorana",
          "<b>Topic 0</b><br>Words: topological, majorana, superconductivity, fermions, superconductors",
          "<b>Topic 0</b><br>Words: topological, wire, subgap, majorana, superconducting",
          "<b>Topic 0</b><br>Words: nematic, phases, majorana, fermions, cores",
          "<b>Topic 0</b><br>Words: majorana, trsb, topological, fermion, loss",
          "<b>Topic 0</b><br>Words: sb, te, topological, gete, soliton",
          "<b>Topic 0</b><br>Words: topological, majorana, reversal, surface, se",
          "<b>Topic 0</b><br>Words: superconductor, ferromagnet, topological, majorana, sfifs",
          "<b>Topic 0</b><br>Words: topological, majorana, fermions, superconductivity, dirac",
          "<b>Topic 0</b><br>Words: topological, surface, mzms, majorana, metallic",
          "<b>Topic 0</b><br>Words: topological, hybridized, gd, superconductivity, majorana",
          "<b>Topic 0</b><br>Words: tis, proximity, topological, superconductor, insulator",
          "<b>Topic 0</b><br>Words: srpt, ysr, impurities, identified, gap",
          "<b>Topic 0</b><br>Words: subgap, majorana, superconductors, topological, states",
          "<b>Topic 0</b><br>Words: superconductivity, triplet, topological, bi2212, majorana",
          "<b>Topic 0</b><br>Words: topological, fm, superconductivity, pairing, majorana",
          "<b>Topic 0</b><br>Words: topological, insulators, iii, strain, semiconductors",
          "<b>Topic 0</b><br>Words: majorana, topological, mzm, zero, superconductivity",
          "<b>Topic 0</b><br>Words: topological, tsss, superconductivity, semimetal, superconducting",
          "<b>Topic 0</b><br>Words: kink, berkovits, bps, brane, ruthenate",
          "<b>Topic 0</b><br>Words: bi, te, pressure, topological, nominal",
          "<b>Topic 0</b><br>Words: superconductor, majorana, topological, unpaired, constitutes",
          "<b>Topic 0</b><br>Words: majorana, zero, co, topological, kagome",
          "<b>Topic 0</b><br>Words: topological, si, majorana, superlattice, superconductivity",
          "<b>Topic 0</b><br>Words: topological, surface, majorana, superconductor, superconductivity",
          "<b>Topic 0</b><br>Words: majorana, topological, zero, superconductor, vortex",
          "<b>Topic 0</b><br>Words: ip, topological, superfluid, sc, wave"
         ],
         "marker": {
          "color": "#E69F00"
         },
         "mode": "lines",
         "name": "0_topological_majorana_superconductivity...",
         "type": "scatter",
         "x": [
          1997,
          1998,
          1999,
          2000,
          2001,
          2002,
          2003,
          2004,
          2005,
          2006,
          2007,
          2008,
          2009,
          2010,
          2011,
          2012,
          2013,
          2014,
          2015,
          2016,
          2017,
          2018,
          2019,
          2020,
          2021,
          2022,
          2023,
          2024,
          2025
         ],
         "y": [
          2,
          5,
          4,
          4,
          5,
          3,
          4,
          2,
          6,
          3,
          4,
          4,
          2,
          3,
          2,
          2,
          2,
          3,
          2,
          3,
          3,
          3,
          1,
          1,
          4,
          5,
          6,
          7,
          2
         ]
        },
        {
         "hoverinfo": "text",
         "hovertext": [
          "<b>Topic 1</b><br>Words: what, searched, world, question, search",
          "<b>Topic 1</b><br>Words: names, healthcare, naming, sustainability, street",
          "<b>Topic 1</b><br>Words: problems, citizen, game, solve, research",
          "<b>Topic 1</b><br>Words: learning, algorithms, machine, computers, mbqc",
          "<b>Topic 1</b><br>Words: mobile, web, traffic, progress, network",
          "<b>Topic 1</b><br>Words: toxicity, compounds, research, discernible, intention",
          "<b>Topic 1</b><br>Words: classical, computers, quantum, goal, technique",
          "<b>Topic 1</b><br>Words: domain, research, discipline, undergone, henceforth",
          "<b>Topic 1</b><br>Words: validation, day, grover, classification, help",
          "<b>Topic 1</b><br>Words: learning, quantum, machine, research, cryptography",
          "<b>Topic 1</b><br>Words: text, statements, cgan, experimentally, accessible",
          "<b>Topic 1</b><br>Words: once, running, depth, limited, fed",
          "<b>Topic 1</b><br>Words: optimization, adiabatic, simulates, instances, insight",
          "<b>Topic 1</b><br>Words: word, meanings, disambiguation, senses, wsd",
          "<b>Topic 1</b><br>Words: heterogeneous, algorithm, age, performance, problem",
          "<b>Topic 1</b><br>Words: neuromorphic, inspired, approaches, neural, propertie",
          "<b>Topic 1</b><br>Words: validation, classification, cross, performance, portions",
          "<b>Topic 1</b><br>Words: supremacy, solving, scalability, computing, path",
          "<b>Topic 1</b><br>Words: factors, promotive, health, youth, you",
          "<b>Topic 1</b><br>Words: quantum, sampling, tasks, classical, major",
          "<b>Topic 1</b><br>Words: health, elderly, status, rural, 2015",
          "<b>Topic 1</b><br>Words: qc, ai, pmqc, hqdnn, cnn",
          "<b>Topic 1</b><br>Words: learning, iot, classical, hardware, task",
          "<b>Topic 1</b><br>Words: instructors, educational, mining, performance, problems",
          "<b>Topic 1</b><br>Words: search, schweiler, bru, learning, neural",
          "<b>Topic 1</b><br>Words: his, bolster, chinese, languageevolution, 158",
          "<b>Topic 1</b><br>Words: ai, computing, quantum, denoising, healthcare",
          "<b>Topic 1</b><br>Words: learning, science, curriculum, actions, traverse",
          "<b>Topic 1</b><br>Words: quantum, algorithm, database, open, wind"
         ],
         "marker": {
          "color": "#56B4E9"
         },
         "mode": "lines",
         "name": "1_quantum_learning_computers_computing",
         "type": "scatter",
         "x": [
          1997,
          1998,
          1999,
          2000,
          2001,
          2002,
          2003,
          2004,
          2005,
          2006,
          2007,
          2008,
          2009,
          2010,
          2011,
          2012,
          2013,
          2014,
          2015,
          2016,
          2017,
          2018,
          2019,
          2020,
          2021,
          2022,
          2023,
          2024,
          2025
         ],
         "y": [
          3,
          3,
          3,
          2,
          4,
          2,
          5,
          1,
          4,
          6,
          3,
          2,
          1,
          2,
          4,
          1,
          1,
          2,
          4,
          3,
          6,
          2,
          4,
          3,
          5,
          3,
          7,
          2,
          4
         ]
        },
        {
         "hoverinfo": "text",
         "hovertext": [
          "<b>Topic 2</b><br>Words: pr, ce, eedf, ionization, homogeneous",
          "<b>Topic 2</b><br>Words: microscope, head, helium, ion, quadrupole",
          "<b>Topic 2</b><br>Words: bandwidth, laser, doppler, 9d, nanobelt",
          "<b>Topic 2</b><br>Words: discharges, beta, eu, 3þ, neighboring",
          "<b>Topic 2</b><br>Words: sections, ion, cross, trap, watson",
          "<b>Topic 2</b><br>Words: heavy, lifetime, hitrap, decelerate, decelerating",
          "<b>Topic 2</b><br>Words: shock, wave, gas, front, ultraviolet",
          "<b>Topic 2</b><br>Words: file, fusion, european, project, development",
          "<b>Topic 2</b><br>Words: heat, energy, arc, dc, fly",
          "<b>Topic 2</b><br>Words: smbi, 2s, section, production, process",
          "<b>Topic 2</b><br>Words: ionization, discharge, ns, hv, circuit",
          "<b>Topic 2</b><br>Words: tokamak, ion, itb, cooling, species",
          "<b>Topic 2</b><br>Words: 2p, unfilled, l2, continua, 5p",
          "<b>Topic 2</b><br>Words: ion, laser, bandwidth, delayed, ker",
          "<b>Topic 2</b><br>Words: dioxane, spj, lefs, das, 55",
          "<b>Topic 2</b><br>Words: breakdown, laser, absorbance, molecular, threshold",
          "<b>Topic 2</b><br>Words: net, saturable, gvd, ionisation, radiation",
          "<b>Topic 2</b><br>Words: wavepacket, laser, liho, scarl, ho",
          "<b>Topic 2</b><br>Words: ion, purified, er, sqes, trapped",
          "<b>Topic 2</b><br>Words: laser, 373, nm, frequency, clock",
          "<b>Topic 2</b><br>Words: ion, laser, pulse, at, the",
          "<b>Topic 2</b><br>Words: laser, nl, 7d, ejected, atoms",
          "<b>Topic 2</b><br>Words: ms, quadrupole, excitation, 266, fractions",
          "<b>Topic 2</b><br>Words: transition, discharge, propagating, frequency, nm",
          "<b>Topic 2</b><br>Words: cooling, mse, trap, namr, cpb"
         ],
         "marker": {
          "color": "#009E73"
         },
         "mode": "lines",
         "name": "2_laser_ion_the_ions",
         "type": "scatter",
         "x": [
          1997,
          1998,
          1999,
          2000,
          2001,
          2003,
          2004,
          2005,
          2006,
          2007,
          2009,
          2011,
          2012,
          2013,
          2014,
          2015,
          2016,
          2018,
          2019,
          2020,
          2021,
          2022,
          2023,
          2024,
          2025
         ],
         "y": [
          5,
          4,
          3,
          2,
          5,
          2,
          2,
          1,
          3,
          3,
          4,
          3,
          1,
          7,
          4,
          4,
          3,
          3,
          6,
          4,
          7,
          3,
          1,
          4,
          3
         ]
        },
        {
         "hoverinfo": "text",
         "hovertext": [
          "<b>Topic 3</b><br>Words: stars, events, smbh, ray, debris",
          "<b>Topic 3</b><br>Words: stars, orbits, ray, gamma, velocities",
          "<b>Topic 3</b><br>Words: galaxy, cloud, clusters, smc, virgo",
          "<b>Topic 3</b><br>Words: stream, stars, rrab, orphan, dex",
          "<b>Topic 3</b><br>Words: iter, breaks, ir, jet, likely",
          "<b>Topic 3</b><br>Words: cm, fluctuations, minihalos, forest, cosmic",
          "<b>Topic 3</b><br>Words: galaxies, survey, stars, imaging, cluster",
          "<b>Topic 3</b><br>Words: ray, elliptical, coverage, broad, flexions",
          "<b>Topic 3</b><br>Words: dust, galaxies, stars, star, binary",
          "<b>Topic 3</b><br>Words: stars, asteroseismic, formation, periods, star",
          "<b>Topic 3</b><br>Words: stars, fe, tectonics, mean, borexino",
          "<b>Topic 3</b><br>Words: stars, galaxy, galaxies, star, eff",
          "<b>Topic 3</b><br>Words: energetic, yr, heliosheath, vlbi, v1",
          "<b>Topic 3</b><br>Words: stars, binary, changes, jupiter, smbh",
          "<b>Topic 3</b><br>Words: stars, halo, ray, abundance, sdss",
          "<b>Topic 3</b><br>Words: stream, stars, ebl, arrival, gamma",
          "<b>Topic 3</b><br>Words: galaxy, maser, outburst, lib, submillimeter",
          "<b>Topic 3</b><br>Words: neutrinos, sno, solar, detector, being",
          "<b>Topic 3</b><br>Words: subhalos, ray, stars, star, magnetars",
          "<b>Topic 3</b><br>Words: stream, stars, rrab, orphan, mc",
          "<b>Topic 3</b><br>Words: solar, emission, wind, stars, vo",
          "<b>Topic 3</b><br>Words: tidal, young, vlbi, galaxy, jet",
          "<b>Topic 3</b><br>Words: ray, star, ips, sensitivity, formation",
          "<b>Topic 3</b><br>Words: stellarator, rotational, current, atj, superimposing",
          "<b>Topic 3</b><br>Words: mwa, ska, radio, array, frequency",
          "<b>Topic 3</b><br>Words: planet, aur, brown, observations, dwarfs"
         ],
         "marker": {
          "color": "#F0E442"
         },
         "mode": "lines",
         "name": "3_stars_ray_star_galaxies",
         "type": "scatter",
         "x": [
          1998,
          1999,
          2000,
          2001,
          2004,
          2005,
          2006,
          2007,
          2008,
          2009,
          2010,
          2011,
          2012,
          2013,
          2014,
          2015,
          2016,
          2017,
          2018,
          2019,
          2020,
          2021,
          2022,
          2023,
          2024,
          2025
         ],
         "y": [
          4,
          5,
          2,
          2,
          2,
          1,
          4,
          5,
          3,
          4,
          3,
          3,
          3,
          3,
          4,
          7,
          3,
          1,
          5,
          3,
          3,
          2,
          2,
          1,
          1,
          4
         ]
        },
        {
         "hoverinfo": "text",
         "hovertext": [
          "<b>Topic 4</b><br>Words: cz, gate, grape, qber, imperfect",
          "<b>Topic 4</b><br>Words: gate, deterministic, passively, unnecessary, temporary",
          "<b>Topic 4</b><br>Words: cavity, entangling, rydberg, gate, qed",
          "<b>Topic 4</b><br>Words: cavity, atoms, cavities, qed, momenta",
          "<b>Topic 4</b><br>Words: cavity, qed, ion, gate, atom",
          "<b>Topic 4</b><br>Words: antiblockade, gate, cavity, rydberg, atoms",
          "<b>Topic 4</b><br>Words: emitter, ladder, gate, photon, cavities",
          "<b>Topic 4</b><br>Words: scheme, cavity, implement, atoms, conditional",
          "<b>Topic 4</b><br>Words: ions, presently, lamb, gate, lasers",
          "<b>Topic 4</b><br>Words: cavity, multimode, qed, 3d, acros",
          "<b>Topic 4</b><br>Words: gate, atom, fullerenes, vibrational, scheme",
          "<b>Topic 4</b><br>Words: gate, qutrits, qutrit, rydberg, lattice",
          "<b>Topic 4</b><br>Words: nondestructive, gate, swap, scheme, compact",
          "<b>Topic 4</b><br>Words: gate, success, phase, photon, qubit",
          "<b>Topic 4</b><br>Words: trap, detuned, sites, arrays, individual",
          "<b>Topic 4</b><br>Words: gate, rydberg, dipole, hold, cavity",
          "<b>Topic 4</b><br>Words: gate, cavity, variable, continuous, trapped",
          "<b>Topic 4</b><br>Words: gates, resilience, gate, limits, trapped",
          "<b>Topic 4</b><br>Words: already, efficiency, cavitywaveguide, coupling, 24",
          "<b>Topic 4</b><br>Words: gate, cavity, rydberg, carrier, ion",
          "<b>Topic 4</b><br>Words: ber, traps, cavity, atomic, cant",
          "<b>Topic 4</b><br>Words: cavity, tunable, speed, implemented, emissioninduced",
          "<b>Topic 4</b><br>Words: cavity, multimode, qed, passage, fractional",
          "<b>Topic 4</b><br>Words: mzi, isolator, bandwidth, path, length",
          "<b>Topic 4</b><br>Words: gate, cavity, exceed, utilising, jay",
          "<b>Topic 4</b><br>Words: body, motion, trapped, atomic, opera",
          "<b>Topic 4</b><br>Words: gate, ultrafast, rydberg, cavity, gates"
         ],
         "marker": {
          "color": "#D55E00"
         },
         "mode": "lines",
         "name": "4_gate_cavity_atoms_gates",
         "type": "scatter",
         "x": [
          1997,
          1998,
          1999,
          2000,
          2001,
          2003,
          2004,
          2005,
          2006,
          2007,
          2008,
          2009,
          2011,
          2012,
          2013,
          2014,
          2015,
          2016,
          2017,
          2018,
          2019,
          2020,
          2021,
          2022,
          2023,
          2024,
          2025
         ],
         "y": [
          4,
          1,
          3,
          4,
          6,
          4,
          5,
          2,
          1,
          1,
          3,
          2,
          2,
          2,
          1,
          3,
          5,
          2,
          1,
          5,
          2,
          3,
          2,
          1,
          1,
          1,
          4
         ]
        },
        {
         "hoverinfo": "text",
         "hovertext": [
          "<b>Topic 5</b><br>Words: diamond, centers, color, nv, room",
          "<b>Topic 5</b><br>Words: diamond, nuclear, nitrogen, p1, gyromagnetic",
          "<b>Topic 5</b><br>Words: initialization, chopped, nuclear, diamond, appr",
          "<b>Topic 5</b><br>Words: nitrogen, vacancy, concentration, nv, centers",
          "<b>Topic 5</b><br>Words: center, diamond, vacancy, phonon, siv",
          "<b>Topic 5</b><br>Words: lac, initio, ab, determine, diamond",
          "<b>Topic 5</b><br>Words: diamond, nitrogen, nv, vacancy, center",
          "<b>Topic 5</b><br>Words: nv, diamond, nitrogen, vacancy, center",
          "<b>Topic 5</b><br>Words: nv, vacancy, diamond, centers, center",
          "<b>Topic 5</b><br>Words: diamond, vacancy, nitron, photoelectric, nitrogen",
          "<b>Topic 5</b><br>Words: vacancy, diamond, defects, nitrogen, optical",
          "<b>Topic 5</b><br>Words: nv, nitrogen, vacancy, centers, diamond",
          "<b>Topic 5</b><br>Words: diamond, nv, siv, vacancy, centers",
          "<b>Topic 5</b><br>Words: diamond, nitrogen, nv, vacancy, spins",
          "<b>Topic 5</b><br>Words: centre, nv, resonan, diamond, nuclear",
          "<b>Topic 5</b><br>Words: diamond, nv, centers, vacancy, nitrogen",
          "<b>Topic 5</b><br>Words: nitrogen, vacancy, diamond, irradiation, charged",
          "<b>Topic 5</b><br>Words: diamond, nuclear, nv, hyperfine, nitrogen",
          "<b>Topic 5</b><br>Words: nv, center, nitrogen, photoluminescence, diamond",
          "<b>Topic 5</b><br>Words: nv, diamond, nitrogen, vacancy, center",
          "<b>Topic 5</b><br>Words: nv, diamond, vacancy, center, nitrogen",
          "<b>Topic 5</b><br>Words: invisible, diffi, cult, photoluminescent, imagine",
          "<b>Topic 5</b><br>Words: center, color, nuclear, centers, nv",
          "<b>Topic 5</b><br>Words: defects, center, nv, materials, diamond",
          "<b>Topic 5</b><br>Words: nv, centers, diamond, nitrogen, vacancy",
          "<b>Topic 5</b><br>Words: diamond, nv, center, centers, vacancy"
         ],
         "marker": {
          "color": "#0072B2"
         },
         "mode": "lines",
         "name": "5_diamond_nv_vacancy_nitrogen",
         "type": "scatter",
         "x": [
          1997,
          1998,
          1999,
          2000,
          2001,
          2002,
          2003,
          2004,
          2005,
          2006,
          2007,
          2008,
          2009,
          2010,
          2011,
          2012,
          2013,
          2014,
          2015,
          2016,
          2017,
          2019,
          2021,
          2022,
          2023,
          2024
         ],
         "y": [
          2,
          2,
          1,
          2,
          2,
          1,
          5,
          2,
          4,
          2,
          2,
          2,
          3,
          2,
          1,
          2,
          2,
          2,
          2,
          1,
          5,
          1,
          3,
          2,
          3,
          5
         ]
        },
        {
         "hoverinfo": "text",
         "hovertext": [
          "<b>Topic 6</b><br>Words: cpi, hierarchy, translates, state, systems",
          "<b>Topic 6</b><br>Words: irreducible, protocol, reduction, would, protocols",
          "<b>Topic 6</b><br>Words: teleportation, teleported, environment, direction, assists",
          "<b>Topic 6</b><br>Words: twisted, teleportation, cold, neutral, rydberg",
          "<b>Topic 6</b><br>Words: teleportation, scheme, bidirectional, two, improved",
          "<b>Topic 6</b><br>Words: sender, schemes, transformation, receivers, operator",
          "<b>Topic 6</b><br>Words: teleportation, scheme, entangled, channel, state",
          "<b>Topic 6</b><br>Words: remote, teleportation, particle, projective, entangled",
          "<b>Topic 6</b><br>Words: interconversion, tripartite, greenberger, zeilinger, horne",
          "<b>Topic 6</b><br>Words: generation, teleportation, sequential, scheme, multiqubit",
          "<b>Topic 6</b><br>Words: agents, grade, dissipatively, agent, state",
          "<b>Topic 6</b><br>Words: teleportation, distributing, entanglement, network, asymmetric",
          "<b>Topic 6</b><br>Words: mqsts, multi, scheme, measurements, faithfully",
          "<b>Topic 6</b><br>Words: teleportation, average, channel, initial, fidelity",
          "<b>Topic 6</b><br>Words: telecloning, reverse, afpct, aepct, wang",
          "<b>Topic 6</b><br>Words: peps, relay, teleportation, networks, accept",
          "<b>Topic 6</b><br>Words: preparation, entangled, su, remote, bloch",
          "<b>Topic 6</b><br>Words: packet, flip, stationary, wave, among",
          "<b>Topic 6</b><br>Words: teleportation, fidelity, channels, sender, receivers",
          "<b>Topic 6</b><br>Words: player, game, dilemma, wilkens, eisert",
          "<b>Topic 6</b><br>Words: arranged, ent, sender, 2s, required",
          "<b>Topic 6</b><br>Words: controller, multipartite, teleportation, entangled, users",
          "<b>Topic 6</b><br>Words: rydberg, resona, bell, entangle, atoms",
          "<b>Topic 6</b><br>Words: teleportation, entangled, unit, state, channel",
          "<b>Topic 6</b><br>Words: kitaev, rainbow, chain, was, bond",
          "<b>Topic 6</b><br>Words: schemes, state, scheme, channel, teleportation"
         ],
         "marker": {
          "color": "#CC79A7"
         },
         "mode": "lines",
         "name": "6_teleportation_entangled_scheme_state",
         "type": "scatter",
         "x": [
          1998,
          1999,
          2000,
          2001,
          2003,
          2004,
          2005,
          2006,
          2007,
          2008,
          2009,
          2010,
          2011,
          2012,
          2013,
          2014,
          2015,
          2016,
          2017,
          2018,
          2019,
          2020,
          2021,
          2022,
          2024,
          2025
         ],
         "y": [
          2,
          3,
          1,
          2,
          3,
          3,
          3,
          2,
          1,
          2,
          3,
          3,
          1,
          1,
          1,
          2,
          2,
          1,
          3,
          1,
          3,
          5,
          1,
          4,
          1,
          2
         ]
        },
        {
         "hoverinfo": "text",
         "hovertext": [
          "<b>Topic 7</b><br>Words: cavity, 2p, mhz, rate, charge",
          "<b>Topic 7</b><br>Words: sige, variability, germanium, dot, strained",
          "<b>Topic 7</b><br>Words: dots, sweeps, diamonds, singlet, hysteresis",
          "<b>Topic 7</b><br>Words: hole, dot, dots, exciton, molecule",
          "<b>Topic 7</b><br>Words: dots, spin, dot, quantum, resonator",
          "<b>Topic 7</b><br>Words: silicon, microwave, pho, single, spin",
          "<b>Topic 7</b><br>Words: accumulation, dot, spin, dots, readout",
          "<b>Topic 7</b><br>Words: ml, navigate, autotuning, timeconsuming, manually",
          "<b>Topic 7</b><br>Words: alkaline, leverage, ultranarrow, nuclear, atoms",
          "<b>Topic 7</b><br>Words: dots, electrons, ned, concentric, confi",
          "<b>Topic 7</b><br>Words: dots, valley, photonic, dot, biexciton",
          "<b>Topic 7</b><br>Words: dot, dots, dsets, nanosheet, device",
          "<b>Topic 7</b><br>Words: photonic, silicon, developed, ultralonglived, unlock",
          "<b>Topic 7</b><br>Words: rff, qds, atoms, long, dots",
          "<b>Topic 7</b><br>Words: dots, dot, tuning, defined, quantum",
          "<b>Topic 7</b><br>Words: tqd, qds, coulomb, defined, dot",
          "<b>Topic 7</b><br>Words: valley, dots, dot, triplet, spin",
          "<b>Topic 7</b><br>Words: dot, spin, dots, injection, quantum",
          "<b>Topic 7</b><br>Words: dots, dot, intervalley, charge, quantum",
          "<b>Topic 7</b><br>Words: splitting, biases, tocharge, extracts, si",
          "<b>Topic 7</b><br>Words: splitting, valley, si, sweeps, dot",
          "<b>Topic 7</b><br>Words: dot, link, spin, blueprint, pres",
          "<b>Topic 7</b><br>Words: dots, dot, array, spin, electron",
          "<b>Topic 7</b><br>Words: dots, qds, hole, dot, moleculelike",
          "<b>Topic 7</b><br>Words: spins, interactions, efficiently, electron, pairwise"
         ],
         "marker": {
          "color": "#E69F00"
         },
         "mode": "lines",
         "name": "7_dots_dot_spin_quantum",
         "type": "scatter",
         "x": [
          1997,
          1998,
          2000,
          2001,
          2002,
          2003,
          2004,
          2005,
          2006,
          2007,
          2008,
          2009,
          2010,
          2011,
          2013,
          2015,
          2016,
          2017,
          2018,
          2019,
          2020,
          2021,
          2022,
          2023,
          2024
         ],
         "y": [
          2,
          2,
          2,
          3,
          4,
          1,
          2,
          1,
          1,
          2,
          3,
          5,
          1,
          2,
          2,
          2,
          2,
          4,
          3,
          1,
          2,
          2,
          4,
          1,
          2
         ]
        },
        {
         "hoverinfo": "text",
         "hovertext": [
          "<b>Topic 8</b><br>Words: aq, ph, oer, koh, reaction",
          "<b>Topic 8</b><br>Words: smbamn, cathode, material, symmetrical, anode",
          "<b>Topic 8</b><br>Words: zr, cu, sbvn, ferroelectrics, 4d",
          "<b>Topic 8</b><br>Words: fe, phonon, triangles, multiplet, competition",
          "<b>Topic 8</b><br>Words: azimuthally, r1, institute, academy, ussr",
          "<b>Topic 8</b><br>Words: sound, anomalies, multiferroic, commensurate, zr",
          "<b>Topic 8</b><br>Words: magnetization, magnetic, type, resonances, rster",
          "<b>Topic 8</b><br>Words: hysteresis, pockels, bto, pfm, ss",
          "<b>Topic 8</b><br>Words: yb, atoms, length, srtio, quadrupol",
          "<b>Topic 8</b><br>Words: sublattice, bnoo, praseodymium, rydberg, magnetic",
          "<b>Topic 8</b><br>Words: trensal, muon, relaxation, lanthanide, triethylamine",
          "<b>Topic 8</b><br>Words: roper, 1440, main, dce, clas",
          "<b>Topic 8</b><br>Words: np, body, doping, ns, resonance",
          "<b>Topic 8</b><br>Words: absorption, resonance, temperature, electromagnetic, low",
          "<b>Topic 8</b><br>Words: rotational, unit, raman, spectrum, diatomic",
          "<b>Topic 8</b><br>Words: magnetic, temperature, nazn, rf, rabi",
          "<b>Topic 8</b><br>Words: rydberg, trimers, energies, trimer, rela",
          "<b>Topic 8</b><br>Words: 6h, nitif, rabi, resonance, 6h20",
          "<b>Topic 8</b><br>Words: relaxation, ci, nqr, proton, pulsed",
          "<b>Topic 8</b><br>Words: cu, vicinal, 001, fe3, lines",
          "<b>Topic 8</b><br>Words: relaxation, crystal, magnetic, magnetization, yb",
          "<b>Topic 8</b><br>Words: diffraction, fe, lanb, cucl, np",
          "<b>Topic 8</b><br>Words: deuterium, titanium, he, loaded, anomalous"
         ],
         "marker": {
          "color": "#56B4E9"
         },
         "mode": "lines",
         "name": "8_magnetic_resonance_temperature_the",
         "type": "scatter",
         "x": [
          1997,
          1998,
          1999,
          2001,
          2002,
          2003,
          2004,
          2005,
          2006,
          2007,
          2008,
          2009,
          2010,
          2011,
          2012,
          2013,
          2014,
          2016,
          2018,
          2020,
          2021,
          2024,
          2025
         ],
         "y": [
          1,
          1,
          2,
          1,
          1,
          2,
          3,
          4,
          2,
          4,
          1,
          1,
          2,
          2,
          1,
          3,
          1,
          2,
          2,
          2,
          5,
          6,
          1
         ]
        },
        {
         "hoverinfo": "text",
         "hovertext": [
          "<b>Topic 9</b><br>Words: noise, trajectories, chaotic, played, environments",
          "<b>Topic 9</b><br>Words: dd, noise, pulses, carr, supplementing",
          "<b>Topic 9</b><br>Words: noisy, nis, cryoscope, noise, channels",
          "<b>Topic 9</b><br>Words: noise, brain, eeg, rhythm, eyes",
          "<b>Topic 9</b><br>Words: noises, noise, decoupling, blocks, evolutionary",
          "<b>Topic 9</b><br>Words: frequency, low, noise, rel, comparable",
          "<b>Topic 9</b><br>Words: holonomic, controller, noise, updating, separation",
          "<b>Topic 9</b><br>Words: decoupling, noise, pulses, dynamical, decoherence",
          "<b>Topic 9</b><br>Words: noise, separatrix, echo, operation, resonance",
          "<b>Topic 9</b><br>Words: noise, dephasing, hypothesis, charges, josephson",
          "<b>Topic 9</b><br>Words: noise, chaotic, nonlinearity, decoherence, bubbly",
          "<b>Topic 9</b><br>Words: noise, spatiotemporal, markovian, chaotic, logical",
          "<b>Topic 9</b><br>Words: chord, space, representation, illust, translations",
          "<b>Topic 9</b><br>Words: anode, decoding, wedge, series, tetra",
          "<b>Topic 9</b><br>Words: precision, metrology, furt, revived, suffers",
          "<b>Topic 9</b><br>Words: qsd, game, noise, depolarizing, damping",
          "<b>Topic 9</b><br>Words: frequent, eliminate, actually, superradiant, zeno",
          "<b>Topic 9</b><br>Words: maps, completely, noise, positive, tailoring",
          "<b>Topic 9</b><br>Words: polychromatic, trains, noise, decoherence, profiles",
          "<b>Topic 9</b><br>Words: hermitian, stochastic, non, whic, qah",
          "<b>Topic 9</b><br>Words: damping, squeezed, stochastic, picture, vacuum",
          "<b>Topic 9</b><br>Words: echo, noise, pulses, delays, envelope",
          "<b>Topic 9</b><br>Words: noise, gaussian, fluctuators, decoupling, depending"
         ],
         "marker": {
          "color": "#009E73"
         },
         "mode": "lines",
         "name": "9_noise_decoherence_decoupling_the",
         "type": "scatter",
         "x": [
          1997,
          1998,
          1999,
          2000,
          2001,
          2003,
          2004,
          2005,
          2006,
          2008,
          2009,
          2010,
          2011,
          2012,
          2013,
          2015,
          2016,
          2017,
          2019,
          2020,
          2021,
          2022,
          2024
         ],
         "y": [
          1,
          1,
          3,
          2,
          4,
          1,
          4,
          2,
          3,
          2,
          4,
          5,
          1,
          2,
          1,
          2,
          1,
          1,
          3,
          1,
          1,
          3,
          2
         ]
        },
        {
         "hoverinfo": "text",
         "hovertext": [
          "<b>Topic 10</b><br>Words: should, population, typos, appendix, everywhere",
          "<b>Topic 10</b><br>Words: should, guessing, ϵoð1, paragraph, eve",
          "<b>Topic 10</b><br>Words: 4123, should, eq, paper, differential",
          "<b>Topic 10</b><br>Words: letter, our, in, should, eq",
          "<b>Topic 10</b><br>Words: cnot, inc, readers, nand, dec",
          "<b>Topic 10</b><br>Words: diagonal, ct, corrected, differential, effects",
          "<b>Topic 10</b><br>Words: remark, manuscript, theorems, figure, contains",
          "<b>Topic 10</b><br>Words: ഛ3, 2j, 9a, cdcc, remark",
          "<b>Topic 10</b><br>Words: equation, should, eq, paper, differential",
          "<b>Topic 10</b><br>Words: differential, equations, birkhoffian, integral, integration",
          "<b>Topic 10</b><br>Words: citation, ref, material, gave, acknowledge",
          "<b>Topic 10</b><br>Words: bkp, wronskian, solutions, equation, step",
          "<b>Topic 10</b><br>Words: inaccuracies, omissions, correct, article, would",
          "<b>Topic 10</b><br>Words: andrew, childs, pointing, thanks, out",
          "<b>Topic 10</b><br>Words: mistake, theorem, cannot, summation, 122",
          "<b>Topic 10</b><br>Words: pq, _a1, stgp, jv, np",
          "<b>Topic 10</b><br>Words: sourcery, mcgreevy, swingle, incorrect, steering",
          "<b>Topic 10</b><br>Words: 00, 11, formatting, figs, ffiffiffiffiffiffiffiffiffiffiffiffiffiffiffiffiffiffiffiffiffi",
          "<b>Topic 10</b><br>Words: hkl, 001, equals, 101, radius",
          "<b>Topic 10</b><br>Words: personal, your, corrected, commercial, fig",
          "<b>Topic 10</b><br>Words: integrand, afterwards, eqs, noted, eq",
          "<b>Topic 10</b><br>Words: mistakes, eq, corrections, logarithmic, found",
          "<b>Topic 10</b><br>Words: seevinck, fig, letter, recent, paper",
          "<b>Topic 10</b><br>Words: wavelets, gravimetric, summarizes, contained, concise"
         ],
         "marker": {
          "color": "#F0E442"
         },
         "mode": "lines",
         "name": "10_should_eq_paper_differential",
         "type": "scatter",
         "x": [
          1997,
          1998,
          1999,
          2000,
          2001,
          2002,
          2003,
          2004,
          2005,
          2006,
          2007,
          2008,
          2009,
          2010,
          2011,
          2012,
          2014,
          2015,
          2017,
          2018,
          2019,
          2020,
          2024,
          2025
         ],
         "y": [
          1,
          4,
          1,
          1,
          1,
          5,
          2,
          3,
          2,
          2,
          1,
          2,
          1,
          1,
          2,
          4,
          2,
          2,
          2,
          2,
          2,
          3,
          2,
          1
         ]
        },
        {
         "hoverinfo": "text",
         "hovertext": [
          "<b>Topic 11</b><br>Words: alternate, entanglement, field, xx, magnetic",
          "<b>Topic 11</b><br>Words: anisotropic, magnetic, field, entanglement, contrasts",
          "<b>Topic 11</b><br>Words: xy, thermal, dm, entanglement, model",
          "<b>Topic 11</b><br>Words: thermal, strongly, discover, cylinders, competition",
          "<b>Topic 11</b><br>Words: dm, anisotropic, heisenberg, concurrence, magnetic",
          "<b>Topic 11</b><br>Words: alternating, thermal, teo, tem, elevated",
          "<b>Topic 11</b><br>Words: thermal, conductance, entanglement, magnetic, heisenberg",
          "<b>Topic 11</b><br>Words: heat, transferred, efficiency, qhe, engine",
          "<b>Topic 11</b><br>Words: xx, end, models, chains, xyz",
          "<b>Topic 11</b><br>Words: thermal, 𝐷𝑧, xx, magnetic, entanglement",
          "<b>Topic 11</b><br>Words: equilibrium, fts, thermodynamics, theorems, thermodynamic",
          "<b>Topic 11</b><br>Words: escape, ta, lc, mqt, thermal",
          "<b>Topic 11</b><br>Words: parity, conditions, entangl, definite, ground",
          "<b>Topic 11</b><br>Words: steady, thermal, temperatures, couplings, strongly",
          "<b>Topic 11</b><br>Words: thermal, renormalization, impurity, dissipative, teleportation",
          "<b>Topic 11</b><br>Words: thermal, result, order, quantifiers, gas",
          "<b>Topic 11</b><br>Words: mid, concurrence, heisenberg, ground, chain",
          "<b>Topic 11</b><br>Words: thermal, null, heisenberg, entanglement, estimators",
          "<b>Topic 11</b><br>Words: inhomogeneous, thermal, entanglement, magnetic, independent",
          "<b>Topic 11</b><br>Words: ratios, output, b_c, otto, substance",
          "<b>Topic 11</b><br>Words: strut, transparent, concurrence, thermal, boundary",
          "<b>Topic 11</b><br>Words: pairwise, entanglement, critical, enhances, improves",
          "<b>Topic 11</b><br>Words: negativities, thermal, temper, partitions, others",
          "<b>Topic 11</b><br>Words: value, crosses, tends, ground, entanglement"
         ],
         "marker": {
          "color": "#D55E00"
         },
         "mode": "lines",
         "name": "11_thermal_entanglement_heisenberg_magne...",
         "type": "scatter",
         "x": [
          1997,
          2000,
          2001,
          2002,
          2003,
          2004,
          2005,
          2006,
          2007,
          2008,
          2010,
          2011,
          2012,
          2013,
          2014,
          2015,
          2016,
          2017,
          2018,
          2019,
          2021,
          2022,
          2023,
          2024
         ],
         "y": [
          2,
          1,
          3,
          1,
          2,
          1,
          3,
          1,
          2,
          3,
          2,
          2,
          1,
          2,
          2,
          2,
          2,
          4,
          2,
          1,
          2,
          1,
          2,
          1
         ]
        },
        {
         "hoverinfo": "text",
         "hovertext": [
          "<b>Topic 12</b><br>Words: photons, pho, bundle, multiphoton, vital",
          "<b>Topic 12</b><br>Words: light, modeling, film, absorbing, interference",
          "<b>Topic 12</b><br>Words: paths, broadband, amplitudes, photon, multi",
          "<b>Topic 12</b><br>Words: hubbard, photonic, sensing, light, guaranteeing",
          "<b>Topic 12</b><br>Words: nonlinearities, amplification, gain, weisskopf, dawn",
          "<b>Topic 12</b><br>Words: photon, optical, light, pumped, cavity",
          "<b>Topic 12</b><br>Words: devices, ultimately, guided, emitters, nano",
          "<b>Topic 12</b><br>Words: photons, design, became, lens, window",
          "<b>Topic 12</b><br>Words: stimulation, gap, optical, band, comparative",
          "<b>Topic 12</b><br>Words: photon, photons, challenging, role, irreversible",
          "<b>Topic 12</b><br>Words: devices, waveguide, light, subradiant, pnr",
          "<b>Topic 12</b><br>Words: photons, photonic, light, quantum, photon",
          "<b>Topic 12</b><br>Words: frequency, idts, transducers, interdigital, acousto",
          "<b>Topic 12</b><br>Words: gesn, µm, rib, wgpds, wgpd",
          "<b>Topic 12</b><br>Words: optical, multiphoton, applications, quantum, photonic",
          "<b>Topic 12</b><br>Words: nanobeam, fiber, alignment, photon, sources",
          "<b>Topic 12</b><br>Words: visible, light, control, technologies, bulky",
          "<b>Topic 12</b><br>Words: interference, optics, photonic, pursue, infancy",
          "<b>Topic 12</b><br>Words: mesoscopic, ups, made, optical, light",
          "<b>Topic 12</b><br>Words: yb, photonic, optical, photons, milling",
          "<b>Topic 12</b><br>Words: imaging, light, optical, photon, single",
          "<b>Topic 12</b><br>Words: light, structured, photon, characteristic, cavity",
          "<b>Topic 12</b><br>Words: optical, light, cw, opa, organic"
         ],
         "marker": {
          "color": "#0072B2"
         },
         "mode": "lines",
         "name": "12_light_photon_photons_optical",
         "type": "scatter",
         "x": [
          1997,
          1998,
          1999,
          2000,
          2001,
          2002,
          2004,
          2005,
          2006,
          2007,
          2008,
          2009,
          2011,
          2012,
          2013,
          2014,
          2015,
          2017,
          2018,
          2020,
          2023,
          2024,
          2025
         ],
         "y": [
          1,
          1,
          1,
          2,
          2,
          3,
          1,
          1,
          2,
          2,
          2,
          6,
          1,
          1,
          3,
          1,
          1,
          1,
          2,
          2,
          3,
          2,
          3
         ]
        },
        {
         "hoverinfo": "text",
         "hovertext": [
          "<b>Topic 13</b><br>Words: su, patterns, dynamics, structures, spectra",
          "<b>Topic 13</b><br>Words: cluster, intercluster, doublet, ex, placement",
          "<b>Topic 13</b><br>Words: angle, magnetoresistance, interlayer, curvature, berry",
          "<b>Topic 13</b><br>Words: aklt, iro, spin, na, lattice",
          "<b>Topic 13</b><br>Words: model, spin, cuteo, interladder, kitaev",
          "<b>Topic 13</b><br>Words: model, orbital, edges, moments, neighbor",
          "<b>Topic 13</b><br>Words: spin, unrealistic, 2g, multiorbital, expects",
          "<b>Topic 13</b><br>Words: cofe, mgal, haldane, spin, phase",
          "<b>Topic 13</b><br>Words: plaquettes, aej, model, dimensional, gauge",
          "<b>Topic 13</b><br>Words: square, kitaev, lattice, liquid, spin",
          "<b>Topic 13</b><br>Words: cycles, mathemat, mild, electric, restriction",
          "<b>Topic 13</b><br>Words: rvb, spinless, localization, lattice, cluster",
          "<b>Topic 13</b><br>Words: potts, kitaev, model, conserved, quantities",
          "<b>Topic 13</b><br>Words: picture, model, edges, geometrical, bloch",
          "<b>Topic 13</b><br>Words: paramagnet, vleck, litmf, dft, consuming",
          "<b>Topic 13</b><br>Words: along, introduced, repelling, lattice, attracting",
          "<b>Topic 13</b><br>Words: calcul, brillouin, rucl, sought, lacking",
          "<b>Topic 13</b><br>Words: manifold, curvature, evolution, speed, measurem",
          "<b>Topic 13</b><br>Words: spin, dangling, bond, liquid, lee",
          "<b>Topic 13</b><br>Words: honeycomb, kitaev, model, plaquette, octahedra",
          "<b>Topic 13</b><br>Words: rucl, kitaev, model, phase, proximate",
          "<b>Topic 13</b><br>Words: kitaev, honeycomb, spin, needle, emulated",
          "<b>Topic 13</b><br>Words: msls, binding, tight, building, dimensions"
         ],
         "marker": {
          "color": "#CC79A7"
         },
         "mode": "lines",
         "name": "13_model_spin_kitaev_lattice",
         "type": "scatter",
         "x": [
          1997,
          1998,
          1999,
          2000,
          2001,
          2003,
          2004,
          2007,
          2009,
          2011,
          2012,
          2013,
          2014,
          2015,
          2016,
          2017,
          2018,
          2019,
          2020,
          2022,
          2023,
          2024,
          2025
         ],
         "y": [
          2,
          1,
          1,
          2,
          4,
          2,
          2,
          2,
          1,
          2,
          1,
          3,
          2,
          2,
          1,
          1,
          1,
          1,
          4,
          2,
          2,
          2,
          2
         ]
        },
        {
         "hoverinfo": "text",
         "hovertext": [
          "<b>Topic 14</b><br>Words: hamiltonian, nitroge, system, learn, ten",
          "<b>Topic 14</b><br>Words: nolan, inverse, hamiltonian, problems, operator",
          "<b>Topic 14</b><br>Words: clh, graph, hamiltonian, qma, qpcp",
          "<b>Topic 14</b><br>Words: topological, schwinger, accessed, dynamical, quenches",
          "<b>Topic 14</b><br>Words: hamiltonian, brachistochrone, gapless, separately, evolution",
          "<b>Topic 14</b><br>Words: holonomy, hyperbolic, holographic, conformal, energetically",
          "<b>Topic 14</b><br>Words: lattice, 8n, gauge, theories, fermion",
          "<b>Topic 14</b><br>Words: hidden, 2n, symmetry, hamiltonian, soluble",
          "<b>Topic 14</b><br>Words: nucleon, 8π, hamiltonian, many, extreme",
          "<b>Topic 14</b><br>Words: gauge, fluxons, factors, anihilate, construct",
          "<b>Topic 14</b><br>Words: xxz, nondynamical, spinor, generators, dzyaloshinskii",
          "<b>Topic 14</b><br>Words: nucleon, hamiltonian, many, quantized, model",
          "<b>Topic 14</b><br>Words: lhe, hamiltonian, massive, scalar, mass",
          "<b>Topic 14</b><br>Words: manifold, hamiltonian, hamiltonians, body, allows",
          "<b>Topic 14</b><br>Words: hamiltonian, quantised, select, implement, 2d",
          "<b>Topic 14</b><br>Words: term, implementable, finds, right, eq",
          "<b>Topic 14</b><br>Words: spinor, gauge, theory, pure, unified",
          "<b>Topic 14</b><br>Words: pendulum, kapitza, periodic, kapitzonium, pivot",
          "<b>Topic 14</b><br>Words: mass, inertia, redefinition, particle, broglie",
          "<b>Topic 14</b><br>Words: graph, hamiltonians, dј, nondegenerate, ground",
          "<b>Topic 14</b><br>Words: particle, matrices, representable, arise, hamiltonians",
          "<b>Topic 14</b><br>Words: gauge, theories, hilbert, susskind, kogut",
          "<b>Topic 14</b><br>Words: unified, topology, supersymmetry, hosotani, adjoint"
         ],
         "marker": {
          "color": "#E69F00"
         },
         "mode": "lines",
         "name": "14_hamiltonian_gauge_hamiltonians_spinor",
         "type": "scatter",
         "x": [
          1997,
          1998,
          2000,
          2001,
          2004,
          2005,
          2006,
          2007,
          2008,
          2010,
          2011,
          2012,
          2013,
          2014,
          2015,
          2017,
          2018,
          2020,
          2021,
          2022,
          2023,
          2024,
          2025
         ],
         "y": [
          1,
          2,
          1,
          1,
          2,
          2,
          3,
          1,
          2,
          1,
          2,
          3,
          3,
          2,
          2,
          2,
          4,
          1,
          1,
          1,
          2,
          1,
          1
         ]
        },
        {
         "hoverinfo": "text",
         "hovertext": [
          "<b>Topic 15</b><br>Words: superconducting, cavity, valley, noise, tutorial",
          "<b>Topic 15</b><br>Words: joints, cqed, superconducting, cavities, quality",
          "<b>Topic 15</b><br>Words: lc, superconducting, device, afforded, flux",
          "<b>Topic 15</b><br>Words: slips, wires, superconduct, multiples, 4π",
          "<b>Topic 15</b><br>Words: superconducting, fidelity, dephasing, circuits, amplitude",
          "<b>Topic 15</b><br>Words: level, much, scheme, proposed, faster",
          "<b>Topic 15</b><br>Words: refocusing, proving, universality, freezing, clean",
          "<b>Topic 15</b><br>Words: superconducting, purcell, amplifier, filter, parametric",
          "<b>Topic 15</b><br>Words: aluminum, superconducting, resonators, fabrication, mm",
          "<b>Topic 15</b><br>Words: superconducting, resonators, nb, devices, series",
          "<b>Topic 15</b><br>Words: superconducting, cavity, sq, speed, three",
          "<b>Topic 15</b><br>Words: repulsion, static, freed, repels, qubits",
          "<b>Topic 15</b><br>Words: device, mon, 8þx, cru, superconductor",
          "<b>Topic 15</b><br>Words: resonators, superconducting, ultrastrong, oxides, coupler",
          "<b>Topic 15</b><br>Words: junction, superconducting, layout, incorporates, flexibility",
          "<b>Topic 15</b><br>Words: sc, superconducting, qubits, bell, distance",
          "<b>Topic 15</b><br>Words: storage, ensemble, moreov, sequentially, charge",
          "<b>Topic 15</b><br>Words: loss, superinductor, superinductors, 4e, levelsystem",
          "<b>Topic 15</b><br>Words: scqubits, superconducting, 2φ, plots, options",
          "<b>Topic 15</b><br>Words: superconducting, mm, device, area, integrated",
          "<b>Topic 15</b><br>Words: lc, junction, graphene, dressed, qubits",
          "<b>Topic 15</b><br>Words: coupling, tunable, superconducting, qubit, cavity"
         ],
         "marker": {
          "color": "#56B4E9"
         },
         "mode": "lines",
         "name": "15_superconducting_qubits_qubit_device",
         "type": "scatter",
         "x": [
          1997,
          1998,
          2000,
          2002,
          2003,
          2004,
          2005,
          2007,
          2010,
          2012,
          2013,
          2014,
          2015,
          2016,
          2017,
          2018,
          2019,
          2020,
          2021,
          2023,
          2024,
          2025
         ],
         "y": [
          4,
          1,
          2,
          1,
          2,
          1,
          1,
          2,
          2,
          2,
          3,
          1,
          1,
          2,
          1,
          2,
          1,
          1,
          1,
          2,
          2,
          1
         ]
        },
        {
         "hoverinfo": "text",
         "hovertext": [
          "<b>Topic 16</b><br>Words: hbb, protocol, security, qss, cheating",
          "<b>Topic 16</b><br>Words: bob, alice, protocol, secret, inputs",
          "<b>Topic 16</b><br>Words: secret, sharing, parties, protocols, shares",
          "<b>Topic 16</b><br>Words: attack, against, security, key, 02537",
          "<b>Topic 16</b><br>Words: protocol, transmission, protocols, scenario, random",
          "<b>Topic 16</b><br>Words: protocol, bb84, qkd, surprising, could",
          "<b>Topic 16</b><br>Words: security, alice, message, bob, protocol",
          "<b>Topic 16</b><br>Words: secret, protocol, attacks, qkd, key",
          "<b>Topic 16</b><br>Words: protocol, security, transmission, qkd, encoding",
          "<b>Topic 16</b><br>Words: qkd, key, transmitter, distribution, integrates",
          "<b>Topic 16</b><br>Words: key, secret, honest, distilled, attack",
          "<b>Topic 16</b><br>Words: protocols, protocol, primitive, cryptography, classical",
          "<b>Topic 16</b><br>Words: partners, protocols, key, attack, protocol",
          "<b>Topic 16</b><br>Words: authentication, secure, direct, pad, qsdca",
          "<b>Topic 16</b><br>Words: key, ciphers, eavesdropping, secure, attacks",
          "<b>Topic 16</b><br>Words: bb84, key, users, correspondi, rate",
          "<b>Topic 16</b><br>Words: attack, secret, signature, sharing, protocols",
          "<b>Topic 16</b><br>Words: conjugate, bases, sent, basis, brassard",
          "<b>Topic 16</b><br>Words: protocol, particle, holds, parties, speciality",
          "<b>Topic 16</b><br>Words: protocol, parties, encryption, aes, arithmetic",
          "<b>Topic 16</b><br>Words: extending, bases, uncondition, cryptosystem, eavesdropper",
          "<b>Topic 16</b><br>Words: guo, zhang, li, eavesdropping, particular"
         ],
         "marker": {
          "color": "#009E73"
         },
         "mode": "lines",
         "name": "16_protocol_key_secret_protocols",
         "type": "scatter",
         "x": [
          1997,
          1998,
          1999,
          2000,
          2001,
          2003,
          2006,
          2008,
          2009,
          2010,
          2011,
          2012,
          2013,
          2015,
          2016,
          2018,
          2019,
          2020,
          2021,
          2022,
          2023,
          2025
         ],
         "y": [
          2,
          1,
          1,
          1,
          2,
          1,
          3,
          2,
          2,
          1,
          1,
          3,
          3,
          1,
          2,
          1,
          2,
          1,
          1,
          2,
          1,
          1
         ]
        },
        {
         "hoverinfo": "text",
         "hovertext": [
          "<b>Topic 17</b><br>Words: codes, error, bias, gkp, cx",
          "<b>Topic 17</b><br>Words: error, computations, metho, tolerated, concatenated",
          "<b>Topic 17</b><br>Words: composite, ore, ple, systematic, errors",
          "<b>Topic 17</b><br>Words: thought, widely, tolerant, correction, fault",
          "<b>Topic 17</b><br>Words: codes, qldpc, eaqec, skew, construction",
          "<b>Topic 17</b><br>Words: codes, qec, faulty, models, error",
          "<b>Topic 17</b><br>Words: procedure, recovery, ref, outlined, fortunately",
          "<b>Topic 17</b><br>Words: code, gkp, outer, error, correction",
          "<b>Topic 17</b><br>Words: boosts, plagued, errors, prospects, reduces",
          "<b>Topic 17</b><br>Words: error, code, logical, physical, honeycomb",
          "<b>Topic 17</b><br>Words: error, detectors, ͻ100, laflamme, 409",
          "<b>Topic 17</b><br>Words: unmeasured, rectifying, reset, midcircuit, error",
          "<b>Topic 17</b><br>Words: spectator, error, array, errors, invariably",
          "<b>Topic 17</b><br>Words: codes, error, physical, prohibitive, adopted",
          "<b>Topic 17</b><br>Words: error, encoded, correction, affected, qubit",
          "<b>Topic 17</b><br>Words: error, mitigation, correction, codes, yet",
          "<b>Topic 17</b><br>Words: codes, error, continuous, errors, tolerant",
          "<b>Topic 17</b><br>Words: codes, error, parallel, holographic, drift",
          "<b>Topic 17</b><br>Words: tolerant, fault, codes, error, gates",
          "<b>Topic 17</b><br>Words: codes, holographic, logical, parallel, decoder",
          "<b>Topic 17</b><br>Words: qscs, codes, synchronization, length, bch"
         ],
         "marker": {
          "color": "#F0E442"
         },
         "mode": "lines",
         "name": "17_codes_error_correction_code",
         "type": "scatter",
         "x": [
          1997,
          1998,
          1999,
          2000,
          2001,
          2002,
          2003,
          2004,
          2005,
          2006,
          2009,
          2011,
          2012,
          2013,
          2015,
          2016,
          2018,
          2020,
          2023,
          2024,
          2025
         ],
         "y": [
          2,
          1,
          1,
          1,
          2,
          2,
          1,
          1,
          1,
          2,
          1,
          1,
          1,
          2,
          2,
          2,
          2,
          4,
          2,
          2,
          1
         ]
        },
        {
         "hoverinfo": "text",
         "hovertext": [
          "<b>Topic 18</b><br>Words: classes, nу4, hϭc, 2ϫ2ϫn, states",
          "<b>Topic 18</b><br>Words: states, slocc, entanglement, ghz, distillability",
          "<b>Topic 18</b><br>Words: partitions, measure, states, entanglement, partial",
          "<b>Topic 18</b><br>Words: states, measure, positive, diagonal, entanglement",
          "<b>Topic 18</b><br>Words: ppt, states, symmetric, tura, affirmatively",
          "<b>Topic 18</b><br>Words: tangle, concurrence, states, negativity, family",
          "<b>Topic 18</b><br>Words: unit, nearest, product, highly, states",
          "<b>Topic 18</b><br>Words: transposes, rank, partial, separability, separable",
          "<b>Topic 18</b><br>Words: states, families, algebra, embraces, subalgebra",
          "<b>Topic 18</b><br>Words: zubairy, entangled, entanglement, hillery, index",
          "<b>Topic 18</b><br>Words: families, symmetric, slocc, diversity, playing",
          "<b>Topic 18</b><br>Words: ilo, symmetric, belong, discriminating, nonsymmetric",
          "<b>Topic 18</b><br>Words: sl, four, distributed, states, class",
          "<b>Topic 18</b><br>Words: symmetric, exists, separable, since, mixed",
          "<b>Topic 18</b><br>Words: states, separability, partial, vis, families",
          "<b>Topic 18</b><br>Words: combs, antilinear, automatically, formulas, sl",
          "<b>Topic 18</b><br>Words: points, states, combinations, lu, unitaries",
          "<b>Topic 18</b><br>Words: states, correspondingly, operators, group, tracing",
          "<b>Topic 18</b><br>Words: partite, symmetric, correlations, genuinely, no",
          "<b>Topic 18</b><br>Words: definition, argue, residual, stochastic, suitable",
          "<b>Topic 18</b><br>Words: ree, states, families, slocc, symmetric",
          "<b>Topic 18</b><br>Words: property, projecting, complementarity, conceivable, grouping"
         ],
         "marker": {
          "color": "#D55E00"
         },
         "mode": "lines",
         "name": "18_states_entanglement_symmetric_entangl...",
         "type": "scatter",
         "x": [
          1997,
          1998,
          2001,
          2002,
          2003,
          2004,
          2005,
          2006,
          2007,
          2008,
          2009,
          2014,
          2015,
          2016,
          2017,
          2018,
          2019,
          2020,
          2021,
          2022,
          2023,
          2024
         ],
         "y": [
          1,
          4,
          2,
          3,
          1,
          1,
          1,
          1,
          1,
          2,
          1,
          1,
          1,
          1,
          3,
          1,
          2,
          1,
          1,
          1,
          2,
          1
         ]
        },
        {
         "hoverinfo": "text",
         "hovertext": [
          "<b>Topic 19</b><br>Words: precision, strategies, approach, admissible, strate",
          "<b>Topic 19</b><br>Words: measurement, device, multimeter, quantum, probabilistic",
          "<b>Topic 19</b><br>Words: estimator, maximum, map, likelihood, tomography",
          "<b>Topic 19</b><br>Words: estimation, cramér, rao, uncertainty, measur",
          "<b>Topic 19</b><br>Words: evaluation, tomography, estimation, program, yy",
          "<b>Topic 19</b><br>Words: program, probabilities, inconclusive, multimeters, measurement",
          "<b>Topic 19</b><br>Words: physically, maps, implementable, positive, completely",
          "<b>Topic 19</b><br>Words: separable, bayesian, measurement, optimal, quantu",
          "<b>Topic 19</b><br>Words: gps, receivers, calibrating, positioning, benchmarks",
          "<b>Topic 19</b><br>Words: precisely, vice, finitely, versa, gödel",
          "<b>Topic 19</b><br>Words: correct, measurement, observables, theories, device",
          "<b>Topic 19</b><br>Words: programming, attainable, discriminating, optimality, algorithm",
          "<b>Topic 19</b><br>Words: measurement, tomography, protocol, statistical, est",
          "<b>Topic 19</b><br>Words: measuring, rules, reformulated, update, lüders",
          "<b>Topic 19</b><br>Words: verifier, prover, provers, blindness, requires",
          "<b>Topic 19</b><br>Words: rebit, waveguide, measurement, separability, probability",
          "<b>Topic 19</b><br>Words: program, equator, basis, discriminated, again"
         ],
         "marker": {
          "color": "#0072B2"
         },
         "mode": "lines",
         "name": "19_measurement_program_quantum_tomograph...",
         "type": "scatter",
         "x": [
          1997,
          1998,
          2001,
          2002,
          2003,
          2005,
          2007,
          2009,
          2010,
          2014,
          2015,
          2016,
          2017,
          2019,
          2021,
          2022,
          2025
         ],
         "y": [
          1,
          5,
          1,
          1,
          2,
          3,
          1,
          1,
          3,
          3,
          2,
          1,
          2,
          1,
          1,
          3,
          1
         ]
        },
        {
         "hoverinfo": "text",
         "hovertext": [
          "<b>Topic 20</b><br>Words: bag, false, gravity, kerr, vacuum",
          "<b>Topic 20</b><br>Words: jump, qsl, chain, maximum, driven",
          "<b>Topic 20</b><br>Words: boson, exact, spinhalf, ahead, within",
          "<b>Topic 20</b><br>Words: wire, transfer, spins, ends, coupling",
          "<b>Topic 20</b><br>Words: fermionic, bath, xy, chain, stochastic",
          "<b>Topic 20</b><br>Words: dm, interaction, points, markovianity, qslt",
          "<b>Topic 20</b><br>Words: tis, ago, quantum, exact, central",
          "<b>Topic 20</b><br>Words: stationary, reference, schrödinger, equation, method",
          "<b>Topic 20</b><br>Words: sudden, transition, prolong, happens, tr",
          "<b>Topic 20</b><br>Words: spin, solution, ghosh, suboh, remedies",
          "<b>Topic 20</b><br>Words: transfer, chain, fidelity, encoding, ne",
          "<b>Topic 20</b><br>Words: chain, spin, accordingly, motions, respective",
          "<b>Topic 20</b><br>Words: subsystem, holstein, timeevolution, primakoff, bath",
          "<b>Topic 20</b><br>Words: transformation, networks, regular, transfer, spin",
          "<b>Topic 20</b><br>Words: 219, phases, links, frustrated, past",
          "<b>Topic 20</b><br>Words: bath, central, qpt, spin, spins",
          "<b>Topic 20</b><br>Words: qst, bus, confirmed, perfect, registers",
          "<b>Topic 20</b><br>Words: cse, schrödinger, tensor, functional, equation",
          "<b>Topic 20</b><br>Words: disentanglement, spin, transfer, chain, copying"
         ],
         "marker": {
          "color": "#CC79A7"
         },
         "mode": "lines",
         "name": "20_spin_chain_transfer_bath",
         "type": "scatter",
         "x": [
          1998,
          2000,
          2001,
          2003,
          2004,
          2005,
          2006,
          2007,
          2008,
          2011,
          2012,
          2015,
          2017,
          2018,
          2020,
          2021,
          2022,
          2024,
          2025
         ],
         "y": [
          1,
          2,
          1,
          2,
          2,
          1,
          3,
          1,
          1,
          2,
          1,
          1,
          1,
          2,
          1,
          2,
          1,
          2,
          3
         ]
        },
        {
         "hoverinfo": "text",
         "hovertext": [
          "<b>Topic 21</b><br>Words: arrangements, perfect, path, anticorrelated, preengineered",
          "<b>Topic 21</b><br>Words: photon, perfect, polarization, three, entangled",
          "<b>Topic 21</b><br>Words: photons, photon, transmission, postselecting, oppositely",
          "<b>Topic 21</b><br>Words: four, photon, polarization, splitters, scheme",
          "<b>Topic 21</b><br>Words: molecules, polarization, spam, entangled, beam",
          "<b>Topic 21</b><br>Words: scheme, fuse, polarization, state, photon",
          "<b>Topic 21</b><br>Words: polarization, species, photon, entangled, contains",
          "<b>Topic 21</b><br>Words: polarization, propagation, photon, sieving, inhomogeneously",
          "<b>Topic 21</b><br>Words: atomic, photon, polarization, inferred, site",
          "<b>Topic 21</b><br>Words: efficiency, state, entangled, enabled, three",
          "<b>Topic 21</b><br>Words: polarization, matching, entangled, noncritically, photons",
          "<b>Topic 21</b><br>Words: photon, representative, state, entanglement, inequivalent",
          "<b>Topic 21</b><br>Words: idler, photon, atomic, polarization, signal",
          "<b>Topic 21</b><br>Words: four, persistency, differences, multiparticle, enabled",
          "<b>Topic 21</b><br>Words: polarization, photon, sender, probe, state",
          "<b>Topic 21</b><br>Words: polarizing, particle, analyzer, plates, conveniently"
         ],
         "marker": {
          "color": "#E69F00"
         },
         "mode": "lines",
         "name": "21_polarization_photon_entangled_state",
         "type": "scatter",
         "x": [
          1997,
          1999,
          2000,
          2001,
          2002,
          2003,
          2004,
          2005,
          2006,
          2009,
          2010,
          2011,
          2012,
          2014,
          2019,
          2024
         ],
         "y": [
          1,
          2,
          1,
          2,
          2,
          2,
          3,
          2,
          2,
          1,
          1,
          1,
          2,
          1,
          3,
          1
         ]
        },
        {
         "hoverinfo": "text",
         "hovertext": [
          "<b>Topic 22</b><br>Words: qls, motional, cooling, choices, protocols",
          "<b>Topic 22</b><br>Words: exponentially, nowadays, experiments, compressed, quantum",
          "<b>Topic 22</b><br>Words: preparations, thirty, postprocessing, thousand, repeat",
          "<b>Topic 22</b><br>Words: gain, algorithms, dynamical, reached, recurrence",
          "<b>Topic 22</b><br>Words: simulation, runtime, ignored, subsampling, preeminent",
          "<b>Topic 22</b><br>Words: wiring, progressing, functionalities, costs, up",
          "<b>Topic 22</b><br>Words: dðs, sparsification, simulators, randomized, algorithm",
          "<b>Topic 22</b><br>Words: algorithms, quantum, shor, ghz, simulation",
          "<b>Topic 22</b><br>Words: quantized, antisymmetrization, accommodate, complexities, descriptions",
          "<b>Topic 22</b><br>Words: algorithm, simulation, quantum, body, andré",
          "<b>Topic 22</b><br>Words: exponentially, quantum, processes, simulation, xy",
          "<b>Topic 22</b><br>Words: algorithm, slowest, neveu, gross, slight",
          "<b>Topic 22</b><br>Words: algorithm, simulation, computer, runtime, quantum",
          "<b>Topic 22</b><br>Words: runtime, simulating, preparation, anticipation, stateenergy"
         ],
         "marker": {
          "color": "#56B4E9"
         },
         "mode": "lines",
         "name": "22_algorithm_simulation_quantum_preparat...",
         "type": "scatter",
         "x": [
          1998,
          2000,
          2001,
          2005,
          2006,
          2007,
          2009,
          2010,
          2011,
          2014,
          2018,
          2019,
          2021,
          2023
         ],
         "y": [
          1,
          1,
          1,
          1,
          2,
          1,
          2,
          4,
          1,
          2,
          3,
          1,
          4,
          2
         ]
        },
        {
         "hoverinfo": "text",
         "hovertext": [
          "<b>Topic 23</b><br>Words: velocity, microstructures, growth, movement, wafer",
          "<b>Topic 23</b><br>Words: silicon, negatively, charged, vacancy, sic",
          "<b>Topic 23</b><br>Words: sic, divacancy, silicon, 3c, si",
          "<b>Topic 23</b><br>Words: sic, vacancy, silicon, 4h, defects",
          "<b>Topic 23</b><br>Words: sic, si, neutral, behaving, silicon",
          "<b>Topic 23</b><br>Words: sic, 4h, carbide, silicon, si",
          "<b>Topic 23</b><br>Words: sic, silicon, carbide, echo, optically",
          "<b>Topic 23</b><br>Words: silicon, vacancy, sic, precondition, carbide",
          "<b>Topic 23</b><br>Words: sic, v2, v1, 4h, optically",
          "<b>Topic 23</b><br>Words: defect, donor, critically, properties, exceeding",
          "<b>Topic 23</b><br>Words: sic, v2, v1, 4h, optically",
          "<b>Topic 23</b><br>Words: carbide, silicon, antisite, 4h, theory",
          "<b>Topic 23</b><br>Words: silicon, carbide, sic, 4h, maturity",
          "<b>Topic 23</b><br>Words: defect, sic, sensitivities, monovacancy, silicon",
          "<b>Topic 23</b><br>Words: sic, defects, 4h, silicon, carbide"
         ],
         "marker": {
          "color": "#009E73"
         },
         "mode": "lines",
         "name": "23_sic_silicon_4h_carbide",
         "type": "scatter",
         "x": [
          1997,
          1998,
          1999,
          2004,
          2005,
          2006,
          2013,
          2015,
          2016,
          2017,
          2018,
          2019,
          2020,
          2021,
          2022
         ],
         "y": [
          1,
          1,
          2,
          3,
          1,
          2,
          3,
          1,
          1,
          1,
          1,
          1,
          1,
          1,
          4
         ]
        },
        {
         "hoverinfo": "text",
         "hovertext": [
          "<b>Topic 24</b><br>Words: nuclear, spins, shift, photoexcited, spin",
          "<b>Topic 24</b><br>Words: hybrid, geometric, accumulate, crossings, manifest",
          "<b>Topic 24</b><br>Words: loaded, spin, excited, dot, loading",
          "<b>Topic 24</b><br>Words: nuclear, host, spins, spinbearing, spin",
          "<b>Topic 24</b><br>Words: occurs, resonances, parallel, superexchange, interchanged",
          "<b>Topic 24</b><br>Words: endohedral, affect, effect, register, spins",
          "<b>Topic 24</b><br>Words: dfs, arbitrary, nuclear, reversibly, unaffected",
          "<b>Topic 24</b><br>Words: anapole, almost, dipole, behavior, magne",
          "<b>Topic 24</b><br>Words: spin, ghz, raman, stimulated, electron",
          "<b>Topic 24</b><br>Words: interfaces, spins, inferring, impacts, mitigating",
          "<b>Topic 24</b><br>Words: spin, confi, fluctuating, electrons, coherence",
          "<b>Topic 24</b><br>Words: spin, nuclear, array, flip, 004",
          "<b>Topic 24</b><br>Words: transitions, nuclear, preparation, afford, circumvent",
          "<b>Topic 24</b><br>Words: spin, relaxation, millisecond, urgently, nanosecond",
          "<b>Topic 24</b><br>Words: nuclear, spins, diffusion, manip, spectral",
          "<b>Topic 24</b><br>Words: spin, electron, nuclear, spins, resonance",
          "<b>Topic 24</b><br>Words: spin, nuclear, spins, fluctuations, low",
          "<b>Topic 24</b><br>Words: fcu, xg, ns, spin, symmetrie",
          "<b>Topic 24</b><br>Words: nuclear, coherence, nmr, spin, detected"
         ],
         "marker": {
          "color": "#F0E442"
         },
         "mode": "lines",
         "name": "24_spin_nuclear_spins_electron",
         "type": "scatter",
         "x": [
          1997,
          1998,
          1999,
          2001,
          2003,
          2004,
          2005,
          2006,
          2008,
          2009,
          2010,
          2011,
          2012,
          2017,
          2020,
          2021,
          2022,
          2024,
          2025
         ],
         "y": [
          1,
          1,
          1,
          1,
          1,
          1,
          1,
          1,
          2,
          1,
          1,
          1,
          1,
          1,
          1,
          2,
          3,
          1,
          1
         ]
        },
        {
         "hoverinfo": "text",
         "hovertext": [
          "<b>Topic 25</b><br>Words: segment, coordinate, slope, along, schlieren",
          "<b>Topic 25</b><br>Words: microchip, electrodes, flow, size, particles",
          "<b>Topic 25</b><br>Words: viscosity, microchip, electrodes, flow, accuracy",
          "<b>Topic 25</b><br>Words: viscosity, accuracy, has, viscometers, ultrasonic",
          "<b>Topic 25</b><br>Words: viscosity, cotton, fabric, antimicrobial, accuracy",
          "<b>Topic 25</b><br>Words: microchip, electrodes, flow, coaxial, µm",
          "<b>Topic 25</b><br>Words: viscosity, accuracy, has, viscometers, ultrasonic",
          "<b>Topic 25</b><br>Words: transducer, emc, earthed, terminal, capacitance",
          "<b>Topic 25</b><br>Words: blade, flow, passage, endwall, visualization",
          "<b>Topic 25</b><br>Words: electrode, electrodes, ect, flow, combining",
          "<b>Topic 25</b><br>Words: viscosity, accuracy, has, ultrasonic, entirely",
          "<b>Topic 25</b><br>Words: drop, tensiotrace, tensiograph, microcomputer, microdensitometer"
         ],
         "marker": {
          "color": "#D55E00"
         },
         "mode": "lines",
         "name": "25_viscosity_flow_electrodes_accuracy",
         "type": "scatter",
         "x": [
          1997,
          2001,
          2002,
          2005,
          2006,
          2009,
          2010,
          2011,
          2016,
          2018,
          2024,
          2025
         ],
         "y": [
          1,
          1,
          2,
          1,
          2,
          4,
          1,
          2,
          1,
          2,
          3,
          3
         ]
        },
        {
         "hoverinfo": "text",
         "hovertext": [
          "<b>Topic 26</b><br>Words: bell, inequality, inequalities, violation, capable",
          "<b>Topic 26</b><br>Words: bell, chsh, inequality, inequalities, certificate",
          "<b>Topic 26</b><br>Words: inequality, bell, violation, povm, trio",
          "<b>Topic 26</b><br>Words: violation, inequalities, bell, chsh, inequality",
          "<b>Topic 26</b><br>Words: bell, inequality, proof, theorem, inequalities",
          "<b>Topic 26</b><br>Words: gisin, inequality, popescu, cglmp, qudits",
          "<b>Topic 26</b><br>Words: concepts, test, inequality, bell, inequalities",
          "<b>Topic 26</b><br>Words: bell, drummond, cavalcanti, foster, reid",
          "<b>Topic 26</b><br>Words: inequality, bell, violated, inequalities, involving",
          "<b>Topic 26</b><br>Words: bell, faces, settings, inequalities, contradiction",
          "<b>Topic 26</b><br>Words: partite, inequalities, bell, correlations, involve",
          "<b>Topic 26</b><br>Words: inequalities, indexing, number, violations, nondegenerate",
          "<b>Topic 26</b><br>Words: inequality, condition, bell, sufficient, necessary",
          "<b>Topic 26</b><br>Words: inequality, bell, inequalities, games, ch3"
         ],
         "marker": {
          "color": "#0072B2"
         },
         "mode": "lines",
         "name": "26_bell_inequality_inequalities_violatio...",
         "type": "scatter",
         "x": [
          1998,
          1999,
          2002,
          2004,
          2005,
          2008,
          2009,
          2010,
          2011,
          2012,
          2014,
          2015,
          2016,
          2022
         ],
         "y": [
          2,
          1,
          3,
          2,
          1,
          1,
          1,
          1,
          2,
          1,
          1,
          1,
          2,
          3
         ]
        },
        {
         "hoverinfo": "text",
         "hovertext": [
          "<b>Topic 27</b><br>Words: donor, enriched, si, hyperpolarizing, phosphorus",
          "<b>Topic 27</b><br>Words: tunneling, doped, donor, layers, placements",
          "<b>Topic 27</b><br>Words: donor, damped, 1s, impurities, semiconductors",
          "<b>Topic 27</b><br>Words: selenium, donors, silicon, donor, se",
          "<b>Topic 27</b><br>Words: elementary, transitio, polysilicon, dot, attainable",
          "<b>Topic 27</b><br>Words: dex, msn, donor, shuttling, nm",
          "<b>Topic 27</b><br>Words: contact, donor, donors, pattern, electrical",
          "<b>Topic 27</b><br>Words: structures, phosphorus, infinitely, conductive, moore",
          "<b>Topic 27</b><br>Words: dopants, tunneling, precise, rates, subnanometer",
          "<b>Topic 27</b><br>Words: donor, si, silicon, shallow, electron",
          "<b>Topic 27</b><br>Words: mos, densities, disorder, electron, si",
          "<b>Topic 27</b><br>Words: qw, phosphorous, donor, valley, donors",
          "<b>Topic 27</b><br>Words: dopants, tunneling, precise, rates, subnanometer",
          "<b>Topic 27</b><br>Words: donor, interface, si, donors, anisotropy"
         ],
         "marker": {
          "color": "#CC79A7"
         },
         "mode": "lines",
         "name": "27_donor_si_silicon_donors",
         "type": "scatter",
         "x": [
          1997,
          1999,
          2000,
          2003,
          2008,
          2011,
          2012,
          2013,
          2014,
          2016,
          2017,
          2022,
          2024,
          2025
         ],
         "y": [
          1,
          2,
          1,
          2,
          1,
          2,
          2,
          1,
          1,
          3,
          1,
          1,
          1,
          2
         ]
        },
        {
         "hoverinfo": "text",
         "hovertext": [
          "<b>Topic 28</b><br>Words: industrially, gum, mouth, pnp, vagina",
          "<b>Topic 28</b><br>Words: colicins, host, coli, proteins, production",
          "<b>Topic 28</b><br>Words: kaempferol, anticancer, flavonoids, polyphenol, ligand",
          "<b>Topic 28</b><br>Words: cells, grid, theta, bats, do",
          "<b>Topic 28</b><br>Words: hydrogel, chitosan, injectable, phosphate, tetronic",
          "<b>Topic 28</b><br>Words: structures, molecular, cells, quorum, luminescence",
          "<b>Topic 28</b><br>Words: quorum, luminescence, sensing, mutant, bacterium",
          "<b>Topic 28</b><br>Words: signaling, assembly, adaptive, gain, components",
          "<b>Topic 28</b><br>Words: proteins, cells, polysaccharides, food, cytokines",
          "<b>Topic 28</b><br>Words: quorum, luminescence, sensing, mutant, bacterium",
          "<b>Topic 28</b><br>Words: quorum, luminescence, sensing, mutant, bacterium",
          "<b>Topic 28</b><br>Words: cells, respond, ruffling, viscosities, their",
          "<b>Topic 28</b><br>Words: forecast, protein, amino, physarum, acids",
          "<b>Topic 28</b><br>Words: abfps, fluorinated, hydrolysis, acrylate, amphiphilic",
          "<b>Topic 28</b><br>Words: rnas, myogenic, myogenesis, muscle, differentiation"
         ],
         "marker": {
          "color": "#E69F00"
         },
         "mode": "lines",
         "name": "28_cells_quorum_luminescence_proteins",
         "type": "scatter",
         "x": [
          2002,
          2003,
          2008,
          2009,
          2010,
          2011,
          2014,
          2015,
          2017,
          2018,
          2019,
          2021,
          2022,
          2023,
          2025
         ],
         "y": [
          2,
          1,
          1,
          1,
          1,
          1,
          1,
          2,
          2,
          1,
          1,
          1,
          3,
          2,
          1
         ]
        },
        {
         "hoverinfo": "text",
         "hovertext": [
          "<b>Topic 29</b><br>Words: sets, mubs, mub, sums, complete",
          "<b>Topic 29</b><br>Words: proofs, they, observables, algori, inspection",
          "<b>Topic 29</b><br>Words: polynomials, slocc, invariants, degree, are",
          "<b>Topic 29</b><br>Words: polynomial, roots, associates, unentangled, pure",
          "<b>Topic 29</b><br>Words: invariants, local, degree, su, calculus",
          "<b>Topic 29</b><br>Words: sl, antilinear, determinant, local, invariant",
          "<b>Topic 29</b><br>Words: pauli, ϫ1, ϩ1, local, operators",
          "<b>Topic 29</b><br>Words: indistinguishable, subspace, polynomial, invariants, locally",
          "<b>Topic 29</b><br>Words: quasigrading, algebras, quasigraded, constructed, matrices",
          "<b>Topic 29</b><br>Words: affine, sets, unbiased, bases, mutually",
          "<b>Topic 29</b><br>Words: sets, bases, ids, call, specker",
          "<b>Topic 29</b><br>Words: simplex, elegant, sided, con, bases"
         ],
         "marker": {
          "color": "#56B4E9"
         },
         "mode": "lines",
         "name": "29_sets_polynomial_invariants_bases",
         "type": "scatter",
         "x": [
          1998,
          1999,
          2001,
          2003,
          2006,
          2007,
          2008,
          2012,
          2014,
          2015,
          2018,
          2023
         ],
         "y": [
          1,
          1,
          2,
          1,
          1,
          1,
          3,
          2,
          1,
          2,
          3,
          1
         ]
        },
        {
         "hoverinfo": "text",
         "hovertext": [
          "<b>Topic 30</b><br>Words: reducibility, marginals, slocc, bipartite, also",
          "<b>Topic 30</b><br>Words: ghz, generalized, pure, states, equivalents",
          "<b>Topic 30</b><br>Words: gm, concurrence, maximal, spectrum, maximizes",
          "<b>Topic 30</b><br>Words: transforming, upper, kintas, 51, turgut",
          "<b>Topic 30</b><br>Words: matrices, uniquely, reduced, determined, among",
          "<b>Topic 30</b><br>Words: cluster, violated, holds, ghz, thence",
          "<b>Topic 30</b><br>Words: discrimination, unambiguous, remote, 223, gener",
          "<b>Topic 30</b><br>Words: uniform, 3uniform, irredundant, than, states",
          "<b>Topic 30</b><br>Words: pure, uniquely, states, just, matrices",
          "<b>Topic 30</b><br>Words: local, ghz, lower, 77, scarani",
          "<b>Topic 30</b><br>Words: glhv, hidden, variables, designate, shades",
          "<b>Topic 30</b><br>Words: mixed, states, uniform, nonclassica, nparty",
          "<b>Topic 30</b><br>Words: estimation, trade, pure, optimal, states",
          "<b>Topic 30</b><br>Words: program, register, unknown, registers, stored",
          "<b>Topic 30</b><br>Words: converting, article, task, obtain, class",
          "<b>Topic 30</b><br>Words: terhal, 589, theor, smolin, comput",
          "<b>Topic 30</b><br>Words: ghz, diagonal, state, initial, evolves"
         ],
         "marker": {
          "color": "#009E73"
         },
         "mode": "lines",
         "name": "30_states_ghz_pure_local",
         "type": "scatter",
         "x": [
          1997,
          1998,
          1999,
          2000,
          2001,
          2002,
          2005,
          2008,
          2011,
          2012,
          2013,
          2014,
          2016,
          2017,
          2018,
          2023,
          2024
         ],
         "y": [
          1,
          1,
          1,
          1,
          3,
          1,
          1,
          1,
          1,
          1,
          1,
          1,
          1,
          1,
          1,
          1,
          1
         ]
        },
        {
         "hoverinfo": "text",
         "hovertext": [
          "<b>Topic 31</b><br>Words: planning, treatment, patients, stimulating, esas",
          "<b>Topic 31</b><br>Words: patients, doc, awareness, brain, healthy",
          "<b>Topic 31</b><br>Words: kv, imaging, stereoscopic, therapy, mv",
          "<b>Topic 31</b><br>Words: sv, bioimpedance, ventricular, left, doppler",
          "<b>Topic 31</b><br>Words: images, ct, weighted, mri, patients",
          "<b>Topic 31</b><br>Words: patients, doc, awareness, brain, subjects",
          "<b>Topic 31</b><br>Words: planning, patients, dose, treatment, radiation",
          "<b>Topic 31</b><br>Words: patients, doc, awareness, brain, healthy",
          "<b>Topic 31</b><br>Words: predictors, disease, patients, cd, uc",
          "<b>Topic 31</b><br>Words: planning, treatment, margin, plugins, margins",
          "<b>Topic 31</b><br>Words: progression, radionuclides, particles, radiation, cell",
          "<b>Topic 31</b><br>Words: radionuclides, particles, cell, radiation, bi",
          "<b>Topic 31</b><br>Words: patients, doc, awareness, brain, healthy"
         ],
         "marker": {
          "color": "#F0E442"
         },
         "mode": "lines",
         "name": "31_patients_doc_awareness_radiation",
         "type": "scatter",
         "x": [
          1998,
          1999,
          2000,
          2001,
          2002,
          2006,
          2007,
          2009,
          2015,
          2017,
          2021,
          2024,
          2025
         ],
         "y": [
          2,
          1,
          1,
          1,
          2,
          2,
          2,
          1,
          1,
          1,
          2,
          1,
          1
         ]
        },
        {
         "hoverinfo": "text",
         "hovertext": [
          "<b>Topic 32</b><br>Words: orbit, stark, electric, donors, semiconductor",
          "<b>Topic 32</b><br>Words: nanowire, field, electric, factor, magnetic",
          "<b>Topic 32</b><br>Words: qd, orbit, spin, nanometric, tra",
          "<b>Topic 32</b><br>Words: electric, fields, factor, spin, magnetic",
          "<b>Topic 32</b><br>Words: spin, zeeman, factor, orbit, interaction",
          "<b>Topic 32</b><br>Words: spin, orbit, rashba, tensor, landé",
          "<b>Topic 32</b><br>Words: electric, hole, control, exclusively, spin",
          "<b>Topic 32</b><br>Words: orbit, interaction, spin, hole, missing",
          "<b>Topic 32</b><br>Words: bang, rotation, control, spin, boscain",
          "<b>Topic 32</b><br>Words: ring, orbit, spin, incoming, rashba",
          "<b>Topic 32</b><br>Words: electric, edsr, inducing, dot, qualitatively"
         ],
         "marker": {
          "color": "#D55E00"
         },
         "mode": "lines",
         "name": "32_spin_electric_orbit_factor",
         "type": "scatter",
         "x": [
          2000,
          2002,
          2006,
          2010,
          2012,
          2013,
          2016,
          2017,
          2020,
          2021,
          2022
         ],
         "y": [
          1,
          2,
          1,
          1,
          3,
          3,
          1,
          1,
          1,
          1,
          1
         ]
        },
        {
         "hoverinfo": "text",
         "hovertext": [
          "<b>Topic 33</b><br>Words: designs, 7ϫ, consequent, biepitaxial, quiet",
          "<b>Topic 33</b><br>Words: environment, tunneling, unexpected, conf, destroyed",
          "<b>Topic 33</b><br>Words: tunneling, magnetization, josephson, radiation, ferromagnetsuperconductor",
          "<b>Topic 33</b><br>Words: mqt, josephson, ops, sign, junctions",
          "<b>Topic 33</b><br>Words: island, transport, cooper, double, josephson",
          "<b>Topic 33</b><br>Words: junctions, junction, jjs, josephson, fluxon",
          "<b>Topic 33</b><br>Words: island, tunneling, controversial, cos, josephson",
          "<b>Topic 33</b><br>Words: sts, dependence, tunneling, gap, inhomogeneity",
          "<b>Topic 33</b><br>Words: current, switching, distributions, gilbert, uncovers",
          "<b>Topic 33</b><br>Words: josephson, junction, length, counterclockwise, clockwise",
          "<b>Topic 33</b><br>Words: switching, switchings, ijjs, decreasin, josephson",
          "<b>Topic 33</b><br>Words: mqt, ijj, junction, regime, josephson",
          "<b>Topic 33</b><br>Words: nbn, junctions, cuni, dependences, josephson"
         ],
         "marker": {
          "color": "#0072B2"
         },
         "mode": "lines",
         "name": "33_josephson_junctions_junction_tunnelin...",
         "type": "scatter",
         "x": [
          1998,
          1999,
          2004,
          2005,
          2006,
          2008,
          2012,
          2013,
          2014,
          2015,
          2018,
          2023,
          2025
         ],
         "y": [
          1,
          1,
          2,
          2,
          1,
          2,
          1,
          1,
          1,
          1,
          1,
          1,
          1
         ]
        },
        {
         "hoverinfo": "text",
         "hovertext": [
          "<b>Topic 34</b><br>Words: valley, exotic, natures, valleytronics, tmds",
          "<b>Topic 34</b><br>Words: tmdcs, layers, valley, irrespective, ret",
          "<b>Topic 34</b><br>Words: films, film, thin, propagation, plane",
          "<b>Topic 34</b><br>Words: tm, 316, center, beneficial, incorporated",
          "<b>Topic 34</b><br>Words: zno, doped, films, zinc, al",
          "<b>Topic 34</b><br>Words: 100, lanio, blsd, 111, ti",
          "<b>Topic 34</b><br>Words: zrte, arpes, dichalcogenides, days, dft",
          "<b>Topic 34</b><br>Words: conversion, tio, injection, heterojunctions, photovoltaic",
          "<b>Topic 34</b><br>Words: evaporation, selenium, tin, stepped, volatile",
          "<b>Topic 34</b><br>Words: acceptors, improvements, electric, shallow, impurities",
          "<b>Topic 34</b><br>Words: solidification, constitutional, cdw, y123, gradients",
          "<b>Topic 34</b><br>Words: telecommunication, transduction, optical, band, witht"
         ],
         "marker": {
          "color": "#CC79A7"
         },
         "mode": "lines",
         "name": "34_films_zno_film_valley",
         "type": "scatter",
         "x": [
          2000,
          2001,
          2002,
          2004,
          2007,
          2008,
          2013,
          2014,
          2018,
          2019,
          2023,
          2024
         ],
         "y": [
          1,
          1,
          3,
          1,
          1,
          1,
          1,
          1,
          1,
          2,
          2,
          1
         ]
        },
        {
         "hoverinfo": "text",
         "hovertext": [
          "<b>Topic 35</b><br>Words: seam, mmiqc, script, typographical, table",
          "<b>Topic 35</b><br>Words: randomized, gate, benchmarking, character, ion",
          "<b>Topic 35</b><br>Words: 99, μs, 9934, 43, gate",
          "<b>Topic 35</b><br>Words: nullity, stabilizer, unitary, multiqubit, subgroup",
          "<b>Topic 35</b><br>Words: robustly, add, gate, randomized, technical",
          "<b>Topic 35</b><br>Words: detection, thresholds, setting, three, closing",
          "<b>Topic 35</b><br>Words: gate, errors, miscalibrations, miscalibrated, fidelity",
          "<b>Topic 35</b><br>Words: crowding, tunably, nonetheless, fidelity, couplers",
          "<b>Topic 35</b><br>Words: talk, register, cross, readout, qunybble",
          "<b>Topic 35</b><br>Words: distortions, dis, compensate, correcting, reducing",
          "<b>Topic 35</b><br>Words: zz, couplers, residual, errors, distortions",
          "<b>Topic 35</b><br>Words: distortions, page, nonlinear, how, gate"
         ],
         "marker": {
          "color": "#E69F00"
         },
         "mode": "lines",
         "name": "35_gate_qubit_distortions_errors",
         "type": "scatter",
         "x": [
          1998,
          1999,
          2005,
          2006,
          2007,
          2010,
          2012,
          2014,
          2019,
          2020,
          2023,
          2024
         ],
         "y": [
          1,
          2,
          1,
          1,
          1,
          1,
          1,
          1,
          1,
          1,
          2,
          2
         ]
        },
        {
         "hoverinfo": "text",
         "hovertext": [
          "<b>Topic 36</b><br>Words: optimizations, flux, fluxoniums, noncomputational, frequency",
          "<b>Topic 36</b><br>Words: flux, ls, times, relaxation, point",
          "<b>Topic 36</b><br>Words: bath, waveguide, hot, cold, counterintuitive",
          "<b>Topic 36</b><br>Words: hold, sample, charge, islands, turning",
          "<b>Topic 36</b><br>Words: oscillator, flux, em, qubit, superconducting",
          "<b>Topic 36</b><br>Words: flux, sensitivity, spectros, fl, superconducting",
          "<b>Topic 36</b><br>Words: external, flux, fluctuations, yttriumbarium, capitalizes",
          "<b>Topic 36</b><br>Words: noise, escaping, occupy, occupies, flux",
          "<b>Topic 36</b><br>Words: charge, ramsey, variations, beating, dephas",
          "<b>Topic 36</b><br>Words: amplification, conventional, lasing, flux, qubit",
          "<b>Topic 36</b><br>Words: flux, hz, dephasing, 61, noise",
          "<b>Topic 36</b><br>Words: operated, voltag, superconducting, noise, zero",
          "<b>Topic 36</b><br>Words: flux, superconducting, spectroscopy, spectrum, device"
         ],
         "marker": {
          "color": "#56B4E9"
         },
         "mode": "lines",
         "name": "36_flux_superconducting_qubit_noise",
         "type": "scatter",
         "x": [
          1997,
          2000,
          2007,
          2008,
          2010,
          2011,
          2013,
          2015,
          2019,
          2020,
          2021,
          2023,
          2025
         ],
         "y": [
          1,
          1,
          1,
          1,
          2,
          1,
          1,
          1,
          1,
          1,
          1,
          1,
          2
         ]
        },
        {
         "hoverinfo": "text",
         "hovertext": [
          "<b>Topic 37</b><br>Words: abelian, quasiparticles, non, hall, filling",
          "<b>Topic 37</b><br>Words: hall, abelian, quasiholes, filling, non",
          "<b>Topic 37</b><br>Words: fqh, abelian, hall, filling, non",
          "<b>Topic 37</b><br>Words: hall, abelian, statisticsone, sarma, fractional",
          "<b>Topic 37</b><br>Words: filling, factors, hall, denominator, fqhss",
          "<b>Topic 37</b><br>Words: abelian, hall, filling, non, denominator",
          "<b>Topic 37</b><br>Words: statistics, braiding, quasiparticle, excitations, filling",
          "<b>Topic 37</b><br>Words: fqhss, hall, abelian, filling, denominator",
          "<b>Topic 37</b><br>Words: rr, hall, abelian, filling, realized",
          "<b>Topic 37</b><br>Words: fqh, 12, hall, abelian, filling",
          "<b>Topic 37</b><br>Words: abelian, quasiparticles, statistics, hall, non",
          "<b>Topic 37</b><br>Words: filling, factors, hall, denominator, fqhss"
         ],
         "marker": {
          "color": "#009E73"
         },
         "mode": "lines",
         "name": "37_abelian_hall_filling_non",
         "type": "scatter",
         "x": [
          2000,
          2007,
          2011,
          2012,
          2013,
          2014,
          2015,
          2016,
          2017,
          2018,
          2019,
          2020
         ],
         "y": [
          1,
          3,
          1,
          1,
          1,
          1,
          1,
          1,
          1,
          1,
          1,
          1
         ]
        },
        {
         "hoverinfo": "text",
         "hovertext": [
          "<b>Topic 38</b><br>Words: talk, cross, coupl, intrinsically, undesired",
          "<b>Topic 38</b><br>Words: snz, tuneup, cz, gates, speed",
          "<b>Topic 38</b><br>Words: crosstalk, zz, scalable, acknowledged, impairs",
          "<b>Topic 38</b><br>Words: stray, usually, setback, errors, mitigating",
          "<b>Topic 38</b><br>Words: qutrits, fidelity, like, high, processing",
          "<b>Topic 38</b><br>Words: bilateral, purification, replacements, solid, hashing",
          "<b>Topic 38</b><br>Words: bus, cz, consists, 334, nonco",
          "<b>Topic 38</b><br>Words: performance, transmons, transmon, gate, undermining",
          "<b>Topic 38</b><br>Words: crosstalk, simultaneous, operations, erroneous, deteriorate",
          "<b>Topic 38</b><br>Words: talk, architecture, coupling, scalable, gates",
          "<b>Topic 38</b><br>Words: performance, optimization, inaccurate, understudied, laboratories",
          "<b>Topic 38</b><br>Words: replacement, modules, architecture, self, galvanic",
          "<b>Topic 38</b><br>Words: performance, transmons, transmon, gate, undermining"
         ],
         "marker": {
          "color": "#F0E442"
         },
         "mode": "lines",
         "name": "38_performance_transmon_gate_crosstalk",
         "type": "scatter",
         "x": [
          1997,
          2000,
          2006,
          2008,
          2009,
          2011,
          2012,
          2013,
          2014,
          2015,
          2022,
          2023,
          2025
         ],
         "y": [
          1,
          1,
          1,
          1,
          1,
          1,
          1,
          1,
          1,
          2,
          1,
          1,
          1
         ]
        },
        {
         "hoverinfo": "text",
         "hovertext": [
          "<b>Topic 39</b><br>Words: tls, spectral, tunneling, tlss, glasse",
          "<b>Topic 39</b><br>Words: current, heterojunction, effect, double, considered",
          "<b>Topic 39</b><br>Words: resonances, tunnel, bias, dependencies, tmr",
          "<b>Topic 39</b><br>Words: set, shot, readout, frequency, charging",
          "<b>Topic 39</b><br>Words: filter, passband, modulation, frequency, induce",
          "<b>Topic 39</b><br>Words: dielectric, analysed, sensitivity, microwave, hts",
          "<b>Topic 39</b><br>Words: cofeb, resistivity, mgo, multilayer, larger",
          "<b>Topic 39</b><br>Words: set, frequency, noise, nyquist, telegraph",
          "<b>Topic 39</b><br>Words: igzo, amorphous, tail, hydrogenated, neldel",
          "<b>Topic 39</b><br>Words: ku, millikelvin, waveform, generator, spectrometer"
         ],
         "marker": {
          "color": "#D55E00"
         },
         "mode": "lines",
         "name": "39_frequency_dielectric_set_filter",
         "type": "scatter",
         "x": [
          1997,
          2001,
          2007,
          2008,
          2010,
          2015,
          2019,
          2022,
          2024,
          2025
         ],
         "y": [
          1,
          1,
          1,
          1,
          4,
          2,
          1,
          1,
          1,
          1
         ]
        },
        {
         "hoverinfo": "text",
         "hovertext": [
          "<b>Topic 40</b><br>Words: gates, gate, qubit, versatility, controlled",
          "<b>Topic 40</b><br>Words: clifford, gates, gate, supplements, visualized",
          "<b>Topic 40</b><br>Words: elementary, gates, gate, sequence, favorably",
          "<b>Topic 40</b><br>Words: algebras, clifford, application, anticommute, commutation",
          "<b>Topic 40</b><br>Words: gates, count, synthesis, clifford, unitaries",
          "<b>Topic 40</b><br>Words: vala, howard, qutrit, gates, clifford",
          "<b>Topic 40</b><br>Words: mczr, gates, synthesizing, primitives, circuits",
          "<b>Topic 40</b><br>Words: cx, gates, dihedral, cs, controlled",
          "<b>Topic 40</b><br>Words: temporary, gates, logical, construction, ancilla",
          "<b>Topic 40</b><br>Words: cccz, ccz, decomposition, gates, cz",
          "<b>Topic 40</b><br>Words: logical, gates, construction, multiqubit, multiq",
          "<b>Topic 40</b><br>Words: gates, multiqubit, superfluous, gray, optimal",
          "<b>Topic 40</b><br>Words: gate, simulate, implementation, or, for"
         ],
         "marker": {
          "color": "#0072B2"
         },
         "mode": "lines",
         "name": "40_gates_clifford_gate_logical",
         "type": "scatter",
         "x": [
          1997,
          1999,
          2002,
          2008,
          2009,
          2010,
          2012,
          2013,
          2015,
          2019,
          2020,
          2024,
          2025
         ],
         "y": [
          1,
          1,
          1,
          1,
          2,
          1,
          1,
          1,
          1,
          1,
          1,
          1,
          1
         ]
        },
        {
         "hoverinfo": "text",
         "hovertext": [
          "<b>Topic 41</b><br>Words: amo, all, symmetrically, immense, community",
          "<b>Topic 41</b><br>Words: uniform, qecc, cluster, qeccs, intimately",
          "<b>Topic 41</b><br>Words: choosing, dressed, protocol, restraint, passages",
          "<b>Topic 41</b><br>Words: state, ideal, inconvertible, ghz, convert",
          "<b>Topic 41</b><br>Words: party, three, filtration, protocol, unearth",
          "<b>Topic 41</b><br>Words: redistribute, cond, swaps, bell, four",
          "<b>Topic 41</b><br>Words: asymmetric, superdense, copy, distillation, three",
          "<b>Topic 41</b><br>Words: bell, network, observers, nonlocality, experiments",
          "<b>Topic 41</b><br>Words: repeater, polylogarithmic, protocol, distribute, valuable",
          "<b>Topic 41</b><br>Words: mie, sign, measuring, measurementinduced, diagnostic",
          "<b>Topic 41</b><br>Words: mes, valuable, collection, represent, resource",
          "<b>Topic 41</b><br>Words: basica, their, aspect, particles, demanding",
          "<b>Topic 41</b><br>Words: resource, miller, npj, miyake, ranged",
          "<b>Topic 41</b><br>Words: stap, designing, superatoms, superatom, passages"
         ],
         "marker": {
          "color": "#CC79A7"
         },
         "mode": "lines",
         "name": "41_states_state_protocol_bell",
         "type": "scatter",
         "x": [
          2001,
          2002,
          2004,
          2005,
          2006,
          2011,
          2013,
          2014,
          2016,
          2018,
          2020,
          2021,
          2023,
          2024
         ],
         "y": [
          1,
          1,
          1,
          1,
          1,
          1,
          1,
          1,
          1,
          1,
          1,
          1,
          1,
          1
         ]
        },
        {
         "hoverinfo": "text",
         "hovertext": [
          "<b>Topic 42</b><br>Words: yang, baxter, norm, ybe, yangian",
          "<b>Topic 42</b><br>Words: baxter, yang, act, tensor, product",
          "<b>Topic 42</b><br>Words: yang, baxter, hidden, body, disequations",
          "<b>Topic 42</b><br>Words: δφ, ½nðλ, iφλ, there, yang",
          "<b>Topic 42</b><br>Words: functionals, value, yang, realizations, baxter",
          "<b>Topic 42</b><br>Words: reversible, logic, equivalence, calculation, classes",
          "<b>Topic 42</b><br>Words: yang, baxter, matrix, alg, unitary",
          "<b>Topic 42</b><br>Words: yang, baxter, functionals, value, realizations",
          "<b>Topic 42</b><br>Words: yang, unitary, braiding, baxter, baxterization",
          "<b>Topic 42</b><br>Words: functionals, value, realizations, family, attaining"
         ],
         "marker": {
          "color": "#E69F00"
         },
         "mode": "lines",
         "name": "42_yang_baxter_functionals_value",
         "type": "scatter",
         "x": [
          2002,
          2005,
          2006,
          2016,
          2018,
          2019,
          2022,
          2023,
          2024,
          2025
         ],
         "y": [
          2,
          1,
          2,
          1,
          2,
          1,
          1,
          2,
          1,
          1
         ]
        },
        {
         "hoverinfo": "text",
         "hovertext": [
          "<b>Topic 43</b><br>Words: enz, materials, near, epsilon, electrodynamic",
          "<b>Topic 43</b><br>Words: lqn, indistinguishability, entangled, particles, arrive",
          "<b>Topic 43</b><br>Words: ability, entanglement, proce, accordingly, quantifying",
          "<b>Topic 43</b><br>Words: esd, entanglement, resource, necessary, degrades",
          "<b>Topic 43</b><br>Words: entanglement, ensembles, scale, particles, quantum",
          "<b>Topic 43</b><br>Words: entanglement, search, channels, speedup, mutual",
          "<b>Topic 43</b><br>Words: mismatch, entanglement, optical, microwave, functionalities",
          "<b>Topic 43</b><br>Words: chain, infinite, cumbersome, structure, heisenber",
          "<b>Topic 43</b><br>Words: universal, entanglers, entangler, resource, entanglement",
          "<b>Topic 43</b><br>Words: entanglement, summarized, burgeoning, revolutionary, new",
          "<b>Topic 43</b><br>Words: decoupling, noise, mediator, dynamical, actively"
         ],
         "marker": {
          "color": "#56B4E9"
         },
         "mode": "lines",
         "name": "43_entanglement_enz_quantum_resource",
         "type": "scatter",
         "x": [
          1997,
          2000,
          2001,
          2002,
          2004,
          2005,
          2006,
          2007,
          2014,
          2016,
          2017
         ],
         "y": [
          1,
          1,
          1,
          1,
          2,
          2,
          1,
          1,
          2,
          1,
          1
         ]
        },
        {
         "hoverinfo": "text",
         "hovertext": [
          "<b>Topic 44</b><br>Words: pt, mechanics, extension, conventional, pri",
          "<b>Topic 44</b><br>Words: pt, symmetry, parity, acoustics, hamiltonian",
          "<b>Topic 44</b><br>Words: pt, symmetric, enlarging, postselection, general",
          "<b>Topic 44</b><br>Words: pt, resonators, proposing, gains, symmetric",
          "<b>Topic 44</b><br>Words: pt, noether, symmetry, theorem, ĥpt",
          "<b>Topic 44</b><br>Words: pt, symmetric, symmetry, eps, systems",
          "<b>Topic 44</b><br>Words: pt, symmetric, theory, continue, unlikely",
          "<b>Topic 44</b><br>Words: pt, symmetry, anti, strobos, counterintuitive",
          "<b>Topic 44</b><br>Words: pt, symmetry, 109, prosen, manyqubit",
          "<b>Topic 44</b><br>Words: pt, symmetry, ðpt, eps, symmetric",
          "<b>Topic 44</b><br>Words: pt, anti, researches, symmetric, simulating",
          "<b>Topic 44</b><br>Words: pt, symmetric, dephasing, ultraweakly, unital"
         ],
         "marker": {
          "color": "#009E73"
         },
         "mode": "lines",
         "name": "44_pt_symmetric_symmetry_parity",
         "type": "scatter",
         "x": [
          1997,
          1998,
          2001,
          2005,
          2008,
          2009,
          2010,
          2011,
          2012,
          2014,
          2016,
          2023
         ],
         "y": [
          1,
          1,
          1,
          1,
          1,
          2,
          1,
          1,
          1,
          1,
          1,
          1
         ]
        },
        {
         "hoverinfo": "text",
         "hovertext": [
          "<b>Topic 45</b><br>Words: cat, schrödinger, cubic, prepare, gaussian",
          "<b>Topic 45</b><br>Words: schrödinger, cat, representation, displaced, displacement",
          "<b>Topic 45</b><br>Words: generation, cat, subtraction, schrödinger, photon",
          "<b>Topic 45</b><br>Words: cat, driving, schrödinger, prerequisites, dissipations",
          "<b>Topic 45</b><br>Words: prepares, schrodinger, cat, gaussian, variable",
          "<b>Topic 45</b><br>Words: cat, errors, bosonic, correct, schrödinger",
          "<b>Topic 45</b><br>Words: cat, schrödinger, projec, photonassisted, initializing",
          "<b>Topic 45</b><br>Words: cat, schrödinger, oscillator, sampling, driving",
          "<b>Topic 45</b><br>Words: cat, mqt, degenerate, schrödinger, generatin",
          "<b>Topic 45</b><br>Words: cat, manifold, onto, schrödinger, encoding",
          "<b>Topic 45</b><br>Words: cat, schrödinger, swapping, collap, mitigates"
         ],
         "marker": {
          "color": "#F0E442"
         },
         "mode": "lines",
         "name": "45_cat_schrödinger_states_oscillator",
         "type": "scatter",
         "x": [
          1998,
          2002,
          2007,
          2008,
          2010,
          2016,
          2017,
          2019,
          2020,
          2021,
          2024
         ],
         "y": [
          1,
          1,
          1,
          1,
          1,
          1,
          1,
          3,
          1,
          1,
          1
         ]
        },
        {
         "hoverinfo": "text",
         "hovertext": [
          "<b>Topic 46</b><br>Words: entanglement, depth, subspaces, it, mixed",
          "<b>Topic 46</b><br>Words: entanglements, klyshko, mermin, discriminate, entanglement",
          "<b>Topic 46</b><br>Words: depth, it, entanglement, notions, entangled",
          "<b>Topic 46</b><br>Words: subspaces, cess, multipartite, entanglement, depth",
          "<b>Topic 46</b><br>Words: nondistillability, im, undertake, properties, mixed",
          "<b>Topic 46</b><br>Words: subspaces, cess, depth, multipartite, cardina",
          "<b>Topic 46</b><br>Words: characterization, classes, categorized, characteri, semistable",
          "<b>Topic 46</b><br>Words: vectors, area, 3tangle, distributive, whi",
          "<b>Topic 46</b><br>Words: description, entanglement, multiparty, lifetime, states",
          "<b>Topic 46</b><br>Words: featuring, those, genuine, geometers, entanglement"
         ],
         "marker": {
          "color": "#D55E00"
         },
         "mode": "lines",
         "name": "46_entanglement_subspaces_multipartite_d...",
         "type": "scatter",
         "x": [
          1997,
          1999,
          2006,
          2009,
          2012,
          2013,
          2017,
          2018,
          2020,
          2024
         ],
         "y": [
          2,
          1,
          1,
          2,
          1,
          1,
          1,
          1,
          2,
          1
         ]
        },
        {
         "hoverinfo": "text",
         "hovertext": [
          "<b>Topic 47</b><br>Words: driving, exception, sinusoidal, expense, disappears",
          "<b>Topic 47</b><br>Words: resonator, coupling, questionable, care, extra",
          "<b>Topic 47</b><br>Words: cummings, dicke, coupling, tavis, counterrotating",
          "<b>Topic 47</b><br>Words: nonresonant, components, paces, atoms, collapse",
          "<b>Topic 47</b><br>Words: recombination, puffing, he, volumetric, dominated",
          "<b>Topic 47</b><br>Words: capacitor, gas, hopfield, evolves, lumped",
          "<b>Topic 47</b><br>Words: dispersive, atoms, cavitie, cummings, jaynes",
          "<b>Topic 47</b><br>Words: big, collapse, revival, gi, spin",
          "<b>Topic 47</b><br>Words: qw, uniform, consistence, xn, unifo",
          "<b>Topic 47</b><br>Words: excitons, nonresonant, spectrum, detu, physical",
          "<b>Topic 47</b><br>Words: recombination, puffing, he, volumetric, dominated",
          "<b>Topic 47</b><br>Words: rotational, na, he, 2p3, 2p1"
         ],
         "marker": {
          "color": "#0072B2"
         },
         "mode": "lines",
         "name": "47_recombination_puffing_he_volumetric",
         "type": "scatter",
         "x": [
          1997,
          2001,
          2002,
          2004,
          2005,
          2011,
          2015,
          2019,
          2021,
          2022,
          2023,
          2025
         ],
         "y": [
          1,
          1,
          1,
          2,
          1,
          1,
          1,
          1,
          1,
          1,
          1,
          1
         ]
        },
        {
         "hoverinfo": "text",
         "hovertext": [
          "<b>Topic 48</b><br>Words: toffoli, multiplication, gf, circuits, over",
          "<b>Topic 48</b><br>Words: toffoli, nonidentical, gate, gating, atoms",
          "<b>Topic 48</b><br>Words: toffoli, gate, algorithms, implementation, multiqubit",
          "<b>Topic 48</b><br>Words: adder, toffoli, modular, addition, constant",
          "<b>Topic 48</b><br>Words: toffoli, gate, fluxoniums, ccz, fidelity",
          "<b>Topic 48</b><br>Words: toffoli, body, förster, three, 119",
          "<b>Topic 48</b><br>Words: toffoli, decomposition, depth, gate, circuit",
          "<b>Topic 48</b><br>Words: toffoli, bit, gates, gate, figurehead",
          "<b>Topic 48</b><br>Words: toffoli, gate, depth, uses, construction"
         ],
         "marker": {
          "color": "#CC79A7"
         },
         "mode": "lines",
         "name": "48_toffoli_gate_depth_gates",
         "type": "scatter",
         "x": [
          1998,
          2000,
          2001,
          2003,
          2005,
          2006,
          2015,
          2016,
          2020
         ],
         "y": [
          1,
          1,
          2,
          1,
          2,
          1,
          1,
          1,
          2
         ]
        },
        {
         "hoverinfo": "text",
         "hovertext": [
          "<b>Topic 49</b><br>Words: energetic, observable, half, fluctuations, entanglement",
          "<b>Topic 49</b><br>Words: entanglement, analytical, presenting, focuses, calculating",
          "<b>Topic 49</b><br>Words: entanglement, possibilit, disposal, entangled, concentrating",
          "<b>Topic 49</b><br>Words: entanglement, bipartite, larger, measure, information",
          "<b>Topic 49</b><br>Words: nonclassicality, entanglement, ep, disorder, dimensionally",
          "<b>Topic 49</b><br>Words: law, area, entanglement, motzkin, sinc",
          "<b>Topic 49</b><br>Words: entanglement, conservation, parties, system, systems",
          "<b>Topic 49</b><br>Words: entanglement, optimizing, capability, quantify, auxiliary",
          "<b>Topic 49</b><br>Words: entanglement, scaling, efficientl, diverges, passes"
         ],
         "marker": {
          "color": "#E69F00"
         },
         "mode": "lines",
         "name": "49_entanglement_energetic_system_nonclas...",
         "type": "scatter",
         "x": [
          1998,
          2004,
          2007,
          2008,
          2010,
          2012,
          2013,
          2015,
          2023
         ],
         "y": [
          1,
          1,
          1,
          2,
          2,
          1,
          2,
          1,
          1
         ]
        },
        {
         "hoverinfo": "text",
         "hovertext": [
          "<b>Topic 50</b><br>Words: supplementary, reservoirs, temperature, ancillary, letter",
          "<b>Topic 50</b><br>Words: heat, foams, metal, rega, sinks",
          "<b>Topic 50</b><br>Words: moderator, fuel, ection, galerkin, ux",
          "<b>Topic 50</b><br>Words: impeller, hour, centrifugal, stirred, ol",
          "<b>Topic 50</b><br>Words: heat, foams, metal, rega, sinks",
          "<b>Topic 50</b><br>Words: gas, pressure, regulators, commercially, user",
          "<b>Topic 50</b><br>Words: heat, foams, metal, rega, sinks",
          "<b>Topic 50</b><br>Words: flow, stress, heating, criterion, electrodes",
          "<b>Topic 50</b><br>Words: records, atlantic, north, climate, sites",
          "<b>Topic 50</b><br>Words: heat, morelon, enthalpy, melt, assessed"
         ],
         "marker": {
          "color": "#56B4E9"
         },
         "mode": "lines",
         "name": "50_heat_foams_gas_metal",
         "type": "scatter",
         "x": [
          1999,
          2003,
          2006,
          2007,
          2011,
          2012,
          2014,
          2017,
          2020,
          2024
         ],
         "y": [
          1,
          1,
          1,
          1,
          1,
          2,
          1,
          2,
          1,
          1
         ]
        },
        {
         "hoverinfo": "text",
         "hovertext": [
          "<b>Topic 51</b><br>Words: correlations, appropr, encompassing, nonsymmetric, asymptotic",
          "<b>Topic 51</b><br>Words: correlations, specific, phenom, markovian, evolved",
          "<b>Topic 51</b><br>Words: correlations, systems, suitabl, introduce, relevance",
          "<b>Topic 51</b><br>Words: spinorial, bosonic, observables, fermionic, correlation",
          "<b>Topic 51</b><br>Words: scenarios, markovian, correlations, rebirth, survival",
          "<b>Topic 51</b><br>Words: ancilla, immediately, interrupted, afterward, method",
          "<b>Topic 51</b><br>Words: correlations, noisy, star, nonsignaling, chain",
          "<b>Topic 51</b><br>Words: markovian, correlations, norm, pointer, geometric",
          "<b>Topic 51</b><br>Words: correlations, central, multispin, experiment, quantifies",
          "<b>Topic 51</b><br>Words: correlations, violation, correlation, nonclassicality, inequality",
          "<b>Topic 51</b><br>Words: rs, evolutions, correlations, recommender, nonunitary"
         ],
         "marker": {
          "color": "#009E73"
         },
         "mode": "lines",
         "name": "51_correlations_markovian_correlation_sy...",
         "type": "scatter",
         "x": [
          2002,
          2005,
          2007,
          2011,
          2012,
          2013,
          2016,
          2017,
          2018,
          2021,
          2023
         ],
         "y": [
          1,
          1,
          1,
          1,
          1,
          1,
          1,
          1,
          1,
          2,
          1
         ]
        },
        {
         "hoverinfo": "text",
         "hovertext": [
          "<b>Topic 52</b><br>Words: moment, decoherence, extended, dipole, driving",
          "<b>Topic 52</b><br>Words: fine, separation, 3d, structure, 504ϯ",
          "<b>Topic 52</b><br>Words: ramsey, metastable, laser, steady, raman",
          "<b>Topic 52</b><br>Words: coincidence, atomic, emission, timeoptimal, pulses",
          "<b>Topic 52</b><br>Words: cars, raman, prepopulation, prepopulate, buildup",
          "<b>Topic 52</b><br>Words: atomic, timeoptimal, pulses, equidistant, brachistochrone",
          "<b>Topic 52</b><br>Words: dipole, micr, submicron, approaching, aperture",
          "<b>Topic 52</b><br>Words: raman, laser, spontaneous, scattering, previous",
          "<b>Topic 52</b><br>Words: yag, tm, raman, material, stimulated",
          "<b>Topic 52</b><br>Words: shift, laser, trapped, bit, cancel"
         ],
         "marker": {
          "color": "#F0E442"
         },
         "mode": "lines",
         "name": "52_raman_laser_stimulated_atomic",
         "type": "scatter",
         "x": [
          1998,
          2000,
          2002,
          2004,
          2005,
          2009,
          2013,
          2015,
          2018,
          2019
         ],
         "y": [
          1,
          1,
          2,
          2,
          1,
          1,
          1,
          1,
          1,
          1
         ]
        },
        {
         "hoverinfo": "text",
         "hovertext": [
          "<b>Topic 53</b><br>Words: tsvs, trap, ion, interposer, underneath",
          "<b>Topic 53</b><br>Words: tcnq, ceramics, tetracyanoquinodimethane, multipliers, complexes",
          "<b>Topic 53</b><br>Words: cds, tfts, hydrogen, cbd, cadmium",
          "<b>Topic 53</b><br>Words: drain, regrowth, dummy, regrown, ingaas",
          "<b>Topic 53</b><br>Words: base, resistance, dose, sio, cm",
          "<b>Topic 53</b><br>Words: soi, early, hbt, sige, voltage",
          "<b>Topic 53</b><br>Words: diodes, deteriorated, degradation, boundaries, grain",
          "<b>Topic 53</b><br>Words: fets, organic, passivation, à1, mobility",
          "<b>Topic 53</b><br>Words: transistor, device, nanometre, invention, 1947",
          "<b>Topic 53</b><br>Words: block, drain, film, were, silicide"
         ],
         "marker": {
          "color": "#D55E00"
         },
         "mode": "lines",
         "name": "53_transistors_drain_organic_fets",
         "type": "scatter",
         "x": [
          1997,
          2002,
          2004,
          2005,
          2007,
          2014,
          2015,
          2016,
          2019,
          2020
         ],
         "y": [
          1,
          1,
          1,
          1,
          3,
          1,
          1,
          1,
          1,
          1
         ]
        },
        {
         "hoverinfo": "text",
         "hovertext": [
          "<b>Topic 54</b><br>Words: discord, quantification, zurek, ollivier, 017901",
          "<b>Topic 54</b><br>Words: discord, correlation, cla, quantum, nonclassicality",
          "<b>Topic 54</b><br>Words: discord, enhanced, maximum, shift, cases",
          "<b>Topic 54</b><br>Words: discord, minimization, alber, ali, rau",
          "<b>Topic 54</b><br>Words: discord, central, entang, minimized, imply",
          "<b>Topic 54</b><br>Words: discord, uncertainty, local, discordlike, quanti",
          "<b>Topic 54</b><br>Words: discord, spinj, compared, param, throughout",
          "<b>Topic 54</b><br>Words: discord, correlation, expressions, classical, concurrenc",
          "<b>Topic 54</b><br>Words: discord, nk, grouping, recursive, correlation",
          "<b>Topic 54</b><br>Words: discord, formula, analytical, 0021, worst",
          "<b>Topic 54</b><br>Words: discord, correlation, kind, quantum, bipartite"
         ],
         "marker": {
          "color": "#0072B2"
         },
         "mode": "lines",
         "name": "54_discord_correlation_quantum_states",
         "type": "scatter",
         "x": [
          1997,
          1999,
          2000,
          2002,
          2003,
          2006,
          2013,
          2014,
          2015,
          2020,
          2022
         ],
         "y": [
          1,
          1,
          1,
          1,
          1,
          1,
          1,
          1,
          1,
          1,
          1
         ]
        },
        {
         "hoverinfo": "text",
         "hovertext": [
          "<b>Topic 55</b><br>Words: qubits, care, interactions, favorable, addressed",
          "<b>Topic 55</b><br>Words: addressing, zones, unlimited, 960, qubits",
          "<b>Topic 55</b><br>Words: proven, qudits, yb, operations, 435",
          "<b>Topic 55</b><br>Words: overhead, requiring, logical, each, physical",
          "<b>Topic 55</b><br>Words: execute, challenged, oscillating, talk, heating",
          "<b>Topic 55</b><br>Words: hybrid, operations, cumulant, ubiquitous, improving",
          "<b>Topic 55</b><br>Words: library, computations, significant, promising, seem",
          "<b>Topic 55</b><br>Words: challenge, types, indire, react, sham",
          "<b>Topic 55</b><br>Words: platforms, hinder, impacts, highlighted, predominant"
         ],
         "marker": {
          "color": "#CC79A7"
         },
         "mode": "lines",
         "name": "55_qubits_operations_promising_addressin...",
         "type": "scatter",
         "x": [
          1997,
          2004,
          2007,
          2009,
          2011,
          2013,
          2016,
          2018,
          2020
         ],
         "y": [
          1,
          1,
          2,
          1,
          1,
          1,
          1,
          2,
          1
         ]
        },
        {
         "hoverinfo": "text",
         "hovertext": [
          "<b>Topic 56</b><br>Words: coherence, were, samples, echo, sic",
          "<b>Topic 56</b><br>Words: adsorption, adsorbed, co, atoms, touch",
          "<b>Topic 56</b><br>Words: flops, nuclear, silicon, primary, donor",
          "<b>Topic 56</b><br>Words: nuclear, measurements, weak, rotate, variablestrength",
          "<b>Topic 56</b><br>Words: nuclear, si, polarization, nucleus, magnetic",
          "<b>Topic 56</b><br>Words: si, nuclear, electron, field, hyperfine",
          "<b>Topic 56</b><br>Words: silicon, at, interface, ϸ10, edmr",
          "<b>Topic 56</b><br>Words: relaxation, donor, si, bound, content",
          "<b>Topic 56</b><br>Words: si, dnp, nuclear, donors, pattern",
          "<b>Topic 56</b><br>Words: donor, nuclear, spins, si, elec"
         ],
         "marker": {
          "color": "#E69F00"
         },
         "mode": "lines",
         "name": "56_nuclear_si_donor_spin",
         "type": "scatter",
         "x": [
          1997,
          1998,
          2000,
          2005,
          2006,
          2009,
          2010,
          2011,
          2015,
          2017
         ],
         "y": [
          1,
          1,
          1,
          1,
          1,
          1,
          1,
          1,
          1,
          1
         ]
        },
        {
         "hoverinfo": "text",
         "hovertext": [
          "<b>Topic 57</b><br>Words: kinematic, evolution, manifestly, quantal, nonunitary",
          "<b>Topic 57</b><br>Words: geometric, framework, mixed, almost, structure",
          "<b>Topic 57</b><br>Words: envelopes, entangled, state, translated, bichromatic",
          "<b>Topic 57</b><br>Words: mixed, phases, diagonal, parallel, off",
          "<b>Topic 57</b><br>Words: quantal, undergoing, geometric, evolution, geometry",
          "<b>Topic 57</b><br>Words: cp, maps, geometric, defined, embodied",
          "<b>Topic 57</b><br>Words: rocking, ternal, susceptible, disturbances, outside",
          "<b>Topic 57</b><br>Words: nonideal, bichromatic, ions, fields, deterministically",
          "<b>Topic 57</b><br>Words: qudit, saunders, russell, photoion, multiplicity",
          "<b>Topic 57</b><br>Words: geometric, diagonal, mixed, 85, 2000"
         ],
         "marker": {
          "color": "#56B4E9"
         },
         "mode": "lines",
         "name": "57_geometric_mixed_quantal_evolution",
         "type": "scatter",
         "x": [
          1997,
          2000,
          2001,
          2007,
          2009,
          2010,
          2012,
          2015,
          2017,
          2024
         ],
         "y": [
          1,
          1,
          1,
          1,
          1,
          1,
          1,
          1,
          1,
          1
         ]
        },
        {
         "hoverinfo": "text",
         "hovertext": [
          "<b>Topic 58</b><br>Words: recrystallization, niobium, arc, films, deposit",
          "<b>Topic 58</b><br>Words: recrystallization, niobium, arc, films, filtered",
          "<b>Topic 58</b><br>Words: recrystallization, niobium, arc, films, deposit",
          "<b>Topic 58</b><br>Words: recrystallization, niobium, arc, films, deposit",
          "<b>Topic 58</b><br>Words: nanowire, recrystallization, niobium, approa, arc",
          "<b>Topic 58</b><br>Words: recrystallization, niobium, arc, films, deposit",
          "<b>Topic 58</b><br>Words: recrystallization, niobium, arc, films, deposit",
          "<b>Topic 58</b><br>Words: recrystallization, niobium, arc, films, deposit",
          "<b>Topic 58</b><br>Words: recrystallization, niobium, arc, films, deposit"
         ],
         "marker": {
          "color": "#009E73"
         },
         "mode": "lines",
         "name": "58_recrystallization_niobium_arc_films",
         "type": "scatter",
         "x": [
          2000,
          2002,
          2005,
          2007,
          2010,
          2016,
          2017,
          2024,
          2025
         ],
         "y": [
          1,
          2,
          1,
          1,
          1,
          1,
          1,
          1,
          1
         ]
        },
        {
         "hoverinfo": "text",
         "hovertext": [
          "<b>Topic 59</b><br>Words: segmented, mirror, aberrations, telescope, zernike",
          "<b>Topic 59</b><br>Words: microlens, focal, length, oil, refractive",
          "<b>Topic 59</b><br>Words: amplification, image, output, lenses, pixel",
          "<b>Topic 59</b><br>Words: segmented, mirror, aberrations, zernike, shaper",
          "<b>Topic 59</b><br>Words: dolinar, projection, implementing, feedforward, project",
          "<b>Topic 59</b><br>Words: focusing, figure, soft, mirror, ideal",
          "<b>Topic 59</b><br>Words: sub, techniques, examined, microscopy, resolution"
         ],
         "marker": {
          "color": "#F0E442"
         },
         "mode": "lines",
         "name": "59_segmented_mirror_aberrations_telescop...",
         "type": "scatter",
         "x": [
          1997,
          1998,
          1999,
          2008,
          2011,
          2020,
          2024
         ],
         "y": [
          2,
          2,
          1,
          2,
          1,
          1,
          1
         ]
        },
        {
         "hoverinfo": "text",
         "hovertext": [
          "<b>Topic 60</b><br>Words: photons, loss, fulfills, 002, disturbing",
          "<b>Topic 60</b><br>Words: losses, low, key, 5μm, daylight",
          "<b>Topic 60</b><br>Words: purity, optical, bir, struggle, fibers",
          "<b>Topic 60</b><br>Words: routing, wqed, dipole, chirally, qes",
          "<b>Topic 60</b><br>Words: photons, deployed, fibers, qkd, retarders",
          "<b>Topic 60</b><br>Words: photons, conversion, now, key, source",
          "<b>Topic 60</b><br>Words: photons, telecommunications, emit, wavelengths, fiber",
          "<b>Topic 60</b><br>Words: sr, interface, longdistance, photons, fut",
          "<b>Topic 60</b><br>Words: source, bidirectionally, photons, mw, narrowband"
         ],
         "marker": {
          "color": "#D55E00"
         },
         "mode": "lines",
         "name": "60_photons_conversion_fiber_fibers",
         "type": "scatter",
         "x": [
          1998,
          1999,
          2000,
          2003,
          2012,
          2015,
          2018,
          2019,
          2023
         ],
         "y": [
          1,
          1,
          1,
          1,
          1,
          2,
          1,
          1,
          1
         ]
        },
        {
         "hoverinfo": "text",
         "hovertext": [
          "<b>Topic 61</b><br>Words: interrupting, influence, nonselective, equivalently, imagine",
          "<b>Topic 61</b><br>Words: kraus, damping, bosonic, environment, representation",
          "<b>Topic 61</b><br>Words: csm, nonlinear, central, 134, mod",
          "<b>Topic 61</b><br>Words: relation, integrab, numerics, collateral, kicked",
          "<b>Topic 61</b><br>Words: dzyaloshinskii, moriya, environment, central, breuer",
          "<b>Topic 61</b><br>Words: environment, deleterious, alone, minimize, qubit",
          "<b>Topic 61</b><br>Words: anti, general, hermitian, parity, pt",
          "<b>Topic 61</b><br>Words: anti, general, hermitian, parity, pt",
          "<b>Topic 61</b><br>Words: le, chains, transverse, xy, loschmidt",
          "<b>Topic 61</b><br>Words: minimal, asymmetry, time, dynamics, tw"
         ],
         "marker": {
          "color": "#0072B2"
         },
         "mode": "lines",
         "name": "61_environment_dynamics_qubit_le",
         "type": "scatter",
         "x": [
          1998,
          2001,
          2008,
          2009,
          2013,
          2015,
          2017,
          2019,
          2022,
          2023
         ],
         "y": [
          1,
          1,
          1,
          1,
          1,
          1,
          1,
          1,
          1,
          1
         ]
        },
        {
         "hoverinfo": "text",
         "hovertext": [
          "<b>Topic 62</b><br>Words: cloning, transformation, optimal, ͼ6, pair",
          "<b>Topic 62</b><br>Words: cloning, scheme, probabilit, bellbasis, tele",
          "<b>Topic 62</b><br>Words: cloning, realize, covariant, equatorial, economic",
          "<b>Topic 62</b><br>Words: cloning, economical, covariant, machine, clones",
          "<b>Topic 62</b><br>Words: cloning, unbalanced, microw, covariant, succeeds",
          "<b>Topic 62</b><br>Words: cloning, asymmetric, input, prohibited, asymmetrically",
          "<b>Topic 62</b><br>Words: repair, damaged, trnas, cloning, copies",
          "<b>Topic 62</b><br>Words: cloning, maximin, machine, principle, optimal",
          "<b>Topic 62</b><br>Words: cloning, clone, covariant, machines, interfering",
          "<b>Topic 62</b><br>Words: cloning, anticlone, clone, clones, adopting"
         ],
         "marker": {
          "color": "#CC79A7"
         },
         "mode": "lines",
         "name": "62_cloning_covariant_machine_repair",
         "type": "scatter",
         "x": [
          1998,
          1999,
          2000,
          2006,
          2007,
          2010,
          2017,
          2018,
          2021,
          2025
         ],
         "y": [
          1,
          1,
          1,
          1,
          1,
          1,
          1,
          1,
          1,
          1
         ]
        },
        {
         "hoverinfo": "text",
         "hovertext": [
          "<b>Topic 63</b><br>Words: zener, landau, interferometry, adiabatic, systems",
          "<b>Topic 63</b><br>Words: lzsm, soi, funnel, zener, spinorbit",
          "<b>Topic 63</b><br>Words: lzs, dressed, interference, zener, transition",
          "<b>Topic 63</b><br>Words: lzs, ac, pattern, dc, dynamic",
          "<b>Topic 63</b><br>Words: lz, zener, landau, interference, lzs",
          "<b>Topic 63</b><br>Words: lz, classic, transitions, come, swept",
          "<b>Topic 63</b><br>Words: resonant, σz, robustnes, sørensentype, σy",
          "<b>Topic 63</b><br>Words: admittance, peaks, plateau, like, superimposed"
         ],
         "marker": {
          "color": "#E69F00"
         },
         "mode": "lines",
         "name": "63_lzs_zener_landau_lz",
         "type": "scatter",
         "x": [
          1997,
          2007,
          2008,
          2010,
          2013,
          2015,
          2017,
          2023
         ],
         "y": [
          2,
          1,
          2,
          1,
          1,
          1,
          1,
          1
         ]
        },
        {
         "hoverinfo": "text",
         "hovertext": [
          "<b>Topic 64</b><br>Words: controlled, polynomial, circuit, lowdegree, over",
          "<b>Topic 64</b><br>Words: unitary, transformations, reflecting, finite, gates",
          "<b>Topic 64</b><br>Words: eigenvalues, eigenstates, know, act, unitary",
          "<b>Topic 64</b><br>Words: computationally, topologically, operations, protected, irrational",
          "<b>Topic 64</b><br>Words: unitary, gates, circuit, führ, syntheses",
          "<b>Topic 64</b><br>Words: basis, log, unitary, circuit, compilation",
          "<b>Topic 64</b><br>Words: gf, calculation, multiplicative, multiplication, inverse",
          "<b>Topic 64</b><br>Words: clifford, circuit, ancillas, matrix, unitary",
          "<b>Topic 64</b><br>Words: canonical, operator, clifford, qutrit, form"
         ],
         "marker": {
          "color": "#56B4E9"
         },
         "mode": "lines",
         "name": "64_unitary_gf_gates_circuit",
         "type": "scatter",
         "x": [
          1998,
          2002,
          2006,
          2009,
          2010,
          2011,
          2013,
          2021,
          2025
         ],
         "y": [
          1,
          1,
          1,
          1,
          1,
          1,
          1,
          2,
          1
         ]
        }
       ],
       "layout": {
        "height": 450,
        "hoverlabel": {
         "bgcolor": "white",
         "font": {
          "family": "Rockwell",
          "size": 16
         }
        },
        "legend": {
         "title": {
          "text": "<b>Global Topic Representation"
         }
        },
        "template": {
         "data": {
          "bar": [
           {
            "error_x": {
             "color": "rgb(36,36,36)"
            },
            "error_y": {
             "color": "rgb(36,36,36)"
            },
            "marker": {
             "line": {
              "color": "white",
              "width": 0.5
             },
             "pattern": {
              "fillmode": "overlay",
              "size": 10,
              "solidity": 0.2
             }
            },
            "type": "bar"
           }
          ],
          "barpolar": [
           {
            "marker": {
             "line": {
              "color": "white",
              "width": 0.5
             },
             "pattern": {
              "fillmode": "overlay",
              "size": 10,
              "solidity": 0.2
             }
            },
            "type": "barpolar"
           }
          ],
          "carpet": [
           {
            "aaxis": {
             "endlinecolor": "rgb(36,36,36)",
             "gridcolor": "white",
             "linecolor": "white",
             "minorgridcolor": "white",
             "startlinecolor": "rgb(36,36,36)"
            },
            "baxis": {
             "endlinecolor": "rgb(36,36,36)",
             "gridcolor": "white",
             "linecolor": "white",
             "minorgridcolor": "white",
             "startlinecolor": "rgb(36,36,36)"
            },
            "type": "carpet"
           }
          ],
          "choropleth": [
           {
            "colorbar": {
             "outlinewidth": 1,
             "tickcolor": "rgb(36,36,36)",
             "ticks": "outside"
            },
            "type": "choropleth"
           }
          ],
          "contour": [
           {
            "colorbar": {
             "outlinewidth": 1,
             "tickcolor": "rgb(36,36,36)",
             "ticks": "outside"
            },
            "colorscale": [
             [
              0,
              "#440154"
             ],
             [
              0.1111111111111111,
              "#482878"
             ],
             [
              0.2222222222222222,
              "#3e4989"
             ],
             [
              0.3333333333333333,
              "#31688e"
             ],
             [
              0.4444444444444444,
              "#26828e"
             ],
             [
              0.5555555555555556,
              "#1f9e89"
             ],
             [
              0.6666666666666666,
              "#35b779"
             ],
             [
              0.7777777777777778,
              "#6ece58"
             ],
             [
              0.8888888888888888,
              "#b5de2b"
             ],
             [
              1,
              "#fde725"
             ]
            ],
            "type": "contour"
           }
          ],
          "contourcarpet": [
           {
            "colorbar": {
             "outlinewidth": 1,
             "tickcolor": "rgb(36,36,36)",
             "ticks": "outside"
            },
            "type": "contourcarpet"
           }
          ],
          "heatmap": [
           {
            "colorbar": {
             "outlinewidth": 1,
             "tickcolor": "rgb(36,36,36)",
             "ticks": "outside"
            },
            "colorscale": [
             [
              0,
              "#440154"
             ],
             [
              0.1111111111111111,
              "#482878"
             ],
             [
              0.2222222222222222,
              "#3e4989"
             ],
             [
              0.3333333333333333,
              "#31688e"
             ],
             [
              0.4444444444444444,
              "#26828e"
             ],
             [
              0.5555555555555556,
              "#1f9e89"
             ],
             [
              0.6666666666666666,
              "#35b779"
             ],
             [
              0.7777777777777778,
              "#6ece58"
             ],
             [
              0.8888888888888888,
              "#b5de2b"
             ],
             [
              1,
              "#fde725"
             ]
            ],
            "type": "heatmap"
           }
          ],
          "heatmapgl": [
           {
            "colorbar": {
             "outlinewidth": 1,
             "tickcolor": "rgb(36,36,36)",
             "ticks": "outside"
            },
            "colorscale": [
             [
              0,
              "#440154"
             ],
             [
              0.1111111111111111,
              "#482878"
             ],
             [
              0.2222222222222222,
              "#3e4989"
             ],
             [
              0.3333333333333333,
              "#31688e"
             ],
             [
              0.4444444444444444,
              "#26828e"
             ],
             [
              0.5555555555555556,
              "#1f9e89"
             ],
             [
              0.6666666666666666,
              "#35b779"
             ],
             [
              0.7777777777777778,
              "#6ece58"
             ],
             [
              0.8888888888888888,
              "#b5de2b"
             ],
             [
              1,
              "#fde725"
             ]
            ],
            "type": "heatmapgl"
           }
          ],
          "histogram": [
           {
            "marker": {
             "line": {
              "color": "white",
              "width": 0.6
             }
            },
            "type": "histogram"
           }
          ],
          "histogram2d": [
           {
            "colorbar": {
             "outlinewidth": 1,
             "tickcolor": "rgb(36,36,36)",
             "ticks": "outside"
            },
            "colorscale": [
             [
              0,
              "#440154"
             ],
             [
              0.1111111111111111,
              "#482878"
             ],
             [
              0.2222222222222222,
              "#3e4989"
             ],
             [
              0.3333333333333333,
              "#31688e"
             ],
             [
              0.4444444444444444,
              "#26828e"
             ],
             [
              0.5555555555555556,
              "#1f9e89"
             ],
             [
              0.6666666666666666,
              "#35b779"
             ],
             [
              0.7777777777777778,
              "#6ece58"
             ],
             [
              0.8888888888888888,
              "#b5de2b"
             ],
             [
              1,
              "#fde725"
             ]
            ],
            "type": "histogram2d"
           }
          ],
          "histogram2dcontour": [
           {
            "colorbar": {
             "outlinewidth": 1,
             "tickcolor": "rgb(36,36,36)",
             "ticks": "outside"
            },
            "colorscale": [
             [
              0,
              "#440154"
             ],
             [
              0.1111111111111111,
              "#482878"
             ],
             [
              0.2222222222222222,
              "#3e4989"
             ],
             [
              0.3333333333333333,
              "#31688e"
             ],
             [
              0.4444444444444444,
              "#26828e"
             ],
             [
              0.5555555555555556,
              "#1f9e89"
             ],
             [
              0.6666666666666666,
              "#35b779"
             ],
             [
              0.7777777777777778,
              "#6ece58"
             ],
             [
              0.8888888888888888,
              "#b5de2b"
             ],
             [
              1,
              "#fde725"
             ]
            ],
            "type": "histogram2dcontour"
           }
          ],
          "mesh3d": [
           {
            "colorbar": {
             "outlinewidth": 1,
             "tickcolor": "rgb(36,36,36)",
             "ticks": "outside"
            },
            "type": "mesh3d"
           }
          ],
          "parcoords": [
           {
            "line": {
             "colorbar": {
              "outlinewidth": 1,
              "tickcolor": "rgb(36,36,36)",
              "ticks": "outside"
             }
            },
            "type": "parcoords"
           }
          ],
          "pie": [
           {
            "automargin": true,
            "type": "pie"
           }
          ],
          "scatter": [
           {
            "fillpattern": {
             "fillmode": "overlay",
             "size": 10,
             "solidity": 0.2
            },
            "type": "scatter"
           }
          ],
          "scatter3d": [
           {
            "line": {
             "colorbar": {
              "outlinewidth": 1,
              "tickcolor": "rgb(36,36,36)",
              "ticks": "outside"
             }
            },
            "marker": {
             "colorbar": {
              "outlinewidth": 1,
              "tickcolor": "rgb(36,36,36)",
              "ticks": "outside"
             }
            },
            "type": "scatter3d"
           }
          ],
          "scattercarpet": [
           {
            "marker": {
             "colorbar": {
              "outlinewidth": 1,
              "tickcolor": "rgb(36,36,36)",
              "ticks": "outside"
             }
            },
            "type": "scattercarpet"
           }
          ],
          "scattergeo": [
           {
            "marker": {
             "colorbar": {
              "outlinewidth": 1,
              "tickcolor": "rgb(36,36,36)",
              "ticks": "outside"
             }
            },
            "type": "scattergeo"
           }
          ],
          "scattergl": [
           {
            "marker": {
             "colorbar": {
              "outlinewidth": 1,
              "tickcolor": "rgb(36,36,36)",
              "ticks": "outside"
             }
            },
            "type": "scattergl"
           }
          ],
          "scattermapbox": [
           {
            "marker": {
             "colorbar": {
              "outlinewidth": 1,
              "tickcolor": "rgb(36,36,36)",
              "ticks": "outside"
             }
            },
            "type": "scattermapbox"
           }
          ],
          "scatterpolar": [
           {
            "marker": {
             "colorbar": {
              "outlinewidth": 1,
              "tickcolor": "rgb(36,36,36)",
              "ticks": "outside"
             }
            },
            "type": "scatterpolar"
           }
          ],
          "scatterpolargl": [
           {
            "marker": {
             "colorbar": {
              "outlinewidth": 1,
              "tickcolor": "rgb(36,36,36)",
              "ticks": "outside"
             }
            },
            "type": "scatterpolargl"
           }
          ],
          "scatterternary": [
           {
            "marker": {
             "colorbar": {
              "outlinewidth": 1,
              "tickcolor": "rgb(36,36,36)",
              "ticks": "outside"
             }
            },
            "type": "scatterternary"
           }
          ],
          "surface": [
           {
            "colorbar": {
             "outlinewidth": 1,
             "tickcolor": "rgb(36,36,36)",
             "ticks": "outside"
            },
            "colorscale": [
             [
              0,
              "#440154"
             ],
             [
              0.1111111111111111,
              "#482878"
             ],
             [
              0.2222222222222222,
              "#3e4989"
             ],
             [
              0.3333333333333333,
              "#31688e"
             ],
             [
              0.4444444444444444,
              "#26828e"
             ],
             [
              0.5555555555555556,
              "#1f9e89"
             ],
             [
              0.6666666666666666,
              "#35b779"
             ],
             [
              0.7777777777777778,
              "#6ece58"
             ],
             [
              0.8888888888888888,
              "#b5de2b"
             ],
             [
              1,
              "#fde725"
             ]
            ],
            "type": "surface"
           }
          ],
          "table": [
           {
            "cells": {
             "fill": {
              "color": "rgb(237,237,237)"
             },
             "line": {
              "color": "white"
             }
            },
            "header": {
             "fill": {
              "color": "rgb(217,217,217)"
             },
             "line": {
              "color": "white"
             }
            },
            "type": "table"
           }
          ]
         },
         "layout": {
          "annotationdefaults": {
           "arrowhead": 0,
           "arrowwidth": 1
          },
          "autotypenumbers": "strict",
          "coloraxis": {
           "colorbar": {
            "outlinewidth": 1,
            "tickcolor": "rgb(36,36,36)",
            "ticks": "outside"
           }
          },
          "colorscale": {
           "diverging": [
            [
             0,
             "rgb(103,0,31)"
            ],
            [
             0.1,
             "rgb(178,24,43)"
            ],
            [
             0.2,
             "rgb(214,96,77)"
            ],
            [
             0.3,
             "rgb(244,165,130)"
            ],
            [
             0.4,
             "rgb(253,219,199)"
            ],
            [
             0.5,
             "rgb(247,247,247)"
            ],
            [
             0.6,
             "rgb(209,229,240)"
            ],
            [
             0.7,
             "rgb(146,197,222)"
            ],
            [
             0.8,
             "rgb(67,147,195)"
            ],
            [
             0.9,
             "rgb(33,102,172)"
            ],
            [
             1,
             "rgb(5,48,97)"
            ]
           ],
           "sequential": [
            [
             0,
             "#440154"
            ],
            [
             0.1111111111111111,
             "#482878"
            ],
            [
             0.2222222222222222,
             "#3e4989"
            ],
            [
             0.3333333333333333,
             "#31688e"
            ],
            [
             0.4444444444444444,
             "#26828e"
            ],
            [
             0.5555555555555556,
             "#1f9e89"
            ],
            [
             0.6666666666666666,
             "#35b779"
            ],
            [
             0.7777777777777778,
             "#6ece58"
            ],
            [
             0.8888888888888888,
             "#b5de2b"
            ],
            [
             1,
             "#fde725"
            ]
           ],
           "sequentialminus": [
            [
             0,
             "#440154"
            ],
            [
             0.1111111111111111,
             "#482878"
            ],
            [
             0.2222222222222222,
             "#3e4989"
            ],
            [
             0.3333333333333333,
             "#31688e"
            ],
            [
             0.4444444444444444,
             "#26828e"
            ],
            [
             0.5555555555555556,
             "#1f9e89"
            ],
            [
             0.6666666666666666,
             "#35b779"
            ],
            [
             0.7777777777777778,
             "#6ece58"
            ],
            [
             0.8888888888888888,
             "#b5de2b"
            ],
            [
             1,
             "#fde725"
            ]
           ]
          },
          "colorway": [
           "#1F77B4",
           "#FF7F0E",
           "#2CA02C",
           "#D62728",
           "#9467BD",
           "#8C564B",
           "#E377C2",
           "#7F7F7F",
           "#BCBD22",
           "#17BECF"
          ],
          "font": {
           "color": "rgb(36,36,36)"
          },
          "geo": {
           "bgcolor": "white",
           "lakecolor": "white",
           "landcolor": "white",
           "showlakes": true,
           "showland": true,
           "subunitcolor": "white"
          },
          "hoverlabel": {
           "align": "left"
          },
          "hovermode": "closest",
          "mapbox": {
           "style": "light"
          },
          "paper_bgcolor": "white",
          "plot_bgcolor": "white",
          "polar": {
           "angularaxis": {
            "gridcolor": "rgb(232,232,232)",
            "linecolor": "rgb(36,36,36)",
            "showgrid": false,
            "showline": true,
            "ticks": "outside"
           },
           "bgcolor": "white",
           "radialaxis": {
            "gridcolor": "rgb(232,232,232)",
            "linecolor": "rgb(36,36,36)",
            "showgrid": false,
            "showline": true,
            "ticks": "outside"
           }
          },
          "scene": {
           "xaxis": {
            "backgroundcolor": "white",
            "gridcolor": "rgb(232,232,232)",
            "gridwidth": 2,
            "linecolor": "rgb(36,36,36)",
            "showbackground": true,
            "showgrid": false,
            "showline": true,
            "ticks": "outside",
            "zeroline": false,
            "zerolinecolor": "rgb(36,36,36)"
           },
           "yaxis": {
            "backgroundcolor": "white",
            "gridcolor": "rgb(232,232,232)",
            "gridwidth": 2,
            "linecolor": "rgb(36,36,36)",
            "showbackground": true,
            "showgrid": false,
            "showline": true,
            "ticks": "outside",
            "zeroline": false,
            "zerolinecolor": "rgb(36,36,36)"
           },
           "zaxis": {
            "backgroundcolor": "white",
            "gridcolor": "rgb(232,232,232)",
            "gridwidth": 2,
            "linecolor": "rgb(36,36,36)",
            "showbackground": true,
            "showgrid": false,
            "showline": true,
            "ticks": "outside",
            "zeroline": false,
            "zerolinecolor": "rgb(36,36,36)"
           }
          },
          "shapedefaults": {
           "fillcolor": "black",
           "line": {
            "width": 0
           },
           "opacity": 0.3
          },
          "ternary": {
           "aaxis": {
            "gridcolor": "rgb(232,232,232)",
            "linecolor": "rgb(36,36,36)",
            "showgrid": false,
            "showline": true,
            "ticks": "outside"
           },
           "baxis": {
            "gridcolor": "rgb(232,232,232)",
            "linecolor": "rgb(36,36,36)",
            "showgrid": false,
            "showline": true,
            "ticks": "outside"
           },
           "bgcolor": "white",
           "caxis": {
            "gridcolor": "rgb(232,232,232)",
            "linecolor": "rgb(36,36,36)",
            "showgrid": false,
            "showline": true,
            "ticks": "outside"
           }
          },
          "title": {
           "x": 0.05
          },
          "xaxis": {
           "automargin": true,
           "gridcolor": "rgb(232,232,232)",
           "linecolor": "rgb(36,36,36)",
           "showgrid": false,
           "showline": true,
           "ticks": "outside",
           "title": {
            "standoff": 15
           },
           "zeroline": false,
           "zerolinecolor": "rgb(36,36,36)"
          },
          "yaxis": {
           "automargin": true,
           "gridcolor": "rgb(232,232,232)",
           "linecolor": "rgb(36,36,36)",
           "showgrid": false,
           "showline": true,
           "ticks": "outside",
           "title": {
            "standoff": 15
           },
           "zeroline": false,
           "zerolinecolor": "rgb(36,36,36)"
          }
         }
        },
        "title": {
         "font": {
          "color": "Black",
          "size": 22
         },
         "text": "<b>Topics over Time</b>",
         "x": 0.4,
         "xanchor": "center",
         "y": 0.95,
         "yanchor": "top"
        },
        "width": 1250,
        "xaxis": {
         "showgrid": true
        },
        "yaxis": {
         "showgrid": true,
         "title": {
          "text": "Frequency"
         }
        }
       }
      }
     },
     "metadata": {},
     "output_type": "display_data"
    }
   ],
   "source": [
    "topics_over_time = topic_model.topics_over_time(docs, timestamps)\n",
    "topic_model.visualize_topics_over_time(topics_over_time)"
   ]
  },
  {
   "cell_type": "markdown",
   "metadata": {},
   "source": [
    "# 参数调整"
   ]
  },
  {
   "cell_type": "code",
   "execution_count": 9,
   "metadata": {},
   "outputs": [
    {
     "data": {
      "application/vnd.plotly.v1+json": {
       "config": {
        "plotlyServerURL": "https://plot.ly"
       },
       "data": [
        {
         "hoverinfo": "text",
         "hovertext": [
          "<b>Topic 0</b><br>Words: superconductors, topological, mzms, vortices, monolayered",
          "<b>Topic 0</b><br>Words: majorana, anions, reversal, invariant, generalized",
          "<b>Topic 0</b><br>Words: superconductivity, mbs, qh, bilayers, topological",
          "<b>Topic 0</b><br>Words: majorana, topological, contacts, promote, superconductivity",
          "<b>Topic 0</b><br>Words: wire, subgap, energies, topological, superconducting",
          "<b>Topic 0</b><br>Words: nematic, phases, fermions, majorana, cores",
          "<b>Topic 0</b><br>Words: trsb, loss, ac, fermion, fete",
          "<b>Topic 0</b><br>Words: sb, te, gete, soliton, superlattice",
          "<b>Topic 0</b><br>Words: topological, se, reversal, tsss, trsb",
          "<b>Topic 0</b><br>Words: ferromagnet, superconductor, sfifs, tqc, majorana",
          "<b>Topic 0</b><br>Words: topological, fermions, dirac, majorana, superconductivity",
          "<b>Topic 0</b><br>Words: topological, surface, mzms, metallic, half",
          "<b>Topic 0</b><br>Words: hybridized, topological, gd, superconductivity, fermions",
          "<b>Topic 0</b><br>Words: tis, proximity, insulator, exfoliate, superconductor",
          "<b>Topic 0</b><br>Words: srpt, ysr, impurities, identified, gap",
          "<b>Topic 0</b><br>Words: subgap, superconductors, majorana, end, fermionic",
          "<b>Topic 0</b><br>Words: superconductivity, triplet, bi2212, elusive, proximity",
          "<b>Topic 0</b><br>Words: fm, sc, topological, pairing, superconductivity",
          "<b>Topic 0</b><br>Words: topological, insulators, iii, strain, semiconductors",
          "<b>Topic 0</b><br>Words: majorana, mzm, unconventional, layered, vortex",
          "<b>Topic 0</b><br>Words: tsss, topological, semimetal, symmetry, pairing",
          "<b>Topic 0</b><br>Words: kink, qshis, berkovits, brane, ruthenate",
          "<b>Topic 0</b><br>Words: bi, te, pressure, nominal, infinitely",
          "<b>Topic 0</b><br>Words: superconductor, unpaired, constitutes, majorana, ordinary",
          "<b>Topic 0</b><br>Words: co, zero, kagome, majorana, calculations",
          "<b>Topic 0</b><br>Words: si, topological, superlattice, gap, 001",
          "<b>Topic 0</b><br>Words: inflaton, topological, surface, tsc, insulator",
          "<b>Topic 0</b><br>Words: vortex, zero, vorticity, majorana, silver",
          "<b>Topic 0</b><br>Words: ip, sc, superfluid, dopi, awaiting"
         ],
         "marker": {
          "color": "#E69F00"
         },
         "mode": "lines",
         "name": "0_topological_majorana_superconductivity...",
         "type": "scatter",
         "x": [
          1997,
          1998,
          1999,
          2000,
          2001,
          2002,
          2003,
          2004,
          2005,
          2006,
          2007,
          2008,
          2009,
          2010,
          2011,
          2012,
          2013,
          2014,
          2015,
          2016,
          2017,
          2018,
          2019,
          2020,
          2021,
          2022,
          2023,
          2024,
          2025
         ],
         "y": [
          2,
          5,
          4,
          4,
          5,
          3,
          4,
          2,
          6,
          3,
          4,
          4,
          2,
          3,
          2,
          2,
          2,
          3,
          2,
          3,
          3,
          3,
          1,
          1,
          4,
          5,
          6,
          7,
          2
         ]
        },
        {
         "hoverinfo": "text",
         "hovertext": [
          "<b>Topic 1</b><br>Words: what, searched, world, question, search",
          "<b>Topic 1</b><br>Words: names, healthcare, sustainability, naming, street",
          "<b>Topic 1</b><br>Words: problems, citizen, game, solve, growth",
          "<b>Topic 1</b><br>Words: learning, algorithms, machine, mbqc, computers",
          "<b>Topic 1</b><br>Words: mobile, web, traffic, progress, library",
          "<b>Topic 1</b><br>Words: toxicity, compounds, predicting, clinical, discernible",
          "<b>Topic 1</b><br>Words: classical, computers, goal, technique, powerful",
          "<b>Topic 1</b><br>Words: domain, undergone, comprehend, henceforth, scopus",
          "<b>Topic 1</b><br>Words: validation, day, grover, help, classification",
          "<b>Topic 1</b><br>Words: cryptography, qaml, learned, learning, complexity",
          "<b>Topic 1</b><br>Words: text, statements, cgan, experimentally, accessible",
          "<b>Topic 1</b><br>Words: once, running, depth, limited, lost",
          "<b>Topic 1</b><br>Words: optimization, adiabatic, simulates, instances, insight",
          "<b>Topic 1</b><br>Words: word, meanings, disambiguation, texts, senses",
          "<b>Topic 1</b><br>Words: heterogeneous, algorithm, age, performance, problem",
          "<b>Topic 1</b><br>Words: neuromorphic, inspired, approaches, neural, propertie",
          "<b>Topic 1</b><br>Words: validation, classification, cross, portions, performance",
          "<b>Topic 1</b><br>Words: supremacy, scalability, solving, path, half",
          "<b>Topic 1</b><br>Words: factors, promotive, health, youth, promote",
          "<b>Topic 1</b><br>Words: sampling, major, tasks, essential, doubtlessly",
          "<b>Topic 1</b><br>Words: health, elderly, status, rural, 2015",
          "<b>Topic 1</b><br>Words: qc, ai, pmqc, hqdnn, cnn",
          "<b>Topic 1</b><br>Words: learning, iot, hardware, task, smart",
          "<b>Topic 1</b><br>Words: educational, instructors, mining, performance, evaluate",
          "<b>Topic 1</b><br>Words: search, schweiler, bru, modified, qnne",
          "<b>Topic 1</b><br>Words: his, languageevolution, bolster, 158, faust",
          "<b>Topic 1</b><br>Words: ai, denoising, healthcare, image, he",
          "<b>Topic 1</b><br>Words: learning, science, curriculum, actions, traverse",
          "<b>Topic 1</b><br>Words: quantum, algorithm, database, open, wind"
         ],
         "marker": {
          "color": "#56B4E9"
         },
         "mode": "lines",
         "name": "1_quantum_learning_computers_computing",
         "type": "scatter",
         "x": [
          1997,
          1998,
          1999,
          2000,
          2001,
          2002,
          2003,
          2004,
          2005,
          2006,
          2007,
          2008,
          2009,
          2010,
          2011,
          2012,
          2013,
          2014,
          2015,
          2016,
          2017,
          2018,
          2019,
          2020,
          2021,
          2022,
          2023,
          2024,
          2025
         ],
         "y": [
          3,
          3,
          3,
          2,
          4,
          2,
          5,
          1,
          4,
          6,
          3,
          2,
          1,
          2,
          4,
          1,
          1,
          2,
          4,
          3,
          6,
          2,
          4,
          3,
          5,
          3,
          7,
          2,
          4
         ]
        },
        {
         "hoverinfo": "text",
         "hovertext": [
          "<b>Topic 2</b><br>Words: pr, ce, eedf, homogeneous, ionization",
          "<b>Topic 2</b><br>Words: microscope, head, helium, photoluminescence, ms",
          "<b>Topic 2</b><br>Words: bandwidth, doppler, 9d, nanobelt, sidebands",
          "<b>Topic 2</b><br>Words: beta, discharges, eu, 3þ, neighboring",
          "<b>Topic 2</b><br>Words: sections, cross, watson, faddeev, uhv",
          "<b>Topic 2</b><br>Words: heavy, lifetime, decelerate, hitrap, decelerating",
          "<b>Topic 2</b><br>Words: shock, wave, gas, front, ultraviolet",
          "<b>Topic 2</b><br>Words: file, fusion, european, project, funded",
          "<b>Topic 2</b><br>Words: heat, arc, ccsd, ash, furnace",
          "<b>Topic 2</b><br>Words: smbi, 2s, section, production, process",
          "<b>Topic 2</b><br>Words: ionization, discharge, hv, ns, circuit",
          "<b>Topic 2</b><br>Words: tokamak, itb, ion, barrier, species",
          "<b>Topic 2</b><br>Words: 2p, 5p, continua, l2, unfilled",
          "<b>Topic 2</b><br>Words: delayed, ker, bandwidth, pes, ion",
          "<b>Topic 2</b><br>Words: dioxane, lefs, spj, 55, das",
          "<b>Topic 2</b><br>Words: breakdown, absorbance, molecular, threshold, weight",
          "<b>Topic 2</b><br>Words: net, saturable, gvd, ionisation, radiation",
          "<b>Topic 2</b><br>Words: wavepacket, ho, liho, scarl, laser",
          "<b>Topic 2</b><br>Words: purified, ion, sqes, er, hole",
          "<b>Topic 2</b><br>Words: laser, 373, nm, clock, frequency",
          "<b>Topic 2</b><br>Words: ion, 032, fs, sheath, drive",
          "<b>Topic 2</b><br>Words: laser, 7d, ejected, nl, atoms",
          "<b>Topic 2</b><br>Words: ms, quadrupole, excitation, 266, fractions",
          "<b>Topic 2</b><br>Words: transition, discharge, propagating, frequency, balmer",
          "<b>Topic 2</b><br>Words: mse, cooling, trap, cpb, 𝐶𝑎"
         ],
         "marker": {
          "color": "#009E73"
         },
         "mode": "lines",
         "name": "2_laser_ion_the_ions",
         "type": "scatter",
         "x": [
          1997,
          1998,
          1999,
          2000,
          2001,
          2003,
          2004,
          2005,
          2006,
          2007,
          2009,
          2011,
          2012,
          2013,
          2014,
          2015,
          2016,
          2018,
          2019,
          2020,
          2021,
          2022,
          2023,
          2024,
          2025
         ],
         "y": [
          5,
          4,
          3,
          2,
          5,
          2,
          2,
          1,
          3,
          3,
          4,
          3,
          1,
          7,
          4,
          4,
          3,
          3,
          6,
          4,
          7,
          3,
          1,
          4,
          3
         ]
        },
        {
         "hoverinfo": "text",
         "hovertext": [
          "<b>Topic 3</b><br>Words: events, smbh, stars, debris, halo",
          "<b>Topic 3</b><br>Words: stars, orbits, velocities, gamma, 111209a",
          "<b>Topic 3</b><br>Words: clusters, cloud, galaxy, smc, virgo",
          "<b>Topic 3</b><br>Words: stream, stars, orphan, rrab, dex",
          "<b>Topic 3</b><br>Words: iter, breaks, ir, likely, jet",
          "<b>Topic 3</b><br>Words: cm, fluctuations, forest, minihalos, cosmic",
          "<b>Topic 3</b><br>Words: galaxies, survey, imaging, uv, cluster",
          "<b>Topic 3</b><br>Words: ray, elliptical, coverage, flexions, broad",
          "<b>Topic 3</b><br>Words: dust, galaxies, arp, ulxs, binary",
          "<b>Topic 3</b><br>Words: stars, asteroseismic, periods, formation, seismic",
          "<b>Topic 3</b><br>Words: tectonics, fe, mean, martian, kamland",
          "<b>Topic 3</b><br>Words: stars, galaxy, eff, galaxies, 000",
          "<b>Topic 3</b><br>Words: energetic, yr, heliosheath, v1, vlbi",
          "<b>Topic 3</b><br>Words: stars, binary, changes, jupiter, smbh",
          "<b>Topic 3</b><br>Words: stars, halo, abundance, conclusion, ray",
          "<b>Topic 3</b><br>Words: stream, arrival, ebl, gamma, orphan",
          "<b>Topic 3</b><br>Words: maser, galaxy, outburst, submillimeter, lib",
          "<b>Topic 3</b><br>Words: neutrinos, sno, detector, solar, being",
          "<b>Topic 3</b><br>Words: subhalos, ray, qpos, magnetars, sgr",
          "<b>Topic 3</b><br>Words: stream, mc, orphan, rrab, dex",
          "<b>Topic 3</b><br>Words: emission, solar, wind, vo, yvo",
          "<b>Topic 3</b><br>Words: tidal, young, vlbi, jet, galaxy",
          "<b>Topic 3</b><br>Words: ray, ips, sensitivity, bas, ridge",
          "<b>Topic 3</b><br>Words: stellarator, rotational, current, superimposing, atj",
          "<b>Topic 3</b><br>Words: ska, mwa, radio, array, frequency",
          "<b>Topic 3</b><br>Words: planet, brown, aur, observations, dwarfs"
         ],
         "marker": {
          "color": "#F0E442"
         },
         "mode": "lines",
         "name": "3_stars_ray_star_galaxies",
         "type": "scatter",
         "x": [
          1998,
          1999,
          2000,
          2001,
          2004,
          2005,
          2006,
          2007,
          2008,
          2009,
          2010,
          2011,
          2012,
          2013,
          2014,
          2015,
          2016,
          2017,
          2018,
          2019,
          2020,
          2021,
          2022,
          2023,
          2024,
          2025
         ],
         "y": [
          4,
          5,
          2,
          2,
          2,
          1,
          4,
          5,
          3,
          4,
          3,
          3,
          3,
          3,
          4,
          7,
          3,
          1,
          5,
          3,
          3,
          2,
          2,
          1,
          1,
          4
         ]
        },
        {
         "hoverinfo": "text",
         "hovertext": [
          "<b>Topic 4</b><br>Words: cz, grape, qber, imperfect, pulse",
          "<b>Topic 4</b><br>Words: deterministic, passively, unnecessary, temporary, gate",
          "<b>Topic 4</b><br>Words: cavity, entangling, rydberg, centre, nv",
          "<b>Topic 4</b><br>Words: cavity, atoms, cavities, momenta, qudits",
          "<b>Topic 4</b><br>Words: ion, qed, atom, cavity, pulse",
          "<b>Topic 4</b><br>Words: antiblockade, gate, simultaneously, condition, rydberg",
          "<b>Topic 4</b><br>Words: ladder, emitter, geometrical, cavities, interqubit",
          "<b>Topic 4</b><br>Words: scheme, implement, conditional, atoms, cavity",
          "<b>Topic 4</b><br>Words: presently, ions, lamb, lasers, outside",
          "<b>Topic 4</b><br>Words: multimode, cavity, 3d, qed, acros",
          "<b>Topic 4</b><br>Words: atom, fullerenes, gate, vibrational, universali",
          "<b>Topic 4</b><br>Words: qutrits, gate, qutrit, lattice, jaksch",
          "<b>Topic 4</b><br>Words: nondestructive, compact, swap, beats, scheme",
          "<b>Topic 4</b><br>Words: gate, success, phase, multiqubit, loss",
          "<b>Topic 4</b><br>Words: trap, detuned, sites, arrays, individual",
          "<b>Topic 4</b><br>Words: dipole, rydberg, hold, gate, off",
          "<b>Topic 4</b><br>Words: variable, continuous, gate, cavity, trapped",
          "<b>Topic 4</b><br>Words: resilience, gates, limits, amplitudeshaped, trapped",
          "<b>Topic 4</b><br>Words: already, efficiency, cavitywaveguide, coupling, 24",
          "<b>Topic 4</b><br>Words: gate, carrier, rydberg, emitter, cavity",
          "<b>Topic 4</b><br>Words: ber, traps, ffiffiffiffiffiffiffiffiffiffi, cant, ffi",
          "<b>Topic 4</b><br>Words: tunable, speed, nonradiative, banacloche, emissioninduced",
          "<b>Topic 4</b><br>Words: cavity, multimode, fractional, passage, 3d",
          "<b>Topic 4</b><br>Words: isolator, mzi, bandwidth, path, length",
          "<b>Topic 4</b><br>Words: gate, cavity, jay, utilising, exceed",
          "<b>Topic 4</b><br>Words: body, motion, trapped, opera, atomic",
          "<b>Topic 4</b><br>Words: ultrafast, rydberg, bit, gate, transform"
         ],
         "marker": {
          "color": "#D55E00"
         },
         "mode": "lines",
         "name": "4_gate_cavity_atoms_gates",
         "type": "scatter",
         "x": [
          1997,
          1998,
          1999,
          2000,
          2001,
          2003,
          2004,
          2005,
          2006,
          2007,
          2008,
          2009,
          2011,
          2012,
          2013,
          2014,
          2015,
          2016,
          2017,
          2018,
          2019,
          2020,
          2021,
          2022,
          2023,
          2024,
          2025
         ],
         "y": [
          4,
          1,
          3,
          4,
          6,
          4,
          5,
          2,
          1,
          1,
          3,
          2,
          2,
          2,
          1,
          3,
          5,
          2,
          1,
          5,
          2,
          3,
          2,
          1,
          1,
          1,
          4
         ]
        },
        {
         "hoverinfo": "text",
         "hovertext": [
          "<b>Topic 5</b><br>Words: centers, diamond, room, color, pdmr",
          "<b>Topic 5</b><br>Words: p1, gyromagnetic, nuclear, diamond, many",
          "<b>Topic 5</b><br>Words: initialization, chopped, appr, initialize, nuclear",
          "<b>Topic 5</b><br>Words: concentration, nitrogen, vacancy, pulses, nv",
          "<b>Topic 5</b><br>Words: center, phonon, siv, intensity, hinges",
          "<b>Topic 5</b><br>Words: lac, initio, ab, determine, yielding",
          "<b>Topic 5</b><br>Words: diamond, nitrogen, nv, vacancy, center",
          "<b>Topic 5</b><br>Words: nv, triplet, ground, spin, furthermo",
          "<b>Topic 5</b><br>Words: nv, vacancy, centers, nm, optical",
          "<b>Topic 5</b><br>Words: nitron, diamond, photoelectric, vacancy, electronic",
          "<b>Topic 5</b><br>Words: vacancy, defects, optical, nitrogen, biomedical",
          "<b>Topic 5</b><br>Words: sensing, capturing, diamon, plasmonic, deconvolution",
          "<b>Topic 5</b><br>Words: siv, diamond, centers, nv, vacancy",
          "<b>Topic 5</b><br>Words: diamond, nitrogen, collection, na, spins",
          "<b>Topic 5</b><br>Words: centre, nv, resonan, signs, infer",
          "<b>Topic 5</b><br>Words: diamond, hz, frequencies, component, precision",
          "<b>Topic 5</b><br>Words: irradiation, nitrogen, vacancy, annealing, charged",
          "<b>Topic 5</b><br>Words: hyperfine, nuclear, diamond, nv, static",
          "<b>Topic 5</b><br>Words: photoluminescence, nv, center, nitrogen, exhibits",
          "<b>Topic 5</b><br>Words: nv, spl, nanosensing, nitrogen, diamond",
          "<b>Topic 5</b><br>Words: nv, diamond, color, center, vacancy",
          "<b>Topic 5</b><br>Words: cult, invisible, diffi, photoluminescent, imagine",
          "<b>Topic 5</b><br>Words: color, ising, nisq, nuclear, center",
          "<b>Topic 5</b><br>Words: defects, materials, center, 2d, principles",
          "<b>Topic 5</b><br>Words: nv, centers, hfi, gallium, spins",
          "<b>Topic 5</b><br>Words: diamond, zpl, color, 3c, line"
         ],
         "marker": {
          "color": "#0072B2"
         },
         "mode": "lines",
         "name": "5_diamond_nv_vacancy_nitrogen",
         "type": "scatter",
         "x": [
          1997,
          1998,
          1999,
          2000,
          2001,
          2002,
          2003,
          2004,
          2005,
          2006,
          2007,
          2008,
          2009,
          2010,
          2011,
          2012,
          2013,
          2014,
          2015,
          2016,
          2017,
          2019,
          2021,
          2022,
          2023,
          2024
         ],
         "y": [
          2,
          2,
          1,
          2,
          2,
          1,
          5,
          2,
          4,
          2,
          2,
          2,
          3,
          2,
          1,
          2,
          2,
          2,
          2,
          1,
          5,
          1,
          3,
          2,
          3,
          5
         ]
        },
        {
         "hoverinfo": "text",
         "hovertext": [
          "<b>Topic 6</b><br>Words: cpi, hierarchy, translates, state, systems",
          "<b>Topic 6</b><br>Words: irreducible, protocol, reduction, would, require",
          "<b>Topic 6</b><br>Words: teleported, teleportation, environment, direction, assists",
          "<b>Topic 6</b><br>Words: twisted, cold, neutral, dipole, smalle",
          "<b>Topic 6</b><br>Words: bidirectional, teleportation, scheme, improved, need",
          "<b>Topic 6</b><br>Words: sender, transformation, operator, receivers, schemes",
          "<b>Topic 6</b><br>Words: teleportation, scheme, channel, entangled, state",
          "<b>Topic 6</b><br>Words: remote, particle, projective, type, entangling",
          "<b>Topic 6</b><br>Words: interconversion, tripartite, zeilinger, greenberger, horne",
          "<b>Topic 6</b><br>Words: sequential, generation, multiqubit, portion, recipe",
          "<b>Topic 6</b><br>Words: agents, grade, agent, dissipatively, upper",
          "<b>Topic 6</b><br>Words: distributing, asymmetric, network, entanglement, adapting",
          "<b>Topic 6</b><br>Words: mqsts, multi, measurements, scheme, faithfully",
          "<b>Topic 6</b><br>Words: teleportation, average, initial, channel, 01",
          "<b>Topic 6</b><br>Words: telecloning, reverse, aepct, microph, wang",
          "<b>Topic 6</b><br>Words: relay, peps, networks, poissonian, ideally",
          "<b>Topic 6</b><br>Words: su, preparation, bloch, entangled, remote",
          "<b>Topic 6</b><br>Words: packet, flip, stationary, wave, among",
          "<b>Topic 6</b><br>Words: deviation, channels, fidelity, receivers, superfluid",
          "<b>Topic 6</b><br>Words: player, game, eisert, lewenstein, prisoner",
          "<b>Topic 6</b><br>Words: ent, arranged, 2s, required, sender",
          "<b>Topic 6</b><br>Words: controller, multipartite, users, generation, interconversion",
          "<b>Topic 6</b><br>Words: rydberg, resona, bell, entangle, atoms",
          "<b>Topic 6</b><br>Words: unit, infinite, conductor, entangled, teleportation",
          "<b>Topic 6</b><br>Words: kitaev, rainbow, chain, was, bond",
          "<b>Topic 6</b><br>Words: schemes, state, ingenious, announces, him"
         ],
         "marker": {
          "color": "#CC79A7"
         },
         "mode": "lines",
         "name": "6_teleportation_entangled_scheme_state",
         "type": "scatter",
         "x": [
          1998,
          1999,
          2000,
          2001,
          2003,
          2004,
          2005,
          2006,
          2007,
          2008,
          2009,
          2010,
          2011,
          2012,
          2013,
          2014,
          2015,
          2016,
          2017,
          2018,
          2019,
          2020,
          2021,
          2022,
          2024,
          2025
         ],
         "y": [
          2,
          3,
          1,
          2,
          3,
          3,
          3,
          2,
          1,
          2,
          3,
          3,
          1,
          1,
          1,
          2,
          2,
          1,
          3,
          1,
          3,
          5,
          1,
          4,
          1,
          2
         ]
        },
        {
         "hoverinfo": "text",
         "hovertext": [
          "<b>Topic 7</b><br>Words: cavity, 2p, mhz, rate, charge",
          "<b>Topic 7</b><br>Words: sige, variability, strained, germanium, scanning",
          "<b>Topic 7</b><br>Words: sweeps, diamonds, hysteresis, mev, coulomb",
          "<b>Topic 7</b><br>Words: hole, dot, exciton, molecule, dots",
          "<b>Topic 7</b><br>Words: dots, spin, resonator, leakage, quantum",
          "<b>Topic 7</b><br>Words: microwave, pho, silicon, single, issue",
          "<b>Topic 7</b><br>Words: accumulation, being, readout, networks, assisting",
          "<b>Topic 7</b><br>Words: ml, navigate, autotuning, timeconsuming, trained",
          "<b>Topic 7</b><br>Words: alkaline, leverage, ultranarrow, atoms, nuclear",
          "<b>Topic 7</b><br>Words: dots, electrons, ned, concentric, occupied",
          "<b>Topic 7</b><br>Words: valley, photonic, nanocrystal, biexciton, dots",
          "<b>Topic 7</b><br>Words: dsets, nanosheet, device, dot, quadruple",
          "<b>Topic 7</b><br>Words: photonic, silicon, developed, ultralonglived, unlock",
          "<b>Topic 7</b><br>Words: rff, atoms, qds, long, qdm",
          "<b>Topic 7</b><br>Words: dots, tuning, defined, hurdle, easing",
          "<b>Topic 7</b><br>Words: tqd, qds, coulomb, defined, diamonds",
          "<b>Topic 7</b><br>Words: valley, triplet, interconnectivity, transportation, architectural",
          "<b>Topic 7</b><br>Words: spin, dot, injection, carrier, scalability",
          "<b>Topic 7</b><br>Words: dots, dot, intervalley, resonance, initially",
          "<b>Topic 7</b><br>Words: splitting, tocharge, biases, extracts, smoothly",
          "<b>Topic 7</b><br>Words: splitting, valley, si, sweeps, slow",
          "<b>Topic 7</b><br>Words: link, blueprint, incorporate, spincharge, pres",
          "<b>Topic 7</b><br>Words: array, purification, design, dots, dot",
          "<b>Topic 7</b><br>Words: qds, hole, dots, amenable, moleculelike",
          "<b>Topic 7</b><br>Words: spins, interactions, pairwise, efficiently, arrays"
         ],
         "marker": {
          "color": "#E69F00"
         },
         "mode": "lines",
         "name": "7_dots_dot_spin_quantum",
         "type": "scatter",
         "x": [
          1997,
          1998,
          2000,
          2001,
          2002,
          2003,
          2004,
          2005,
          2006,
          2007,
          2008,
          2009,
          2010,
          2011,
          2013,
          2015,
          2016,
          2017,
          2018,
          2019,
          2020,
          2021,
          2022,
          2023,
          2024
         ],
         "y": [
          2,
          2,
          2,
          3,
          4,
          1,
          2,
          1,
          1,
          2,
          3,
          5,
          1,
          2,
          2,
          2,
          2,
          4,
          3,
          1,
          2,
          2,
          4,
          1,
          2
         ]
        },
        {
         "hoverinfo": "text",
         "hovertext": [
          "<b>Topic 8</b><br>Words: aq, ph, oer, koh, reaction",
          "<b>Topic 8</b><br>Words: smbamn, cathode, symmetrical, material, anode",
          "<b>Topic 8</b><br>Words: zr, cu, sbvn, ferroelectrics, 4d",
          "<b>Topic 8</b><br>Words: fe, phonon, triangles, multiplet, bridged",
          "<b>Topic 8</b><br>Words: azimuthally, r1, ussr, metre, academy",
          "<b>Topic 8</b><br>Words: multiferroic, sound, anomalies, commensurate, zr",
          "<b>Topic 8</b><br>Words: magnetization, type, rster, resonances, eit",
          "<b>Topic 8</b><br>Words: hysteresis, bto, pockels, pfm, ss",
          "<b>Topic 8</b><br>Words: yb, atoms, length, srtio, quantumcomputing",
          "<b>Topic 8</b><br>Words: sublattice, bnoo, praseodymium, calculated, rydberg",
          "<b>Topic 8</b><br>Words: trensal, muon, relaxation, isostructural, triethylamine",
          "<b>Topic 8</b><br>Words: 1440, roper, main, collaborat, radially",
          "<b>Topic 8</b><br>Words: np, body, doping, ns, χg",
          "<b>Topic 8</b><br>Words: absorption, resonance, electromagnetic, radiation, temperature",
          "<b>Topic 8</b><br>Words: rotational, unit, raman, spectrum, diatomic",
          "<b>Topic 8</b><br>Words: nazn, rf, temperature, magnetic, rabi",
          "<b>Topic 8</b><br>Words: trimers, rydberg, energies, csðnd, nonadditive",
          "<b>Topic 8</b><br>Words: 6h, nitif, rabi, nisnf, 6h20",
          "<b>Topic 8</b><br>Words: relaxation, ci, nqr, proton, pulsed",
          "<b>Topic 8</b><br>Words: vicinal, cu, 001, fe3, lines",
          "<b>Topic 8</b><br>Words: crystal, relaxation, magnetization, yb, magnetic",
          "<b>Topic 8</b><br>Words: diffraction, cucl, lanb, fe, compounds",
          "<b>Topic 8</b><br>Words: deuterium, titanium, he, loaded, anomalous"
         ],
         "marker": {
          "color": "#56B4E9"
         },
         "mode": "lines",
         "name": "8_magnetic_resonance_temperature_the",
         "type": "scatter",
         "x": [
          1997,
          1998,
          1999,
          2001,
          2002,
          2003,
          2004,
          2005,
          2006,
          2007,
          2008,
          2009,
          2010,
          2011,
          2012,
          2013,
          2014,
          2016,
          2018,
          2020,
          2021,
          2024,
          2025
         ],
         "y": [
          1,
          1,
          2,
          1,
          1,
          2,
          3,
          4,
          2,
          4,
          1,
          1,
          2,
          2,
          1,
          3,
          1,
          2,
          2,
          2,
          5,
          6,
          1
         ]
        },
        {
         "hoverinfo": "text",
         "hovertext": [
          "<b>Topic 9</b><br>Words: noise, trajectories, played, environments, chaotic",
          "<b>Topic 9</b><br>Words: dd, supplementing, carr, magnus, quasistatic",
          "<b>Topic 9</b><br>Words: cryoscope, nis, noisy, channels, calibration",
          "<b>Topic 9</b><br>Words: noise, brain, rhythm, eeg, neocortex",
          "<b>Topic 9</b><br>Words: noises, blocks, evolutionary, decoupling, data",
          "<b>Topic 9</b><br>Words: frequency, low, rel, comparable, noise",
          "<b>Topic 9</b><br>Words: holonomic, controller, updating, separation, noiseless",
          "<b>Topic 9</b><br>Words: decoupling, pulses, dynamical, reduce, decoherence",
          "<b>Topic 9</b><br>Words: separatrix, noise, operation, resonance, echo",
          "<b>Topic 9</b><br>Words: noise, hypothesis, charges, dephasing, josephson",
          "<b>Topic 9</b><br>Words: chaotic, noise, nonlinearity, bubbly, carrier",
          "<b>Topic 9</b><br>Words: noise, spatiotemporal, markovian, chaotic, logical",
          "<b>Topic 9</b><br>Words: chord, space, representation, translations, superoperator",
          "<b>Topic 9</b><br>Words: anode, decoding, wedge, series, tetra",
          "<b>Topic 9</b><br>Words: precision, metrology, revived, furt, suffers",
          "<b>Topic 9</b><br>Words: qsd, game, depolarizing, damping, global",
          "<b>Topic 9</b><br>Words: frequent, eliminate, actually, superradiant, zeno",
          "<b>Topic 9</b><br>Words: maps, completely, positive, tailoring, depolarized",
          "<b>Topic 9</b><br>Words: polychromatic, trains, profiles, decoherence, sources",
          "<b>Topic 9</b><br>Words: hermitian, stochastic, non, whic, qah",
          "<b>Topic 9</b><br>Words: squeezed, damping, picture, stochastic, vacuum",
          "<b>Topic 9</b><br>Words: echo, delays, envelope, dipolar, pulses",
          "<b>Topic 9</b><br>Words: gaussian, fluctuators, noise, depending, distribution"
         ],
         "marker": {
          "color": "#009E73"
         },
         "mode": "lines",
         "name": "9_noise_decoherence_decoupling_the",
         "type": "scatter",
         "x": [
          1997,
          1998,
          1999,
          2000,
          2001,
          2003,
          2004,
          2005,
          2006,
          2008,
          2009,
          2010,
          2011,
          2012,
          2013,
          2015,
          2016,
          2017,
          2019,
          2020,
          2021,
          2022,
          2024
         ],
         "y": [
          1,
          1,
          3,
          2,
          4,
          1,
          4,
          2,
          3,
          2,
          4,
          5,
          1,
          2,
          1,
          2,
          1,
          1,
          3,
          1,
          1,
          3,
          2
         ]
        },
        {
         "hoverinfo": "text",
         "hovertext": [
          "<b>Topic 10</b><br>Words: should, population, everywhere, appendix, typos",
          "<b>Topic 10</b><br>Words: ϵoð1, guessing, eve, should, paragraph",
          "<b>Topic 10</b><br>Words: 4123, , , , ",
          "<b>Topic 10</b><br>Words: letter, our, in, , ",
          "<b>Topic 10</b><br>Words: cnot, readers, nand, inc, dec",
          "<b>Topic 10</b><br>Words: diagonal, ct, corrected, effects, disorder",
          "<b>Topic 10</b><br>Words: remark, manuscript, theorems, figure, contains",
          "<b>Topic 10</b><br>Words: 2j, 9a, ഛ3, cdcc, aware",
          "<b>Topic 10</b><br>Words: equation, , , , ",
          "<b>Topic 10</b><br>Words: differential, equations, birkhoffian, integral, integration",
          "<b>Topic 10</b><br>Words: citation, ref, material, gave, acknowledge",
          "<b>Topic 10</b><br>Words: wronskian, bkp, solutions, step, positons",
          "<b>Topic 10</b><br>Words: omissions, inaccuracies, correct, article, would",
          "<b>Topic 10</b><br>Words: andrew, childs, thanks, pointing, out",
          "<b>Topic 10</b><br>Words: mistake, theorem, cannot, 122, summation",
          "<b>Topic 10</b><br>Words: pq, jv, _a1, stgp, np",
          "<b>Topic 10</b><br>Words: mcgreevy, swingle, sourcery, incorrect, steering",
          "<b>Topic 10</b><br>Words: 00, 11, ffiffiffiffiffiffiffiffiffiffiffiffiffiffiffiffiffiffiffiffiffi, maxð0, jρ",
          "<b>Topic 10</b><br>Words: hkl, 001, 101, equals, radius",
          "<b>Topic 10</b><br>Words: personal, your, commercial, fig, corrected",
          "<b>Topic 10</b><br>Words: afterwards, integrand, eqs, noted, conclusion",
          "<b>Topic 10</b><br>Words: mistakes, eq, logarithmic, corrections, found",
          "<b>Topic 10</b><br>Words: seevinck, fig, letter, recent, paper",
          "<b>Topic 10</b><br>Words: summarizes, wavelets, gravimetric, concise, multiscale"
         ],
         "marker": {
          "color": "#F0E442"
         },
         "mode": "lines",
         "name": "10_should_eq_paper_differential",
         "type": "scatter",
         "x": [
          1997,
          1998,
          1999,
          2000,
          2001,
          2002,
          2003,
          2004,
          2005,
          2006,
          2007,
          2008,
          2009,
          2010,
          2011,
          2012,
          2014,
          2015,
          2017,
          2018,
          2019,
          2020,
          2024,
          2025
         ],
         "y": [
          1,
          4,
          1,
          1,
          1,
          5,
          2,
          3,
          2,
          2,
          1,
          2,
          1,
          1,
          2,
          4,
          2,
          2,
          2,
          2,
          2,
          3,
          2,
          1
         ]
        },
        {
         "hoverinfo": "text",
         "hovertext": [
          "<b>Topic 11</b><br>Words: alternate, xx, nonzero, field, zero",
          "<b>Topic 11</b><br>Words: anisotropic, contrasts, magnetic, influences, field",
          "<b>Topic 11</b><br>Words: xy, dm, central, entanglement, model",
          "<b>Topic 11</b><br>Words: strongly, thermal, minimally, discover, ext",
          "<b>Topic 11</b><br>Words: dm, anisotropic, signific, solution, concurrence",
          "<b>Topic 11</b><br>Words: alternating, thermal, teo, tem, elevated",
          "<b>Topic 11</b><br>Words: thermal, conductance, transport, nonuniform, entanglement",
          "<b>Topic 11</b><br>Words: heat, transferred, efficiency, qhe, concurrences",
          "<b>Topic 11</b><br>Words: xx, models, end, chains, xyz",
          "<b>Topic 11</b><br>Words: 𝐷𝑧, rings, thermal, xx, correlations",
          "<b>Topic 11</b><br>Words: equilibrium, fts, thermodynamics, theorems, thermodynamic",
          "<b>Topic 11</b><br>Words: escape, ta, mqt, lc, macroscopic",
          "<b>Topic 11</b><br>Words: parity, entangl, definite, conditions, actual",
          "<b>Topic 11</b><br>Words: steady, temperatures, couplings, strongly, thermal",
          "<b>Topic 11</b><br>Words: renormalization, impurity, dissipative, zukowski, noi",
          "<b>Topic 11</b><br>Words: result, order, quantifiers, gas, thermal",
          "<b>Topic 11</b><br>Words: mid, concurrence, ground, correlation, heisenberg",
          "<b>Topic 11</b><br>Words: null, estimators, trimers, like, heisenberg",
          "<b>Topic 11</b><br>Words: inhomogeneous, independent, thermal, entanglement, magnetic",
          "<b>Topic 11</b><br>Words: ratios, output, j_h, substance, b_c",
          "<b>Topic 11</b><br>Words: strut, transparent, boundary, conformally, accelerating",
          "<b>Topic 11</b><br>Words: pairwise, entanglement, critical, enhances, improves",
          "<b>Topic 11</b><br>Words: negativities, thermal, temper, evaluating, partitions",
          "<b>Topic 11</b><br>Words: value, crosses, tends, ground, orbit"
         ],
         "marker": {
          "color": "#D55E00"
         },
         "mode": "lines",
         "name": "11_thermal_entanglement_heisenberg_magne...",
         "type": "scatter",
         "x": [
          1997,
          2000,
          2001,
          2002,
          2003,
          2004,
          2005,
          2006,
          2007,
          2008,
          2010,
          2011,
          2012,
          2013,
          2014,
          2015,
          2016,
          2017,
          2018,
          2019,
          2021,
          2022,
          2023,
          2024
         ],
         "y": [
          2,
          1,
          3,
          1,
          2,
          1,
          3,
          1,
          2,
          3,
          2,
          2,
          1,
          2,
          2,
          2,
          2,
          4,
          2,
          1,
          2,
          1,
          2,
          1
         ]
        },
        {
         "hoverinfo": "text",
         "hovertext": [
          "<b>Topic 12</b><br>Words: pho, photons, vital, bundle, multiphoton",
          "<b>Topic 12</b><br>Words: light, modeling, film, absorbing, interference",
          "<b>Topic 12</b><br>Words: paths, broadband, amplitudes, multi, write",
          "<b>Topic 12</b><br>Words: hubbard, sensing, guaranteeing, jc, unbreakable",
          "<b>Topic 12</b><br>Words: nonlinearities, amplification, gain, nanophoto, weisskopf",
          "<b>Topic 12</b><br>Words: pumped, photon, cavity, requirements, characteristic",
          "<b>Topic 12</b><br>Words: ultimately, devices, guided, nano, manipulated",
          "<b>Topic 12</b><br>Words: design, photons, became, lens, window",
          "<b>Topic 12</b><br>Words: stimulation, gap, indexes, embed, uncontrollable",
          "<b>Topic 12</b><br>Words: photon, challenging, smpd, irreversible, bolometers",
          "<b>Topic 12</b><br>Words: devices, waveguide, subradiant, pnr, epsilon",
          "<b>Topic 12</b><br>Words: photons, photonic, genome, green, pump",
          "<b>Topic 12</b><br>Words: frequency, interdigital, transducers, idts, acousto",
          "<b>Topic 12</b><br>Words: gesn, µm, wgpd, rib, cutoff",
          "<b>Topic 12</b><br>Words: multiphoton, applications, optical, networks, sto",
          "<b>Topic 12</b><br>Words: nanobeam, fiber, alignment, sources, efficie",
          "<b>Topic 12</b><br>Words: visible, control, light, displa, bulky",
          "<b>Topic 12</b><br>Words: interference, optics, pursue, photonic, uncharted",
          "<b>Topic 12</b><br>Words: mesoscopic, ups, made, review, optical",
          "<b>Topic 12</b><br>Words: yb, achievements, milling, lengthy, photonic",
          "<b>Topic 12</b><br>Words: imaging, optical, light, illumination, single",
          "<b>Topic 12</b><br>Words: light, structured, characteristic, freedom, cavity",
          "<b>Topic 12</b><br>Words: optical, opa, cw, organic, squeezed"
         ],
         "marker": {
          "color": "#0072B2"
         },
         "mode": "lines",
         "name": "12_light_photon_photons_optical",
         "type": "scatter",
         "x": [
          1997,
          1998,
          1999,
          2000,
          2001,
          2002,
          2004,
          2005,
          2006,
          2007,
          2008,
          2009,
          2011,
          2012,
          2013,
          2014,
          2015,
          2017,
          2018,
          2020,
          2023,
          2024,
          2025
         ],
         "y": [
          1,
          1,
          1,
          2,
          2,
          3,
          1,
          1,
          2,
          2,
          2,
          6,
          1,
          1,
          3,
          1,
          1,
          1,
          2,
          2,
          3,
          2,
          3
         ]
        },
        {
         "hoverinfo": "text",
         "hovertext": [
          "<b>Topic 13</b><br>Words: su, patterns, dynamics, structures, carpets",
          "<b>Topic 13</b><br>Words: intercluster, cluster, doublet, ex, placement",
          "<b>Topic 13</b><br>Words: angle, magnetoresistance, interlayer, curvature, berry",
          "<b>Topic 13</b><br>Words: aklt, iro, na, zittartz, taski",
          "<b>Topic 13</b><br>Words: interladder, cuteo, magnetoelectric, model, toroidal",
          "<b>Topic 13</b><br>Words: orbital, edges, model, moments, neighbor",
          "<b>Topic 13</b><br>Words: 2g, unrealistic, expects, multiorbital, sj",
          "<b>Topic 13</b><br>Words: mgal, cofe, haldane, phase, filter",
          "<b>Topic 13</b><br>Words: aej, plaquettes, model, gauge, random",
          "<b>Topic 13</b><br>Words: square, lattice, kitaev, liquid, co",
          "<b>Topic 13</b><br>Words: mathemat, cycles, mild, electric, restriction",
          "<b>Topic 13</b><br>Words: rvb, spinless, localization, driven, machinery",
          "<b>Topic 13</b><br>Words: potts, kitaev, model, conserved, quantities",
          "<b>Topic 13</b><br>Words: picture, edges, geometrical, bloch, sphere",
          "<b>Topic 13</b><br>Words: paramagnet, vleck, litmf, noncollinear, pivotal",
          "<b>Topic 13</b><br>Words: introduced, along, repelling, attracting, cylinder",
          "<b>Topic 13</b><br>Words: calcul, brillouin, lacking, rucl, sought",
          "<b>Topic 13</b><br>Words: manifold, curvature, evolution, speed, measurem",
          "<b>Topic 13</b><br>Words: dangling, liquid, bond, spin, lee",
          "<b>Topic 13</b><br>Words: honeycomb, kitaev, octahedra, srir, collinear",
          "<b>Topic 13</b><br>Words: rucl, kitaev, phase, ferrimagnetic, itebd",
          "<b>Topic 13</b><br>Words: honeycomb, kitaev, needle, emulated, srir",
          "<b>Topic 13</b><br>Words: msls, binding, tight, tunable, building"
         ],
         "marker": {
          "color": "#CC79A7"
         },
         "mode": "lines",
         "name": "13_model_spin_kitaev_lattice",
         "type": "scatter",
         "x": [
          1997,
          1998,
          1999,
          2000,
          2001,
          2003,
          2004,
          2007,
          2009,
          2011,
          2012,
          2013,
          2014,
          2015,
          2016,
          2017,
          2018,
          2019,
          2020,
          2022,
          2023,
          2024,
          2025
         ],
         "y": [
          2,
          1,
          1,
          2,
          4,
          2,
          2,
          2,
          1,
          2,
          1,
          3,
          2,
          2,
          1,
          1,
          1,
          1,
          4,
          2,
          2,
          2,
          2
         ]
        },
        {
         "hoverinfo": "text",
         "hovertext": [
          "<b>Topic 14</b><br>Words: hamiltonian, nitroge, learn, system, indispensable",
          "<b>Topic 14</b><br>Words: nolan, inverse, problems, 1717, siam",
          "<b>Topic 14</b><br>Words: clh, graph, qma, qpcp, famously",
          "<b>Topic 14</b><br>Words: accessed, schwinger, topological, quenches, dynamical",
          "<b>Topic 14</b><br>Words: hamiltonian, brachistochrone, gapless, separately, evolution",
          "<b>Topic 14</b><br>Words: holonomy, hyperbolic, holographic, conformal, energetically",
          "<b>Topic 14</b><br>Words: 8n, lattice, fermion, dirac, dτ",
          "<b>Topic 14</b><br>Words: hidden, 2n, symmetry, soluble, so",
          "<b>Topic 14</b><br>Words: nucleon, 8π, many, extreme, quantized",
          "<b>Topic 14</b><br>Words: gauge, fluxons, factors, anihilate, construct",
          "<b>Topic 14</b><br>Words: xxz, nondynamical, generators, dzyaloshinskii, spinor",
          "<b>Topic 14</b><br>Words: nucleon, hamiltonian, many, quantized, intermediate",
          "<b>Topic 14</b><br>Words: lhe, hamiltonian, massive, scalar, mass",
          "<b>Topic 14</b><br>Words: manifold, hamiltonian, hamiltonians, body, allows",
          "<b>Topic 14</b><br>Words: quantised, select, hamiltonian, implement, 2d",
          "<b>Topic 14</b><br>Words: term, implementable, right, finds, eq",
          "<b>Topic 14</b><br>Words: spinor, gauge, pure, theory, unified",
          "<b>Topic 14</b><br>Words: pendulum, kapitza, periodic, kapitzonium, pivot",
          "<b>Topic 14</b><br>Words: mass, inertia, redefinition, broglie, particle",
          "<b>Topic 14</b><br>Words: graph, dј, hamiltonians, nondegenerate, ground",
          "<b>Topic 14</b><br>Words: particle, matrices, representable, arise, hamiltonians",
          "<b>Topic 14</b><br>Words: theories, gauge, hilbert, kogut, developm",
          "<b>Topic 14</b><br>Words: unified, topology, supersymmetry, hosotani, modulus"
         ],
         "marker": {
          "color": "#E69F00"
         },
         "mode": "lines",
         "name": "14_hamiltonian_gauge_hamiltonians_spinor",
         "type": "scatter",
         "x": [
          1997,
          1998,
          2000,
          2001,
          2004,
          2005,
          2006,
          2007,
          2008,
          2010,
          2011,
          2012,
          2013,
          2014,
          2015,
          2017,
          2018,
          2020,
          2021,
          2022,
          2023,
          2024,
          2025
         ],
         "y": [
          1,
          2,
          1,
          1,
          2,
          2,
          3,
          1,
          2,
          1,
          2,
          3,
          3,
          2,
          2,
          2,
          4,
          1,
          1,
          1,
          2,
          1,
          1
         ]
        },
        {
         "hoverinfo": "text",
         "hovertext": [
          "<b>Topic 15</b><br>Words: cavity, valley, superconducting, nonqubit, tutorial",
          "<b>Topic 15</b><br>Words: joints, cqed, cavities, quality, qua",
          "<b>Topic 15</b><br>Words: lc, afforded, body, inductor, microfabrication",
          "<b>Topic 15</b><br>Words: slips, wires, superconduct, multiples, 4π",
          "<b>Topic 15</b><br>Words: fidelity, dephasing, amplitude, prompting, stood",
          "<b>Topic 15</b><br>Words: much, level, scheme, proposed, faster",
          "<b>Topic 15</b><br>Words: refocusing, proving, universality, freezing, clean",
          "<b>Topic 15</b><br>Words: purcell, amplifier, filter, parametric, readout",
          "<b>Topic 15</b><br>Words: aluminum, resonators, fabrication, mm, al",
          "<b>Topic 15</b><br>Words: nb, series, resonators, superconducting, devices",
          "<b>Topic 15</b><br>Words: sq, cavity, speed, superconducting, three",
          "<b>Topic 15</b><br>Words: repulsion, static, repels, freed, signs",
          "<b>Topic 15</b><br>Words: 8þx, mon, cru, superconductor, cuprate",
          "<b>Topic 15</b><br>Words: resonators, oxides, ultrastrong, coupler, squid",
          "<b>Topic 15</b><br>Words: junction, layout, incorporates, overcome, insulating",
          "<b>Topic 15</b><br>Words: sc, bell, distance, qubits, obtainable",
          "<b>Topic 15</b><br>Words: storage, ensemble, moreov, sequentially, transferred",
          "<b>Topic 15</b><br>Words: 4e, superinductors, superinductor, loss, levelsystem",
          "<b>Topic 15</b><br>Words: scqubits, 2φ, plots, options, visualizing",
          "<b>Topic 15</b><br>Words: mm, superconducting, area, integrated, duv",
          "<b>Topic 15</b><br>Words: lc, junction, graphene, dressed, ferromagnets",
          "<b>Topic 15</b><br>Words: coupling, tunable, qubit, than, unwanted"
         ],
         "marker": {
          "color": "#56B4E9"
         },
         "mode": "lines",
         "name": "15_superconducting_qubits_qubit_device",
         "type": "scatter",
         "x": [
          1997,
          1998,
          2000,
          2002,
          2003,
          2004,
          2005,
          2007,
          2010,
          2012,
          2013,
          2014,
          2015,
          2016,
          2017,
          2018,
          2019,
          2020,
          2021,
          2023,
          2024,
          2025
         ],
         "y": [
          4,
          1,
          2,
          1,
          2,
          1,
          1,
          2,
          2,
          2,
          3,
          1,
          1,
          2,
          1,
          2,
          1,
          1,
          1,
          2,
          2,
          1
         ]
        },
        {
         "hoverinfo": "text",
         "hovertext": [
          "<b>Topic 16</b><br>Words: hbb, security, qss, cheating, cheat",
          "<b>Topic 16</b><br>Words: bob, alice, inputs, protocol, secret",
          "<b>Topic 16</b><br>Words: secret, sharing, parties, shares, multisystem",
          "<b>Topic 16</b><br>Words: attack, against, security, 02537, s0031",
          "<b>Topic 16</b><br>Words: protocol, transmission, scenario, random, qracs",
          "<b>Topic 16</b><br>Words: bb84, qkd, protocol, surprising, could",
          "<b>Topic 16</b><br>Words: alice, security, message, bob, dishonest",
          "<b>Topic 16</b><br>Words: secret, protocol, attacks, modification, qkd",
          "<b>Topic 16</b><br>Words: security, protocol, transmission, qkd, encoding",
          "<b>Topic 16</b><br>Words: qkd, transmitter, integrates, key, decoy",
          "<b>Topic 16</b><br>Words: key, secret, honest, distilled, any",
          "<b>Topic 16</b><br>Words: protocols, protocol, primitive, operate, examined",
          "<b>Topic 16</b><br>Words: partners, protocols, attack, ira, 2cnota",
          "<b>Topic 16</b><br>Words: authentication, secure, direct, pad, qsdca",
          "<b>Topic 16</b><br>Words: key, ciphers, eavesdropping, attacks, grover",
          "<b>Topic 16</b><br>Words: bb84, users, key, correspondi, rate",
          "<b>Topic 16</b><br>Words: attack, secret, signature, arbitrated, sharing",
          "<b>Topic 16</b><br>Words: conjugate, bases, sent, basis, bennett",
          "<b>Topic 16</b><br>Words: holds, particle, protocol, parties, speciality",
          "<b>Topic 16</b><br>Words: encryption, parties, aes, arithmetic, protocol",
          "<b>Topic 16</b><br>Words: extending, bases, uncondition, cryptosystem, eavesdropper",
          "<b>Topic 16</b><br>Words: guo, zhang, li, eavesdropping, particular"
         ],
         "marker": {
          "color": "#009E73"
         },
         "mode": "lines",
         "name": "16_protocol_key_secret_protocols",
         "type": "scatter",
         "x": [
          1997,
          1998,
          1999,
          2000,
          2001,
          2003,
          2006,
          2008,
          2009,
          2010,
          2011,
          2012,
          2013,
          2015,
          2016,
          2018,
          2019,
          2020,
          2021,
          2022,
          2023,
          2025
         ],
         "y": [
          2,
          1,
          1,
          1,
          2,
          1,
          3,
          2,
          2,
          1,
          1,
          3,
          3,
          1,
          2,
          1,
          2,
          1,
          1,
          2,
          1,
          1
         ]
        },
        {
         "hoverinfo": "text",
         "hovertext": [
          "<b>Topic 17</b><br>Words: codes, bias, cx, gkp, correction",
          "<b>Topic 17</b><br>Words: computations, metho, tolerated, concatenated, syndrome",
          "<b>Topic 17</b><br>Words: composite, ple, ore, systematic, errors",
          "<b>Topic 17</b><br>Words: thought, widely, tolerant, fault, correction",
          "<b>Topic 17</b><br>Words: codes, qldpc, eaqec, skew, construction",
          "<b>Topic 17</b><br>Words: qec, faulty, models, codes, mapping",
          "<b>Topic 17</b><br>Words: procedure, recovery, ref, fortunately, outlined",
          "<b>Topic 17</b><br>Words: code, gkp, outer, variable, correction",
          "<b>Topic 17</b><br>Words: boosts, plagued, errors, prospects, reduces",
          "<b>Topic 17</b><br>Words: error, code, logical, physical, honeycomb",
          "<b>Topic 17</b><br>Words: detectors, error, ͻ100, 409, milburn",
          "<b>Topic 17</b><br>Words: rectifying, unmeasured, reset, midcircuit, gained",
          "<b>Topic 17</b><br>Words: spectator, error, array, daunting, invariably",
          "<b>Topic 17</b><br>Words: codes, prohibitive, adopted, qecs, era",
          "<b>Topic 17</b><br>Words: encoded, error, affected, qubit, unknown",
          "<b>Topic 17</b><br>Words: error, mitigation, yet, correction, perform",
          "<b>Topic 17</b><br>Words: codes, continuous, errors, error, tolerant",
          "<b>Topic 17</b><br>Words: codes, parallel, drift, holographic, error",
          "<b>Topic 17</b><br>Words: tolerant, fault, gates, called, protective",
          "<b>Topic 17</b><br>Words: holographic, codes, logical, parallel, decoder",
          "<b>Topic 17</b><br>Words: qscs, codes, synchronization, length, misalignment"
         ],
         "marker": {
          "color": "#F0E442"
         },
         "mode": "lines",
         "name": "17_codes_error_correction_code",
         "type": "scatter",
         "x": [
          1997,
          1998,
          1999,
          2000,
          2001,
          2002,
          2003,
          2004,
          2005,
          2006,
          2009,
          2011,
          2012,
          2013,
          2015,
          2016,
          2018,
          2020,
          2023,
          2024,
          2025
         ],
         "y": [
          2,
          1,
          1,
          1,
          2,
          2,
          1,
          1,
          1,
          2,
          1,
          1,
          1,
          2,
          2,
          2,
          2,
          4,
          2,
          2,
          1
         ]
        },
        {
         "hoverinfo": "text",
         "hovertext": [
          "<b>Topic 18</b><br>Words: classes, 2ϫ2ϫn, nу4, hϭc, graded",
          "<b>Topic 18</b><br>Words: states, distillability, slocc, ghz, spanned",
          "<b>Topic 18</b><br>Words: partitions, measure, qutrit, partial, qubitqubit",
          "<b>Topic 18</b><br>Words: measure, diagonal, states, positive, party",
          "<b>Topic 18</b><br>Words: ppt, affirmatively, tura, answered, symmetric",
          "<b>Topic 18</b><br>Words: tangle, concurrence, negativity, spinors, lesser",
          "<b>Topic 18</b><br>Words: unit, nearest, product, highly, duality",
          "<b>Topic 18</b><br>Words: transposes, rank, partial, separable, separability",
          "<b>Topic 18</b><br>Words: families, algebra, states, embraces, subalgebra",
          "<b>Topic 18</b><br>Words: zubairy, hillery, index, entangled, entanglement",
          "<b>Topic 18</b><br>Words: families, symmetric, slocc, diversity, playing",
          "<b>Topic 18</b><br>Words: ilo, symmetric, belong, nonsymmetric, discriminating",
          "<b>Topic 18</b><br>Words: sl, four, distributed, po, class",
          "<b>Topic 18</b><br>Words: symmetric, exists, separable, since, regard",
          "<b>Topic 18</b><br>Words: vis, sufficient, separability, negativities, partial",
          "<b>Topic 18</b><br>Words: combs, antilinear, automatically, formulas, monotones",
          "<b>Topic 18</b><br>Words: points, combinations, lu, unitaries, invariants",
          "<b>Topic 18</b><br>Words: correspondingly, group, operators, tracing, states",
          "<b>Topic 18</b><br>Words: partite, correlations, symmetric, genuinely, no",
          "<b>Topic 18</b><br>Words: definition, argue, residual, stochastic, suitable",
          "<b>Topic 18</b><br>Words: ree, families, states, slocc, prove",
          "<b>Topic 18</b><br>Words: property, projecting, grouping, complementarity, conceivable"
         ],
         "marker": {
          "color": "#D55E00"
         },
         "mode": "lines",
         "name": "18_states_entanglement_symmetric_entangl...",
         "type": "scatter",
         "x": [
          1997,
          1998,
          2001,
          2002,
          2003,
          2004,
          2005,
          2006,
          2007,
          2008,
          2009,
          2014,
          2015,
          2016,
          2017,
          2018,
          2019,
          2020,
          2021,
          2022,
          2023,
          2024
         ],
         "y": [
          1,
          4,
          2,
          3,
          1,
          1,
          1,
          1,
          1,
          2,
          1,
          1,
          1,
          1,
          3,
          1,
          2,
          1,
          1,
          1,
          2,
          1
         ]
        },
        {
         "hoverinfo": "text",
         "hovertext": [
          "<b>Topic 19</b><br>Words: precision, strategies, approach, ultimate, thereof",
          "<b>Topic 19</b><br>Words: measurement, multimeter, probabilistic, device, cloning",
          "<b>Topic 19</b><br>Words: estimator, maximum, map, likelihood, tomography",
          "<b>Topic 19</b><br>Words: cramér, estimation, rao, uncertainty, measur",
          "<b>Topic 19</b><br>Words: evaluation, tomography, estimation, yy, recast",
          "<b>Topic 19</b><br>Words: program, probabilities, inconclusive, multimeters, confidence",
          "<b>Topic 19</b><br>Words: physically, maps, implementable, positive, completely",
          "<b>Topic 19</b><br>Words: separable, bayesian, optimal, quantu, wish",
          "<b>Topic 19</b><br>Words: gps, receivers, benchmarks, positioning, calibrating",
          "<b>Topic 19</b><br>Words: precisely, incomplete, gödel, finitely, vice",
          "<b>Topic 19</b><br>Words: correct, theories, observables, lengthscales, optimisations",
          "<b>Topic 19</b><br>Words: programming, attainable, discriminating, algorithm, optimality",
          "<b>Topic 19</b><br>Words: protocol, statistical, tomography, measurement, 643",
          "<b>Topic 19</b><br>Words: measuring, rules, mayato, reformulated, lüders",
          "<b>Topic 19</b><br>Words: verifier, prover, provers, blindness, requires",
          "<b>Topic 19</b><br>Words: rebit, waveguide, separability, probability, dot",
          "<b>Topic 19</b><br>Words: program, equator, discriminated, again, basis"
         ],
         "marker": {
          "color": "#0072B2"
         },
         "mode": "lines",
         "name": "19_measurement_program_quantum_tomograph...",
         "type": "scatter",
         "x": [
          1997,
          1998,
          2001,
          2002,
          2003,
          2005,
          2007,
          2009,
          2010,
          2014,
          2015,
          2016,
          2017,
          2019,
          2021,
          2022,
          2025
         ],
         "y": [
          1,
          5,
          1,
          1,
          2,
          3,
          1,
          1,
          3,
          3,
          2,
          1,
          2,
          1,
          1,
          3,
          1
         ]
        },
        {
         "hoverinfo": "text",
         "hovertext": [
          "<b>Topic 20</b><br>Words: false, bag, gravity, kerr, vacuum",
          "<b>Topic 20</b><br>Words: jump, qsl, maximum, driven, environment",
          "<b>Topic 20</b><br>Words: boson, ahead, spinhalf, exact, within",
          "<b>Topic 20</b><br>Words: wire, spins, ends, transfer, nearest",
          "<b>Topic 20</b><br>Words: fermionic, bath, xy, chain, stochastic",
          "<b>Topic 20</b><br>Words: dm, interaction, points, markovianity, qslt",
          "<b>Topic 20</b><br>Words: tis, ago, mechanics, years, edge",
          "<b>Topic 20</b><br>Words: stationary, reference, schrödinger, method, equation",
          "<b>Topic 20</b><br>Words: sudden, transition, prolong, happens, tr",
          "<b>Topic 20</b><br>Words: majumdar, subohmic, ghosh, remedies, suboh",
          "<b>Topic 20</b><br>Words: transfer, chain, encoding, fidelity, ne",
          "<b>Topic 20</b><br>Words: accordingly, chain, motions, respective, spin",
          "<b>Topic 20</b><br>Words: subsystem, primakoff, timeevolution, holstein, qubits",
          "<b>Topic 20</b><br>Words: transformation, networks, regular, distance, non",
          "<b>Topic 20</b><br>Words: 219, phases, links, frustrated, kagome",
          "<b>Topic 20</b><br>Words: bath, central, qpt, spin, spins",
          "<b>Topic 20</b><br>Words: qst, bus, confirmed, registers, dimensional",
          "<b>Topic 20</b><br>Words: cse, schrödinger, functional, tensor, body",
          "<b>Topic 20</b><br>Words: disentanglement, copying, spin, transfer, dynamical"
         ],
         "marker": {
          "color": "#CC79A7"
         },
         "mode": "lines",
         "name": "20_spin_chain_transfer_bath",
         "type": "scatter",
         "x": [
          1998,
          2000,
          2001,
          2003,
          2004,
          2005,
          2006,
          2007,
          2008,
          2011,
          2012,
          2015,
          2017,
          2018,
          2020,
          2021,
          2022,
          2024,
          2025
         ],
         "y": [
          1,
          2,
          1,
          2,
          2,
          1,
          3,
          1,
          1,
          2,
          1,
          1,
          1,
          2,
          1,
          2,
          1,
          2,
          3
         ]
        },
        {
         "hoverinfo": "text",
         "hovertext": [
          "<b>Topic 21</b><br>Words: arrangements, perfect, path, eluc, anticorrelated",
          "<b>Topic 21</b><br>Words: photon, perfect, radiation, superradiance, macroscopical",
          "<b>Topic 21</b><br>Words: photons, transmission, redistributing, postselecting, oppositely",
          "<b>Topic 21</b><br>Words: four, splitters, photon, scheme, polarizer",
          "<b>Topic 21</b><br>Words: molecules, spam, inseparable, threefold, equating",
          "<b>Topic 21</b><br>Words: scheme, fuse, cost, weak, retrieving",
          "<b>Topic 21</b><br>Words: species, polarization, contains, mixed, magic",
          "<b>Topic 21</b><br>Words: polarization, propagation, inhomogeneously, sieving, phaseonium",
          "<b>Topic 21</b><br>Words: atomic, inferred, photon, site, remote",
          "<b>Topic 21</b><br>Words: efficiency, state, enabled, robustness, characterization",
          "<b>Topic 21</b><br>Words: matching, polarization, noncritically, collinear, poling",
          "<b>Topic 21</b><br>Words: representative, inequivalent, communications, entanglement, state",
          "<b>Topic 21</b><br>Words: idler, atomic, signal, macrostates, photon",
          "<b>Topic 21</b><br>Words: persistency, four, differences, multiparticle, demonstrating",
          "<b>Topic 21</b><br>Words: sender, probe, polarization, dicke, partial",
          "<b>Topic 21</b><br>Words: polarizing, particle, analyzer, plates, conveniently"
         ],
         "marker": {
          "color": "#E69F00"
         },
         "mode": "lines",
         "name": "21_polarization_photon_entangled_state",
         "type": "scatter",
         "x": [
          1997,
          1999,
          2000,
          2001,
          2002,
          2003,
          2004,
          2005,
          2006,
          2009,
          2010,
          2011,
          2012,
          2014,
          2019,
          2024
         ],
         "y": [
          1,
          2,
          1,
          2,
          2,
          2,
          3,
          2,
          2,
          1,
          1,
          1,
          2,
          1,
          3,
          1
         ]
        },
        {
         "hoverinfo": "text",
         "hovertext": [
          "<b>Topic 22</b><br>Words: qls, motional, cooling, choices, protocols",
          "<b>Topic 22</b><br>Words: exponentially, nowadays, experiments, compressed, utilized",
          "<b>Topic 22</b><br>Words: preparations, postprocessing, thirty, thousand, repeat",
          "<b>Topic 22</b><br>Words: gain, poincaré, recurrence, reached, algorithms",
          "<b>Topic 22</b><br>Words: bqp, ignored, subsampling, preeminent, simulation",
          "<b>Topic 22</b><br>Words: wiring, progressing, functionalities, costs, up",
          "<b>Topic 22</b><br>Words: sparsification, dðs, simulators, randomized, anyons",
          "<b>Topic 22</b><br>Words: algorithms, shor, ghz, strategy, sensitivity",
          "<b>Topic 22</b><br>Words: quantized, accommodate, antisymmetrization, complexities, descriptions",
          "<b>Topic 22</b><br>Words: algorithm, aubry, andré, harper, body",
          "<b>Topic 22</b><br>Words: exponentially, processes, xy, therein, quenching",
          "<b>Topic 22</b><br>Words: algorithm, neveu, slowest, slight, gross",
          "<b>Topic 22</b><br>Words: algorithm, simulation, computer, runtime, variational",
          "<b>Topic 22</b><br>Words: runtime, simulating, preparation, anticipation, investing"
         ],
         "marker": {
          "color": "#56B4E9"
         },
         "mode": "lines",
         "name": "22_algorithm_simulation_quantum_preparat...",
         "type": "scatter",
         "x": [
          1998,
          2000,
          2001,
          2005,
          2006,
          2007,
          2009,
          2010,
          2011,
          2014,
          2018,
          2019,
          2021,
          2023
         ],
         "y": [
          1,
          1,
          1,
          1,
          2,
          1,
          2,
          4,
          1,
          2,
          3,
          1,
          4,
          2
         ]
        },
        {
         "hoverinfo": "text",
         "hovertext": [
          "<b>Topic 23</b><br>Words: velocity, microstructures, growth, movement, wafer",
          "<b>Topic 23</b><br>Words: negatively, silicon, charged, sili, centers",
          "<b>Topic 23</b><br>Words: 3c, divacancy, si, charged, functional",
          "<b>Topic 23</b><br>Words: sic, vacancy, defects, 4h, silicon",
          "<b>Topic 23</b><br>Words: si, neutral, sic, behaving, isotopic",
          "<b>Topic 23</b><br>Words: 4h, sic, self, contender, list",
          "<b>Topic 23</b><br>Words: echo, silicon, carbide, optically, μs",
          "<b>Topic 23</b><br>Words: silicon, vacancy, precondition, 6h, alignment",
          "<b>Topic 23</b><br>Words: v1, v2, 4h, optically, sic",
          "<b>Topic 23</b><br>Words: defect, donor, critically, exceeding, improving",
          "<b>Topic 23</b><br>Words: v1, v2, 4h, optically, sic",
          "<b>Topic 23</b><br>Words: carbide, antisite, silicon, theory, possesses",
          "<b>Topic 23</b><br>Words: carbide, silicon, maturity, technological, adapted",
          "<b>Topic 23</b><br>Words: defect, sensitivities, monovacancy, derivation, hexagonal",
          "<b>Topic 23</b><br>Words: sic, defects, mechanical, 4h, optical"
         ],
         "marker": {
          "color": "#009E73"
         },
         "mode": "lines",
         "name": "23_sic_silicon_4h_carbide",
         "type": "scatter",
         "x": [
          1997,
          1998,
          1999,
          2004,
          2005,
          2006,
          2013,
          2015,
          2016,
          2017,
          2018,
          2019,
          2020,
          2021,
          2022
         ],
         "y": [
          1,
          1,
          2,
          3,
          1,
          2,
          3,
          1,
          1,
          1,
          1,
          1,
          1,
          1,
          4
         ]
        },
        {
         "hoverinfo": "text",
         "hovertext": [
          "<b>Topic 24</b><br>Words: shift, knight, photoexcited, dominates, charge",
          "<b>Topic 24</b><br>Words: hybrid, geometric, accumulate, crossings, manifest",
          "<b>Topic 24</b><br>Words: loaded, excited, dot, loading, changing",
          "<b>Topic 24</b><br>Words: host, nuclear, spinbearing, hahn, nondemolition",
          "<b>Topic 24</b><br>Words: occurs, resonances, parallel, superexchange, interchanged",
          "<b>Topic 24</b><br>Words: endohedral, affect, effect, register, exemplified",
          "<b>Topic 24</b><br>Words: dfs, arbitrary, reversibly, unaffected, spanned",
          "<b>Topic 24</b><br>Words: anapole, almost, behavior, dipole, metamaterial",
          "<b>Topic 24</b><br>Words: raman, ghz, stimulated, electronic, spin",
          "<b>Topic 24</b><br>Words: interfaces, inferring, mitigating, impacts, amongst",
          "<b>Topic 24</b><br>Words: confi, fluctuating, electrons, echoes, deduce",
          "<b>Topic 24</b><br>Words: array, flip, 004, repetitive, cyclicity",
          "<b>Topic 24</b><br>Words: transitions, preparation, stroboscopically, blending, circumvent",
          "<b>Topic 24</b><br>Words: relaxation, urgently, millisecond, nanosecond, pathways",
          "<b>Topic 24</b><br>Words: spins, nuclear, diffusion, manip, spectral",
          "<b>Topic 24</b><br>Words: electron, spin, elsewhere, larmor, correlating",
          "<b>Topic 24</b><br>Words: spin, nuclear, fluctuations, low, critical",
          "<b>Topic 24</b><br>Words: xg, fcu, ns, impregnated, freestanding",
          "<b>Topic 24</b><br>Words: nuclear, nmr, coherence, detected, multipulse"
         ],
         "marker": {
          "color": "#F0E442"
         },
         "mode": "lines",
         "name": "24_spin_nuclear_spins_electron",
         "type": "scatter",
         "x": [
          1997,
          1998,
          1999,
          2001,
          2003,
          2004,
          2005,
          2006,
          2008,
          2009,
          2010,
          2011,
          2012,
          2017,
          2020,
          2021,
          2022,
          2024,
          2025
         ],
         "y": [
          1,
          1,
          1,
          1,
          1,
          1,
          1,
          1,
          2,
          1,
          1,
          1,
          1,
          1,
          1,
          2,
          3,
          1,
          1
         ]
        },
        {
         "hoverinfo": "text",
         "hovertext": [
          "<b>Topic 25</b><br>Words: segment, coordinate, slope, along, schlieren",
          "<b>Topic 25</b><br>Words: microchip, electrodes, flow, particles, size",
          "<b>Topic 25</b><br>Words: viscosity, microchip, electrodes, accuracy, sample",
          "<b>Topic 25</b><br>Words: viscosity, accuracy, has, ems, viscometers",
          "<b>Topic 25</b><br>Words: fabric, cotton, antimicrobial, viscosity, formulation",
          "<b>Topic 25</b><br>Words: microchip, coaxial, electrodes, flow, µm",
          "<b>Topic 25</b><br>Words: viscosity, accuracy, has, ems, viscometers",
          "<b>Topic 25</b><br>Words: transducer, emc, earthed, terminal, sensors",
          "<b>Topic 25</b><br>Words: blade, flow, passage, endwall, visualization",
          "<b>Topic 25</b><br>Words: electrode, ect, electrodes, combining, flow",
          "<b>Topic 25</b><br>Words: viscosity, accuracy, has, mpa, ultrasonic",
          "<b>Topic 25</b><br>Words: drop, tensiograph, microdensitometer, microcomputer, tensiotrace"
         ],
         "marker": {
          "color": "#D55E00"
         },
         "mode": "lines",
         "name": "25_viscosity_flow_electrodes_accuracy",
         "type": "scatter",
         "x": [
          1997,
          2001,
          2002,
          2005,
          2006,
          2009,
          2010,
          2011,
          2016,
          2018,
          2024,
          2025
         ],
         "y": [
          1,
          1,
          2,
          1,
          2,
          4,
          1,
          2,
          1,
          2,
          3,
          3
         ]
        },
        {
         "hoverinfo": "text",
         "hovertext": [
          "<b>Topic 26</b><br>Words: bell, inequalities, inequality, capable, detecting",
          "<b>Topic 26</b><br>Words: chsh, bell, generalise, certificate, inequality",
          "<b>Topic 26</b><br>Words: inequality, violation, bell, trio, povm",
          "<b>Topic 26</b><br>Words: violation, inequalities, chsh, join, distilled",
          "<b>Topic 26</b><br>Words: bell, proof, theorem, tri, inequality",
          "<b>Topic 26</b><br>Words: gisin, popescu, cglmp, inequality, qudits",
          "<b>Topic 26</b><br>Words: concepts, test, hilbert, occurrencies, corpuses",
          "<b>Topic 26</b><br>Words: foster, reid, cavalcanti, drummond, bell",
          "<b>Topic 26</b><br>Words: inequality, violated, bell, involving, maximally",
          "<b>Topic 26</b><br>Words: faces, settings, bell, contradiction, undiscussed",
          "<b>Topic 26</b><br>Words: partite, inequalities, involve, correlations, useless",
          "<b>Topic 26</b><br>Words: inequalities, indexing, number, violations, nondegenerate",
          "<b>Topic 26</b><br>Words: condition, inequality, sufficient, necessary, describable",
          "<b>Topic 26</b><br>Words: games, ch3, inequalities, inequality, bell"
         ],
         "marker": {
          "color": "#0072B2"
         },
         "mode": "lines",
         "name": "26_bell_inequality_inequalities_violatio...",
         "type": "scatter",
         "x": [
          1998,
          1999,
          2002,
          2004,
          2005,
          2008,
          2009,
          2010,
          2011,
          2012,
          2014,
          2015,
          2016,
          2022
         ],
         "y": [
          2,
          1,
          3,
          2,
          1,
          1,
          1,
          1,
          2,
          1,
          1,
          1,
          2,
          3
         ]
        },
        {
         "hoverinfo": "text",
         "hovertext": [
          "<b>Topic 27</b><br>Words: donor, enriched, hyperpolarizing, resulted, ubiquitous",
          "<b>Topic 27</b><br>Words: doped, tunneling, layers, placements, mbe",
          "<b>Topic 27</b><br>Words: donor, damped, 1s, lying, manipulate",
          "<b>Topic 27</b><br>Words: selenium, se, donors, silicon, isotopica",
          "<b>Topic 27</b><br>Words: elementary, transitio, polysilicon, attainable, slope",
          "<b>Topic 27</b><br>Words: dex, msn, shuttling, nm, donor",
          "<b>Topic 27</b><br>Words: contact, donors, pattern, electrical, integrity",
          "<b>Topic 27</b><br>Words: structures, infinitely, conductive, moore, phosphorus",
          "<b>Topic 27</b><br>Words: dopants, tunneling, precise, rates, subnanometer",
          "<b>Topic 27</b><br>Words: donor, si, shallow, bi, silicon",
          "<b>Topic 27</b><br>Words: mos, densities, disorder, impeding, electron",
          "<b>Topic 27</b><br>Words: qw, phosphorous, valley, donors, splitting",
          "<b>Topic 27</b><br>Words: dopants, tunneling, precise, rates, subnanometer",
          "<b>Topic 27</b><br>Words: donor, interface, anisotropy, donors, si"
         ],
         "marker": {
          "color": "#CC79A7"
         },
         "mode": "lines",
         "name": "27_donor_si_silicon_donors",
         "type": "scatter",
         "x": [
          1997,
          1999,
          2000,
          2003,
          2008,
          2011,
          2012,
          2013,
          2014,
          2016,
          2017,
          2022,
          2024,
          2025
         ],
         "y": [
          1,
          2,
          1,
          2,
          1,
          2,
          2,
          1,
          1,
          3,
          1,
          1,
          1,
          2
         ]
        },
        {
         "hoverinfo": "text",
         "hovertext": [
          "<b>Topic 28</b><br>Words: gum, pnp, vagina, aminophenol, nitrophenol",
          "<b>Topic 28</b><br>Words: colicins, host, coli, proteins, production",
          "<b>Topic 28</b><br>Words: kaempferol, anticancer, flavonoids, polyphenol, member",
          "<b>Topic 28</b><br>Words: cells, grid, theta, bats, do",
          "<b>Topic 28</b><br>Words: injectable, hydrogel, chitosan, phosphate, enzyme",
          "<b>Topic 28</b><br>Words: structures, molecular, , , ",
          "<b>Topic 28</b><br>Words: quorum, luminescence, sensing, harveyi, vibrio",
          "<b>Topic 28</b><br>Words: signaling, assembly, adaptive, gain, components",
          "<b>Topic 28</b><br>Words: proteins, cells, polysaccharides, food, cytokines",
          "<b>Topic 28</b><br>Words: quorum, luminescence, sensing, harveyi, vibrio",
          "<b>Topic 28</b><br>Words: quorum, luminescence, sensing, harveyi, vibrio",
          "<b>Topic 28</b><br>Words: cells, viscosities, ruffling, respond, their",
          "<b>Topic 28</b><br>Words: forecast, protein, acids, physarum, amino",
          "<b>Topic 28</b><br>Words: abfps, fluorinated, acrylate, amphiphilic, hydrolysis",
          "<b>Topic 28</b><br>Words: rnas, muscle, myogenic, myogenesis, differentiation"
         ],
         "marker": {
          "color": "#E69F00"
         },
         "mode": "lines",
         "name": "28_cells_quorum_luminescence_proteins",
         "type": "scatter",
         "x": [
          2002,
          2003,
          2008,
          2009,
          2010,
          2011,
          2014,
          2015,
          2017,
          2018,
          2019,
          2021,
          2022,
          2023,
          2025
         ],
         "y": [
          2,
          1,
          1,
          1,
          1,
          1,
          1,
          2,
          2,
          1,
          1,
          1,
          3,
          2,
          1
         ]
        },
        {
         "hoverinfo": "text",
         "hovertext": [
          "<b>Topic 29</b><br>Words: sets, mubs, mub, sums, complete",
          "<b>Topic 29</b><br>Words: proofs, they, observables, algori, inspection",
          "<b>Topic 29</b><br>Words: polynomials, slocc, invariants, degree, refinement",
          "<b>Topic 29</b><br>Words: polynomial, associates, roots, unentangled, pure",
          "<b>Topic 29</b><br>Words: invariants, degree, su, local, algebraically",
          "<b>Topic 29</b><br>Words: sl, antilinear, determinant, invariant, local",
          "<b>Topic 29</b><br>Words: ϫ1, ϩ1, pauli, classify, equivalence",
          "<b>Topic 29</b><br>Words: indistinguishable, subspace, locally, invariants, polynomial",
          "<b>Topic 29</b><br>Words: quasigrading, algebras, quasigraded, constructed, matrices",
          "<b>Topic 29</b><br>Words: affine, unbiased, depend, mutually, bases",
          "<b>Topic 29</b><br>Words: sets, bases, ids, call, nks",
          "<b>Topic 29</b><br>Words: elegant, simplex, sided, con, look"
         ],
         "marker": {
          "color": "#56B4E9"
         },
         "mode": "lines",
         "name": "29_sets_polynomial_invariants_bases",
         "type": "scatter",
         "x": [
          1998,
          1999,
          2001,
          2003,
          2006,
          2007,
          2008,
          2012,
          2014,
          2015,
          2018,
          2023
         ],
         "y": [
          1,
          1,
          2,
          1,
          1,
          1,
          3,
          2,
          1,
          2,
          3,
          1
         ]
        },
        {
         "hoverinfo": "text",
         "hovertext": [
          "<b>Topic 30</b><br>Words: reducibility, marginals, slocc, bipartite, also",
          "<b>Topic 30</b><br>Words: generalized, equivalents, ghz, pure, uniquely",
          "<b>Topic 30</b><br>Words: gm, concurrence, maximal, spectrum, maximizes",
          "<b>Topic 30</b><br>Words: transforming, upper, 51, turgut, kintas",
          "<b>Topic 30</b><br>Words: matrices, reduced, uniquely, determined, among",
          "<b>Topic 30</b><br>Words: cluster, violated, holds, thence, ghz",
          "<b>Topic 30</b><br>Words: discrimination, unambiguous, remote, 223, ud",
          "<b>Topic 30</b><br>Words: uniform, 3uniform, irredundant, than, combinatorial",
          "<b>Topic 30</b><br>Words: pure, uniquely, just, sufficient, prove",
          "<b>Topic 30</b><br>Words: lower, local, scarani, 77, contents",
          "<b>Topic 30</b><br>Words: glhv, hidden, variables, generalised, shades",
          "<b>Topic 30</b><br>Words: mixed, uniform, nparty, nonclassica, states",
          "<b>Topic 30</b><br>Words: estimation, trade, pure, optimal, set",
          "<b>Topic 30</b><br>Words: program, register, unknown, registers, stored",
          "<b>Topic 30</b><br>Words: converting, task, article, obtain, form",
          "<b>Topic 30</b><br>Words: 589, smolin, thapliyal, theor, terhal",
          "<b>Topic 30</b><br>Words: ghz, diagonal, state, initial, evolves"
         ],
         "marker": {
          "color": "#009E73"
         },
         "mode": "lines",
         "name": "30_states_ghz_pure_local",
         "type": "scatter",
         "x": [
          1997,
          1998,
          1999,
          2000,
          2001,
          2002,
          2005,
          2008,
          2011,
          2012,
          2013,
          2014,
          2016,
          2017,
          2018,
          2023,
          2024
         ],
         "y": [
          1,
          1,
          1,
          1,
          3,
          1,
          1,
          1,
          1,
          1,
          1,
          1,
          1,
          1,
          1,
          1,
          1
         ]
        },
        {
         "hoverinfo": "text",
         "hovertext": [
          "<b>Topic 31</b><br>Words: planning, treatment, haemodialysis, anaemia, stimulating",
          "<b>Topic 31</b><br>Words: patients, doc, awareness, brain, consciousness",
          "<b>Topic 31</b><br>Words: kv, imaging, stereoscopic, mv, therapy",
          "<b>Topic 31</b><br>Words: sv, bioimpedance, ventricular, left, doppler",
          "<b>Topic 31</b><br>Words: images, ct, weighted, mri, multiple",
          "<b>Topic 31</b><br>Words: patients, doc, awareness, brain, ala",
          "<b>Topic 31</b><br>Words: planning, dose, treatment, radiation, technische",
          "<b>Topic 31</b><br>Words: patients, doc, awareness, brain, consciousness",
          "<b>Topic 31</b><br>Words: predictors, disease, cd, patients, uc",
          "<b>Topic 31</b><br>Words: planning, treatment, plugins, plan, optimizer",
          "<b>Topic 31</b><br>Words: progression, radionuclides, particles, cell, bi",
          "<b>Topic 31</b><br>Words: radionuclides, particles, cell, bi, radiation",
          "<b>Topic 31</b><br>Words: patients, doc, awareness, brain, consciousness"
         ],
         "marker": {
          "color": "#F0E442"
         },
         "mode": "lines",
         "name": "31_patients_doc_awareness_radiation",
         "type": "scatter",
         "x": [
          1998,
          1999,
          2000,
          2001,
          2002,
          2006,
          2007,
          2009,
          2015,
          2017,
          2021,
          2024,
          2025
         ],
         "y": [
          2,
          1,
          1,
          1,
          2,
          2,
          2,
          1,
          1,
          1,
          2,
          1,
          1
         ]
        },
        {
         "hoverinfo": "text",
         "hovertext": [
          "<b>Topic 32</b><br>Words: stark, donors, semiconducto, multivalley, orbit",
          "<b>Topic 32</b><br>Words: nanowire, field, electrical, attrib, factor",
          "<b>Topic 32</b><br>Words: qd, tra, nanometric, orbit, modifying",
          "<b>Topic 32</b><br>Words: electric, fields, factor, exposed, tunability",
          "<b>Topic 32</b><br>Words: zeeman, spin, factor, interaction, extract",
          "<b>Topic 32</b><br>Words: landé, spin, tensor, rashba, orbit",
          "<b>Topic 32</b><br>Words: electric, control, hole, exclusively, apart",
          "<b>Topic 32</b><br>Words: orbit, interaction, hole, missing, permits",
          "<b>Topic 32</b><br>Words: bang, rotation, mason, com, boscain",
          "<b>Topic 32</b><br>Words: ring, orbit, incoming, attain, varied",
          "<b>Topic 32</b><br>Words: edsr, inducing, qualitatively, goals, electric"
         ],
         "marker": {
          "color": "#D55E00"
         },
         "mode": "lines",
         "name": "32_spin_electric_orbit_factor",
         "type": "scatter",
         "x": [
          2000,
          2002,
          2006,
          2010,
          2012,
          2013,
          2016,
          2017,
          2020,
          2021,
          2022
         ],
         "y": [
          1,
          2,
          1,
          1,
          3,
          3,
          1,
          1,
          1,
          1,
          1
         ]
        },
        {
         "hoverinfo": "text",
         "hovertext": [
          "<b>Topic 33</b><br>Words: designs, 7ϫ, consequent, biepitaxial, quiet",
          "<b>Topic 33</b><br>Words: environment, conf, unexpected, tunneling, destroyed",
          "<b>Topic 33</b><br>Words: magnetization, radiation, regret, prec, ferromagnetsuperconductor",
          "<b>Topic 33</b><br>Words: mqt, ops, sign, twist, supercurrent",
          "<b>Topic 33</b><br>Words: transport, island, cooper, double, islands",
          "<b>Topic 33</b><br>Words: jjs, fluxon, fluxons, junctions, junction",
          "<b>Topic 33</b><br>Words: island, tunneling, cos, controversial, phase",
          "<b>Topic 33</b><br>Words: sts, dependence, gap, inhomogeneity, spatial",
          "<b>Topic 33</b><br>Words: current, switching, distributions, uncovers, gilbert",
          "<b>Topic 33</b><br>Words: length, counterclockwise, supercurrents, circulating, clockwise",
          "<b>Topic 33</b><br>Words: switching, switchings, ijjs, decreasin, 8þ",
          "<b>Topic 33</b><br>Words: mqt, ijj, regime, junction, pi",
          "<b>Topic 33</b><br>Words: nbn, cuni, dependences, junctions, thickness"
         ],
         "marker": {
          "color": "#0072B2"
         },
         "mode": "lines",
         "name": "33_josephson_junctions_junction_tunnelin...",
         "type": "scatter",
         "x": [
          1998,
          1999,
          2004,
          2005,
          2006,
          2008,
          2012,
          2013,
          2014,
          2015,
          2018,
          2023,
          2025
         ],
         "y": [
          1,
          1,
          2,
          2,
          1,
          2,
          1,
          1,
          1,
          1,
          1,
          1,
          1
         ]
        },
        {
         "hoverinfo": "text",
         "hovertext": [
          "<b>Topic 34</b><br>Words: valley, exotic, valleytronics, tmds, predominate",
          "<b>Topic 34</b><br>Words: tmdcs, layers, valley, 2h, ret",
          "<b>Topic 34</b><br>Words: film, thin, films, propagation, plane",
          "<b>Topic 34</b><br>Words: tm, 316, beneficial, incorporated, emit",
          "<b>Topic 34</b><br>Words: zno, doped, films, zinc, al",
          "<b>Topic 34</b><br>Words: 100, lanio, blsd, 111, ti",
          "<b>Topic 34</b><br>Words: zrte, arpes, days, optoelectronics, dichalcogenides",
          "<b>Topic 34</b><br>Words: conversion, tio, injection, phthalocyanine, pbpc",
          "<b>Topic 34</b><br>Words: evaporation, selenium, tin, mother, stepped",
          "<b>Topic 34</b><br>Words: acceptors, improvements, electric, shallow, impurities",
          "<b>Topic 34</b><br>Words: constitutional, solidification, cdw, y123, gradients",
          "<b>Topic 34</b><br>Words: telecommunication, transduction, optical, witht, disadvantages"
         ],
         "marker": {
          "color": "#CC79A7"
         },
         "mode": "lines",
         "name": "34_films_zno_film_valley",
         "type": "scatter",
         "x": [
          2000,
          2001,
          2002,
          2004,
          2007,
          2008,
          2013,
          2014,
          2018,
          2019,
          2023,
          2024
         ],
         "y": [
          1,
          1,
          3,
          1,
          1,
          1,
          1,
          1,
          1,
          2,
          2,
          1
         ]
        },
        {
         "hoverinfo": "text",
         "hovertext": [
          "<b>Topic 35</b><br>Words: seam, script, mmiqc, typographical, table",
          "<b>Topic 35</b><br>Words: randomized, benchmarking, character, electrode, estimate",
          "<b>Topic 35</b><br>Words: 99, μs, 9934, 43, calcium",
          "<b>Topic 35</b><br>Words: nullity, stabilizer, unitary, multiqubit, technol",
          "<b>Topic 35</b><br>Words: robustly, add, technical, convenient, satisfies",
          "<b>Topic 35</b><br>Words: detection, thresholds, setting, three, loophole",
          "<b>Topic 35</b><br>Words: gate, miscalibrations, miscalibrated, errors, parameters",
          "<b>Topic 35</b><br>Words: nonetheless, crowding, tunably, advent, parasitic",
          "<b>Topic 35</b><br>Words: talk, register, readout, qunybble, cross",
          "<b>Topic 35</b><br>Words: dis, compensate, distortions, correcting, itself",
          "<b>Topic 35</b><br>Words: zz, couplers, residual, coupling, detunings",
          "<b>Topic 35</b><br>Words: distortions, page, nonlinear, how, sixteenth"
         ],
         "marker": {
          "color": "#E69F00"
         },
         "mode": "lines",
         "name": "35_gate_qubit_distortions_errors",
         "type": "scatter",
         "x": [
          1998,
          1999,
          2005,
          2006,
          2007,
          2010,
          2012,
          2014,
          2019,
          2020,
          2023,
          2024
         ],
         "y": [
          1,
          2,
          1,
          1,
          1,
          1,
          1,
          1,
          1,
          1,
          2,
          2
         ]
        },
        {
         "hoverinfo": "text",
         "hovertext": [
          "<b>Topic 36</b><br>Words: optimizations, fluxoniums, noncomputational, anharmonic, fluxonium",
          "<b>Topic 36</b><br>Words: ls, flux, relaxation, shunt, point",
          "<b>Topic 36</b><br>Words: bath, waveguide, hot, cold, counterintuitive",
          "<b>Topic 36</b><br>Words: hold, sample, islands, turning, charge",
          "<b>Topic 36</b><br>Words: oscillator, em, vacuum, exchange, hiding",
          "<b>Topic 36</b><br>Words: sensitivity, spectros, fl, flux, bifurcation",
          "<b>Topic 36</b><br>Words: external, fluctuations, capitalizes, yttriumbarium, ybco",
          "<b>Topic 36</b><br>Words: noise, occupy, occupies, escaping, kramers",
          "<b>Topic 36</b><br>Words: charge, variations, ramsey, dephas, underestimation",
          "<b>Topic 36</b><br>Words: amplification, lasing, conventional, slip, attenuation",
          "<b>Topic 36</b><br>Words: flux, hz, dephasing, 61, pure",
          "<b>Topic 36</b><br>Words: operated, voltag, zero, tank, limiting",
          "<b>Topic 36</b><br>Words: installing, symmetrized, galvanically, simplify, spectroscopy"
         ],
         "marker": {
          "color": "#56B4E9"
         },
         "mode": "lines",
         "name": "36_flux_superconducting_qubit_noise",
         "type": "scatter",
         "x": [
          1997,
          2000,
          2007,
          2008,
          2010,
          2011,
          2013,
          2015,
          2019,
          2020,
          2021,
          2023,
          2025
         ],
         "y": [
          1,
          1,
          1,
          1,
          2,
          1,
          1,
          1,
          1,
          1,
          1,
          1,
          2
         ]
        },
        {
         "hoverinfo": "text",
         "hovertext": [
          "<b>Topic 37</b><br>Words: abelian, quasiparticles, non, pérot, excita",
          "<b>Topic 37</b><br>Words: hall, quasiholes, 2degs, abelian, filling",
          "<b>Topic 37</b><br>Words: fqh, initiate, abelian, diagonalization, possess",
          "<b>Topic 37</b><br>Words: statisticsone, sarma, hallmark, das, moore",
          "<b>Topic 37</b><br>Words: filling, factors, rarely, denominator, fqhss",
          "<b>Topic 37</b><br>Words: howev, condensation, abelian, enigmatic, harboring",
          "<b>Topic 37</b><br>Words: braiding, quasiparticle, statistics, excitations, determine",
          "<b>Topic 37</b><br>Words: fqhss, electron, dominates, denominator, exemplify",
          "<b>Topic 37</b><br>Words: rr, hall, parafermion, rezayi, realized",
          "<b>Topic 37</b><br>Words: fqh, 12, nature, consensus, coulo",
          "<b>Topic 37</b><br>Words: quasiparticles, statistics, counterpropa, abelian, dramatically",
          "<b>Topic 37</b><br>Words: filling, factors, rarely, denominator, fqhss"
         ],
         "marker": {
          "color": "#009E73"
         },
         "mode": "lines",
         "name": "37_abelian_hall_filling_non",
         "type": "scatter",
         "x": [
          2000,
          2007,
          2011,
          2012,
          2013,
          2014,
          2015,
          2016,
          2017,
          2018,
          2019,
          2020
         ],
         "y": [
          1,
          3,
          1,
          1,
          1,
          1,
          1,
          1,
          1,
          1,
          1,
          1
         ]
        },
        {
         "hoverinfo": "text",
         "hovertext": [
          "<b>Topic 38</b><br>Words: talk, cross, coupl, undesired, intrinsically",
          "<b>Topic 38</b><br>Words: snz, tuneup, cz, speed, multitransmon",
          "<b>Topic 38</b><br>Words: crosstalk, zz, scalable, acknowledged, impairs",
          "<b>Topic 38</b><br>Words: stray, usually, setback, mitigating, errors",
          "<b>Topic 38</b><br>Words: qutrits, fidelity, like, high, processing",
          "<b>Topic 38</b><br>Words: bilateral, purification, replacements, breeding, hashing",
          "<b>Topic 38</b><br>Words: bus, cz, consists, mariantoni, nonco",
          "<b>Topic 38</b><br>Words: performance, transmons, transmon, undermining, modality",
          "<b>Topic 38</b><br>Words: crosstalk, simultaneous, operations, erroneous, deteriorate",
          "<b>Topic 38</b><br>Words: talk, coupling, architecture, multi, leads",
          "<b>Topic 38</b><br>Words: optimization, understudied, plethora, inaccurate, laboratories",
          "<b>Topic 38</b><br>Words: replacement, modules, architecture, self, interconnects",
          "<b>Topic 38</b><br>Words: performance, transmons, transmon, undermining, modality"
         ],
         "marker": {
          "color": "#F0E442"
         },
         "mode": "lines",
         "name": "38_performance_transmon_gate_crosstalk",
         "type": "scatter",
         "x": [
          1997,
          2000,
          2006,
          2008,
          2009,
          2011,
          2012,
          2013,
          2014,
          2015,
          2022,
          2023,
          2025
         ],
         "y": [
          1,
          1,
          1,
          1,
          1,
          1,
          1,
          1,
          1,
          2,
          1,
          1,
          1
         ]
        },
        {
         "hoverinfo": "text",
         "hovertext": [
          "<b>Topic 39</b><br>Words: tls, tlss, glasse, spectral, tunneling",
          "<b>Topic 39</b><br>Words: current, heterojunction, effect, double, agreements",
          "<b>Topic 39</b><br>Words: tunnel, resonances, bias, tmr, dependencies",
          "<b>Topic 39</b><br>Words: shot, set, readout, charging, conclude",
          "<b>Topic 39</b><br>Words: filter, passband, modulation, frequency, induce",
          "<b>Topic 39</b><br>Words: dielectric, analysed, sensitivity, eoio, qdr",
          "<b>Topic 39</b><br>Words: cofeb, resistivity, mgo, multilayer, larger",
          "<b>Topic 39</b><br>Words: set, frequency, noise, nyquist, telegraph",
          "<b>Topic 39</b><br>Words: igzo, tail, amorphous, subthreshold, neldel",
          "<b>Topic 39</b><br>Words: ku, millikelvin, waveform, generator, spectrometer"
         ],
         "marker": {
          "color": "#D55E00"
         },
         "mode": "lines",
         "name": "39_frequency_dielectric_set_filter",
         "type": "scatter",
         "x": [
          1997,
          2001,
          2007,
          2008,
          2010,
          2015,
          2019,
          2022,
          2024,
          2025
         ],
         "y": [
          1,
          1,
          1,
          1,
          4,
          2,
          1,
          1,
          1,
          1
         ]
        },
        {
         "hoverinfo": "text",
         "hovertext": [
          "<b>Topic 40</b><br>Words: gates, gate, versatility, qubit, uniformly",
          "<b>Topic 40</b><br>Words: clifford, supplements, visualized, gate, insufficient",
          "<b>Topic 40</b><br>Words: elementary, sequence, favorably, sine, n1",
          "<b>Topic 40</b><br>Words: algebras, clifford, application, anticommute, commutation",
          "<b>Topic 40</b><br>Words: synthesis, count, clifford, gates, unitaries",
          "<b>Topic 40</b><br>Words: vala, howard, qutrit, gates, version",
          "<b>Topic 40</b><br>Words: mczr, primitives, circuits, synthesizing, conduct",
          "<b>Topic 40</b><br>Words: cx, dihedral, cs, cnot, controlled",
          "<b>Topic 40</b><br>Words: temporary, logical, ancilla, construction, framing",
          "<b>Topic 40</b><br>Words: cccz, ccz, cz, decomposition, qubitcoupling",
          "<b>Topic 40</b><br>Words: logical, construction, multiqubit, multiq, decomposing",
          "<b>Topic 40</b><br>Words: multiqubit, superfluous, gray, eventually, gates",
          "<b>Topic 40</b><br>Words: simulate, gate, implementation, or, for"
         ],
         "marker": {
          "color": "#0072B2"
         },
         "mode": "lines",
         "name": "40_gates_clifford_gate_logical",
         "type": "scatter",
         "x": [
          1997,
          1999,
          2002,
          2008,
          2009,
          2010,
          2012,
          2013,
          2015,
          2019,
          2020,
          2024,
          2025
         ],
         "y": [
          1,
          1,
          1,
          1,
          2,
          1,
          1,
          1,
          1,
          1,
          1,
          1,
          1
         ]
        },
        {
         "hoverinfo": "text",
         "hovertext": [
          "<b>Topic 41</b><br>Words: amo, all, symmetrically, community, immense",
          "<b>Topic 41</b><br>Words: uniform, qecc, cluster, intimately, elucidate",
          "<b>Topic 41</b><br>Words: choosing, dressed, protocol, restraint, unnecessary",
          "<b>Topic 41</b><br>Words: ideal, state, inconvertible, ghz, convert",
          "<b>Topic 41</b><br>Words: party, filtration, unearth, three, ilo",
          "<b>Topic 41</b><br>Words: swaps, redistribute, cond, four, bell",
          "<b>Topic 41</b><br>Words: asymmetric, superdense, copy, distillation, coding",
          "<b>Topic 41</b><br>Words: bell, network, observers, nonlocality, experiments",
          "<b>Topic 41</b><br>Words: repeater, polylogarithmic, valuable, distribute, protocol",
          "<b>Topic 41</b><br>Words: mie, sign, measuring, diagnostic, measurementinduced",
          "<b>Topic 41</b><br>Words: mes, valuable, collection, represent, maximally",
          "<b>Topic 41</b><br>Words: basica, their, aspect, particles, conceptual",
          "<b>Topic 41</b><br>Words: npj, miller, resource, ranged, miyake",
          "<b>Topic 41</b><br>Words: stap, designing, superatom, superatoms, operators"
         ],
         "marker": {
          "color": "#CC79A7"
         },
         "mode": "lines",
         "name": "41_states_state_protocol_bell",
         "type": "scatter",
         "x": [
          2001,
          2002,
          2004,
          2005,
          2006,
          2011,
          2013,
          2014,
          2016,
          2018,
          2020,
          2021,
          2023,
          2024
         ],
         "y": [
          1,
          1,
          1,
          1,
          1,
          1,
          1,
          1,
          1,
          1,
          1,
          1,
          1,
          1
         ]
        },
        {
         "hoverinfo": "text",
         "hovertext": [
          "<b>Topic 42</b><br>Words: baxter, yang, ybe, yangian, norm",
          "<b>Topic 42</b><br>Words: act, baxter, yang, tensor, product",
          "<b>Topic 42</b><br>Words: baxter, hidden, body, yang, disequations",
          "<b>Topic 42</b><br>Words: δφ, ½nðλ, iφλ, there, quantu",
          "<b>Topic 42</b><br>Words: functionals, value, realizations, extremum, family",
          "<b>Topic 42</b><br>Words: reversible, logic, equivalence, calculation, classes",
          "<b>Topic 42</b><br>Words: matrix, baxter, yang, alg, unitary",
          "<b>Topic 42</b><br>Words: yang, functionals, value, baxter, realizations",
          "<b>Topic 42</b><br>Words: yang, braiding, unitary, derives, baxterization",
          "<b>Topic 42</b><br>Words: functionals, value, realizations, family, attaining"
         ],
         "marker": {
          "color": "#E69F00"
         },
         "mode": "lines",
         "name": "42_yang_baxter_functionals_value",
         "type": "scatter",
         "x": [
          2002,
          2005,
          2006,
          2016,
          2018,
          2019,
          2022,
          2023,
          2024,
          2025
         ],
         "y": [
          2,
          1,
          2,
          1,
          2,
          1,
          1,
          2,
          1,
          1
         ]
        },
        {
         "hoverinfo": "text",
         "hovertext": [
          "<b>Topic 43</b><br>Words: enz, materials, near, epsilon, electrodynamic",
          "<b>Topic 43</b><br>Words: lqn, indistinguishability, lqns, arrive, carries",
          "<b>Topic 43</b><br>Words: ability, proce, accordingly, quantifying, process",
          "<b>Topic 43</b><br>Words: esd, necessary, unde, undesirable, degrades",
          "<b>Topic 43</b><br>Words: ensembles, entanglement, scale, particles, lacks",
          "<b>Topic 43</b><br>Words: search, channels, speedup, methods, mutual",
          "<b>Topic 43</b><br>Words: mismatch, optical, microwave, functionalities, millikelvin",
          "<b>Topic 43</b><br>Words: chain, infinite, cumbersome, structure, heisenber",
          "<b>Topic 43</b><br>Words: universal, entangler, entanglers, decoherence, resource",
          "<b>Topic 43</b><br>Words: summarized, burgeoning, revolutionary, areas, new",
          "<b>Topic 43</b><br>Words: decoupling, noise, mediator, dynamical, actively"
         ],
         "marker": {
          "color": "#56B4E9"
         },
         "mode": "lines",
         "name": "43_entanglement_enz_quantum_resource",
         "type": "scatter",
         "x": [
          1997,
          2000,
          2001,
          2002,
          2004,
          2005,
          2006,
          2007,
          2014,
          2016,
          2017
         ],
         "y": [
          1,
          1,
          1,
          1,
          2,
          2,
          1,
          1,
          2,
          1,
          1
         ]
        },
        {
         "hoverinfo": "text",
         "hovertext": [
          "<b>Topic 44</b><br>Words: pt, extension, mechanics, pri, conventional",
          "<b>Topic 44</b><br>Words: parity, acoustics, pt, commutation, exper",
          "<b>Topic 44</b><br>Words: enlarging, pt, postselection, symmetric, general",
          "<b>Topic 44</b><br>Words: resonators, gains, proposing, pt, tune",
          "<b>Topic 44</b><br>Words: noether, pt, symmetry, theorem, ĥpt",
          "<b>Topic 44</b><br>Words: pt, eps, systems, symmetric, hss",
          "<b>Topic 44</b><br>Words: theory, pt, symmetric, unlikely, continue",
          "<b>Topic 44</b><br>Words: pt, anti, symmetry, strobos, extraordinary",
          "<b>Topic 44</b><br>Words: 109, prosen, nonconservative, manyqubit, liouvillian",
          "<b>Topic 44</b><br>Words: ðpt, devel, symmetry, eps, phase",
          "<b>Topic 44</b><br>Words: pt, anti, researches, simulating, symmetric",
          "<b>Topic 44</b><br>Words: pt, symmetric, dephasing, unital, ultraweakly"
         ],
         "marker": {
          "color": "#009E73"
         },
         "mode": "lines",
         "name": "44_pt_symmetric_symmetry_parity",
         "type": "scatter",
         "x": [
          1997,
          1998,
          2001,
          2005,
          2008,
          2009,
          2010,
          2011,
          2012,
          2014,
          2016,
          2023
         ],
         "y": [
          1,
          1,
          1,
          1,
          1,
          2,
          1,
          1,
          1,
          1,
          1,
          1
         ]
        },
        {
         "hoverinfo": "text",
         "hovertext": [
          "<b>Topic 45</b><br>Words: cubic, prepare, gaussian, able, gate",
          "<b>Topic 45</b><br>Words: schrödinger, representation, displaced, displacement, domain",
          "<b>Topic 45</b><br>Words: generation, subtraction, cat, photon, rate",
          "<b>Topic 45</b><br>Words: driving, dissipations, prerequisites, degene, preparations",
          "<b>Topic 45</b><br>Words: prepares, schrodinger, gaussian, cat, variable",
          "<b>Topic 45</b><br>Words: cat, errors, bosonic, correct, flip",
          "<b>Topic 45</b><br>Words: cat, initializing, projec, photonassisted, consecutive",
          "<b>Topic 45</b><br>Words: oscillator, sampling, cat, schrödinger, driving",
          "<b>Topic 45</b><br>Words: mqt, degenerate, generatin, tunneling, hopping",
          "<b>Topic 45</b><br>Words: manifold, onto, encoding, cat, autonomously",
          "<b>Topic 45</b><br>Words: swapping, cat, schrödinger, mitigates, collap"
         ],
         "marker": {
          "color": "#F0E442"
         },
         "mode": "lines",
         "name": "45_cat_schrödinger_states_oscillator",
         "type": "scatter",
         "x": [
          1998,
          2002,
          2007,
          2008,
          2010,
          2016,
          2017,
          2019,
          2020,
          2021,
          2024
         ],
         "y": [
          1,
          1,
          1,
          1,
          1,
          1,
          1,
          3,
          1,
          1,
          1
         ]
        },
        {
         "hoverinfo": "text",
         "hovertext": [
          "<b>Topic 46</b><br>Words: entanglement, depth, additivity, irreversibility, it",
          "<b>Topic 46</b><br>Words: entanglements, mermin, klyshko, discriminate, optimized",
          "<b>Topic 46</b><br>Words: depth, it, notions, satisfies, mixture",
          "<b>Topic 46</b><br>Words: subspaces, cess, multipartite, depth, existenc",
          "<b>Topic 46</b><br>Words: im, nondistillability, undertake, properties, neighborhood",
          "<b>Topic 46</b><br>Words: subspaces, cess, depth, cardina, multipartite",
          "<b>Topic 46</b><br>Words: characterization, classes, semistable, polystable, categorized",
          "<b>Topic 46</b><br>Words: vectors, area, 3tangle, distributive, whi",
          "<b>Topic 46</b><br>Words: description, multiparty, lifetime, independent, graphical",
          "<b>Topic 46</b><br>Words: featuring, genuine, those, geometers, deduced"
         ],
         "marker": {
          "color": "#D55E00"
         },
         "mode": "lines",
         "name": "46_entanglement_subspaces_multipartite_d...",
         "type": "scatter",
         "x": [
          1997,
          1999,
          2006,
          2009,
          2012,
          2013,
          2017,
          2018,
          2020,
          2024
         ],
         "y": [
          2,
          1,
          1,
          2,
          1,
          1,
          1,
          1,
          2,
          1
         ]
        },
        {
         "hoverinfo": "text",
         "hovertext": [
          "<b>Topic 47</b><br>Words: driving, exception, sinusoidal, expense, disappears",
          "<b>Topic 47</b><br>Words: resonator, questionable, coupling, care, extra",
          "<b>Topic 47</b><br>Words: cummings, dicke, tavis, counterrotating, coupling",
          "<b>Topic 47</b><br>Words: nonresonant, components, paces, sustained, effects",
          "<b>Topic 47</b><br>Words: recombination, puffing, he, volumetric, dominated",
          "<b>Topic 47</b><br>Words: capacitor, gas, hopfield, evolves, lumped",
          "<b>Topic 47</b><br>Words: dispersive, atoms, cavitie, jaynes, cummings",
          "<b>Topic 47</b><br>Words: big, collapse, revival, gi, spin",
          "<b>Topic 47</b><br>Words: qw, uniform, xn, inxga1, unifo",
          "<b>Topic 47</b><br>Words: excitons, spectrum, detu, nonresonant, physical",
          "<b>Topic 47</b><br>Words: recombination, puffing, he, volumetric, dominated",
          "<b>Topic 47</b><br>Words: rotational, na, he, 2p3, 2p1"
         ],
         "marker": {
          "color": "#0072B2"
         },
         "mode": "lines",
         "name": "47_recombination_puffing_he_volumetric",
         "type": "scatter",
         "x": [
          1997,
          2001,
          2002,
          2004,
          2005,
          2011,
          2015,
          2019,
          2021,
          2022,
          2023,
          2025
         ],
         "y": [
          1,
          1,
          1,
          2,
          1,
          1,
          1,
          1,
          1,
          1,
          1,
          1
         ]
        },
        {
         "hoverinfo": "text",
         "hovertext": [
          "<b>Topic 48</b><br>Words: multiplication, toffoli, gf, circuits, over",
          "<b>Topic 48</b><br>Words: toffoli, nonidentical, gating, sent, atoms",
          "<b>Topic 48</b><br>Words: toffoli, gate, multiqubit, ising, practical",
          "<b>Topic 48</b><br>Words: adder, modular, toffoli, addition, constant",
          "<b>Topic 48</b><br>Words: fluxoniums, ccz, activated, fidelity, opens",
          "<b>Topic 48</b><br>Words: body, förster, three, 119, tretyakov",
          "<b>Topic 48</b><br>Words: decomposition, toffoli, depth, optimized, circuit",
          "<b>Topic 48</b><br>Words: toffoli, bit, figurehead, barenco, things",
          "<b>Topic 48</b><br>Words: toffoli, depth, construction, uses, gate"
         ],
         "marker": {
          "color": "#CC79A7"
         },
         "mode": "lines",
         "name": "48_toffoli_gate_depth_gates",
         "type": "scatter",
         "x": [
          1998,
          2000,
          2001,
          2003,
          2005,
          2006,
          2015,
          2016,
          2020
         ],
         "y": [
          1,
          1,
          2,
          1,
          2,
          1,
          1,
          1,
          2
         ]
        },
        {
         "hoverinfo": "text",
         "hovertext": [
          "<b>Topic 49</b><br>Words: energetic, observable, half, parity, fluctuations",
          "<b>Topic 49</b><br>Words: analytical, entanglement, presenting, focuses, calculating",
          "<b>Topic 49</b><br>Words: disposal, possibilit, concentrating, entangled, belonging",
          "<b>Topic 49</b><br>Words: entanglement, bipartite, larger, comparisons, information",
          "<b>Topic 49</b><br>Words: nonclassicality, ep, disorder, entanglement, dimensionally",
          "<b>Topic 49</b><br>Words: law, area, sinc, motzkin, logarithm",
          "<b>Topic 49</b><br>Words: conservation, parties, degraded, decoherent, wiseman",
          "<b>Topic 49</b><br>Words: optimizing, capability, quantify, entanglement, auxiliary",
          "<b>Topic 49</b><br>Words: scaling, efficientl, diverges, passes, infinity"
         ],
         "marker": {
          "color": "#E69F00"
         },
         "mode": "lines",
         "name": "49_entanglement_energetic_system_nonclas...",
         "type": "scatter",
         "x": [
          1998,
          2004,
          2007,
          2008,
          2010,
          2012,
          2013,
          2015,
          2023
         ],
         "y": [
          1,
          1,
          1,
          2,
          2,
          1,
          2,
          1,
          1
         ]
        },
        {
         "hoverinfo": "text",
         "hovertext": [
          "<b>Topic 50</b><br>Words: supplementary, reservoirs, temperature, ancillary, letter",
          "<b>Topic 50</b><br>Words: heat, foams, metal, rega, sinks",
          "<b>Topic 50</b><br>Words: moderator, fuel, galerkin, ection, ux",
          "<b>Topic 50</b><br>Words: impeller, hour, centrifugal, stirred, ol",
          "<b>Topic 50</b><br>Words: heat, foams, metal, rega, sinks",
          "<b>Topic 50</b><br>Words: gas, pressure, regulators, commercially, user",
          "<b>Topic 50</b><br>Words: heat, foams, metal, rega, sinks",
          "<b>Topic 50</b><br>Words: flow, stress, heating, criterion, electrodes",
          "<b>Topic 50</b><br>Words: north, atlantic, records, climate, sites",
          "<b>Topic 50</b><br>Words: morelon, assessed, melt, superionic, enthalpy"
         ],
         "marker": {
          "color": "#56B4E9"
         },
         "mode": "lines",
         "name": "50_heat_foams_gas_metal",
         "type": "scatter",
         "x": [
          1999,
          2003,
          2006,
          2007,
          2011,
          2012,
          2014,
          2017,
          2020,
          2024
         ],
         "y": [
          1,
          1,
          1,
          1,
          1,
          2,
          1,
          2,
          1,
          1
         ]
        },
        {
         "hoverinfo": "text",
         "hovertext": [
          "<b>Topic 51</b><br>Words: appropr, encompassing, nonsymmetric, asymptotic, proved",
          "<b>Topic 51</b><br>Words: correlations, phenom, specific, evolved, collapse",
          "<b>Topic 51</b><br>Words: correlations, systems, suitabl, introduce, relevance",
          "<b>Topic 51</b><br>Words: spinorial, bosonic, observables, fermionic, correlation",
          "<b>Topic 51</b><br>Words: scenarios, markovian, rebirth, survival, eventual",
          "<b>Topic 51</b><br>Words: ancilla, afterward, interrupted, immediately, method",
          "<b>Topic 51</b><br>Words: noisy, star, nonsignaling, chain, wh",
          "<b>Topic 51</b><br>Words: markovian, correlations, norm, pointer, geometric",
          "<b>Topic 51</b><br>Words: central, multispin, experiment, quantifies, uncorrelated",
          "<b>Topic 51</b><br>Words: violation, nonclassicality, correlation, inequality, local",
          "<b>Topic 51</b><br>Words: rs, evolutions, recommender, nonunitary, factorization"
         ],
         "marker": {
          "color": "#009E73"
         },
         "mode": "lines",
         "name": "51_correlations_markovian_correlation_sy...",
         "type": "scatter",
         "x": [
          2002,
          2005,
          2007,
          2011,
          2012,
          2013,
          2016,
          2017,
          2018,
          2021,
          2023
         ],
         "y": [
          1,
          1,
          1,
          1,
          1,
          1,
          1,
          1,
          1,
          2,
          1
         ]
        },
        {
         "hoverinfo": "text",
         "hovertext": [
          "<b>Topic 52</b><br>Words: moment, decoherence, extended, driving, dipole",
          "<b>Topic 52</b><br>Words: fine, separation, 3d, structure, 504ϯ",
          "<b>Topic 52</b><br>Words: ramsey, metastable, steady, separated, atoms",
          "<b>Topic 52</b><br>Words: coincidence, phonon, michelson, indication, emission",
          "<b>Topic 52</b><br>Words: cars, raman, prepopulation, prepopulate, buildup",
          "<b>Topic 52</b><br>Words: timeoptimal, pulses, atomic, equidistant, acted",
          "<b>Topic 52</b><br>Words: dipole, micr, submicron, approaching, aperture",
          "<b>Topic 52</b><br>Words: laser, spontaneous, raman, previous, scattering",
          "<b>Topic 52</b><br>Words: yag, tm, raman, material, experimental",
          "<b>Topic 52</b><br>Words: shift, bit, trapped, cancel, measure"
         ],
         "marker": {
          "color": "#F0E442"
         },
         "mode": "lines",
         "name": "52_raman_laser_stimulated_atomic",
         "type": "scatter",
         "x": [
          1998,
          2000,
          2002,
          2004,
          2005,
          2009,
          2013,
          2015,
          2018,
          2019
         ],
         "y": [
          1,
          1,
          2,
          2,
          1,
          1,
          1,
          1,
          1,
          1
         ]
        },
        {
         "hoverinfo": "text",
         "hovertext": [
          "<b>Topic 53</b><br>Words: tsvs, trap, ion, interposer, underneath",
          "<b>Topic 53</b><br>Words: ceramics, tcnq, tetracyanoquinodimethane, complexes, multipliers",
          "<b>Topic 53</b><br>Words: cds, tfts, hydrogen, cadmium, photolithography",
          "<b>Topic 53</b><br>Words: drain, regrowth, regrown, dummy, ingaas",
          "<b>Topic 53</b><br>Words: base, resistance, dose, sio, bx",
          "<b>Topic 53</b><br>Words: soi, early, hbt, sige, voltage",
          "<b>Topic 53</b><br>Words: diodes, deteriorated, degradation, boundaries, grain",
          "<b>Topic 53</b><br>Words: fets, organic, passivation, à1, mobility",
          "<b>Topic 53</b><br>Words: device, transistor, 1947, transisto, fet",
          "<b>Topic 53</b><br>Words: block, film, drain, hci, beneath"
         ],
         "marker": {
          "color": "#D55E00"
         },
         "mode": "lines",
         "name": "53_transistors_drain_organic_fets",
         "type": "scatter",
         "x": [
          1997,
          2002,
          2004,
          2005,
          2007,
          2014,
          2015,
          2016,
          2019,
          2020
         ],
         "y": [
          1,
          1,
          1,
          1,
          3,
          1,
          1,
          1,
          1,
          1
         ]
        },
        {
         "hoverinfo": "text",
         "hovertext": [
          "<b>Topic 54</b><br>Words: quantification, 017901, ollivier, zurek, discrepancy",
          "<b>Topic 54</b><br>Words: discord, cla, correlation, nonclassicality, quantum",
          "<b>Topic 54</b><br>Words: discord, enhanced, maximum, shift, cases",
          "<b>Topic 54</b><br>Words: minimization, discord, alber, ali, rau",
          "<b>Topic 54</b><br>Words: discord, central, entang, minimized, imply",
          "<b>Topic 54</b><br>Words: uncertainty, local, discord, quanti, discordlike",
          "<b>Topic 54</b><br>Words: discord, spinj, compared, param, throughout",
          "<b>Topic 54</b><br>Words: discord, correlation, expressions, concurrenc, classical",
          "<b>Topic 54</b><br>Words: discord, nk, grouping, recursive, symmetric",
          "<b>Topic 54</b><br>Words: formula, discord, counterexample, worst, 0021",
          "<b>Topic 54</b><br>Words: correlation, discord, kind, bipartite, even"
         ],
         "marker": {
          "color": "#0072B2"
         },
         "mode": "lines",
         "name": "54_discord_correlation_quantum_states",
         "type": "scatter",
         "x": [
          1997,
          1999,
          2000,
          2002,
          2003,
          2006,
          2013,
          2014,
          2015,
          2020,
          2022
         ],
         "y": [
          1,
          1,
          1,
          1,
          1,
          1,
          1,
          1,
          1,
          1,
          1
         ]
        },
        {
         "hoverinfo": "text",
         "hovertext": [
          "<b>Topic 55</b><br>Words: care, interactions, qubits, favorable, diffraction",
          "<b>Topic 55</b><br>Words: addressing, zones, 960, unlimited, microfabricated",
          "<b>Topic 55</b><br>Words: proven, qudits, yb, 435, realization",
          "<b>Topic 55</b><br>Words: overhead, requiring, logical, physical, each",
          "<b>Topic 55</b><br>Words: execute, challenged, oscillating, talk, heating",
          "<b>Topic 55</b><br>Words: hybrid, cumulant, ubiquitous, improving, operations",
          "<b>Topic 55</b><br>Words: library, computations, significant, seem, libraries",
          "<b>Topic 55</b><br>Words: challenge, types, indire, react, sham",
          "<b>Topic 55</b><br>Words: platforms, predominant, highlighted, hinder, impacts"
         ],
         "marker": {
          "color": "#CC79A7"
         },
         "mode": "lines",
         "name": "55_qubits_operations_promising_addressin...",
         "type": "scatter",
         "x": [
          1997,
          2004,
          2007,
          2009,
          2011,
          2013,
          2016,
          2018,
          2020
         ],
         "y": [
          1,
          1,
          2,
          1,
          1,
          1,
          1,
          2,
          1
         ]
        },
        {
         "hoverinfo": "text",
         "hovertext": [
          "<b>Topic 56</b><br>Words: samples, were, echo, coherence, sic",
          "<b>Topic 56</b><br>Words: adsorption, adsorbed, co, atoms, touch",
          "<b>Topic 56</b><br>Words: flops, silicon, primary, nuclear, arising",
          "<b>Topic 56</b><br>Words: measurements, weak, rotate, variablestrength, preser",
          "<b>Topic 56</b><br>Words: nuclear, polarization, si, nucleus, serves",
          "<b>Topic 56</b><br>Words: si, field, appreciably, thi, hyperfine",
          "<b>Topic 56</b><br>Words: interface, edmr, ϸ10, unattained, dioxide",
          "<b>Topic 56</b><br>Words: relaxation, bound, uniaxial, content, dot",
          "<b>Topic 56</b><br>Words: dnp, donors, pattern, si, nuclear",
          "<b>Topic 56</b><br>Words: donor, spins, nuclear, elec, si"
         ],
         "marker": {
          "color": "#E69F00"
         },
         "mode": "lines",
         "name": "56_nuclear_si_donor_spin",
         "type": "scatter",
         "x": [
          1997,
          1998,
          2000,
          2005,
          2006,
          2009,
          2010,
          2011,
          2015,
          2017
         ],
         "y": [
          1,
          1,
          1,
          1,
          1,
          1,
          1,
          1,
          1,
          1
         ]
        },
        {
         "hoverinfo": "text",
         "hovertext": [
          "<b>Topic 57</b><br>Words: kinematic, manifestly, nonunitary, evolution, tested",
          "<b>Topic 57</b><br>Words: framework, geometric, mixed, almost, structure",
          "<b>Topic 57</b><br>Words: envelopes, translated, entangled, bichromatic, state",
          "<b>Topic 57</b><br>Words: phases, mixed, parallel, concept, off",
          "<b>Topic 57</b><br>Words: undergoing, quantal, evolution, path, geometry",
          "<b>Topic 57</b><br>Words: cp, maps, defined, embodied, interference",
          "<b>Topic 57</b><br>Words: rocking, ternal, susceptible, disturbances, outside",
          "<b>Topic 57</b><br>Words: nonideal, ions, fields, bichromatic, deterministically",
          "<b>Topic 57</b><br>Words: qudit, multiplicity, saunders, russell, photoion",
          "<b>Topic 57</b><br>Words: diagonal, 85, 2000, geometric, mixed"
         ],
         "marker": {
          "color": "#56B4E9"
         },
         "mode": "lines",
         "name": "57_geometric_mixed_quantal_evolution",
         "type": "scatter",
         "x": [
          1997,
          2000,
          2001,
          2007,
          2009,
          2010,
          2012,
          2015,
          2017,
          2024
         ],
         "y": [
          1,
          1,
          1,
          1,
          1,
          1,
          1,
          1,
          1,
          1
         ]
        },
        {
         "hoverinfo": "text",
         "hovertext": [
          "<b>Topic 58</b><br>Words: recrystallization, niobium, arc, films, filtered",
          "<b>Topic 58</b><br>Words: recrystallization, niobium, arc, films, latin",
          "<b>Topic 58</b><br>Words: recrystallization, niobium, arc, films, filtered",
          "<b>Topic 58</b><br>Words: recrystallization, niobium, arc, films, filtered",
          "<b>Topic 58</b><br>Words: nanowire, approa, superconductor, semiconductor, andreev",
          "<b>Topic 58</b><br>Words: recrystallization, niobium, arc, films, filtered",
          "<b>Topic 58</b><br>Words: recrystallization, niobium, arc, films, filtered",
          "<b>Topic 58</b><br>Words: recrystallization, niobium, arc, films, filtered",
          "<b>Topic 58</b><br>Words: recrystallization, niobium, arc, films, filtered"
         ],
         "marker": {
          "color": "#009E73"
         },
         "mode": "lines",
         "name": "58_recrystallization_niobium_arc_films",
         "type": "scatter",
         "x": [
          2000,
          2002,
          2005,
          2007,
          2010,
          2016,
          2017,
          2024,
          2025
         ],
         "y": [
          1,
          2,
          1,
          1,
          1,
          1,
          1,
          1,
          1
         ]
        },
        {
         "hoverinfo": "text",
         "hovertext": [
          "<b>Topic 59</b><br>Words: segmented, mirror, aberrations, telescope, zernike",
          "<b>Topic 59</b><br>Words: microlens, focal, length, refractive, oil",
          "<b>Topic 59</b><br>Words: amplification, image, output, lenses, pixel",
          "<b>Topic 59</b><br>Words: segmented, mirror, aberrations, shaper, zernike",
          "<b>Topic 59</b><br>Words: dolinar, projection, implementing, feedforward, project",
          "<b>Topic 59</b><br>Words: focusing, figure, soft, ideal, achromatic",
          "<b>Topic 59</b><br>Words: sub, techniques, examined, microscopy, resolution"
         ],
         "marker": {
          "color": "#F0E442"
         },
         "mode": "lines",
         "name": "59_segmented_mirror_aberrations_telescop...",
         "type": "scatter",
         "x": [
          1997,
          1998,
          1999,
          2008,
          2011,
          2020,
          2024
         ],
         "y": [
          2,
          2,
          1,
          2,
          1,
          1,
          1
         ]
        },
        {
         "hoverinfo": "text",
         "hovertext": [
          "<b>Topic 60</b><br>Words: photons, 002, fulfills, loss, disturbing",
          "<b>Topic 60</b><br>Words: losses, low, diqkd, daylight, 5μm",
          "<b>Topic 60</b><br>Words: purity, bir, struggle, optical, turbulence",
          "<b>Topic 60</b><br>Words: wqed, routing, dipole, qes, chirally",
          "<b>Topic 60</b><br>Words: deployed, fibers, qkd, photons, retarders",
          "<b>Topic 60</b><br>Words: photons, conversion, now, vastly, gigabit",
          "<b>Topic 60</b><br>Words: telecommunications, emit, photons, wavelengths, fiber",
          "<b>Topic 60</b><br>Words: sr, interface, longdistance, fut, linking",
          "<b>Topic 60</b><br>Words: bidirectionally, source, mw, narrowband, brightness"
         ],
         "marker": {
          "color": "#D55E00"
         },
         "mode": "lines",
         "name": "60_photons_conversion_fiber_fibers",
         "type": "scatter",
         "x": [
          1998,
          1999,
          2000,
          2003,
          2012,
          2015,
          2018,
          2019,
          2023
         ],
         "y": [
          1,
          1,
          1,
          1,
          1,
          2,
          1,
          1,
          1
         ]
        },
        {
         "hoverinfo": "text",
         "hovertext": [
          "<b>Topic 61</b><br>Words: interrupting, influence, equivalently, nonselective, imagine",
          "<b>Topic 61</b><br>Words: kraus, damping, bosonic, representation, whose",
          "<b>Topic 61</b><br>Words: csm, nonlinear, central, 134, schlein",
          "<b>Topic 61</b><br>Words: relation, numerics, integrab, collateral, kicked",
          "<b>Topic 61</b><br>Words: dzyaloshinskii, moriya, central, breuer, memory",
          "<b>Topic 61</b><br>Words: environment, deleterious, alone, minimize, get",
          "<b>Topic 61</b><br>Words: anti, hermitian, general, parity, pt",
          "<b>Topic 61</b><br>Words: anti, hermitian, general, parity, pt",
          "<b>Topic 61</b><br>Words: le, chains, transverse, xy, loschmidt",
          "<b>Topic 61</b><br>Words: minimal, asymmetry, tw, monotone, guarantees"
         ],
         "marker": {
          "color": "#0072B2"
         },
         "mode": "lines",
         "name": "61_environment_dynamics_qubit_le",
         "type": "scatter",
         "x": [
          1998,
          2001,
          2008,
          2009,
          2013,
          2015,
          2017,
          2019,
          2022,
          2023
         ],
         "y": [
          1,
          1,
          1,
          1,
          1,
          1,
          1,
          1,
          1,
          1
         ]
        },
        {
         "hoverinfo": "text",
         "hovertext": [
          "<b>Topic 62</b><br>Words: cloning, transformation, ͼ6, pair, feeding",
          "<b>Topic 62</b><br>Words: tele, probabilit, bellbasis, scheme, 402",
          "<b>Topic 62</b><br>Words: cloning, realize, economic, equatorial, experimental",
          "<b>Topic 62</b><br>Words: cloning, economical, covariant, machine, clones",
          "<b>Topic 62</b><br>Words: cloning, unbalanced, microw, succeeds, photons",
          "<b>Topic 62</b><br>Words: cloning, asymmetric, input, asymmetrically, prohibited",
          "<b>Topic 62</b><br>Words: repair, damaged, trnas, copies, likewise",
          "<b>Topic 62</b><br>Words: maximin, principle, machine, cloning, latitude",
          "<b>Topic 62</b><br>Words: interfering, clone, wish, machines, equatorial",
          "<b>Topic 62</b><br>Words: cloning, anticlone, clones, adopting, observer"
         ],
         "marker": {
          "color": "#CC79A7"
         },
         "mode": "lines",
         "name": "62_cloning_covariant_machine_repair",
         "type": "scatter",
         "x": [
          1998,
          1999,
          2000,
          2006,
          2007,
          2010,
          2017,
          2018,
          2021,
          2025
         ],
         "y": [
          1,
          1,
          1,
          1,
          1,
          1,
          1,
          1,
          1,
          1
         ]
        },
        {
         "hoverinfo": "text",
         "hovertext": [
          "<b>Topic 63</b><br>Words: interferometry, zener, landau, parabolic, antic",
          "<b>Topic 63</b><br>Words: lzsm, soi, funnel, spinorbit, smoothly",
          "<b>Topic 63</b><br>Words: lzs, dressed, tetrapartite, resonant, interference",
          "<b>Topic 63</b><br>Words: lzs, ac, dc, pattern, dynamic",
          "<b>Topic 63</b><br>Words: lz, zener, landau, interference, stud",
          "<b>Topic 63</b><br>Words: lz, classic, swept, come, transitions",
          "<b>Topic 63</b><br>Words: resonant, σz, sørensentype, synthesize, robustnes",
          "<b>Topic 63</b><br>Words: admittance, peaks, plateau, like, superimposed"
         ],
         "marker": {
          "color": "#E69F00"
         },
         "mode": "lines",
         "name": "63_lzs_zener_landau_lz",
         "type": "scatter",
         "x": [
          1997,
          2007,
          2008,
          2010,
          2013,
          2015,
          2017,
          2023
         ],
         "y": [
          2,
          1,
          2,
          1,
          1,
          1,
          1,
          1
         ]
        },
        {
         "hoverinfo": "text",
         "hovertext": [
          "<b>Topic 64</b><br>Words: polynomial, controlled, lowdegree, zeroes, counting",
          "<b>Topic 64</b><br>Words: unitary, transformations, reflecting, distinguishable, finite",
          "<b>Topic 64</b><br>Words: eigenvalues, eigenstates, know, act, produce",
          "<b>Topic 64</b><br>Words: computationally, topologically, operations, protected, augmentation",
          "<b>Topic 64</b><br>Words: gates, unitary, syntheses, führ, negator",
          "<b>Topic 64</b><br>Words: basis, log, compilation, dir, algorithms",
          "<b>Topic 64</b><br>Words: gf, calculation, multiplicative, multiplication, inverse",
          "<b>Topic 64</b><br>Words: clifford, ancillas, matrix, elementary, circuit",
          "<b>Topic 64</b><br>Words: canonical, operator, qutrit, clifford, form"
         ],
         "marker": {
          "color": "#56B4E9"
         },
         "mode": "lines",
         "name": "64_unitary_gf_gates_circuit",
         "type": "scatter",
         "x": [
          1998,
          2002,
          2006,
          2009,
          2010,
          2011,
          2013,
          2021,
          2025
         ],
         "y": [
          1,
          1,
          1,
          1,
          1,
          1,
          1,
          2,
          1
         ]
        }
       ],
       "layout": {
        "height": 450,
        "hoverlabel": {
         "bgcolor": "white",
         "font": {
          "family": "Rockwell",
          "size": 16
         }
        },
        "legend": {
         "title": {
          "text": "<b>Global Topic Representation"
         }
        },
        "template": {
         "data": {
          "bar": [
           {
            "error_x": {
             "color": "rgb(36,36,36)"
            },
            "error_y": {
             "color": "rgb(36,36,36)"
            },
            "marker": {
             "line": {
              "color": "white",
              "width": 0.5
             },
             "pattern": {
              "fillmode": "overlay",
              "size": 10,
              "solidity": 0.2
             }
            },
            "type": "bar"
           }
          ],
          "barpolar": [
           {
            "marker": {
             "line": {
              "color": "white",
              "width": 0.5
             },
             "pattern": {
              "fillmode": "overlay",
              "size": 10,
              "solidity": 0.2
             }
            },
            "type": "barpolar"
           }
          ],
          "carpet": [
           {
            "aaxis": {
             "endlinecolor": "rgb(36,36,36)",
             "gridcolor": "white",
             "linecolor": "white",
             "minorgridcolor": "white",
             "startlinecolor": "rgb(36,36,36)"
            },
            "baxis": {
             "endlinecolor": "rgb(36,36,36)",
             "gridcolor": "white",
             "linecolor": "white",
             "minorgridcolor": "white",
             "startlinecolor": "rgb(36,36,36)"
            },
            "type": "carpet"
           }
          ],
          "choropleth": [
           {
            "colorbar": {
             "outlinewidth": 1,
             "tickcolor": "rgb(36,36,36)",
             "ticks": "outside"
            },
            "type": "choropleth"
           }
          ],
          "contour": [
           {
            "colorbar": {
             "outlinewidth": 1,
             "tickcolor": "rgb(36,36,36)",
             "ticks": "outside"
            },
            "colorscale": [
             [
              0,
              "#440154"
             ],
             [
              0.1111111111111111,
              "#482878"
             ],
             [
              0.2222222222222222,
              "#3e4989"
             ],
             [
              0.3333333333333333,
              "#31688e"
             ],
             [
              0.4444444444444444,
              "#26828e"
             ],
             [
              0.5555555555555556,
              "#1f9e89"
             ],
             [
              0.6666666666666666,
              "#35b779"
             ],
             [
              0.7777777777777778,
              "#6ece58"
             ],
             [
              0.8888888888888888,
              "#b5de2b"
             ],
             [
              1,
              "#fde725"
             ]
            ],
            "type": "contour"
           }
          ],
          "contourcarpet": [
           {
            "colorbar": {
             "outlinewidth": 1,
             "tickcolor": "rgb(36,36,36)",
             "ticks": "outside"
            },
            "type": "contourcarpet"
           }
          ],
          "heatmap": [
           {
            "colorbar": {
             "outlinewidth": 1,
             "tickcolor": "rgb(36,36,36)",
             "ticks": "outside"
            },
            "colorscale": [
             [
              0,
              "#440154"
             ],
             [
              0.1111111111111111,
              "#482878"
             ],
             [
              0.2222222222222222,
              "#3e4989"
             ],
             [
              0.3333333333333333,
              "#31688e"
             ],
             [
              0.4444444444444444,
              "#26828e"
             ],
             [
              0.5555555555555556,
              "#1f9e89"
             ],
             [
              0.6666666666666666,
              "#35b779"
             ],
             [
              0.7777777777777778,
              "#6ece58"
             ],
             [
              0.8888888888888888,
              "#b5de2b"
             ],
             [
              1,
              "#fde725"
             ]
            ],
            "type": "heatmap"
           }
          ],
          "heatmapgl": [
           {
            "colorbar": {
             "outlinewidth": 1,
             "tickcolor": "rgb(36,36,36)",
             "ticks": "outside"
            },
            "colorscale": [
             [
              0,
              "#440154"
             ],
             [
              0.1111111111111111,
              "#482878"
             ],
             [
              0.2222222222222222,
              "#3e4989"
             ],
             [
              0.3333333333333333,
              "#31688e"
             ],
             [
              0.4444444444444444,
              "#26828e"
             ],
             [
              0.5555555555555556,
              "#1f9e89"
             ],
             [
              0.6666666666666666,
              "#35b779"
             ],
             [
              0.7777777777777778,
              "#6ece58"
             ],
             [
              0.8888888888888888,
              "#b5de2b"
             ],
             [
              1,
              "#fde725"
             ]
            ],
            "type": "heatmapgl"
           }
          ],
          "histogram": [
           {
            "marker": {
             "line": {
              "color": "white",
              "width": 0.6
             }
            },
            "type": "histogram"
           }
          ],
          "histogram2d": [
           {
            "colorbar": {
             "outlinewidth": 1,
             "tickcolor": "rgb(36,36,36)",
             "ticks": "outside"
            },
            "colorscale": [
             [
              0,
              "#440154"
             ],
             [
              0.1111111111111111,
              "#482878"
             ],
             [
              0.2222222222222222,
              "#3e4989"
             ],
             [
              0.3333333333333333,
              "#31688e"
             ],
             [
              0.4444444444444444,
              "#26828e"
             ],
             [
              0.5555555555555556,
              "#1f9e89"
             ],
             [
              0.6666666666666666,
              "#35b779"
             ],
             [
              0.7777777777777778,
              "#6ece58"
             ],
             [
              0.8888888888888888,
              "#b5de2b"
             ],
             [
              1,
              "#fde725"
             ]
            ],
            "type": "histogram2d"
           }
          ],
          "histogram2dcontour": [
           {
            "colorbar": {
             "outlinewidth": 1,
             "tickcolor": "rgb(36,36,36)",
             "ticks": "outside"
            },
            "colorscale": [
             [
              0,
              "#440154"
             ],
             [
              0.1111111111111111,
              "#482878"
             ],
             [
              0.2222222222222222,
              "#3e4989"
             ],
             [
              0.3333333333333333,
              "#31688e"
             ],
             [
              0.4444444444444444,
              "#26828e"
             ],
             [
              0.5555555555555556,
              "#1f9e89"
             ],
             [
              0.6666666666666666,
              "#35b779"
             ],
             [
              0.7777777777777778,
              "#6ece58"
             ],
             [
              0.8888888888888888,
              "#b5de2b"
             ],
             [
              1,
              "#fde725"
             ]
            ],
            "type": "histogram2dcontour"
           }
          ],
          "mesh3d": [
           {
            "colorbar": {
             "outlinewidth": 1,
             "tickcolor": "rgb(36,36,36)",
             "ticks": "outside"
            },
            "type": "mesh3d"
           }
          ],
          "parcoords": [
           {
            "line": {
             "colorbar": {
              "outlinewidth": 1,
              "tickcolor": "rgb(36,36,36)",
              "ticks": "outside"
             }
            },
            "type": "parcoords"
           }
          ],
          "pie": [
           {
            "automargin": true,
            "type": "pie"
           }
          ],
          "scatter": [
           {
            "fillpattern": {
             "fillmode": "overlay",
             "size": 10,
             "solidity": 0.2
            },
            "type": "scatter"
           }
          ],
          "scatter3d": [
           {
            "line": {
             "colorbar": {
              "outlinewidth": 1,
              "tickcolor": "rgb(36,36,36)",
              "ticks": "outside"
             }
            },
            "marker": {
             "colorbar": {
              "outlinewidth": 1,
              "tickcolor": "rgb(36,36,36)",
              "ticks": "outside"
             }
            },
            "type": "scatter3d"
           }
          ],
          "scattercarpet": [
           {
            "marker": {
             "colorbar": {
              "outlinewidth": 1,
              "tickcolor": "rgb(36,36,36)",
              "ticks": "outside"
             }
            },
            "type": "scattercarpet"
           }
          ],
          "scattergeo": [
           {
            "marker": {
             "colorbar": {
              "outlinewidth": 1,
              "tickcolor": "rgb(36,36,36)",
              "ticks": "outside"
             }
            },
            "type": "scattergeo"
           }
          ],
          "scattergl": [
           {
            "marker": {
             "colorbar": {
              "outlinewidth": 1,
              "tickcolor": "rgb(36,36,36)",
              "ticks": "outside"
             }
            },
            "type": "scattergl"
           }
          ],
          "scattermapbox": [
           {
            "marker": {
             "colorbar": {
              "outlinewidth": 1,
              "tickcolor": "rgb(36,36,36)",
              "ticks": "outside"
             }
            },
            "type": "scattermapbox"
           }
          ],
          "scatterpolar": [
           {
            "marker": {
             "colorbar": {
              "outlinewidth": 1,
              "tickcolor": "rgb(36,36,36)",
              "ticks": "outside"
             }
            },
            "type": "scatterpolar"
           }
          ],
          "scatterpolargl": [
           {
            "marker": {
             "colorbar": {
              "outlinewidth": 1,
              "tickcolor": "rgb(36,36,36)",
              "ticks": "outside"
             }
            },
            "type": "scatterpolargl"
           }
          ],
          "scatterternary": [
           {
            "marker": {
             "colorbar": {
              "outlinewidth": 1,
              "tickcolor": "rgb(36,36,36)",
              "ticks": "outside"
             }
            },
            "type": "scatterternary"
           }
          ],
          "surface": [
           {
            "colorbar": {
             "outlinewidth": 1,
             "tickcolor": "rgb(36,36,36)",
             "ticks": "outside"
            },
            "colorscale": [
             [
              0,
              "#440154"
             ],
             [
              0.1111111111111111,
              "#482878"
             ],
             [
              0.2222222222222222,
              "#3e4989"
             ],
             [
              0.3333333333333333,
              "#31688e"
             ],
             [
              0.4444444444444444,
              "#26828e"
             ],
             [
              0.5555555555555556,
              "#1f9e89"
             ],
             [
              0.6666666666666666,
              "#35b779"
             ],
             [
              0.7777777777777778,
              "#6ece58"
             ],
             [
              0.8888888888888888,
              "#b5de2b"
             ],
             [
              1,
              "#fde725"
             ]
            ],
            "type": "surface"
           }
          ],
          "table": [
           {
            "cells": {
             "fill": {
              "color": "rgb(237,237,237)"
             },
             "line": {
              "color": "white"
             }
            },
            "header": {
             "fill": {
              "color": "rgb(217,217,217)"
             },
             "line": {
              "color": "white"
             }
            },
            "type": "table"
           }
          ]
         },
         "layout": {
          "annotationdefaults": {
           "arrowhead": 0,
           "arrowwidth": 1
          },
          "autotypenumbers": "strict",
          "coloraxis": {
           "colorbar": {
            "outlinewidth": 1,
            "tickcolor": "rgb(36,36,36)",
            "ticks": "outside"
           }
          },
          "colorscale": {
           "diverging": [
            [
             0,
             "rgb(103,0,31)"
            ],
            [
             0.1,
             "rgb(178,24,43)"
            ],
            [
             0.2,
             "rgb(214,96,77)"
            ],
            [
             0.3,
             "rgb(244,165,130)"
            ],
            [
             0.4,
             "rgb(253,219,199)"
            ],
            [
             0.5,
             "rgb(247,247,247)"
            ],
            [
             0.6,
             "rgb(209,229,240)"
            ],
            [
             0.7,
             "rgb(146,197,222)"
            ],
            [
             0.8,
             "rgb(67,147,195)"
            ],
            [
             0.9,
             "rgb(33,102,172)"
            ],
            [
             1,
             "rgb(5,48,97)"
            ]
           ],
           "sequential": [
            [
             0,
             "#440154"
            ],
            [
             0.1111111111111111,
             "#482878"
            ],
            [
             0.2222222222222222,
             "#3e4989"
            ],
            [
             0.3333333333333333,
             "#31688e"
            ],
            [
             0.4444444444444444,
             "#26828e"
            ],
            [
             0.5555555555555556,
             "#1f9e89"
            ],
            [
             0.6666666666666666,
             "#35b779"
            ],
            [
             0.7777777777777778,
             "#6ece58"
            ],
            [
             0.8888888888888888,
             "#b5de2b"
            ],
            [
             1,
             "#fde725"
            ]
           ],
           "sequentialminus": [
            [
             0,
             "#440154"
            ],
            [
             0.1111111111111111,
             "#482878"
            ],
            [
             0.2222222222222222,
             "#3e4989"
            ],
            [
             0.3333333333333333,
             "#31688e"
            ],
            [
             0.4444444444444444,
             "#26828e"
            ],
            [
             0.5555555555555556,
             "#1f9e89"
            ],
            [
             0.6666666666666666,
             "#35b779"
            ],
            [
             0.7777777777777778,
             "#6ece58"
            ],
            [
             0.8888888888888888,
             "#b5de2b"
            ],
            [
             1,
             "#fde725"
            ]
           ]
          },
          "colorway": [
           "#1F77B4",
           "#FF7F0E",
           "#2CA02C",
           "#D62728",
           "#9467BD",
           "#8C564B",
           "#E377C2",
           "#7F7F7F",
           "#BCBD22",
           "#17BECF"
          ],
          "font": {
           "color": "rgb(36,36,36)"
          },
          "geo": {
           "bgcolor": "white",
           "lakecolor": "white",
           "landcolor": "white",
           "showlakes": true,
           "showland": true,
           "subunitcolor": "white"
          },
          "hoverlabel": {
           "align": "left"
          },
          "hovermode": "closest",
          "mapbox": {
           "style": "light"
          },
          "paper_bgcolor": "white",
          "plot_bgcolor": "white",
          "polar": {
           "angularaxis": {
            "gridcolor": "rgb(232,232,232)",
            "linecolor": "rgb(36,36,36)",
            "showgrid": false,
            "showline": true,
            "ticks": "outside"
           },
           "bgcolor": "white",
           "radialaxis": {
            "gridcolor": "rgb(232,232,232)",
            "linecolor": "rgb(36,36,36)",
            "showgrid": false,
            "showline": true,
            "ticks": "outside"
           }
          },
          "scene": {
           "xaxis": {
            "backgroundcolor": "white",
            "gridcolor": "rgb(232,232,232)",
            "gridwidth": 2,
            "linecolor": "rgb(36,36,36)",
            "showbackground": true,
            "showgrid": false,
            "showline": true,
            "ticks": "outside",
            "zeroline": false,
            "zerolinecolor": "rgb(36,36,36)"
           },
           "yaxis": {
            "backgroundcolor": "white",
            "gridcolor": "rgb(232,232,232)",
            "gridwidth": 2,
            "linecolor": "rgb(36,36,36)",
            "showbackground": true,
            "showgrid": false,
            "showline": true,
            "ticks": "outside",
            "zeroline": false,
            "zerolinecolor": "rgb(36,36,36)"
           },
           "zaxis": {
            "backgroundcolor": "white",
            "gridcolor": "rgb(232,232,232)",
            "gridwidth": 2,
            "linecolor": "rgb(36,36,36)",
            "showbackground": true,
            "showgrid": false,
            "showline": true,
            "ticks": "outside",
            "zeroline": false,
            "zerolinecolor": "rgb(36,36,36)"
           }
          },
          "shapedefaults": {
           "fillcolor": "black",
           "line": {
            "width": 0
           },
           "opacity": 0.3
          },
          "ternary": {
           "aaxis": {
            "gridcolor": "rgb(232,232,232)",
            "linecolor": "rgb(36,36,36)",
            "showgrid": false,
            "showline": true,
            "ticks": "outside"
           },
           "baxis": {
            "gridcolor": "rgb(232,232,232)",
            "linecolor": "rgb(36,36,36)",
            "showgrid": false,
            "showline": true,
            "ticks": "outside"
           },
           "bgcolor": "white",
           "caxis": {
            "gridcolor": "rgb(232,232,232)",
            "linecolor": "rgb(36,36,36)",
            "showgrid": false,
            "showline": true,
            "ticks": "outside"
           }
          },
          "title": {
           "x": 0.05
          },
          "xaxis": {
           "automargin": true,
           "gridcolor": "rgb(232,232,232)",
           "linecolor": "rgb(36,36,36)",
           "showgrid": false,
           "showline": true,
           "ticks": "outside",
           "title": {
            "standoff": 15
           },
           "zeroline": false,
           "zerolinecolor": "rgb(36,36,36)"
          },
          "yaxis": {
           "automargin": true,
           "gridcolor": "rgb(232,232,232)",
           "linecolor": "rgb(36,36,36)",
           "showgrid": false,
           "showline": true,
           "ticks": "outside",
           "title": {
            "standoff": 15
           },
           "zeroline": false,
           "zerolinecolor": "rgb(36,36,36)"
          }
         }
        },
        "title": {
         "font": {
          "color": "Black",
          "size": 22
         },
         "text": "<b>Topics over Time</b>",
         "x": 0.4,
         "xanchor": "center",
         "y": 0.95,
         "yanchor": "top"
        },
        "width": 1250,
        "xaxis": {
         "showgrid": true
        },
        "yaxis": {
         "showgrid": true,
         "title": {
          "text": "Frequency"
         }
        }
       }
      }
     },
     "metadata": {},
     "output_type": "display_data"
    }
   ],
   "source": [
    "topics_over_time = topic_model.topics_over_time(docs, timestamps, global_tuning=False, evolution_tuning=False)\n",
    "topic_model.visualize_topics_over_time(topics_over_time)"
   ]
  }
 ],
 "metadata": {
  "kernelspec": {
   "display_name": "topic",
   "language": "python",
   "name": "topic"
  },
  "language_info": {
   "codemirror_mode": {
    "name": "ipython",
    "version": 3
   },
   "file_extension": ".py",
   "mimetype": "text/x-python",
   "name": "python",
   "nbconvert_exporter": "python",
   "pygments_lexer": "ipython3",
   "version": "3.10.14"
  }
 },
 "nbformat": 4,
 "nbformat_minor": 2
}
