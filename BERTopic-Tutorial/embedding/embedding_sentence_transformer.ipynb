{
 "cells": [
  {
   "cell_type": "markdown",
   "id": "c93d5c47",
   "metadata": {},
   "source": [
    "# 导入"
   ]
  },
  {
   "cell_type": "code",
   "execution_count": 1,
   "id": "da0d3900",
   "metadata": {},
   "outputs": [
    {
     "name": "stderr",
     "output_type": "stream",
     "text": [
      "d:\\SoftwareData\\Anaconda3\\envs\\topic\\lib\\site-packages\\tqdm\\auto.py:21: TqdmWarning: IProgress not found. Please update jupyter and ipywidgets. See https://ipywidgets.readthedocs.io/en/stable/user_install.html\n",
      "  from .autonotebook import tqdm as notebook_tqdm\n"
     ]
    }
   ],
   "source": [
    "from sentence_transformers import SentenceTransformer\n",
    "import numpy as np"
   ]
  },
  {
   "cell_type": "markdown",
   "id": "27a9041f",
   "metadata": {},
   "source": [
    "# 加载文件"
   ]
  },
  {
   "cell_type": "code",
   "execution_count": 2,
   "id": "fedbdc84-c52f-4552-8945-ea17ec0bbd85",
   "metadata": {
    "tags": []
   },
   "outputs": [
    {
     "name": "stdout",
     "output_type": "stream",
     "text": [
      "文本条数:  2714\n",
      "预览第一条:  This article shows how symbolic computing and the mathematical formalism induced by maximizing entropy and minimizing the mean deviation from statistical equilibrium may be effectively applied to obtaining probabilistic models for the structure of atoms, using trial wave functions compatible with an average shell picture of the atom. The objective is not only to recover the experimental value of the ground state mean energy of the atom, but rather to better approximate the unknown parameters of these trial functions and to calculate both correlations between electrons and the amount of interdependence among different subsets of electrons of the atoms. The examples and numerical results refer to the hydrogen, helium, lithium, and beryllium atoms. The main computer programs, using the symbolic computing software MATHEMATICA, are also given.\n",
      "\n"
     ]
    }
   ],
   "source": [
    "# step1 加载文件\n",
    "with open('../data/文本.txt', 'r', encoding='utf-8') as file:\n",
    "  docs = file.readlines()\n",
    "  # docs = file.readlines()[:100] # ⚠️⚠️⚠️测试的时候可以只看前100条数据⚠️⚠️⚠️\n",
    "print('文本条数: ', len(docs))\n",
    "print('预览第一条: ', docs[0])"
   ]
  },
  {
   "cell_type": "markdown",
   "id": "45994fa9",
   "metadata": {},
   "source": [
    "# 生成词向量"
   ]
  },
  {
   "cell_type": "code",
   "execution_count": 3,
   "id": "80e65b4d-6713-4e3c-acf0-f989a5db8e35",
   "metadata": {
    "tags": []
   },
   "outputs": [
    {
     "name": "stderr",
     "output_type": "stream",
     "text": [
      "Batches: 100%|██████████| 85/85 [00:07<00:00, 10.81it/s]"
     ]
    },
    {
     "name": "stdout",
     "output_type": "stream",
     "text": [
      "<class 'numpy.ndarray'> (2714, 384)\n"
     ]
    },
    {
     "name": "stderr",
     "output_type": "stream",
     "text": [
      "\n"
     ]
    }
   ],
   "source": [
    "embedding_model = SentenceTransformer(\n",
    "  'paraphrase-multilingual-MiniLM-L12-v2',\n",
    ")\n",
    "embeddings = embedding_model.encode(docs, show_progress_bar=True)\n",
    "print(type(embeddings), embeddings.shape)"
   ]
  },
  {
   "cell_type": "markdown",
   "id": "7d965cf2",
   "metadata": {},
   "source": [
    "# 保存"
   ]
  },
  {
   "cell_type": "code",
   "execution_count": 4,
   "id": "f78d7f2a-a39b-4dd5-a83e-04fbf721682e",
   "metadata": {
    "tags": []
   },
   "outputs": [
    {
     "name": "stdout",
     "output_type": "stream",
     "text": [
      "<class 'numpy.ndarray'> (2714, 384)\n"
     ]
    }
   ],
   "source": [
    "np.save('emb.npy', embeddings)\n",
    "embeddings = np.load('emb.npy') # 加载回来，看一下效果\n",
    "print(type(embeddings), embeddings.shape)"
   ]
  }
 ],
 "metadata": {
  "kernelspec": {
   "display_name": "topic",
   "language": "python",
   "name": "topic"
  },
  "language_info": {
   "codemirror_mode": {
    "name": "ipython",
    "version": 3
   },
   "file_extension": ".py",
   "mimetype": "text/x-python",
   "name": "python",
   "nbconvert_exporter": "python",
   "pygments_lexer": "ipython3",
   "version": "3.10.14"
  }
 },
 "nbformat": 4,
 "nbformat_minor": 5
}
