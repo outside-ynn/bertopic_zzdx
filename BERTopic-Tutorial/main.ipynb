{
 "cells": [
  {
   "cell_type": "markdown",
   "metadata": {},
   "source": [
    "# 导入"
   ]
  },
  {
   "cell_type": "code",
   "execution_count": 16,
   "metadata": {},
   "outputs": [],
   "source": [
    "import numpy as np\n",
    "from bertopic import BERTopic\n",
    "from transformers.pipelines import pipeline\n",
    "from sentence_transformers import SentenceTransformer\n",
    "from umap import UMAP\n",
    "from hdbscan import HDBSCAN\n",
    "from sklearn.feature_extraction.text import CountVectorizer"
   ]
  },
  {
   "cell_type": "markdown",
   "metadata": {},
   "source": [
    "# 加载文件"
   ]
  },
  {
   "cell_type": "code",
   "execution_count": 17,
   "metadata": {},
   "outputs": [
    {
     "name": "stdout",
     "output_type": "stream",
     "text": [
      "条数:  1000\n",
      "预览第一条:  文旅文 创看 洛阳 河南省 文旅文创 发展 大会 本次 大会 安排 项目 签约 主要 方面 内容 一是 文旅 产业 项目 签约 截至 目前 梳理 重点 文旅 项目 投资总额 525.6 亿元 遴选 重大项目 进行 现场 签约 投资总额 365.8 亿元 项目 包括 文物 数字化 开发 文化 创意 园区 建设 文化 项目 涵盖 旅游 度假区 建设 旅游 酒店 民宿 打造 旅游 项目 既有 旅游 景区 开发 商旅 综合体 建设 传统 业态 项目 宇宙 基地 沉浸 演艺 业态 项目 充分体现 我省 文化 旅游 发展 特点 趋势 二是 引客 入豫 项目 签约 主要 我省 文旅 部门 文旅 企业 头部 旅行 知名 OTA 平台 重点 客源地 文旅 部门 签订 引客 入豫 协议 持续 拓展 省外 客源 市场\n",
      "\n"
     ]
    }
   ],
   "source": [
    "\n",
    "with open('./data/切词.txt', 'r', encoding='utf-8') as file:\n",
    "  docs = file.readlines()\n",
    "print('条数: ', len(docs))\n",
    "print('预览第一条: ', docs[0])\n",
    "\n",
    "vectorizer_model = None"
   ]
  },
  {
   "cell_type": "markdown",
   "metadata": {},
   "source": [
    "# 创建模型"
   ]
  },
  {
   "cell_type": "code",
   "execution_count": 18,
   "metadata": {},
   "outputs": [
    {
     "name": "stderr",
     "output_type": "stream",
     "text": [
      "Some weights of the model checkpoint at bert-base-chinese were not used when initializing BertModel: ['cls.predictions.transform.dense.bias', 'cls.seq_relationship.bias', 'cls.seq_relationship.weight', 'cls.predictions.transform.LayerNorm.weight', 'cls.predictions.bias', 'cls.predictions.transform.LayerNorm.bias', 'cls.predictions.decoder.weight', 'cls.predictions.transform.dense.weight']\n",
      "- This IS expected if you are initializing BertModel from the checkpoint of a model trained on another task or with another architecture (e.g. initializing a BertForSequenceClassification model from a BertForPreTraining model).\n",
      "- This IS NOT expected if you are initializing BertModel from the checkpoint of a model that you expect to be exactly identical (initializing a BertForSequenceClassification model from a BertForSequenceClassification model).\n"
     ]
    },
    {
     "name": "stdout",
     "output_type": "stream",
     "text": [
      "向量shape： (1000, 768)\n"
     ]
    }
   ],
   "source": [
    "# 1. 词向量模型，同时加载本地训练好的词向量\n",
    "embedding_model = pipeline(\"feature-extraction\", model=\"bert-base-chinese\") # 使用bert-base-chinese\n",
    "embeddings = np.load('./data/embedding_bbc.npy') # 使用bert-base-chinese向量\n",
    "print('向量shape：', embeddings.shape)\n",
    "\n",
    "# 替换: 使用hfl模型\n",
    "# embedding_model = pipeline(\"feature-extraction\", model=\"hfl/chinese-bert-wwm\")\n",
    "# embeddings = np.load('./data/embedding_hfl.npy') \n",
    "# print('向量shape：', embeddings.shape)\n",
    "\n",
    "# 替换: 使用Sentencetransformers模型\n",
    "# embedding_model = embedding_model = SentenceTransformer('paraphrase-multilingual-mpnet-base-v2',)\n",
    "# embeddings = np.load('./data/embedding_sen.npy')\n",
    "# print(embeddings.shape)\n",
    "\n",
    "# 2. 创建UMAP降维模型\n",
    "umap_model = UMAP(\n",
    "  n_neighbors=15,\n",
    "  n_components=5,\n",
    "  min_dist=0.0,\n",
    "  metric='cosine',\n",
    "  random_state=30  # ⚠️ 防止随机 https://maartengr.github.io/BERTopic/faq.html\n",
    ")\n",
    "\n",
    "# 3. 创建HDBSCAN聚类模型\n",
    "# 如果要建设离群值，可以减小下面两个参数min_cluster_size min_samples\n",
    "# https://hdbscan.readthedocs.io/en/latest/faq.html\n",
    "hdbscan_model = HDBSCAN(\n",
    "  min_cluster_size=10,\n",
    "  min_samples=5,\n",
    "  metric='euclidean'\n",
    ")\n",
    "\n",
    "# 5. 创建CountVectorizer模型\n",
    "vectorizer_model = CountVectorizer(stop_words=['洛阳', '旅游', '文化'])\n",
    "\n",
    "# 6. 正式创建BERTopic模型\n",
    "topic_model = BERTopic(\n",
    "  embedding_model=embedding_model,\n",
    "  vectorizer_model=vectorizer_model,\n",
    "  umap_model=umap_model,\n",
    "  hdbscan_model=hdbscan_model,\n",
    ")"
   ]
  },
  {
   "cell_type": "markdown",
   "metadata": {},
   "source": [
    "# 训练模型"
   ]
  },
  {
   "cell_type": "code",
   "execution_count": 19,
   "metadata": {},
   "outputs": [
    {
     "data": {
      "text/html": [
       "<div>\n",
       "<style scoped>\n",
       "    .dataframe tbody tr th:only-of-type {\n",
       "        vertical-align: middle;\n",
       "    }\n",
       "\n",
       "    .dataframe tbody tr th {\n",
       "        vertical-align: top;\n",
       "    }\n",
       "\n",
       "    .dataframe thead th {\n",
       "        text-align: right;\n",
       "    }\n",
       "</style>\n",
       "<table border=\"1\" class=\"dataframe\">\n",
       "  <thead>\n",
       "    <tr style=\"text-align: right;\">\n",
       "      <th></th>\n",
       "      <th>Topic</th>\n",
       "      <th>Count</th>\n",
       "      <th>Name</th>\n",
       "      <th>Representation</th>\n",
       "      <th>Representative_Docs</th>\n",
       "    </tr>\n",
       "  </thead>\n",
       "  <tbody>\n",
       "    <tr>\n",
       "      <th>0</th>\n",
       "      <td>-1</td>\n",
       "      <td>335</td>\n",
       "      <td>-1_景区_城市_河南_中国</td>\n",
       "      <td>[景区, 城市, 河南, 中国, 游客, 活动, 洛阳市, 博物馆, 遗址, 栾川]</td>\n",
       "      <td>[河南 多家 景区 陆续 发布 开园 公告 台风 杜苏芮 强度 逐渐 减弱 河南 景区 陆续...</td>\n",
       "    </tr>\n",
       "    <tr>\n",
       "      <th>1</th>\n",
       "      <td>0</td>\n",
       "      <td>60</td>\n",
       "      <td>0_活动_门票_景区_免费</td>\n",
       "      <td>[活动, 门票, 景区, 免费, 时间, 高速, 栾川, 地图, 白云山, 游客]</td>\n",
       "      <td>[洛阳 身边 自驾游 栾川 高速 免费 答疑 自驾游 栾川 高速 费全免 问题 需要 了解 ...</td>\n",
       "    </tr>\n",
       "    <tr>\n",
       "      <th>2</th>\n",
       "      <td>1</td>\n",
       "      <td>58</td>\n",
       "      <td>1_王府_竹海_旅行_河南</td>\n",
       "      <td>[王府, 竹海, 旅行, 河南, 景区, 仙门, 旅游区, 中国, 三彩, 栾川]</td>\n",
       "      <td>[旅行 推荐 旅行 冬天 就要 穿过 中国 zui 天门 广东 zui 早古 驿道 仙气 飘...</td>\n",
       "    </tr>\n",
       "    <tr>\n",
       "      <th>3</th>\n",
       "      <td>2</td>\n",
       "      <td>50</td>\n",
       "      <td>2_石窟_中国_龙门石窟_艺术</td>\n",
       "      <td>[石窟, 中国, 龙门石窟, 艺术, 世界, 文化遗产, 少林寺, 朝代, 造像, 石刻]</td>\n",
       "      <td>[洛阳 周边游 龙门石窟 中国 石刻 艺术 宝库 现为 世界 文化遗产 全国 重点 文物保护...</td>\n",
       "    </tr>\n",
       "    <tr>\n",
       "      <th>4</th>\n",
       "      <td>3</td>\n",
       "      <td>47</td>\n",
       "      <td>3_旅客_年票_客流_郑州</td>\n",
       "      <td>[旅客, 年票, 客流, 郑州, 列车, 客运, 发送, 出行, 公交, 高速]</td>\n",
       "      <td>[今天 郑州 铁路 预计 发送 旅客 51.7 万人 管内 客流量 激增 中国 铁路 郑州 ...</td>\n",
       "    </tr>\n",
       "    <tr>\n",
       "      <th>5</th>\n",
       "      <td>4</td>\n",
       "      <td>43</td>\n",
       "      <td>4_机场_建设_规划_项目</td>\n",
       "      <td>[机场, 建设, 规划, 项目, 自驾车, 高铁, 铁路, 航线, 黄河, 国家]</td>\n",
       "      <td>[国家 发展 改革 印发 汉江 生态 经济带 发展 规划 通知 汉江 生态 经济带 规划 范...</td>\n",
       "    </tr>\n",
       "    <tr>\n",
       "      <th>6</th>\n",
       "      <td>5</td>\n",
       "      <td>42</td>\n",
       "      <td>5_地方_很多_一天_一点</td>\n",
       "      <td>[地方, 很多, 一天, 一点, 已经, 时间, 古城, 酒店, 西安, 感受]</td>\n",
       "      <td>[洛阳 值得 一去 地方 简单 下来 洛阳 旅游 攻略 建议 夏天 洛阳 洛阳 市区 主要 ...</td>\n",
       "    </tr>\n",
       "    <tr>\n",
       "      <th>7</th>\n",
       "      <td>6</td>\n",
       "      <td>41</td>\n",
       "      <td>6_泉州_洛阳桥_旅行_历史</td>\n",
       "      <td>[泉州, 洛阳桥, 旅行, 历史, 济南, 中国, 黄陂, 沧州, 古城, 洛邑]</td>\n",
       "      <td>[海丝 泉州 夏天 清晨 洛阳桥 洛阳 日出 夏天 清晨 来到 泉州 洛阳桥 沐浴 晨光 长...</td>\n",
       "    </tr>\n",
       "    <tr>\n",
       "      <th>8</th>\n",
       "      <td>7</td>\n",
       "      <td>34</td>\n",
       "      <td>7_工作_集团_河洛_建设</td>\n",
       "      <td>[工作, 集团, 河洛, 建设, 投资, 项目, 发展, 大鼓, 服务, 进行]</td>\n",
       "      <td>[地方 国资 洛阳市 国资委 检查组 检查 督导 洛阳 文化 旅游 投资 集团 国企改革 三...</td>\n",
       "    </tr>\n",
       "    <tr>\n",
       "      <th>9</th>\n",
       "      <td>8</td>\n",
       "      <td>32</td>\n",
       "      <td>8_游客_景区_午餐_老君山</td>\n",
       "      <td>[游客, 景区, 午餐, 老君山, 网友, 河南, 表示, 同学, 卷入, 孙军范]</td>\n",
       "      <td>[无人 值守 一元 午餐 结账 多出 国庆 假期 景区 连续 推出 午餐 共售 游客 点赞 ...</td>\n",
       "    </tr>\n",
       "    <tr>\n",
       "      <th>10</th>\n",
       "      <td>9</td>\n",
       "      <td>31</td>\n",
       "      <td>9_河南_造纸_巩义_历史</td>\n",
       "      <td>[河南, 造纸, 巩义, 历史, 龙亭, 江南, 中国, 故城, 考古队, 善良]</td>\n",
       "      <td>[心眼 人缘 太上 心起 而吉神 随之 善念 力量 不容 小觑 不知不觉 便会 带来 巨大 ...</td>\n",
       "    </tr>\n",
       "    <tr>\n",
       "      <th>11</th>\n",
       "      <td>10</td>\n",
       "      <td>30</td>\n",
       "      <td>10_项目_消费_文旅_发展</td>\n",
       "      <td>[项目, 消费, 文旅, 发展, 建设, 国家, 打造, 全省, 森林, 示范]</td>\n",
       "      <td>[中国 洛阳 本地 攻略 洛阳 成为 首批 国家 文化 旅游 消费 示范 城市 造浪 生活 ...</td>\n",
       "    </tr>\n",
       "    <tr>\n",
       "      <th>12</th>\n",
       "      <td>11</td>\n",
       "      <td>28</td>\n",
       "      <td>11_银杏_文旅文创_发展_大会</td>\n",
       "      <td>[银杏, 文旅文创, 发展, 大会, 中国, 主题, 河南, 白云山, 行走, 读懂]</td>\n",
       "      <td>[旅行 千年 银杏 白云 盛景 洛阳 嵩县 白云山 第九届 银杏 文化节 主题 活动 隆重开...</td>\n",
       "    </tr>\n",
       "    <tr>\n",
       "      <th>13</th>\n",
       "      <td>12</td>\n",
       "      <td>28</td>\n",
       "      <td>12_广济桥_位于_白马寺_建筑</td>\n",
       "      <td>[广济桥, 位于, 白马寺, 建筑, 鸡冠, 周王城, 始建, 潮州, 大理, 理由]</td>\n",
       "      <td>[车载 民生 行天下 河南 旅游 行天下 汽车票 旅游 风景 智慧 购票 便民 出行 河南 ...</td>\n",
       "    </tr>\n",
       "    <tr>\n",
       "      <th>14</th>\n",
       "      <td>13</td>\n",
       "      <td>27</td>\n",
       "      <td>13_防控_疫情_景区_开放</td>\n",
       "      <td>[防控, 疫情, 景区, 开放, 场所, 关闭, 恢复, 人员, 娱乐场所, 落实]</td>\n",
       "      <td>[洛阳 即日起 洛阳 暂时 关闭 网吧 KTV 人员 聚集 密闭 场所 小编 刚刚 洛阳市 ...</td>\n",
       "    </tr>\n",
       "    <tr>\n",
       "      <th>15</th>\n",
       "      <td>14</td>\n",
       "      <td>20</td>\n",
       "      <td>14_五一_数据_预订_增长</td>\n",
       "      <td>[五一, 数据, 预订, 增长, 热门, 假期, 显示, 上海, 同期, 国内]</td>\n",
       "      <td>[携程 联合 新华 财经 发布 五一 旅行 数据 报告 报告 显示 北京 热门 旅游 城市 ...</td>\n",
       "    </tr>\n",
       "    <tr>\n",
       "      <th>16</th>\n",
       "      <td>15</td>\n",
       "      <td>20</td>\n",
       "      <td>15_写真_发团_成人_儿童</td>\n",
       "      <td>[写真, 发团, 成人, 儿童, 地点, 露营, 不良, 畅收, 拍照, 郑州]</td>\n",
       "      <td>[南阳 南阳 山水 周边 发团 线路 一日游 七十二 一日游 发团 畅收 武当 大明 一日游...</td>\n",
       "    </tr>\n",
       "    <tr>\n",
       "      <th>17</th>\n",
       "      <td>16</td>\n",
       "      <td>19</td>\n",
       "      <td>16_博物馆_历史_停车场_白马寺</td>\n",
       "      <td>[博物馆, 历史, 停车场, 白马寺, 建设, 汉唐, 人大代表, 两会, 考古, 文旅]</td>\n",
       "      <td>[洛阳 爆料 洛阳 生活 接待 游客 万人次 洛阳 二里头 夏都 遗址 博物馆 成新 文旅 ...</td>\n",
       "    </tr>\n",
       "    <tr>\n",
       "      <th>18</th>\n",
       "      <td>17</td>\n",
       "      <td>19</td>\n",
       "      <td>17_景区_度假区_公示_等级</td>\n",
       "      <td>[景区, 度假区, 公示, 等级, 评定, 质量, 4a, 河南省, 国家, 名单]</td>\n",
       "      <td>[许昌 身边 许昌 一处 4A 景区 近日 河南省旅游局 发布 公示 确定 景区 入围 国家...</td>\n",
       "    </tr>\n",
       "    <tr>\n",
       "      <th>19</th>\n",
       "      <td>18</td>\n",
       "      <td>14</td>\n",
       "      <td>18_话题_大寒_隋唐洛阳城_同安</td>\n",
       "      <td>[话题, 大寒, 隋唐洛阳城, 同安, 风起, 应天门, 奇缘, 厦门, 沉浸, 眼中]</td>\n",
       "      <td>[跟着 风起 洛阳 一座 成全 一部 电视剧 风起 洛阳 热播 风起 洛阳 取景 洛阳 华夏...</td>\n",
       "    </tr>\n",
       "    <tr>\n",
       "      <th>20</th>\n",
       "      <td>19</td>\n",
       "      <td>12</td>\n",
       "      <td>19_福昌_龙门石窟_城隍庙_龙门</td>\n",
       "      <td>[福昌, 龙门石窟, 城隍庙, 龙门, 博物馆, 位于, 石窟, 陈列, 中国, 标本]</td>\n",
       "      <td>[吕梁 旅行 吕梁 汾酒 竖石 佛村 摩崖 造像 时代 地址 交城县 北部 山区 岭底 始凿...</td>\n",
       "    </tr>\n",
       "    <tr>\n",
       "      <th>21</th>\n",
       "      <td>20</td>\n",
       "      <td>10</td>\n",
       "      <td>20_民宿_酒店_巧克力_孩子</td>\n",
       "      <td>[民宿, 酒店, 巧克力, 孩子, 余舍, 生活, 空间, 不同, 咖啡, 莱德]</td>\n",
       "      <td>[世界 不见不散 爱上 酒店 点评 一定 想象 不到 洛阳 重渡 一家 隐藏 民宿 旅行 住...</td>\n",
       "    </tr>\n",
       "  </tbody>\n",
       "</table>\n",
       "</div>"
      ],
      "text/plain": [
       "    Topic  Count               Name  \\\n",
       "0      -1    335     -1_景区_城市_河南_中国   \n",
       "1       0     60      0_活动_门票_景区_免费   \n",
       "2       1     58      1_王府_竹海_旅行_河南   \n",
       "3       2     50    2_石窟_中国_龙门石窟_艺术   \n",
       "4       3     47      3_旅客_年票_客流_郑州   \n",
       "5       4     43      4_机场_建设_规划_项目   \n",
       "6       5     42      5_地方_很多_一天_一点   \n",
       "7       6     41     6_泉州_洛阳桥_旅行_历史   \n",
       "8       7     34      7_工作_集团_河洛_建设   \n",
       "9       8     32     8_游客_景区_午餐_老君山   \n",
       "10      9     31      9_河南_造纸_巩义_历史   \n",
       "11     10     30     10_项目_消费_文旅_发展   \n",
       "12     11     28   11_银杏_文旅文创_发展_大会   \n",
       "13     12     28   12_广济桥_位于_白马寺_建筑   \n",
       "14     13     27     13_防控_疫情_景区_开放   \n",
       "15     14     20     14_五一_数据_预订_增长   \n",
       "16     15     20     15_写真_发团_成人_儿童   \n",
       "17     16     19  16_博物馆_历史_停车场_白马寺   \n",
       "18     17     19    17_景区_度假区_公示_等级   \n",
       "19     18     14  18_话题_大寒_隋唐洛阳城_同安   \n",
       "20     19     12  19_福昌_龙门石窟_城隍庙_龙门   \n",
       "21     20     10    20_民宿_酒店_巧克力_孩子   \n",
       "\n",
       "                                   Representation  \\\n",
       "0      [景区, 城市, 河南, 中国, 游客, 活动, 洛阳市, 博物馆, 遗址, 栾川]   \n",
       "1       [活动, 门票, 景区, 免费, 时间, 高速, 栾川, 地图, 白云山, 游客]   \n",
       "2       [王府, 竹海, 旅行, 河南, 景区, 仙门, 旅游区, 中国, 三彩, 栾川]   \n",
       "3   [石窟, 中国, 龙门石窟, 艺术, 世界, 文化遗产, 少林寺, 朝代, 造像, 石刻]   \n",
       "4        [旅客, 年票, 客流, 郑州, 列车, 客运, 发送, 出行, 公交, 高速]   \n",
       "5       [机场, 建设, 规划, 项目, 自驾车, 高铁, 铁路, 航线, 黄河, 国家]   \n",
       "6        [地方, 很多, 一天, 一点, 已经, 时间, 古城, 酒店, 西安, 感受]   \n",
       "7       [泉州, 洛阳桥, 旅行, 历史, 济南, 中国, 黄陂, 沧州, 古城, 洛邑]   \n",
       "8        [工作, 集团, 河洛, 建设, 投资, 项目, 发展, 大鼓, 服务, 进行]   \n",
       "9      [游客, 景区, 午餐, 老君山, 网友, 河南, 表示, 同学, 卷入, 孙军范]   \n",
       "10      [河南, 造纸, 巩义, 历史, 龙亭, 江南, 中国, 故城, 考古队, 善良]   \n",
       "11       [项目, 消费, 文旅, 发展, 建设, 国家, 打造, 全省, 森林, 示范]   \n",
       "12    [银杏, 文旅文创, 发展, 大会, 中国, 主题, 河南, 白云山, 行走, 读懂]   \n",
       "13    [广济桥, 位于, 白马寺, 建筑, 鸡冠, 周王城, 始建, 潮州, 大理, 理由]   \n",
       "14     [防控, 疫情, 景区, 开放, 场所, 关闭, 恢复, 人员, 娱乐场所, 落实]   \n",
       "15       [五一, 数据, 预订, 增长, 热门, 假期, 显示, 上海, 同期, 国内]   \n",
       "16       [写真, 发团, 成人, 儿童, 地点, 露营, 不良, 畅收, 拍照, 郑州]   \n",
       "17  [博物馆, 历史, 停车场, 白马寺, 建设, 汉唐, 人大代表, 两会, 考古, 文旅]   \n",
       "18     [景区, 度假区, 公示, 等级, 评定, 质量, 4a, 河南省, 国家, 名单]   \n",
       "19   [话题, 大寒, 隋唐洛阳城, 同安, 风起, 应天门, 奇缘, 厦门, 沉浸, 眼中]   \n",
       "20   [福昌, 龙门石窟, 城隍庙, 龙门, 博物馆, 位于, 石窟, 陈列, 中国, 标本]   \n",
       "21      [民宿, 酒店, 巧克力, 孩子, 余舍, 生活, 空间, 不同, 咖啡, 莱德]   \n",
       "\n",
       "                                  Representative_Docs  \n",
       "0   [河南 多家 景区 陆续 发布 开园 公告 台风 杜苏芮 强度 逐渐 减弱 河南 景区 陆续...  \n",
       "1   [洛阳 身边 自驾游 栾川 高速 免费 答疑 自驾游 栾川 高速 费全免 问题 需要 了解 ...  \n",
       "2   [旅行 推荐 旅行 冬天 就要 穿过 中国 zui 天门 广东 zui 早古 驿道 仙气 飘...  \n",
       "3   [洛阳 周边游 龙门石窟 中国 石刻 艺术 宝库 现为 世界 文化遗产 全国 重点 文物保护...  \n",
       "4   [今天 郑州 铁路 预计 发送 旅客 51.7 万人 管内 客流量 激增 中国 铁路 郑州 ...  \n",
       "5   [国家 发展 改革 印发 汉江 生态 经济带 发展 规划 通知 汉江 生态 经济带 规划 范...  \n",
       "6   [洛阳 值得 一去 地方 简单 下来 洛阳 旅游 攻略 建议 夏天 洛阳 洛阳 市区 主要 ...  \n",
       "7   [海丝 泉州 夏天 清晨 洛阳桥 洛阳 日出 夏天 清晨 来到 泉州 洛阳桥 沐浴 晨光 长...  \n",
       "8   [地方 国资 洛阳市 国资委 检查组 检查 督导 洛阳 文化 旅游 投资 集团 国企改革 三...  \n",
       "9   [无人 值守 一元 午餐 结账 多出 国庆 假期 景区 连续 推出 午餐 共售 游客 点赞 ...  \n",
       "10  [心眼 人缘 太上 心起 而吉神 随之 善念 力量 不容 小觑 不知不觉 便会 带来 巨大 ...  \n",
       "11  [中国 洛阳 本地 攻略 洛阳 成为 首批 国家 文化 旅游 消费 示范 城市 造浪 生活 ...  \n",
       "12  [旅行 千年 银杏 白云 盛景 洛阳 嵩县 白云山 第九届 银杏 文化节 主题 活动 隆重开...  \n",
       "13  [车载 民生 行天下 河南 旅游 行天下 汽车票 旅游 风景 智慧 购票 便民 出行 河南 ...  \n",
       "14  [洛阳 即日起 洛阳 暂时 关闭 网吧 KTV 人员 聚集 密闭 场所 小编 刚刚 洛阳市 ...  \n",
       "15  [携程 联合 新华 财经 发布 五一 旅行 数据 报告 报告 显示 北京 热门 旅游 城市 ...  \n",
       "16  [南阳 南阳 山水 周边 发团 线路 一日游 七十二 一日游 发团 畅收 武当 大明 一日游...  \n",
       "17  [洛阳 爆料 洛阳 生活 接待 游客 万人次 洛阳 二里头 夏都 遗址 博物馆 成新 文旅 ...  \n",
       "18  [许昌 身边 许昌 一处 4A 景区 近日 河南省旅游局 发布 公示 确定 景区 入围 国家...  \n",
       "19  [跟着 风起 洛阳 一座 成全 一部 电视剧 风起 洛阳 热播 风起 洛阳 取景 洛阳 华夏...  \n",
       "20  [吕梁 旅行 吕梁 汾酒 竖石 佛村 摩崖 造像 时代 地址 交城县 北部 山区 岭底 始凿...  \n",
       "21  [世界 不见不散 爱上 酒店 点评 一定 想象 不到 洛阳 重渡 一家 隐藏 民宿 旅行 住...  "
      ]
     },
     "execution_count": 19,
     "metadata": {},
     "output_type": "execute_result"
    }
   ],
   "source": [
    "# 查看主题\n",
    "topics, probs = topic_model.fit_transform(docs, embeddings=embeddings) #传入训练好的词向量\n",
    "topic_model.get_topic_info()"
   ]
  },
  {
   "cell_type": "markdown",
   "metadata": {},
   "source": [
    "# 保存聚类结果"
   ]
  },
  {
   "cell_type": "code",
   "execution_count": 20,
   "metadata": {},
   "outputs": [],
   "source": [
    "topic_docs = topic_model.get_document_info(docs)\n",
    "topic_docs.to_csv('./聚类结果.csv')"
   ]
  },
  {
   "cell_type": "code",
   "execution_count": 21,
   "metadata": {},
   "outputs": [
    {
     "name": "stdout",
     "output_type": "stream",
     "text": [
      "文本条数： 1000\n",
      "文本条数： 1000\n"
     ]
    }
   ],
   "source": [
    "with open('./data/文本.txt', 'r', encoding='utf-8') as file:\n",
    "  texts = file.readlines()\n",
    "  print('文本条数：', len(texts))\n",
    "  topic_docs.insert(1, '原文', texts)\n",
    "with open('./data/时间.txt', 'r', encoding='utf-8') as file:\n",
    "  years = file.readlines()\n",
    "  print('文本条数：', len(years))\n",
    "  topic_docs.insert(2, '时间', years)\n",
    "topic_docs.to_csv('./聚类结果2.csv')"
   ]
  },
  {
   "cell_type": "markdown",
   "metadata": {},
   "source": [
    "# 可视化"
   ]
  },
  {
   "cell_type": "code",
   "execution_count": 22,
   "metadata": {},
   "outputs": [
    {
     "data": {
      "application/vnd.plotly.v1+json": {
       "config": {
        "plotlyServerURL": "https://plot.ly"
       },
       "data": [
        {
         "marker": {
          "color": "#D55E00"
         },
         "orientation": "h",
         "type": "bar",
         "x": [
          0.02463099112050001,
          0.02534353610725507,
          0.02775171409160092,
          0.027882248843121463,
          0.03600542511074776
         ],
         "xaxis": "x",
         "y": [
          "时间  ",
          "免费  ",
          "景区  ",
          "门票  ",
          "活动  "
         ],
         "yaxis": "y"
        },
        {
         "marker": {
          "color": "#0072B2"
         },
         "orientation": "h",
         "type": "bar",
         "x": [
          0.019007871016303853,
          0.021856698057883008,
          0.022113662945960396,
          0.029587696166409133,
          0.031330688316265676
         ],
         "xaxis": "x2",
         "y": [
          "景区  ",
          "河南  ",
          "旅行  ",
          "竹海  ",
          "王府  "
         ],
         "yaxis": "y2"
        },
        {
         "marker": {
          "color": "#CC79A7"
         },
         "orientation": "h",
         "type": "bar",
         "x": [
          0.04051818939748553,
          0.046343110572772774,
          0.054304618085612294,
          0.05536198385735331,
          0.05537103639707187
         ],
         "xaxis": "x3",
         "y": [
          "世界  ",
          "艺术  ",
          "龙门石窟  ",
          "中国  ",
          "石窟  "
         ],
         "yaxis": "y3"
        },
        {
         "marker": {
          "color": "#E69F00"
         },
         "orientation": "h",
         "type": "bar",
         "x": [
          0.030998807532269624,
          0.03860092254791304,
          0.03914227828489167,
          0.046531002359247384,
          0.05895619055375275
         ],
         "xaxis": "x4",
         "y": [
          "列车  ",
          "郑州  ",
          "客流  ",
          "年票  ",
          "旅客  "
         ],
         "yaxis": "y4"
        },
        {
         "marker": {
          "color": "#56B4E9"
         },
         "orientation": "h",
         "type": "bar",
         "x": [
          0.025320244108807052,
          0.03157420963966642,
          0.03228269281325342,
          0.0345113454201005,
          0.041882364234236205
         ],
         "xaxis": "x5",
         "y": [
          "自驾车  ",
          "项目  ",
          "规划  ",
          "建设  ",
          "机场  "
         ],
         "yaxis": "y5"
        },
        {
         "marker": {
          "color": "#009E73"
         },
         "orientation": "h",
         "type": "bar",
         "x": [
          0.015365596659215714,
          0.015958425106349226,
          0.016663445420564336,
          0.01827279518655497,
          0.021399729232308175
         ],
         "xaxis": "x6",
         "y": [
          "已经  ",
          "一点  ",
          "一天  ",
          "很多  ",
          "地方  "
         ],
         "yaxis": "y6"
        },
        {
         "marker": {
          "color": "#F0E442"
         },
         "orientation": "h",
         "type": "bar",
         "x": [
          0.017953889040754442,
          0.01992899358308132,
          0.03411991387235188,
          0.03612079259706319,
          0.048132849133341406
         ],
         "xaxis": "x7",
         "y": [
          "济南  ",
          "历史  ",
          "旅行  ",
          "洛阳桥  ",
          "泉州  "
         ],
         "yaxis": "y7"
        },
        {
         "marker": {
          "color": "#D55E00"
         },
         "orientation": "h",
         "type": "bar",
         "x": [
          0.0249036528182513,
          0.026759028154635305,
          0.027245574369374137,
          0.028779049847375858,
          0.03239460611306294
         ],
         "xaxis": "x8",
         "y": [
          "投资  ",
          "建设  ",
          "河洛  ",
          "集团  ",
          "工作  "
         ],
         "yaxis": "y8"
        }
       ],
       "layout": {
        "annotations": [
         {
          "font": {
           "size": 16
          },
          "showarrow": false,
          "text": "Topic 0",
          "x": 0.0875,
          "xanchor": "center",
          "xref": "paper",
          "y": 1,
          "yanchor": "bottom",
          "yref": "paper"
         },
         {
          "font": {
           "size": 16
          },
          "showarrow": false,
          "text": "Topic 1",
          "x": 0.36250000000000004,
          "xanchor": "center",
          "xref": "paper",
          "y": 1,
          "yanchor": "bottom",
          "yref": "paper"
         },
         {
          "font": {
           "size": 16
          },
          "showarrow": false,
          "text": "Topic 2",
          "x": 0.6375000000000001,
          "xanchor": "center",
          "xref": "paper",
          "y": 1,
          "yanchor": "bottom",
          "yref": "paper"
         },
         {
          "font": {
           "size": 16
          },
          "showarrow": false,
          "text": "Topic 3",
          "x": 0.9125,
          "xanchor": "center",
          "xref": "paper",
          "y": 1,
          "yanchor": "bottom",
          "yref": "paper"
         },
         {
          "font": {
           "size": 16
          },
          "showarrow": false,
          "text": "Topic 4",
          "x": 0.0875,
          "xanchor": "center",
          "xref": "paper",
          "y": 0.4,
          "yanchor": "bottom",
          "yref": "paper"
         },
         {
          "font": {
           "size": 16
          },
          "showarrow": false,
          "text": "Topic 5",
          "x": 0.36250000000000004,
          "xanchor": "center",
          "xref": "paper",
          "y": 0.4,
          "yanchor": "bottom",
          "yref": "paper"
         },
         {
          "font": {
           "size": 16
          },
          "showarrow": false,
          "text": "Topic 6",
          "x": 0.6375000000000001,
          "xanchor": "center",
          "xref": "paper",
          "y": 0.4,
          "yanchor": "bottom",
          "yref": "paper"
         },
         {
          "font": {
           "size": 16
          },
          "showarrow": false,
          "text": "Topic 7",
          "x": 0.9125,
          "xanchor": "center",
          "xref": "paper",
          "y": 0.4,
          "yanchor": "bottom",
          "yref": "paper"
         }
        ],
        "height": 500,
        "hoverlabel": {
         "bgcolor": "white",
         "font": {
          "family": "Rockwell",
          "size": 16
         }
        },
        "showlegend": false,
        "template": {
         "data": {
          "bar": [
           {
            "error_x": {
             "color": "#2a3f5f"
            },
            "error_y": {
             "color": "#2a3f5f"
            },
            "marker": {
             "line": {
              "color": "white",
              "width": 0.5
             },
             "pattern": {
              "fillmode": "overlay",
              "size": 10,
              "solidity": 0.2
             }
            },
            "type": "bar"
           }
          ],
          "barpolar": [
           {
            "marker": {
             "line": {
              "color": "white",
              "width": 0.5
             },
             "pattern": {
              "fillmode": "overlay",
              "size": 10,
              "solidity": 0.2
             }
            },
            "type": "barpolar"
           }
          ],
          "carpet": [
           {
            "aaxis": {
             "endlinecolor": "#2a3f5f",
             "gridcolor": "#C8D4E3",
             "linecolor": "#C8D4E3",
             "minorgridcolor": "#C8D4E3",
             "startlinecolor": "#2a3f5f"
            },
            "baxis": {
             "endlinecolor": "#2a3f5f",
             "gridcolor": "#C8D4E3",
             "linecolor": "#C8D4E3",
             "minorgridcolor": "#C8D4E3",
             "startlinecolor": "#2a3f5f"
            },
            "type": "carpet"
           }
          ],
          "choropleth": [
           {
            "colorbar": {
             "outlinewidth": 0,
             "ticks": ""
            },
            "type": "choropleth"
           }
          ],
          "contour": [
           {
            "colorbar": {
             "outlinewidth": 0,
             "ticks": ""
            },
            "colorscale": [
             [
              0,
              "#0d0887"
             ],
             [
              0.1111111111111111,
              "#46039f"
             ],
             [
              0.2222222222222222,
              "#7201a8"
             ],
             [
              0.3333333333333333,
              "#9c179e"
             ],
             [
              0.4444444444444444,
              "#bd3786"
             ],
             [
              0.5555555555555556,
              "#d8576b"
             ],
             [
              0.6666666666666666,
              "#ed7953"
             ],
             [
              0.7777777777777778,
              "#fb9f3a"
             ],
             [
              0.8888888888888888,
              "#fdca26"
             ],
             [
              1,
              "#f0f921"
             ]
            ],
            "type": "contour"
           }
          ],
          "contourcarpet": [
           {
            "colorbar": {
             "outlinewidth": 0,
             "ticks": ""
            },
            "type": "contourcarpet"
           }
          ],
          "heatmap": [
           {
            "colorbar": {
             "outlinewidth": 0,
             "ticks": ""
            },
            "colorscale": [
             [
              0,
              "#0d0887"
             ],
             [
              0.1111111111111111,
              "#46039f"
             ],
             [
              0.2222222222222222,
              "#7201a8"
             ],
             [
              0.3333333333333333,
              "#9c179e"
             ],
             [
              0.4444444444444444,
              "#bd3786"
             ],
             [
              0.5555555555555556,
              "#d8576b"
             ],
             [
              0.6666666666666666,
              "#ed7953"
             ],
             [
              0.7777777777777778,
              "#fb9f3a"
             ],
             [
              0.8888888888888888,
              "#fdca26"
             ],
             [
              1,
              "#f0f921"
             ]
            ],
            "type": "heatmap"
           }
          ],
          "heatmapgl": [
           {
            "colorbar": {
             "outlinewidth": 0,
             "ticks": ""
            },
            "colorscale": [
             [
              0,
              "#0d0887"
             ],
             [
              0.1111111111111111,
              "#46039f"
             ],
             [
              0.2222222222222222,
              "#7201a8"
             ],
             [
              0.3333333333333333,
              "#9c179e"
             ],
             [
              0.4444444444444444,
              "#bd3786"
             ],
             [
              0.5555555555555556,
              "#d8576b"
             ],
             [
              0.6666666666666666,
              "#ed7953"
             ],
             [
              0.7777777777777778,
              "#fb9f3a"
             ],
             [
              0.8888888888888888,
              "#fdca26"
             ],
             [
              1,
              "#f0f921"
             ]
            ],
            "type": "heatmapgl"
           }
          ],
          "histogram": [
           {
            "marker": {
             "pattern": {
              "fillmode": "overlay",
              "size": 10,
              "solidity": 0.2
             }
            },
            "type": "histogram"
           }
          ],
          "histogram2d": [
           {
            "colorbar": {
             "outlinewidth": 0,
             "ticks": ""
            },
            "colorscale": [
             [
              0,
              "#0d0887"
             ],
             [
              0.1111111111111111,
              "#46039f"
             ],
             [
              0.2222222222222222,
              "#7201a8"
             ],
             [
              0.3333333333333333,
              "#9c179e"
             ],
             [
              0.4444444444444444,
              "#bd3786"
             ],
             [
              0.5555555555555556,
              "#d8576b"
             ],
             [
              0.6666666666666666,
              "#ed7953"
             ],
             [
              0.7777777777777778,
              "#fb9f3a"
             ],
             [
              0.8888888888888888,
              "#fdca26"
             ],
             [
              1,
              "#f0f921"
             ]
            ],
            "type": "histogram2d"
           }
          ],
          "histogram2dcontour": [
           {
            "colorbar": {
             "outlinewidth": 0,
             "ticks": ""
            },
            "colorscale": [
             [
              0,
              "#0d0887"
             ],
             [
              0.1111111111111111,
              "#46039f"
             ],
             [
              0.2222222222222222,
              "#7201a8"
             ],
             [
              0.3333333333333333,
              "#9c179e"
             ],
             [
              0.4444444444444444,
              "#bd3786"
             ],
             [
              0.5555555555555556,
              "#d8576b"
             ],
             [
              0.6666666666666666,
              "#ed7953"
             ],
             [
              0.7777777777777778,
              "#fb9f3a"
             ],
             [
              0.8888888888888888,
              "#fdca26"
             ],
             [
              1,
              "#f0f921"
             ]
            ],
            "type": "histogram2dcontour"
           }
          ],
          "mesh3d": [
           {
            "colorbar": {
             "outlinewidth": 0,
             "ticks": ""
            },
            "type": "mesh3d"
           }
          ],
          "parcoords": [
           {
            "line": {
             "colorbar": {
              "outlinewidth": 0,
              "ticks": ""
             }
            },
            "type": "parcoords"
           }
          ],
          "pie": [
           {
            "automargin": true,
            "type": "pie"
           }
          ],
          "scatter": [
           {
            "fillpattern": {
             "fillmode": "overlay",
             "size": 10,
             "solidity": 0.2
            },
            "type": "scatter"
           }
          ],
          "scatter3d": [
           {
            "line": {
             "colorbar": {
              "outlinewidth": 0,
              "ticks": ""
             }
            },
            "marker": {
             "colorbar": {
              "outlinewidth": 0,
              "ticks": ""
             }
            },
            "type": "scatter3d"
           }
          ],
          "scattercarpet": [
           {
            "marker": {
             "colorbar": {
              "outlinewidth": 0,
              "ticks": ""
             }
            },
            "type": "scattercarpet"
           }
          ],
          "scattergeo": [
           {
            "marker": {
             "colorbar": {
              "outlinewidth": 0,
              "ticks": ""
             }
            },
            "type": "scattergeo"
           }
          ],
          "scattergl": [
           {
            "marker": {
             "colorbar": {
              "outlinewidth": 0,
              "ticks": ""
             }
            },
            "type": "scattergl"
           }
          ],
          "scattermapbox": [
           {
            "marker": {
             "colorbar": {
              "outlinewidth": 0,
              "ticks": ""
             }
            },
            "type": "scattermapbox"
           }
          ],
          "scatterpolar": [
           {
            "marker": {
             "colorbar": {
              "outlinewidth": 0,
              "ticks": ""
             }
            },
            "type": "scatterpolar"
           }
          ],
          "scatterpolargl": [
           {
            "marker": {
             "colorbar": {
              "outlinewidth": 0,
              "ticks": ""
             }
            },
            "type": "scatterpolargl"
           }
          ],
          "scatterternary": [
           {
            "marker": {
             "colorbar": {
              "outlinewidth": 0,
              "ticks": ""
             }
            },
            "type": "scatterternary"
           }
          ],
          "surface": [
           {
            "colorbar": {
             "outlinewidth": 0,
             "ticks": ""
            },
            "colorscale": [
             [
              0,
              "#0d0887"
             ],
             [
              0.1111111111111111,
              "#46039f"
             ],
             [
              0.2222222222222222,
              "#7201a8"
             ],
             [
              0.3333333333333333,
              "#9c179e"
             ],
             [
              0.4444444444444444,
              "#bd3786"
             ],
             [
              0.5555555555555556,
              "#d8576b"
             ],
             [
              0.6666666666666666,
              "#ed7953"
             ],
             [
              0.7777777777777778,
              "#fb9f3a"
             ],
             [
              0.8888888888888888,
              "#fdca26"
             ],
             [
              1,
              "#f0f921"
             ]
            ],
            "type": "surface"
           }
          ],
          "table": [
           {
            "cells": {
             "fill": {
              "color": "#EBF0F8"
             },
             "line": {
              "color": "white"
             }
            },
            "header": {
             "fill": {
              "color": "#C8D4E3"
             },
             "line": {
              "color": "white"
             }
            },
            "type": "table"
           }
          ]
         },
         "layout": {
          "annotationdefaults": {
           "arrowcolor": "#2a3f5f",
           "arrowhead": 0,
           "arrowwidth": 1
          },
          "autotypenumbers": "strict",
          "coloraxis": {
           "colorbar": {
            "outlinewidth": 0,
            "ticks": ""
           }
          },
          "colorscale": {
           "diverging": [
            [
             0,
             "#8e0152"
            ],
            [
             0.1,
             "#c51b7d"
            ],
            [
             0.2,
             "#de77ae"
            ],
            [
             0.3,
             "#f1b6da"
            ],
            [
             0.4,
             "#fde0ef"
            ],
            [
             0.5,
             "#f7f7f7"
            ],
            [
             0.6,
             "#e6f5d0"
            ],
            [
             0.7,
             "#b8e186"
            ],
            [
             0.8,
             "#7fbc41"
            ],
            [
             0.9,
             "#4d9221"
            ],
            [
             1,
             "#276419"
            ]
           ],
           "sequential": [
            [
             0,
             "#0d0887"
            ],
            [
             0.1111111111111111,
             "#46039f"
            ],
            [
             0.2222222222222222,
             "#7201a8"
            ],
            [
             0.3333333333333333,
             "#9c179e"
            ],
            [
             0.4444444444444444,
             "#bd3786"
            ],
            [
             0.5555555555555556,
             "#d8576b"
            ],
            [
             0.6666666666666666,
             "#ed7953"
            ],
            [
             0.7777777777777778,
             "#fb9f3a"
            ],
            [
             0.8888888888888888,
             "#fdca26"
            ],
            [
             1,
             "#f0f921"
            ]
           ],
           "sequentialminus": [
            [
             0,
             "#0d0887"
            ],
            [
             0.1111111111111111,
             "#46039f"
            ],
            [
             0.2222222222222222,
             "#7201a8"
            ],
            [
             0.3333333333333333,
             "#9c179e"
            ],
            [
             0.4444444444444444,
             "#bd3786"
            ],
            [
             0.5555555555555556,
             "#d8576b"
            ],
            [
             0.6666666666666666,
             "#ed7953"
            ],
            [
             0.7777777777777778,
             "#fb9f3a"
            ],
            [
             0.8888888888888888,
             "#fdca26"
            ],
            [
             1,
             "#f0f921"
            ]
           ]
          },
          "colorway": [
           "#636efa",
           "#EF553B",
           "#00cc96",
           "#ab63fa",
           "#FFA15A",
           "#19d3f3",
           "#FF6692",
           "#B6E880",
           "#FF97FF",
           "#FECB52"
          ],
          "font": {
           "color": "#2a3f5f"
          },
          "geo": {
           "bgcolor": "white",
           "lakecolor": "white",
           "landcolor": "white",
           "showlakes": true,
           "showland": true,
           "subunitcolor": "#C8D4E3"
          },
          "hoverlabel": {
           "align": "left"
          },
          "hovermode": "closest",
          "mapbox": {
           "style": "light"
          },
          "paper_bgcolor": "white",
          "plot_bgcolor": "white",
          "polar": {
           "angularaxis": {
            "gridcolor": "#EBF0F8",
            "linecolor": "#EBF0F8",
            "ticks": ""
           },
           "bgcolor": "white",
           "radialaxis": {
            "gridcolor": "#EBF0F8",
            "linecolor": "#EBF0F8",
            "ticks": ""
           }
          },
          "scene": {
           "xaxis": {
            "backgroundcolor": "white",
            "gridcolor": "#DFE8F3",
            "gridwidth": 2,
            "linecolor": "#EBF0F8",
            "showbackground": true,
            "ticks": "",
            "zerolinecolor": "#EBF0F8"
           },
           "yaxis": {
            "backgroundcolor": "white",
            "gridcolor": "#DFE8F3",
            "gridwidth": 2,
            "linecolor": "#EBF0F8",
            "showbackground": true,
            "ticks": "",
            "zerolinecolor": "#EBF0F8"
           },
           "zaxis": {
            "backgroundcolor": "white",
            "gridcolor": "#DFE8F3",
            "gridwidth": 2,
            "linecolor": "#EBF0F8",
            "showbackground": true,
            "ticks": "",
            "zerolinecolor": "#EBF0F8"
           }
          },
          "shapedefaults": {
           "line": {
            "color": "#2a3f5f"
           }
          },
          "ternary": {
           "aaxis": {
            "gridcolor": "#DFE8F3",
            "linecolor": "#A2B1C6",
            "ticks": ""
           },
           "baxis": {
            "gridcolor": "#DFE8F3",
            "linecolor": "#A2B1C6",
            "ticks": ""
           },
           "bgcolor": "white",
           "caxis": {
            "gridcolor": "#DFE8F3",
            "linecolor": "#A2B1C6",
            "ticks": ""
           }
          },
          "title": {
           "x": 0.05
          },
          "xaxis": {
           "automargin": true,
           "gridcolor": "#EBF0F8",
           "linecolor": "#EBF0F8",
           "ticks": "",
           "title": {
            "standoff": 15
           },
           "zerolinecolor": "#EBF0F8",
           "zerolinewidth": 2
          },
          "yaxis": {
           "automargin": true,
           "gridcolor": "#EBF0F8",
           "linecolor": "#EBF0F8",
           "ticks": "",
           "title": {
            "standoff": 15
           },
           "zerolinecolor": "#EBF0F8",
           "zerolinewidth": 2
          }
         }
        },
        "title": {
         "font": {
          "color": "Black",
          "size": 22
         },
         "text": "Topic Word Scores",
         "x": 0.5,
         "xanchor": "center",
         "yanchor": "top"
        },
        "width": 1000,
        "xaxis": {
         "anchor": "y",
         "domain": [
          0,
          0.175
         ],
         "showgrid": true
        },
        "xaxis2": {
         "anchor": "y2",
         "domain": [
          0.275,
          0.45
         ],
         "showgrid": true
        },
        "xaxis3": {
         "anchor": "y3",
         "domain": [
          0.55,
          0.7250000000000001
         ],
         "showgrid": true
        },
        "xaxis4": {
         "anchor": "y4",
         "domain": [
          0.825,
          1
         ],
         "showgrid": true
        },
        "xaxis5": {
         "anchor": "y5",
         "domain": [
          0,
          0.175
         ],
         "showgrid": true
        },
        "xaxis6": {
         "anchor": "y6",
         "domain": [
          0.275,
          0.45
         ],
         "showgrid": true
        },
        "xaxis7": {
         "anchor": "y7",
         "domain": [
          0.55,
          0.7250000000000001
         ],
         "showgrid": true
        },
        "xaxis8": {
         "anchor": "y8",
         "domain": [
          0.825,
          1
         ],
         "showgrid": true
        },
        "yaxis": {
         "anchor": "x",
         "domain": [
          0.6000000000000001,
          1
         ],
         "showgrid": true
        },
        "yaxis2": {
         "anchor": "x2",
         "domain": [
          0.6000000000000001,
          1
         ],
         "showgrid": true
        },
        "yaxis3": {
         "anchor": "x3",
         "domain": [
          0.6000000000000001,
          1
         ],
         "showgrid": true
        },
        "yaxis4": {
         "anchor": "x4",
         "domain": [
          0.6000000000000001,
          1
         ],
         "showgrid": true
        },
        "yaxis5": {
         "anchor": "x5",
         "domain": [
          0,
          0.4
         ],
         "showgrid": true
        },
        "yaxis6": {
         "anchor": "x6",
         "domain": [
          0,
          0.4
         ],
         "showgrid": true
        },
        "yaxis7": {
         "anchor": "x7",
         "domain": [
          0,
          0.4
         ],
         "showgrid": true
        },
        "yaxis8": {
         "anchor": "x8",
         "domain": [
          0,
          0.4
         ],
         "showgrid": true
        }
       }
      }
     },
     "metadata": {},
     "output_type": "display_data"
    }
   ],
   "source": [
    "topic_model.visualize_barchart()"
   ]
  },
  {
   "cell_type": "code",
   "execution_count": 23,
   "metadata": {},
   "outputs": [
    {
     "data": {
      "application/vnd.plotly.v1+json": {
       "config": {
        "plotlyServerURL": "https://plot.ly"
       },
       "data": [
        {
         "customdata": [
          [
           0,
           "活动 | 门票 | 景区 | 免费 | 时间",
           60
          ],
          [
           1,
           "王府 | 竹海 | 旅行 | 河南 | 景区",
           58
          ],
          [
           2,
           "石窟 | 中国 | 龙门石窟 | 艺术 | 世界",
           50
          ],
          [
           3,
           "旅客 | 年票 | 客流 | 郑州 | 列车",
           47
          ],
          [
           4,
           "机场 | 建设 | 规划 | 项目 | 自驾车",
           43
          ],
          [
           5,
           "地方 | 很多 | 一天 | 一点 | 已经",
           42
          ],
          [
           6,
           "泉州 | 洛阳桥 | 旅行 | 历史 | 济南",
           41
          ],
          [
           7,
           "工作 | 集团 | 河洛 | 建设 | 投资",
           34
          ],
          [
           8,
           "游客 | 景区 | 午餐 | 老君山 | 网友",
           32
          ],
          [
           9,
           "河南 | 造纸 | 巩义 | 历史 | 龙亭",
           31
          ],
          [
           10,
           "项目 | 消费 | 文旅 | 发展 | 建设",
           30
          ],
          [
           11,
           "银杏 | 文旅文创 | 发展 | 大会 | 中国",
           28
          ],
          [
           12,
           "广济桥 | 位于 | 白马寺 | 建筑 | 鸡冠",
           28
          ],
          [
           13,
           "防控 | 疫情 | 景区 | 开放 | 场所",
           27
          ],
          [
           14,
           "五一 | 数据 | 预订 | 增长 | 热门",
           20
          ],
          [
           15,
           "写真 | 发团 | 成人 | 儿童 | 地点",
           20
          ],
          [
           16,
           "博物馆 | 历史 | 停车场 | 白马寺 | 建设",
           19
          ],
          [
           17,
           "景区 | 度假区 | 公示 | 等级 | 评定",
           19
          ],
          [
           18,
           "话题 | 大寒 | 隋唐洛阳城 | 同安 | 风起",
           14
          ],
          [
           19,
           "福昌 | 龙门石窟 | 城隍庙 | 龙门 | 博物馆",
           12
          ],
          [
           20,
           "民宿 | 酒店 | 巧克力 | 孩子 | 余舍",
           10
          ]
         ],
         "hovertemplate": "<b>Topic %{customdata[0]}</b><br>%{customdata[1]}<br>Size: %{customdata[2]}",
         "legendgroup": "",
         "marker": {
          "color": "#B0BEC5",
          "line": {
           "color": "DarkSlateGrey",
           "width": 2
          },
          "size": [
           60,
           58,
           50,
           47,
           43,
           42,
           41,
           34,
           32,
           31,
           30,
           28,
           28,
           27,
           20,
           20,
           19,
           19,
           14,
           12,
           10
          ],
          "sizemode": "area",
          "sizeref": 0.0375,
          "symbol": "circle"
         },
         "mode": "markers",
         "name": "",
         "orientation": "v",
         "showlegend": false,
         "type": "scatter",
         "x": [
          5.090652,
          -5.862937,
          -4.514814,
          -11.655799,
          0.5229509,
          -6.4752083,
          -6.292338,
          1.0557812,
          1.7101822,
          -5.1970806,
          1.439257,
          1.146799,
          -5.4134016,
          -11.742673,
          1.2921774,
          4.954233,
          1.5787833,
          1.5650505,
          5.3260837,
          -4.279662,
          -5.75224
         ],
         "xaxis": "x",
         "y": [
          -8.684799,
          16.567545,
          16.950796,
          -6.615433,
          -3.1674156,
          16.090858,
          16.338673,
          -2.257411,
          -3.9681633,
          16.766317,
          -2.3513308,
          -2.8153942,
          16.99485,
          -6.702318,
          -3.9079974,
          -8.5482025,
          -3.714216,
          -2.443552,
          -8.919729,
          16.817375,
          16.12661
         ],
         "yaxis": "y"
        }
       ],
       "layout": {
        "annotations": [
         {
          "showarrow": false,
          "text": "D1",
          "x": -13.504073858261108,
          "y": 4.64319453239441,
          "yshift": 10
         },
         {
          "showarrow": false,
          "text": "D2",
          "x": -3.689538824558258,
          "xshift": 10,
          "y": 19.544077682495118
         }
        ],
        "height": 650,
        "hoverlabel": {
         "bgcolor": "white",
         "font": {
          "family": "Rockwell",
          "size": 16
         }
        },
        "legend": {
         "itemsizing": "constant",
         "tracegroupgap": 0
        },
        "margin": {
         "t": 60
        },
        "shapes": [
         {
          "line": {
           "color": "#CFD8DC",
           "width": 2
          },
          "type": "line",
          "x0": -3.689538824558258,
          "x1": -3.689538824558258,
          "y0": -10.257688617706298,
          "y1": 19.544077682495118
         },
         {
          "line": {
           "color": "#9E9E9E",
           "width": 2
          },
          "type": "line",
          "x0": -13.504073858261108,
          "x1": 6.124996209144593,
          "y0": 4.64319453239441,
          "y1": 4.64319453239441
         }
        ],
        "sliders": [
         {
          "active": 0,
          "pad": {
           "t": 50
          },
          "steps": [
           {
            "args": [
             {
              "marker.color": [
               [
                "red",
                "#B0BEC5",
                "#B0BEC5",
                "#B0BEC5",
                "#B0BEC5",
                "#B0BEC5",
                "#B0BEC5",
                "#B0BEC5",
                "#B0BEC5",
                "#B0BEC5",
                "#B0BEC5",
                "#B0BEC5",
                "#B0BEC5",
                "#B0BEC5",
                "#B0BEC5",
                "#B0BEC5",
                "#B0BEC5",
                "#B0BEC5",
                "#B0BEC5",
                "#B0BEC5",
                "#B0BEC5"
               ]
              ]
             }
            ],
            "label": "Topic 0",
            "method": "update"
           },
           {
            "args": [
             {
              "marker.color": [
               [
                "#B0BEC5",
                "red",
                "#B0BEC5",
                "#B0BEC5",
                "#B0BEC5",
                "#B0BEC5",
                "#B0BEC5",
                "#B0BEC5",
                "#B0BEC5",
                "#B0BEC5",
                "#B0BEC5",
                "#B0BEC5",
                "#B0BEC5",
                "#B0BEC5",
                "#B0BEC5",
                "#B0BEC5",
                "#B0BEC5",
                "#B0BEC5",
                "#B0BEC5",
                "#B0BEC5",
                "#B0BEC5"
               ]
              ]
             }
            ],
            "label": "Topic 1",
            "method": "update"
           },
           {
            "args": [
             {
              "marker.color": [
               [
                "#B0BEC5",
                "#B0BEC5",
                "red",
                "#B0BEC5",
                "#B0BEC5",
                "#B0BEC5",
                "#B0BEC5",
                "#B0BEC5",
                "#B0BEC5",
                "#B0BEC5",
                "#B0BEC5",
                "#B0BEC5",
                "#B0BEC5",
                "#B0BEC5",
                "#B0BEC5",
                "#B0BEC5",
                "#B0BEC5",
                "#B0BEC5",
                "#B0BEC5",
                "#B0BEC5",
                "#B0BEC5"
               ]
              ]
             }
            ],
            "label": "Topic 2",
            "method": "update"
           },
           {
            "args": [
             {
              "marker.color": [
               [
                "#B0BEC5",
                "#B0BEC5",
                "#B0BEC5",
                "red",
                "#B0BEC5",
                "#B0BEC5",
                "#B0BEC5",
                "#B0BEC5",
                "#B0BEC5",
                "#B0BEC5",
                "#B0BEC5",
                "#B0BEC5",
                "#B0BEC5",
                "#B0BEC5",
                "#B0BEC5",
                "#B0BEC5",
                "#B0BEC5",
                "#B0BEC5",
                "#B0BEC5",
                "#B0BEC5",
                "#B0BEC5"
               ]
              ]
             }
            ],
            "label": "Topic 3",
            "method": "update"
           },
           {
            "args": [
             {
              "marker.color": [
               [
                "#B0BEC5",
                "#B0BEC5",
                "#B0BEC5",
                "#B0BEC5",
                "red",
                "#B0BEC5",
                "#B0BEC5",
                "#B0BEC5",
                "#B0BEC5",
                "#B0BEC5",
                "#B0BEC5",
                "#B0BEC5",
                "#B0BEC5",
                "#B0BEC5",
                "#B0BEC5",
                "#B0BEC5",
                "#B0BEC5",
                "#B0BEC5",
                "#B0BEC5",
                "#B0BEC5",
                "#B0BEC5"
               ]
              ]
             }
            ],
            "label": "Topic 4",
            "method": "update"
           },
           {
            "args": [
             {
              "marker.color": [
               [
                "#B0BEC5",
                "#B0BEC5",
                "#B0BEC5",
                "#B0BEC5",
                "#B0BEC5",
                "red",
                "#B0BEC5",
                "#B0BEC5",
                "#B0BEC5",
                "#B0BEC5",
                "#B0BEC5",
                "#B0BEC5",
                "#B0BEC5",
                "#B0BEC5",
                "#B0BEC5",
                "#B0BEC5",
                "#B0BEC5",
                "#B0BEC5",
                "#B0BEC5",
                "#B0BEC5",
                "#B0BEC5"
               ]
              ]
             }
            ],
            "label": "Topic 5",
            "method": "update"
           },
           {
            "args": [
             {
              "marker.color": [
               [
                "#B0BEC5",
                "#B0BEC5",
                "#B0BEC5",
                "#B0BEC5",
                "#B0BEC5",
                "#B0BEC5",
                "red",
                "#B0BEC5",
                "#B0BEC5",
                "#B0BEC5",
                "#B0BEC5",
                "#B0BEC5",
                "#B0BEC5",
                "#B0BEC5",
                "#B0BEC5",
                "#B0BEC5",
                "#B0BEC5",
                "#B0BEC5",
                "#B0BEC5",
                "#B0BEC5",
                "#B0BEC5"
               ]
              ]
             }
            ],
            "label": "Topic 6",
            "method": "update"
           },
           {
            "args": [
             {
              "marker.color": [
               [
                "#B0BEC5",
                "#B0BEC5",
                "#B0BEC5",
                "#B0BEC5",
                "#B0BEC5",
                "#B0BEC5",
                "#B0BEC5",
                "red",
                "#B0BEC5",
                "#B0BEC5",
                "#B0BEC5",
                "#B0BEC5",
                "#B0BEC5",
                "#B0BEC5",
                "#B0BEC5",
                "#B0BEC5",
                "#B0BEC5",
                "#B0BEC5",
                "#B0BEC5",
                "#B0BEC5",
                "#B0BEC5"
               ]
              ]
             }
            ],
            "label": "Topic 7",
            "method": "update"
           },
           {
            "args": [
             {
              "marker.color": [
               [
                "#B0BEC5",
                "#B0BEC5",
                "#B0BEC5",
                "#B0BEC5",
                "#B0BEC5",
                "#B0BEC5",
                "#B0BEC5",
                "#B0BEC5",
                "red",
                "#B0BEC5",
                "#B0BEC5",
                "#B0BEC5",
                "#B0BEC5",
                "#B0BEC5",
                "#B0BEC5",
                "#B0BEC5",
                "#B0BEC5",
                "#B0BEC5",
                "#B0BEC5",
                "#B0BEC5",
                "#B0BEC5"
               ]
              ]
             }
            ],
            "label": "Topic 8",
            "method": "update"
           },
           {
            "args": [
             {
              "marker.color": [
               [
                "#B0BEC5",
                "#B0BEC5",
                "#B0BEC5",
                "#B0BEC5",
                "#B0BEC5",
                "#B0BEC5",
                "#B0BEC5",
                "#B0BEC5",
                "#B0BEC5",
                "red",
                "#B0BEC5",
                "#B0BEC5",
                "#B0BEC5",
                "#B0BEC5",
                "#B0BEC5",
                "#B0BEC5",
                "#B0BEC5",
                "#B0BEC5",
                "#B0BEC5",
                "#B0BEC5",
                "#B0BEC5"
               ]
              ]
             }
            ],
            "label": "Topic 9",
            "method": "update"
           },
           {
            "args": [
             {
              "marker.color": [
               [
                "#B0BEC5",
                "#B0BEC5",
                "#B0BEC5",
                "#B0BEC5",
                "#B0BEC5",
                "#B0BEC5",
                "#B0BEC5",
                "#B0BEC5",
                "#B0BEC5",
                "#B0BEC5",
                "red",
                "#B0BEC5",
                "#B0BEC5",
                "#B0BEC5",
                "#B0BEC5",
                "#B0BEC5",
                "#B0BEC5",
                "#B0BEC5",
                "#B0BEC5",
                "#B0BEC5",
                "#B0BEC5"
               ]
              ]
             }
            ],
            "label": "Topic 10",
            "method": "update"
           },
           {
            "args": [
             {
              "marker.color": [
               [
                "#B0BEC5",
                "#B0BEC5",
                "#B0BEC5",
                "#B0BEC5",
                "#B0BEC5",
                "#B0BEC5",
                "#B0BEC5",
                "#B0BEC5",
                "#B0BEC5",
                "#B0BEC5",
                "#B0BEC5",
                "red",
                "#B0BEC5",
                "#B0BEC5",
                "#B0BEC5",
                "#B0BEC5",
                "#B0BEC5",
                "#B0BEC5",
                "#B0BEC5",
                "#B0BEC5",
                "#B0BEC5"
               ]
              ]
             }
            ],
            "label": "Topic 11",
            "method": "update"
           },
           {
            "args": [
             {
              "marker.color": [
               [
                "#B0BEC5",
                "#B0BEC5",
                "#B0BEC5",
                "#B0BEC5",
                "#B0BEC5",
                "#B0BEC5",
                "#B0BEC5",
                "#B0BEC5",
                "#B0BEC5",
                "#B0BEC5",
                "#B0BEC5",
                "#B0BEC5",
                "red",
                "#B0BEC5",
                "#B0BEC5",
                "#B0BEC5",
                "#B0BEC5",
                "#B0BEC5",
                "#B0BEC5",
                "#B0BEC5",
                "#B0BEC5"
               ]
              ]
             }
            ],
            "label": "Topic 12",
            "method": "update"
           },
           {
            "args": [
             {
              "marker.color": [
               [
                "#B0BEC5",
                "#B0BEC5",
                "#B0BEC5",
                "#B0BEC5",
                "#B0BEC5",
                "#B0BEC5",
                "#B0BEC5",
                "#B0BEC5",
                "#B0BEC5",
                "#B0BEC5",
                "#B0BEC5",
                "#B0BEC5",
                "#B0BEC5",
                "red",
                "#B0BEC5",
                "#B0BEC5",
                "#B0BEC5",
                "#B0BEC5",
                "#B0BEC5",
                "#B0BEC5",
                "#B0BEC5"
               ]
              ]
             }
            ],
            "label": "Topic 13",
            "method": "update"
           },
           {
            "args": [
             {
              "marker.color": [
               [
                "#B0BEC5",
                "#B0BEC5",
                "#B0BEC5",
                "#B0BEC5",
                "#B0BEC5",
                "#B0BEC5",
                "#B0BEC5",
                "#B0BEC5",
                "#B0BEC5",
                "#B0BEC5",
                "#B0BEC5",
                "#B0BEC5",
                "#B0BEC5",
                "#B0BEC5",
                "red",
                "#B0BEC5",
                "#B0BEC5",
                "#B0BEC5",
                "#B0BEC5",
                "#B0BEC5",
                "#B0BEC5"
               ]
              ]
             }
            ],
            "label": "Topic 14",
            "method": "update"
           },
           {
            "args": [
             {
              "marker.color": [
               [
                "#B0BEC5",
                "#B0BEC5",
                "#B0BEC5",
                "#B0BEC5",
                "#B0BEC5",
                "#B0BEC5",
                "#B0BEC5",
                "#B0BEC5",
                "#B0BEC5",
                "#B0BEC5",
                "#B0BEC5",
                "#B0BEC5",
                "#B0BEC5",
                "#B0BEC5",
                "#B0BEC5",
                "red",
                "#B0BEC5",
                "#B0BEC5",
                "#B0BEC5",
                "#B0BEC5",
                "#B0BEC5"
               ]
              ]
             }
            ],
            "label": "Topic 15",
            "method": "update"
           },
           {
            "args": [
             {
              "marker.color": [
               [
                "#B0BEC5",
                "#B0BEC5",
                "#B0BEC5",
                "#B0BEC5",
                "#B0BEC5",
                "#B0BEC5",
                "#B0BEC5",
                "#B0BEC5",
                "#B0BEC5",
                "#B0BEC5",
                "#B0BEC5",
                "#B0BEC5",
                "#B0BEC5",
                "#B0BEC5",
                "#B0BEC5",
                "#B0BEC5",
                "red",
                "#B0BEC5",
                "#B0BEC5",
                "#B0BEC5",
                "#B0BEC5"
               ]
              ]
             }
            ],
            "label": "Topic 16",
            "method": "update"
           },
           {
            "args": [
             {
              "marker.color": [
               [
                "#B0BEC5",
                "#B0BEC5",
                "#B0BEC5",
                "#B0BEC5",
                "#B0BEC5",
                "#B0BEC5",
                "#B0BEC5",
                "#B0BEC5",
                "#B0BEC5",
                "#B0BEC5",
                "#B0BEC5",
                "#B0BEC5",
                "#B0BEC5",
                "#B0BEC5",
                "#B0BEC5",
                "#B0BEC5",
                "#B0BEC5",
                "red",
                "#B0BEC5",
                "#B0BEC5",
                "#B0BEC5"
               ]
              ]
             }
            ],
            "label": "Topic 17",
            "method": "update"
           },
           {
            "args": [
             {
              "marker.color": [
               [
                "#B0BEC5",
                "#B0BEC5",
                "#B0BEC5",
                "#B0BEC5",
                "#B0BEC5",
                "#B0BEC5",
                "#B0BEC5",
                "#B0BEC5",
                "#B0BEC5",
                "#B0BEC5",
                "#B0BEC5",
                "#B0BEC5",
                "#B0BEC5",
                "#B0BEC5",
                "#B0BEC5",
                "#B0BEC5",
                "#B0BEC5",
                "#B0BEC5",
                "red",
                "#B0BEC5",
                "#B0BEC5"
               ]
              ]
             }
            ],
            "label": "Topic 18",
            "method": "update"
           },
           {
            "args": [
             {
              "marker.color": [
               [
                "#B0BEC5",
                "#B0BEC5",
                "#B0BEC5",
                "#B0BEC5",
                "#B0BEC5",
                "#B0BEC5",
                "#B0BEC5",
                "#B0BEC5",
                "#B0BEC5",
                "#B0BEC5",
                "#B0BEC5",
                "#B0BEC5",
                "#B0BEC5",
                "#B0BEC5",
                "#B0BEC5",
                "#B0BEC5",
                "#B0BEC5",
                "#B0BEC5",
                "#B0BEC5",
                "red",
                "#B0BEC5"
               ]
              ]
             }
            ],
            "label": "Topic 19",
            "method": "update"
           },
           {
            "args": [
             {
              "marker.color": [
               [
                "#B0BEC5",
                "#B0BEC5",
                "#B0BEC5",
                "#B0BEC5",
                "#B0BEC5",
                "#B0BEC5",
                "#B0BEC5",
                "#B0BEC5",
                "#B0BEC5",
                "#B0BEC5",
                "#B0BEC5",
                "#B0BEC5",
                "#B0BEC5",
                "#B0BEC5",
                "#B0BEC5",
                "#B0BEC5",
                "#B0BEC5",
                "#B0BEC5",
                "#B0BEC5",
                "#B0BEC5",
                "red"
               ]
              ]
             }
            ],
            "label": "Topic 20",
            "method": "update"
           }
          ]
         }
        ],
        "template": {
         "data": {
          "bar": [
           {
            "error_x": {
             "color": "rgb(36,36,36)"
            },
            "error_y": {
             "color": "rgb(36,36,36)"
            },
            "marker": {
             "line": {
              "color": "white",
              "width": 0.5
             },
             "pattern": {
              "fillmode": "overlay",
              "size": 10,
              "solidity": 0.2
             }
            },
            "type": "bar"
           }
          ],
          "barpolar": [
           {
            "marker": {
             "line": {
              "color": "white",
              "width": 0.5
             },
             "pattern": {
              "fillmode": "overlay",
              "size": 10,
              "solidity": 0.2
             }
            },
            "type": "barpolar"
           }
          ],
          "carpet": [
           {
            "aaxis": {
             "endlinecolor": "rgb(36,36,36)",
             "gridcolor": "white",
             "linecolor": "white",
             "minorgridcolor": "white",
             "startlinecolor": "rgb(36,36,36)"
            },
            "baxis": {
             "endlinecolor": "rgb(36,36,36)",
             "gridcolor": "white",
             "linecolor": "white",
             "minorgridcolor": "white",
             "startlinecolor": "rgb(36,36,36)"
            },
            "type": "carpet"
           }
          ],
          "choropleth": [
           {
            "colorbar": {
             "outlinewidth": 1,
             "tickcolor": "rgb(36,36,36)",
             "ticks": "outside"
            },
            "type": "choropleth"
           }
          ],
          "contour": [
           {
            "colorbar": {
             "outlinewidth": 1,
             "tickcolor": "rgb(36,36,36)",
             "ticks": "outside"
            },
            "colorscale": [
             [
              0,
              "#440154"
             ],
             [
              0.1111111111111111,
              "#482878"
             ],
             [
              0.2222222222222222,
              "#3e4989"
             ],
             [
              0.3333333333333333,
              "#31688e"
             ],
             [
              0.4444444444444444,
              "#26828e"
             ],
             [
              0.5555555555555556,
              "#1f9e89"
             ],
             [
              0.6666666666666666,
              "#35b779"
             ],
             [
              0.7777777777777778,
              "#6ece58"
             ],
             [
              0.8888888888888888,
              "#b5de2b"
             ],
             [
              1,
              "#fde725"
             ]
            ],
            "type": "contour"
           }
          ],
          "contourcarpet": [
           {
            "colorbar": {
             "outlinewidth": 1,
             "tickcolor": "rgb(36,36,36)",
             "ticks": "outside"
            },
            "type": "contourcarpet"
           }
          ],
          "heatmap": [
           {
            "colorbar": {
             "outlinewidth": 1,
             "tickcolor": "rgb(36,36,36)",
             "ticks": "outside"
            },
            "colorscale": [
             [
              0,
              "#440154"
             ],
             [
              0.1111111111111111,
              "#482878"
             ],
             [
              0.2222222222222222,
              "#3e4989"
             ],
             [
              0.3333333333333333,
              "#31688e"
             ],
             [
              0.4444444444444444,
              "#26828e"
             ],
             [
              0.5555555555555556,
              "#1f9e89"
             ],
             [
              0.6666666666666666,
              "#35b779"
             ],
             [
              0.7777777777777778,
              "#6ece58"
             ],
             [
              0.8888888888888888,
              "#b5de2b"
             ],
             [
              1,
              "#fde725"
             ]
            ],
            "type": "heatmap"
           }
          ],
          "heatmapgl": [
           {
            "colorbar": {
             "outlinewidth": 1,
             "tickcolor": "rgb(36,36,36)",
             "ticks": "outside"
            },
            "colorscale": [
             [
              0,
              "#440154"
             ],
             [
              0.1111111111111111,
              "#482878"
             ],
             [
              0.2222222222222222,
              "#3e4989"
             ],
             [
              0.3333333333333333,
              "#31688e"
             ],
             [
              0.4444444444444444,
              "#26828e"
             ],
             [
              0.5555555555555556,
              "#1f9e89"
             ],
             [
              0.6666666666666666,
              "#35b779"
             ],
             [
              0.7777777777777778,
              "#6ece58"
             ],
             [
              0.8888888888888888,
              "#b5de2b"
             ],
             [
              1,
              "#fde725"
             ]
            ],
            "type": "heatmapgl"
           }
          ],
          "histogram": [
           {
            "marker": {
             "line": {
              "color": "white",
              "width": 0.6
             }
            },
            "type": "histogram"
           }
          ],
          "histogram2d": [
           {
            "colorbar": {
             "outlinewidth": 1,
             "tickcolor": "rgb(36,36,36)",
             "ticks": "outside"
            },
            "colorscale": [
             [
              0,
              "#440154"
             ],
             [
              0.1111111111111111,
              "#482878"
             ],
             [
              0.2222222222222222,
              "#3e4989"
             ],
             [
              0.3333333333333333,
              "#31688e"
             ],
             [
              0.4444444444444444,
              "#26828e"
             ],
             [
              0.5555555555555556,
              "#1f9e89"
             ],
             [
              0.6666666666666666,
              "#35b779"
             ],
             [
              0.7777777777777778,
              "#6ece58"
             ],
             [
              0.8888888888888888,
              "#b5de2b"
             ],
             [
              1,
              "#fde725"
             ]
            ],
            "type": "histogram2d"
           }
          ],
          "histogram2dcontour": [
           {
            "colorbar": {
             "outlinewidth": 1,
             "tickcolor": "rgb(36,36,36)",
             "ticks": "outside"
            },
            "colorscale": [
             [
              0,
              "#440154"
             ],
             [
              0.1111111111111111,
              "#482878"
             ],
             [
              0.2222222222222222,
              "#3e4989"
             ],
             [
              0.3333333333333333,
              "#31688e"
             ],
             [
              0.4444444444444444,
              "#26828e"
             ],
             [
              0.5555555555555556,
              "#1f9e89"
             ],
             [
              0.6666666666666666,
              "#35b779"
             ],
             [
              0.7777777777777778,
              "#6ece58"
             ],
             [
              0.8888888888888888,
              "#b5de2b"
             ],
             [
              1,
              "#fde725"
             ]
            ],
            "type": "histogram2dcontour"
           }
          ],
          "mesh3d": [
           {
            "colorbar": {
             "outlinewidth": 1,
             "tickcolor": "rgb(36,36,36)",
             "ticks": "outside"
            },
            "type": "mesh3d"
           }
          ],
          "parcoords": [
           {
            "line": {
             "colorbar": {
              "outlinewidth": 1,
              "tickcolor": "rgb(36,36,36)",
              "ticks": "outside"
             }
            },
            "type": "parcoords"
           }
          ],
          "pie": [
           {
            "automargin": true,
            "type": "pie"
           }
          ],
          "scatter": [
           {
            "fillpattern": {
             "fillmode": "overlay",
             "size": 10,
             "solidity": 0.2
            },
            "type": "scatter"
           }
          ],
          "scatter3d": [
           {
            "line": {
             "colorbar": {
              "outlinewidth": 1,
              "tickcolor": "rgb(36,36,36)",
              "ticks": "outside"
             }
            },
            "marker": {
             "colorbar": {
              "outlinewidth": 1,
              "tickcolor": "rgb(36,36,36)",
              "ticks": "outside"
             }
            },
            "type": "scatter3d"
           }
          ],
          "scattercarpet": [
           {
            "marker": {
             "colorbar": {
              "outlinewidth": 1,
              "tickcolor": "rgb(36,36,36)",
              "ticks": "outside"
             }
            },
            "type": "scattercarpet"
           }
          ],
          "scattergeo": [
           {
            "marker": {
             "colorbar": {
              "outlinewidth": 1,
              "tickcolor": "rgb(36,36,36)",
              "ticks": "outside"
             }
            },
            "type": "scattergeo"
           }
          ],
          "scattergl": [
           {
            "marker": {
             "colorbar": {
              "outlinewidth": 1,
              "tickcolor": "rgb(36,36,36)",
              "ticks": "outside"
             }
            },
            "type": "scattergl"
           }
          ],
          "scattermapbox": [
           {
            "marker": {
             "colorbar": {
              "outlinewidth": 1,
              "tickcolor": "rgb(36,36,36)",
              "ticks": "outside"
             }
            },
            "type": "scattermapbox"
           }
          ],
          "scatterpolar": [
           {
            "marker": {
             "colorbar": {
              "outlinewidth": 1,
              "tickcolor": "rgb(36,36,36)",
              "ticks": "outside"
             }
            },
            "type": "scatterpolar"
           }
          ],
          "scatterpolargl": [
           {
            "marker": {
             "colorbar": {
              "outlinewidth": 1,
              "tickcolor": "rgb(36,36,36)",
              "ticks": "outside"
             }
            },
            "type": "scatterpolargl"
           }
          ],
          "scatterternary": [
           {
            "marker": {
             "colorbar": {
              "outlinewidth": 1,
              "tickcolor": "rgb(36,36,36)",
              "ticks": "outside"
             }
            },
            "type": "scatterternary"
           }
          ],
          "surface": [
           {
            "colorbar": {
             "outlinewidth": 1,
             "tickcolor": "rgb(36,36,36)",
             "ticks": "outside"
            },
            "colorscale": [
             [
              0,
              "#440154"
             ],
             [
              0.1111111111111111,
              "#482878"
             ],
             [
              0.2222222222222222,
              "#3e4989"
             ],
             [
              0.3333333333333333,
              "#31688e"
             ],
             [
              0.4444444444444444,
              "#26828e"
             ],
             [
              0.5555555555555556,
              "#1f9e89"
             ],
             [
              0.6666666666666666,
              "#35b779"
             ],
             [
              0.7777777777777778,
              "#6ece58"
             ],
             [
              0.8888888888888888,
              "#b5de2b"
             ],
             [
              1,
              "#fde725"
             ]
            ],
            "type": "surface"
           }
          ],
          "table": [
           {
            "cells": {
             "fill": {
              "color": "rgb(237,237,237)"
             },
             "line": {
              "color": "white"
             }
            },
            "header": {
             "fill": {
              "color": "rgb(217,217,217)"
             },
             "line": {
              "color": "white"
             }
            },
            "type": "table"
           }
          ]
         },
         "layout": {
          "annotationdefaults": {
           "arrowhead": 0,
           "arrowwidth": 1
          },
          "autotypenumbers": "strict",
          "coloraxis": {
           "colorbar": {
            "outlinewidth": 1,
            "tickcolor": "rgb(36,36,36)",
            "ticks": "outside"
           }
          },
          "colorscale": {
           "diverging": [
            [
             0,
             "rgb(103,0,31)"
            ],
            [
             0.1,
             "rgb(178,24,43)"
            ],
            [
             0.2,
             "rgb(214,96,77)"
            ],
            [
             0.3,
             "rgb(244,165,130)"
            ],
            [
             0.4,
             "rgb(253,219,199)"
            ],
            [
             0.5,
             "rgb(247,247,247)"
            ],
            [
             0.6,
             "rgb(209,229,240)"
            ],
            [
             0.7,
             "rgb(146,197,222)"
            ],
            [
             0.8,
             "rgb(67,147,195)"
            ],
            [
             0.9,
             "rgb(33,102,172)"
            ],
            [
             1,
             "rgb(5,48,97)"
            ]
           ],
           "sequential": [
            [
             0,
             "#440154"
            ],
            [
             0.1111111111111111,
             "#482878"
            ],
            [
             0.2222222222222222,
             "#3e4989"
            ],
            [
             0.3333333333333333,
             "#31688e"
            ],
            [
             0.4444444444444444,
             "#26828e"
            ],
            [
             0.5555555555555556,
             "#1f9e89"
            ],
            [
             0.6666666666666666,
             "#35b779"
            ],
            [
             0.7777777777777778,
             "#6ece58"
            ],
            [
             0.8888888888888888,
             "#b5de2b"
            ],
            [
             1,
             "#fde725"
            ]
           ],
           "sequentialminus": [
            [
             0,
             "#440154"
            ],
            [
             0.1111111111111111,
             "#482878"
            ],
            [
             0.2222222222222222,
             "#3e4989"
            ],
            [
             0.3333333333333333,
             "#31688e"
            ],
            [
             0.4444444444444444,
             "#26828e"
            ],
            [
             0.5555555555555556,
             "#1f9e89"
            ],
            [
             0.6666666666666666,
             "#35b779"
            ],
            [
             0.7777777777777778,
             "#6ece58"
            ],
            [
             0.8888888888888888,
             "#b5de2b"
            ],
            [
             1,
             "#fde725"
            ]
           ]
          },
          "colorway": [
           "#1F77B4",
           "#FF7F0E",
           "#2CA02C",
           "#D62728",
           "#9467BD",
           "#8C564B",
           "#E377C2",
           "#7F7F7F",
           "#BCBD22",
           "#17BECF"
          ],
          "font": {
           "color": "rgb(36,36,36)"
          },
          "geo": {
           "bgcolor": "white",
           "lakecolor": "white",
           "landcolor": "white",
           "showlakes": true,
           "showland": true,
           "subunitcolor": "white"
          },
          "hoverlabel": {
           "align": "left"
          },
          "hovermode": "closest",
          "mapbox": {
           "style": "light"
          },
          "paper_bgcolor": "white",
          "plot_bgcolor": "white",
          "polar": {
           "angularaxis": {
            "gridcolor": "rgb(232,232,232)",
            "linecolor": "rgb(36,36,36)",
            "showgrid": false,
            "showline": true,
            "ticks": "outside"
           },
           "bgcolor": "white",
           "radialaxis": {
            "gridcolor": "rgb(232,232,232)",
            "linecolor": "rgb(36,36,36)",
            "showgrid": false,
            "showline": true,
            "ticks": "outside"
           }
          },
          "scene": {
           "xaxis": {
            "backgroundcolor": "white",
            "gridcolor": "rgb(232,232,232)",
            "gridwidth": 2,
            "linecolor": "rgb(36,36,36)",
            "showbackground": true,
            "showgrid": false,
            "showline": true,
            "ticks": "outside",
            "zeroline": false,
            "zerolinecolor": "rgb(36,36,36)"
           },
           "yaxis": {
            "backgroundcolor": "white",
            "gridcolor": "rgb(232,232,232)",
            "gridwidth": 2,
            "linecolor": "rgb(36,36,36)",
            "showbackground": true,
            "showgrid": false,
            "showline": true,
            "ticks": "outside",
            "zeroline": false,
            "zerolinecolor": "rgb(36,36,36)"
           },
           "zaxis": {
            "backgroundcolor": "white",
            "gridcolor": "rgb(232,232,232)",
            "gridwidth": 2,
            "linecolor": "rgb(36,36,36)",
            "showbackground": true,
            "showgrid": false,
            "showline": true,
            "ticks": "outside",
            "zeroline": false,
            "zerolinecolor": "rgb(36,36,36)"
           }
          },
          "shapedefaults": {
           "fillcolor": "black",
           "line": {
            "width": 0
           },
           "opacity": 0.3
          },
          "ternary": {
           "aaxis": {
            "gridcolor": "rgb(232,232,232)",
            "linecolor": "rgb(36,36,36)",
            "showgrid": false,
            "showline": true,
            "ticks": "outside"
           },
           "baxis": {
            "gridcolor": "rgb(232,232,232)",
            "linecolor": "rgb(36,36,36)",
            "showgrid": false,
            "showline": true,
            "ticks": "outside"
           },
           "bgcolor": "white",
           "caxis": {
            "gridcolor": "rgb(232,232,232)",
            "linecolor": "rgb(36,36,36)",
            "showgrid": false,
            "showline": true,
            "ticks": "outside"
           }
          },
          "title": {
           "x": 0.05
          },
          "xaxis": {
           "automargin": true,
           "gridcolor": "rgb(232,232,232)",
           "linecolor": "rgb(36,36,36)",
           "showgrid": false,
           "showline": true,
           "ticks": "outside",
           "title": {
            "standoff": 15
           },
           "zeroline": false,
           "zerolinecolor": "rgb(36,36,36)"
          },
          "yaxis": {
           "automargin": true,
           "gridcolor": "rgb(232,232,232)",
           "linecolor": "rgb(36,36,36)",
           "showgrid": false,
           "showline": true,
           "ticks": "outside",
           "title": {
            "standoff": 15
           },
           "zeroline": false,
           "zerolinecolor": "rgb(36,36,36)"
          }
         }
        },
        "title": {
         "font": {
          "color": "Black",
          "size": 22
         },
         "text": "<b>Intertopic Distance Map</b>",
         "x": 0.5,
         "xanchor": "center",
         "y": 0.95,
         "yanchor": "top"
        },
        "width": 650,
        "xaxis": {
         "anchor": "y",
         "domain": [
          0,
          1
         ],
         "range": [
          -13.504073858261108,
          6.124996209144593
         ],
         "title": {
          "text": ""
         },
         "visible": false
        },
        "yaxis": {
         "anchor": "x",
         "domain": [
          0,
          1
         ],
         "range": [
          -10.257688617706298,
          19.544077682495118
         ],
         "title": {
          "text": ""
         },
         "visible": false
        }
       }
      }
     },
     "metadata": {},
     "output_type": "display_data"
    }
   ],
   "source": [
    "topic_model.visualize_topics()"
   ]
  },
  {
   "cell_type": "code",
   "execution_count": 24,
   "metadata": {},
   "outputs": [
    {
     "data": {
      "application/vnd.plotly.v1+json": {
       "config": {
        "plotlyServerURL": "https://plot.ly"
       },
       "data": [
        {
         "hoverinfo": "text",
         "marker": {
          "color": "#CFD8DC",
          "opacity": 0.5,
          "size": 5
         },
         "mode": "markers+text",
         "name": "other",
         "showlegend": false,
         "type": "scattergl",
         "x": [
          6.3336477,
          4.3542137,
          4.256776,
          7.775887,
          5.385698,
          5.2626476,
          7.314578,
          5.628933,
          3.3805056,
          4.997435,
          8.238742,
          2.825695,
          6.206661,
          5.9139657,
          6.570554,
          5.0015116,
          5.4540157,
          3.862448,
          8.139599,
          4.761424,
          4.865923,
          8.582844,
          6.9221087,
          4.8791604,
          6.9487705,
          7.984678,
          9.108043,
          4.023731,
          6.914622,
          6.72993,
          4.65438,
          6.247877,
          4.562192,
          9.125038,
          9.10944,
          6.2119584,
          9.096845,
          7.1487064,
          6.2497253,
          4.782377,
          5.096782,
          3.1205482,
          7.067251,
          6.2570534,
          5.354621,
          3.4796357,
          4.9281983,
          8.599777,
          8.323116,
          3.542237,
          4.0658226,
          6.2576613,
          6.506739,
          7.223725,
          6.6525073,
          5.9627314,
          3.614948,
          5.503586,
          7.967895,
          5.9100494,
          4.9935637,
          1.8868656,
          2.860297,
          8.793463,
          8.078819,
          4.2079897,
          8.638504,
          2.2818816,
          5.2010846,
          8.327494,
          4.1364956,
          5.819534,
          6.1928544,
          2.9412181,
          8.722187,
          4.8118906,
          5.8747587,
          5.6600437,
          3.0408018,
          2.7260644,
          7.432287,
          6.5777392,
          4.648936,
          9.008269,
          6.328914,
          5.262573,
          4.2864246,
          2.6516862,
          8.61662,
          6.354457,
          4.001593,
          6.1639028,
          4.9382815,
          6.921486,
          6.994148,
          5.2804427,
          3.9735394,
          8.103881,
          6.8402042,
          4.4879885,
          8.009804,
          6.788898,
          2.9364114,
          6.2183104,
          2.8236828,
          6.358341,
          7.467592,
          5.169013,
          8.306712,
          3.826401,
          8.144561,
          2.9803474,
          5.1746917,
          2.4509668,
          5.450243,
          8.211074,
          6.591486,
          5.085727,
          6.263721,
          4.0902257,
          5.0601945,
          3.864967,
          2.8899102,
          3.212042,
          5.983075,
          6.7746863,
          6.2962885,
          5.580262,
          6.6224337,
          6.0568485,
          2.4596858,
          7.691271,
          3.916549,
          4.988447,
          2.9339738,
          5.7749715,
          6.5134892,
          3.6907558,
          8.097217,
          6.9212832,
          6.811533,
          8.777695,
          5.5386353,
          5.0900354,
          6.3201966,
          3.598166,
          3.4559586,
          4.0426197,
          3.0102057,
          6.166709,
          7.7320704,
          4.8938417,
          4.9361877,
          7.305017,
          3.0094347,
          3.7225325,
          3.984844,
          6.9261036,
          9.029662,
          8.738517,
          5.9906,
          6.3176236,
          7.853014,
          3.157524,
          6.953737,
          5.290579,
          7.5156612,
          3.6226876,
          2.9400802,
          6.6726675,
          6.1882963,
          4.726768,
          3.6584485,
          5.95267,
          8.685708,
          6.579849,
          6.09436,
          3.2335668,
          2.4967327,
          3.1849535,
          6.3050857,
          8.668276,
          6.9754167,
          2.9229972,
          6.296259,
          8.670927,
          6.040606,
          5.764647,
          3.1879396,
          5.5838714,
          7.8664145,
          6.9768643,
          7.4957128,
          3.5041552,
          7.457056,
          2.449599,
          5.0433445,
          6.8859797,
          7.8181353,
          8.040834,
          2.56423,
          6.647058,
          6.9137335,
          5.4747066,
          3.2585979,
          2.9311347,
          3.3394203,
          9.051163,
          2.098605,
          6.9050994,
          5.301201,
          9.1663885,
          8.686671,
          2.9584076,
          3.4885693,
          1.8266693,
          3.3869793,
          5.392087,
          3.8534074,
          6.598257,
          4.549058,
          7.8664923,
          4.7359824,
          4.96797,
          5.948656,
          6.5864716,
          5.9109087,
          3.93926,
          8.399582,
          4.441595,
          2.7360318,
          2.6834261,
          5.9064283,
          7.956585,
          7.2250276,
          2.947099,
          7.0140786,
          3.4928565,
          2.6045983,
          7.9877377,
          6.57074,
          2.3918052,
          8.774619,
          2.9189487,
          9.018502,
          3.451943,
          7.19751,
          8.109767,
          3.5265,
          4.9612756,
          2.8999934,
          8.110215,
          7.4249353,
          5.065009,
          3.4252944,
          7.927681,
          2.7161973,
          3.0452518,
          4.281655,
          6.296664,
          3.5651336,
          6.168318,
          3.6369965,
          6.749409,
          3.8640065,
          8.04673,
          6.835023,
          8.54022,
          2.823737,
          9.183087,
          7.460983,
          8.598954,
          6.85464,
          3.9370868,
          4.868675,
          5.815341,
          3.8605006,
          8.111472,
          2.8010194,
          7.5098076,
          9.155905,
          8.071119,
          5.5983167,
          2.898384,
          5.798056,
          2.4572098,
          7.1806445,
          6.8542504,
          5.4957895,
          3.146835,
          3.5318718,
          6.932202,
          5.091943,
          6.954312,
          8.378588,
          6.1079674,
          9.263911,
          5.3478346,
          3.6670766,
          5.1558447,
          9.13573,
          2.6424158,
          7.357584,
          7.8247747,
          4.8817735,
          7.2338705,
          4.9394913,
          3.893382,
          5.576893,
          6.126103,
          3.0262334,
          7.5682473,
          5.417154,
          6.1730857,
          2.912916,
          6.976804,
          6.5422945,
          6.417638,
          6.7481103,
          6.3422856,
          5.641075,
          8.802588,
          8.502801,
          8.589506,
          6.616307,
          6.577331,
          3.6823266,
          6.65589,
          6.3298125,
          8.0022135,
          9.168058,
          8.88591,
          6.6554112,
          8.006436,
          4.825452,
          5.7433057
         ],
         "y": [
          6.262445,
          7.2590327,
          7.3439546,
          6.238934,
          6.8142266,
          6.893668,
          8.443019,
          6.1601133,
          6.4683614,
          6.9063044,
          6.9220653,
          7.914211,
          5.8278303,
          7.2599707,
          8.350981,
          6.1602087,
          6.70178,
          7.703171,
          7.7377048,
          4.9875193,
          8.622573,
          6.760091,
          3.5305307,
          8.670563,
          4.5800314,
          8.751024,
          8.148503,
          6.7093735,
          3.5262377,
          5.520417,
          6.570695,
          5.175573,
          5.7306685,
          8.140528,
          8.768755,
          5.565987,
          8.138779,
          6.9386563,
          7.874861,
          7.6377163,
          6.34825,
          8.172155,
          8.200931,
          7.0976644,
          6.1808357,
          7.0364075,
          4.8977866,
          7.007399,
          5.6209073,
          6.494782,
          8.187286,
          6.1746325,
          6.3504653,
          7.1399307,
          5.5012794,
          4.085278,
          8.582432,
          6.613167,
          7.61704,
          4.0827446,
          5.8278933,
          5.9635425,
          7.313418,
          8.717668,
          4.9169574,
          7.737038,
          8.844003,
          6.735313,
          5.0213485,
          8.334119,
          8.588172,
          4.72416,
          5.4363565,
          8.264512,
          9.124474,
          6.4273005,
          5.0443254,
          6.4189453,
          8.259676,
          7.214368,
          6.528339,
          8.35851,
          4.6219344,
          7.7462263,
          7.850236,
          6.6878643,
          7.8383427,
          7.4881144,
          6.6569185,
          4.5929337,
          7.20356,
          6.628783,
          5.427885,
          3.5247223,
          6.8041067,
          7.7270346,
          6.9755955,
          4.94015,
          5.6384263,
          7.0587883,
          5.4538593,
          5.2364044,
          8.669842,
          6.5022264,
          7.809716,
          6.258098,
          7.383088,
          6.6195354,
          6.223931,
          7.97299,
          4.9355526,
          7.8644037,
          6.381623,
          7.8037405,
          6.516732,
          6.306848,
          8.3452635,
          4.9933047,
          7.1714435,
          7.075896,
          7.2811155,
          8.486888,
          7.450701,
          7.1122165,
          6.5104322,
          6.3127885,
          6.1150436,
          5.7448483,
          6.0765624,
          5.411579,
          7.2421317,
          7.118107,
          7.2485027,
          6.221517,
          4.6328454,
          6.4967556,
          6.088859,
          6.6930556,
          8.154779,
          3.5246243,
          7.8158255,
          8.753432,
          8.031009,
          6.2264833,
          7.821058,
          8.26134,
          8.577383,
          7.215118,
          8.447927,
          5.896476,
          7.106272,
          6.3065763,
          6.701703,
          5.1212735,
          7.509856,
          7.933671,
          7.621672,
          3.5273092,
          8.248432,
          8.579987,
          6.545793,
          4.9785643,
          8.856596,
          7.985691,
          3.6416626,
          7.717707,
          7.1089435,
          8.039957,
          4.621793,
          7.792394,
          4.6074924,
          7.541622,
          6.630436,
          4.0854125,
          7.3752255,
          8.349964,
          6.5079856,
          6.088402,
          6.9533706,
          8.040935,
          4.5713735,
          5.9477186,
          4.4041014,
          4.639299,
          7.9869785,
          5.1632853,
          6.4646583,
          6.6347075,
          7.725383,
          8.035513,
          8.865543,
          5.7131896,
          5.651373,
          7.6240544,
          5.699202,
          7.7170987,
          7.654236,
          8.184995,
          7.613373,
          8.28946,
          7.6374235,
          6.7534657,
          7.178565,
          6.433058,
          7.2097793,
          4.62863,
          6.074496,
          8.246052,
          8.186424,
          3.5342116,
          7.735026,
          8.262145,
          8.735032,
          4.609554,
          7.7439313,
          6.102373,
          7.654224,
          5.7380023,
          6.8610806,
          6.1196275,
          8.242878,
          8.891799,
          4.743634,
          6.0750628,
          4.0809035,
          4.877247,
          6.730961,
          7.2700653,
          8.926683,
          7.970497,
          8.232305,
          7.236967,
          6.7289,
          7.3636055,
          5.999649,
          4.617821,
          8.120573,
          7.39174,
          7.315234,
          5.405069,
          8.350554,
          7.8396277,
          8.753971,
          8.245998,
          8.232254,
          7.016147,
          6.3880568,
          4.9359417,
          8.554703,
          5.872258,
          8.314102,
          4.940536,
          5.752247,
          7.5448756,
          6.890405,
          8.901105,
          7.7838836,
          8.156238,
          7.359626,
          6.3588862,
          6.6903133,
          5.424544,
          6.7221303,
          6.288569,
          6.876632,
          5.463213,
          6.474826,
          6.532924,
          7.139314,
          7.8771653,
          7.9280777,
          6.618941,
          4.6422825,
          5.9824686,
          6.482539,
          5.1066666,
          8.611301,
          4.942706,
          8.13132,
          5.9650187,
          7.1487556,
          5.481709,
          6.689802,
          7.350433,
          5.1949906,
          7.1915545,
          8.260114,
          7.1313796,
          5.852176,
          6.1110935,
          7.526867,
          3.506336,
          6.6548414,
          7.9736705,
          7.8465395,
          5.8901405,
          8.741535,
          6.823492,
          7.1669116,
          6.3706174,
          8.166967,
          6.940525,
          5.088573,
          7.4865756,
          8.6785145,
          5.087967,
          6.4977627,
          7.357711,
          6.68902,
          7.173912,
          8.266912,
          8.002947,
          6.155651,
          5.82093,
          7.570273,
          4.5195203,
          7.73231,
          6.0108757,
          6.6711025,
          7.947229,
          6.6231318,
          7.914129,
          8.6344,
          6.8846393,
          5.519528,
          8.363097,
          7.128248,
          6.09591,
          5.999293,
          5.229101,
          7.1653037,
          8.427787,
          6.181538,
          8.952026,
          8.692238,
          6.811559
         ]
        },
        {
         "hoverinfo": "text",
         "marker": {
          "opacity": 0.5,
          "size": 5
         },
         "mode": "markers+text",
         "name": "0_活动_门票_景区",
         "text": [
          "",
          "",
          "",
          "",
          "",
          "",
          "",
          "",
          "",
          "",
          "",
          "",
          "",
          "",
          "",
          "",
          "",
          "",
          "",
          "",
          "",
          "",
          "",
          "",
          "",
          "",
          "",
          "",
          "",
          "",
          "",
          "",
          "",
          "",
          "",
          "",
          "",
          "",
          "",
          "",
          "",
          "",
          "",
          "",
          "",
          "",
          "",
          "",
          "",
          "",
          "",
          "",
          "",
          "",
          "",
          "",
          "",
          "",
          "",
          "",
          "0_活动_门票_景区"
         ],
         "textfont": {
          "size": 12
         },
         "type": "scattergl",
         "x": [
          4.724837,
          5.6309276,
          5.3488684,
          6.0415144,
          5.8453445,
          5.5974936,
          5.2156568,
          5.169831,
          6.2954545,
          5.175268,
          5.615068,
          6.28292,
          5.2416744,
          4.837021,
          5.302816,
          5.328931,
          5.125301,
          5.933229,
          5.9985423,
          5.4166813,
          5.9689555,
          5.248204,
          5.7511945,
          6.000255,
          5.900942,
          5.265527,
          5.2094812,
          6.041705,
          5.0277166,
          5.9901314,
          5.2114787,
          4.9843345,
          5.3595843,
          5.624702,
          5.220306,
          4.8565965,
          5.551048,
          4.9802103,
          5.73429,
          5.1876593,
          5.964885,
          5.9135585,
          6.047492,
          5.5674243,
          5.173984,
          5.887176,
          6.0641026,
          4.958626,
          5.5756345,
          5.0942197,
          6.0305214,
          5.2842374,
          5.8300714,
          5.2970495,
          5.95783,
          4.965166,
          5.2940326,
          5.2364397,
          6.050377,
          5.243921,
          5.511308
         ],
         "y": [
          4.6358957,
          4.995346,
          4.6658115,
          4.871548,
          4.6117606,
          4.3982363,
          4.542346,
          4.592086,
          4.943294,
          4.690426,
          4.8104863,
          4.9541554,
          4.7452273,
          4.691065,
          4.6553082,
          4.6118493,
          4.5865726,
          5.175362,
          5.6942053,
          5.0619435,
          4.618615,
          4.7133512,
          4.464832,
          5.1646104,
          4.6258287,
          4.6095977,
          4.5580163,
          5.375521,
          5.270416,
          5.153245,
          4.7552433,
          5.34317,
          4.68023,
          4.5809183,
          4.5091724,
          4.695871,
          4.389556,
          5.3392196,
          4.497156,
          4.702387,
          4.905728,
          4.608729,
          5.57992,
          4.4035945,
          4.865366,
          5.068333,
          5.349693,
          5.390386,
          4.8027143,
          5.2902207,
          4.855892,
          4.734252,
          5.0971823,
          4.639024,
          4.718834,
          4.646135,
          4.58404,
          4.7212763,
          4.8446026,
          4.4679775,
          4.8258967
         ]
        },
        {
         "hoverinfo": "text",
         "marker": {
          "opacity": 0.5,
          "size": 5
         },
         "mode": "markers+text",
         "name": "1_王府_竹海_旅行",
         "text": [
          "",
          "",
          "",
          "",
          "",
          "",
          "",
          "",
          "",
          "",
          "",
          "",
          "",
          "",
          "",
          "",
          "",
          "",
          "",
          "",
          "",
          "",
          "",
          "",
          "",
          "",
          "",
          "",
          "",
          "",
          "",
          "",
          "",
          "",
          "",
          "",
          "",
          "",
          "",
          "",
          "",
          "",
          "",
          "",
          "",
          "",
          "",
          "",
          "",
          "",
          "",
          "",
          "",
          "",
          "",
          "",
          "",
          "",
          "1_王府_竹海_旅行"
         ],
         "textfont": {
          "size": 12
         },
         "type": "scattergl",
         "x": [
          7.5516295,
          7.028563,
          7.855562,
          7.043117,
          6.8385296,
          7.935598,
          7.109982,
          7.7809877,
          6.883125,
          6.850249,
          7.2129025,
          7.8129487,
          7.145846,
          7.2732997,
          7.8642535,
          7.8772926,
          6.996107,
          7.2299476,
          7.1306305,
          7.12913,
          7.83956,
          7.257597,
          7.1517024,
          6.829151,
          6.807125,
          7.3538313,
          8.249259,
          7.018286,
          6.7846417,
          7.1307487,
          7.1369667,
          7.015486,
          7.5681396,
          7.736685,
          7.8801966,
          6.9320245,
          7.071642,
          7.361173,
          8.028964,
          7.979894,
          8.008014,
          6.886129,
          6.8686156,
          7.1500683,
          7.6141214,
          7.2787733,
          8.3853855,
          7.7273664,
          7.2722683,
          6.9389396,
          7.670324,
          8.068024,
          7.132389,
          7.2271633,
          7.577238,
          7.2243104,
          6.9848866,
          8.1665535,
          7.3769546
         ],
         "y": [
          6.412735,
          6.907029,
          6.526138,
          7.071479,
          7.353149,
          6.5409255,
          7.0115438,
          6.6073356,
          7.3650904,
          7.7244735,
          6.549975,
          6.4044685,
          6.610335,
          6.817177,
          6.4857087,
          6.259095,
          7.488727,
          6.3941936,
          7.5161595,
          6.927543,
          6.5279408,
          6.5376177,
          7.4613805,
          7.3489857,
          6.7417164,
          7.9001503,
          6.569506,
          6.9744487,
          7.378387,
          7.4865365,
          6.6860323,
          7.1137815,
          6.4718323,
          6.220561,
          6.2561803,
          7.1933284,
          6.672231,
          6.5195565,
          6.608415,
          5.5599933,
          6.74354,
          7.432062,
          7.8766737,
          8.000323,
          6.2374306,
          6.366793,
          7.194344,
          6.2954216,
          7.068652,
          7.4969625,
          6.706076,
          6.668015,
          7.469647,
          7.2722707,
          6.0430994,
          6.3986554,
          7.537105,
          6.591895,
          6.8724275
         ]
        },
        {
         "hoverinfo": "text",
         "marker": {
          "opacity": 0.5,
          "size": 5
         },
         "mode": "markers+text",
         "name": "2_石窟_中国_龙门石窟",
         "text": [
          "",
          "",
          "",
          "",
          "",
          "",
          "",
          "",
          "",
          "",
          "",
          "",
          "",
          "",
          "",
          "",
          "",
          "",
          "",
          "",
          "",
          "",
          "",
          "",
          "",
          "",
          "",
          "",
          "",
          "",
          "",
          "",
          "",
          "",
          "",
          "",
          "",
          "",
          "",
          "",
          "",
          "",
          "",
          "",
          "",
          "",
          "",
          "",
          "",
          "",
          "2_石窟_中国_龙门石窟"
         ],
         "textfont": {
          "size": 12
         },
         "type": "scattergl",
         "x": [
          9.65737,
          9.414844,
          9.500337,
          9.637867,
          8.897538,
          9.350958,
          9.376364,
          9.627895,
          9.513334,
          9.23176,
          9.3125,
          9.107259,
          9.339745,
          9.299223,
          9.346845,
          9.254091,
          9.503495,
          8.956041,
          9.448039,
          8.949356,
          9.46669,
          8.859628,
          9.519095,
          9.32928,
          9.123327,
          9.5994835,
          9.035407,
          9.688229,
          9.3195095,
          9.00103,
          9.010398,
          9.6805725,
          9.685593,
          8.892171,
          8.912009,
          9.6786175,
          8.909083,
          8.983707,
          9.411899,
          9.522953,
          9.563929,
          9.232592,
          9.286044,
          8.991733,
          9.400625,
          8.993982,
          9.25488,
          9.159512,
          9.628501,
          9.352292,
          9.304353
         ],
         "y": [
          8.691162,
          8.692855,
          8.848666,
          8.698945,
          9.264287,
          8.987217,
          8.815469,
          8.688472,
          8.58579,
          8.490579,
          8.555435,
          9.032087,
          9.00371,
          9.036845,
          8.406734,
          9.07581,
          8.743654,
          9.222434,
          8.53834,
          9.295714,
          8.799938,
          8.904889,
          8.678691,
          8.44447,
          8.837372,
          8.749799,
          8.941397,
          8.746988,
          9.08078,
          9.074638,
          9.22607,
          8.676737,
          8.697092,
          9.262052,
          9.27276,
          8.760081,
          9.254922,
          9.190893,
          8.653034,
          8.8028555,
          8.68098,
          8.689513,
          8.507732,
          9.243931,
          8.91562,
          9.209638,
          8.807926,
          8.988027,
          8.749943,
          8.7263365,
          8.864986
         ]
        },
        {
         "hoverinfo": "text",
         "marker": {
          "opacity": 0.5,
          "size": 5
         },
         "mode": "markers+text",
         "name": "3_旅客_年票_客流",
         "text": [
          "",
          "",
          "",
          "",
          "",
          "",
          "",
          "",
          "",
          "",
          "",
          "",
          "",
          "",
          "",
          "",
          "",
          "",
          "",
          "",
          "",
          "",
          "",
          "",
          "",
          "",
          "",
          "",
          "",
          "",
          "",
          "",
          "",
          "",
          "",
          "",
          "",
          "",
          "",
          "",
          "",
          "",
          "",
          "",
          "",
          "",
          "",
          "3_旅客_年票_客流"
         ],
         "textfont": {
          "size": 12
         },
         "type": "scattergl",
         "x": [
          2.2696404,
          2.2495124,
          2.2265184,
          2.3723452,
          2.3053463,
          2.4223478,
          2.7925355,
          2.3783684,
          2.252968,
          2.236788,
          1.9989973,
          2.235768,
          2.3779507,
          2.3217397,
          2.2499099,
          2.4771638,
          2.3596268,
          2.5899608,
          2.2130935,
          2.3621302,
          2.1750598,
          2.5282805,
          1.7867211,
          2.2157214,
          1.994515,
          2.0133398,
          2.3540924,
          2.3789685,
          2.20214,
          2.3056388,
          2.0182025,
          2.1955252,
          2.5106034,
          2.6457474,
          2.4112213,
          2.4657924,
          2.5560577,
          2.1888068,
          2.2193263,
          2.0218356,
          2.2575023,
          2.0400352,
          2.1110187,
          2.2420697,
          2.0160835,
          1.7918007,
          2.930541,
          2.2823267
         ],
         "y": [
          5.609953,
          6.524461,
          6.510734,
          5.8814173,
          6.1737714,
          5.7751055,
          5.993929,
          5.9228873,
          6.496651,
          6.5232677,
          5.9299383,
          6.5068316,
          5.8910894,
          5.9020953,
          5.930289,
          5.7989755,
          5.9372845,
          5.6781855,
          6.5041046,
          5.8959103,
          6.1795607,
          5.6641183,
          6.7604046,
          6.5056725,
          6.624528,
          5.915262,
          6.2319875,
          5.7374163,
          6.539415,
          6.5391793,
          5.6640973,
          6.5348573,
          5.7112527,
          6.0050325,
          6.396801,
          6.358042,
          6.1599965,
          6.586435,
          6.5232205,
          6.6673455,
          6.8307557,
          5.654382,
          5.6554475,
          6.0204644,
          5.686163,
          6.7589464,
          6.08423,
          6.1570616
         ]
        },
        {
         "hoverinfo": "text",
         "marker": {
          "opacity": 0.5,
          "size": 5
         },
         "mode": "markers+text",
         "name": "4_机场_建设_规划",
         "text": [
          "",
          "",
          "",
          "",
          "",
          "",
          "",
          "",
          "",
          "",
          "",
          "",
          "",
          "",
          "",
          "",
          "",
          "",
          "",
          "",
          "",
          "",
          "",
          "",
          "",
          "",
          "",
          "",
          "",
          "",
          "",
          "",
          "",
          "",
          "",
          "",
          "",
          "",
          "",
          "",
          "",
          "",
          "",
          "4_机场_建设_规划"
         ],
         "textfont": {
          "size": 12
         },
         "type": "scattergl",
         "x": [
          3.8168273,
          4.6971817,
          4.6196065,
          4.146566,
          3.7269444,
          4.839225,
          4.727429,
          4.579054,
          4.710004,
          3.8110359,
          3.77003,
          4.2599626,
          4.044019,
          3.9058263,
          3.9680023,
          4.697967,
          3.9167745,
          4.6327314,
          4.3293896,
          4.6391206,
          4.5228105,
          4.3634477,
          3.7697446,
          4.4786606,
          4.5360107,
          4.6453304,
          3.8741856,
          4.5593424,
          4.285022,
          4.9207864,
          4.0755253,
          4.4847164,
          4.3534484,
          4.0984936,
          3.7680357,
          4.052614,
          4.449278,
          4.9065633,
          4.623126,
          4.5814576,
          4.055342,
          4.487528,
          3.604467,
          4.3100843
         ],
         "y": [
          6.0587454,
          8.010495,
          7.9495497,
          6.4416423,
          6.067781,
          7.967515,
          7.888931,
          7.846665,
          7.867514,
          6.277866,
          6.003253,
          7.444781,
          6.61351,
          6.681532,
          6.3525925,
          7.891475,
          6.4731555,
          7.950704,
          7.467077,
          8.009252,
          7.5541143,
          7.527072,
          6.06532,
          7.5523276,
          8.065076,
          7.9806347,
          6.037884,
          8.045597,
          7.7877555,
          7.967584,
          6.6654363,
          7.6015425,
          7.576349,
          6.664626,
          6.0842714,
          6.7018447,
          7.596441,
          7.9267035,
          7.9170156,
          7.9787135,
          6.2649574,
          8.136457,
          6.004737,
          7.231779
         ]
        },
        {
         "hoverinfo": "text",
         "marker": {
          "opacity": 0.5,
          "size": 5
         },
         "mode": "markers+text",
         "name": "5_地方_很多_一天",
         "text": [
          "",
          "",
          "",
          "",
          "",
          "",
          "",
          "",
          "",
          "",
          "",
          "",
          "",
          "",
          "",
          "",
          "",
          "",
          "",
          "",
          "",
          "",
          "",
          "",
          "",
          "",
          "",
          "",
          "",
          "",
          "",
          "",
          "",
          "",
          "",
          "",
          "",
          "",
          "",
          "",
          "",
          "",
          "5_地方_很多_一天"
         ],
         "textfont": {
          "size": 12
         },
         "type": "scattergl",
         "x": [
          9.939081,
          9.030647,
          9.462377,
          9.346151,
          9.330527,
          10.021518,
          10.025161,
          8.939772,
          9.499521,
          9.3274355,
          9.33906,
          9.451476,
          9.467434,
          9.466919,
          9.508755,
          10.008158,
          9.185745,
          9.223286,
          9.459252,
          9.262441,
          8.85585,
          9.5118475,
          9.331425,
          9.314292,
          9.439752,
          9.097199,
          9.366975,
          9.481972,
          8.983463,
          9.519666,
          9.395311,
          9.422659,
          10.018918,
          9.344714,
          9.176577,
          9.492482,
          9.423336,
          9.503072,
          10.022039,
          9.51847,
          8.965666,
          9.223817,
          9.421529
         ],
         "y": [
          5.591673,
          5.6078744,
          5.079923,
          5.1645083,
          5.425202,
          5.684599,
          5.690968,
          5.1690106,
          5.2540174,
          5.1055818,
          5.4532466,
          5.082898,
          5.1873035,
          5.11696,
          5.1944876,
          5.67612,
          5.525145,
          5.2267046,
          5.2112927,
          5.508666,
          5.2048883,
          5.1877456,
          5.1180725,
          5.2564845,
          5.153659,
          5.5558343,
          5.142473,
          5.119072,
          5.176758,
          5.0819373,
          5.0905194,
          5.093092,
          5.6891766,
          5.2882147,
          5.2276063,
          5.170183,
          5.0911627,
          5.1623635,
          5.688874,
          5.1922536,
          5.178977,
          5.5264997,
          5.2940955
         ]
        },
        {
         "hoverinfo": "text",
         "marker": {
          "opacity": 0.5,
          "size": 5
         },
         "mode": "markers+text",
         "name": "6_泉州_洛阳桥_旅行",
         "text": [
          "",
          "",
          "",
          "",
          "",
          "",
          "",
          "",
          "",
          "",
          "",
          "",
          "",
          "",
          "",
          "",
          "",
          "",
          "",
          "",
          "",
          "",
          "",
          "",
          "",
          "",
          "",
          "",
          "",
          "",
          "",
          "",
          "",
          "",
          "",
          "",
          "",
          "",
          "",
          "",
          "",
          "6_泉州_洛阳桥_旅行"
         ],
         "textfont": {
          "size": 12
         },
         "type": "scattergl",
         "x": [
          8.538731,
          7.8877387,
          7.95207,
          8.036319,
          8.57714,
          7.8696327,
          7.95359,
          8.219094,
          7.7172446,
          8.496443,
          8.429771,
          8.222077,
          7.930985,
          8.088436,
          7.7757406,
          8.543174,
          8.140944,
          7.848241,
          8.047298,
          7.7317934,
          8.209444,
          7.674131,
          7.7445107,
          8.58344,
          8.080824,
          8.252684,
          8.407098,
          7.7227144,
          7.9958787,
          8.278536,
          8.077109,
          8.484886,
          8.075418,
          7.7150817,
          7.6526427,
          7.654063,
          8.605009,
          7.967898,
          8.326708,
          8.335668,
          8.56856,
          8.107776
         ],
         "y": [
          5.9956174,
          6.106145,
          5.95583,
          6.225562,
          6.1949854,
          6.690477,
          5.9547057,
          5.9336433,
          6.9756546,
          6.369491,
          5.9935894,
          6.065189,
          6.532697,
          5.882954,
          6.823775,
          6.064535,
          6.0255747,
          7.159733,
          6.063469,
          5.872284,
          6.08656,
          7.0475545,
          6.942342,
          5.9885993,
          6.2076917,
          6.0923553,
          6.0327563,
          6.814598,
          6.7315874,
          6.0297976,
          6.007994,
          6.019612,
          5.969112,
          6.9882755,
          6.364485,
          6.3455057,
          5.9862833,
          5.945516,
          6.0521107,
          6.3816323,
          5.921278,
          6.264428
         ]
        },
        {
         "hoverinfo": "text",
         "marker": {
          "opacity": 0.5,
          "size": 5
         },
         "mode": "markers+text",
         "name": "7_工作_集团_河洛",
         "text": [
          "",
          "",
          "",
          "",
          "",
          "",
          "",
          "",
          "",
          "",
          "",
          "",
          "",
          "",
          "",
          "",
          "",
          "",
          "",
          "",
          "",
          "",
          "",
          "",
          "",
          "",
          "",
          "",
          "",
          "",
          "",
          "",
          "",
          "",
          "7_工作_集团_河洛"
         ],
         "textfont": {
          "size": 12
         },
         "type": "scattergl",
         "x": [
          2.6263552,
          2.21515,
          3.0186117,
          3.033311,
          2.4678533,
          3.1430879,
          3.263168,
          3.396272,
          2.1659186,
          2.9993877,
          2.418487,
          2.1577084,
          3.0765238,
          3.1216986,
          3.0979853,
          2.1574192,
          2.2292018,
          2.286498,
          2.8047607,
          2.4212348,
          2.2766747,
          2.3707285,
          2.125752,
          2.1619008,
          2.1555152,
          3.049375,
          2.3874848,
          2.9406767,
          2.611563,
          2.4949765,
          2.555688,
          2.6333342,
          2.6185162,
          2.7690134,
          2.625054
         ],
         "y": [
          8.714976,
          8.644179,
          8.331824,
          8.516187,
          8.369022,
          8.569919,
          8.543365,
          8.432078,
          8.569465,
          8.336929,
          8.392575,
          8.68345,
          8.526712,
          8.484246,
          8.461147,
          8.652506,
          8.615299,
          8.5955715,
          8.668214,
          8.406352,
          8.579316,
          8.472231,
          8.601275,
          8.661461,
          8.6028,
          8.464001,
          8.414069,
          8.256116,
          8.7061,
          8.274593,
          8.3251,
          8.330219,
          8.676149,
          8.721153,
          8.517606
         ]
        },
        {
         "hoverinfo": "text",
         "marker": {
          "opacity": 0.5,
          "size": 5
         },
         "mode": "markers+text",
         "name": "8_游客_景区_午餐",
         "text": [
          "",
          "",
          "",
          "",
          "",
          "",
          "",
          "",
          "",
          "",
          "",
          "",
          "",
          "",
          "",
          "",
          "",
          "",
          "",
          "",
          "",
          "",
          "",
          "",
          "",
          "",
          "",
          "",
          "",
          "",
          "",
          "",
          "8_游客_景区_午餐"
         ],
         "textfont": {
          "size": 12
         },
         "type": "scattergl",
         "x": [
          0.48556492,
          0.4692004,
          0.6785218,
          0.271298,
          2.3929543,
          0.63755506,
          0.6840928,
          0.70646924,
          0.26668435,
          0.46066028,
          0.6804312,
          0.2623108,
          3.5882523,
          0.4381561,
          0.46451253,
          0.61628646,
          0.49299696,
          0.5625679,
          2.1650655,
          0.34497163,
          0.4743353,
          0.2604683,
          2.240111,
          0.52224994,
          0.87835807,
          0.47102496,
          0.27251682,
          0.25973716,
          0.9981062,
          0.65155333,
          0.70077705,
          0.23353682,
          0.769729
         ],
         "y": [
          7.2897825,
          7.318118,
          7.125275,
          7.475386,
          7.2088013,
          7.153079,
          7.1114364,
          7.1579223,
          7.482229,
          7.313807,
          7.1129384,
          7.4875216,
          8.279827,
          7.3385506,
          7.306153,
          7.1624956,
          7.28166,
          7.2159276,
          7.2797666,
          7.4128075,
          7.305323,
          7.5090346,
          7.2774396,
          7.24792,
          7.058443,
          7.3076005,
          7.4763036,
          7.491661,
          7.092226,
          7.1370187,
          7.070419,
          7.5353603,
          7.3131948
         ]
        },
        {
         "hoverinfo": "text",
         "marker": {
          "opacity": 0.5,
          "size": 5
         },
         "mode": "markers+text",
         "name": "9_河南_造纸_巩义",
         "text": [
          "",
          "",
          "",
          "",
          "",
          "",
          "",
          "",
          "",
          "",
          "",
          "",
          "",
          "",
          "",
          "",
          "",
          "",
          "",
          "",
          "",
          "",
          "",
          "",
          "",
          "",
          "",
          "",
          "",
          "",
          "",
          "9_河南_造纸_巩义"
         ],
         "textfont": {
          "size": 12
         },
         "type": "scattergl",
         "x": [
          7.7314067,
          8.835237,
          8.359886,
          9.1218405,
          8.378737,
          8.566093,
          8.627066,
          7.7297134,
          7.7177896,
          7.949149,
          7.683361,
          8.084168,
          9.082661,
          9.145293,
          7.835612,
          7.7579055,
          8.946271,
          7.8526826,
          8.555972,
          8.427418,
          8.22773,
          7.718918,
          8.517721,
          8.185985,
          7.7015357,
          8.6512375,
          8.603505,
          9.0458765,
          8.15681,
          8.313984,
          8.428528,
          8.320648
         ],
         "y": [
          8.098638,
          7.496546,
          7.4622097,
          7.573159,
          7.3772526,
          7.1271186,
          7.340507,
          8.08909,
          8.085337,
          8.051942,
          8.088699,
          7.5101,
          7.62735,
          7.276515,
          7.9413643,
          8.100373,
          7.6571846,
          8.057875,
          7.3015985,
          7.3435774,
          7.6042867,
          8.078611,
          7.2226324,
          7.533598,
          8.0482645,
          7.3693147,
          7.450553,
          7.6008883,
          7.707429,
          7.4234695,
          7.4298368,
          7.647591
         ]
        },
        {
         "hoverinfo": "text",
         "marker": {
          "opacity": 0.5,
          "size": 5
         },
         "mode": "markers+text",
         "name": "10_项目_消费_文旅",
         "text": [
          "",
          "",
          "",
          "",
          "",
          "",
          "",
          "",
          "",
          "",
          "",
          "",
          "",
          "",
          "",
          "",
          "",
          "",
          "",
          "",
          "",
          "",
          "",
          "",
          "",
          "",
          "",
          "",
          "",
          "",
          "10_项目_消费_文旅"
         ],
         "textfont": {
          "size": 12
         },
         "type": "scattergl",
         "x": [
          3.0372307,
          3.660159,
          3.4555562,
          3.465621,
          3.5694215,
          3.6327448,
          2.8474448,
          3.436084,
          3.4524055,
          3.3050807,
          2.8906775,
          3.661756,
          2.946222,
          3.6173327,
          2.9175122,
          3.4985716,
          3.6115532,
          3.64122,
          2.7287512,
          3.1968493,
          3.4629395,
          3.1904867,
          3.2985253,
          3.3018715,
          3.3605397,
          2.7823715,
          3.647098,
          3.251226,
          3.7040203,
          3.377625,
          3.33163
         ],
         "y": [
          7.409618,
          7.714615,
          7.9475913,
          8.066876,
          7.657571,
          7.793247,
          7.7982407,
          7.756955,
          8.051515,
          7.8301516,
          7.801792,
          7.7883205,
          7.543282,
          7.7504783,
          7.6850624,
          8.082704,
          7.981851,
          7.6912107,
          7.7195477,
          7.7813582,
          7.5995965,
          7.7705727,
          7.9623094,
          7.7482,
          7.7721696,
          7.811478,
          8.027084,
          7.9086213,
          7.70737,
          7.664971,
          7.794145
         ]
        },
        {
         "hoverinfo": "text",
         "marker": {
          "opacity": 0.5,
          "size": 5
         },
         "mode": "markers+text",
         "name": "11_银杏_文旅文创_发展",
         "text": [
          "",
          "",
          "",
          "",
          "",
          "",
          "",
          "",
          "",
          "",
          "",
          "",
          "",
          "",
          "",
          "",
          "",
          "",
          "",
          "",
          "",
          "",
          "",
          "",
          "",
          "",
          "",
          "",
          "11_银杏_文旅文创_发展"
         ],
         "textfont": {
          "size": 12
         },
         "type": "scattergl",
         "x": [
          3.9407847,
          4.005833,
          3.9136908,
          3.9221268,
          3.958842,
          3.7692976,
          4.427953,
          4.006577,
          4.205566,
          3.86243,
          3.888394,
          3.8782637,
          3.9635427,
          3.8968887,
          3.8219001,
          3.8860989,
          4.215654,
          4.486289,
          4.042995,
          4.37397,
          3.9313877,
          3.7356815,
          4.5098433,
          4.363909,
          3.9362733,
          3.9144218,
          3.828916,
          4.5946617,
          4.0457926
         ],
         "y": [
          8.211817,
          8.241922,
          8.343467,
          8.6059065,
          8.589217,
          8.441442,
          8.354458,
          8.162856,
          8.387873,
          8.613578,
          8.278937,
          8.265227,
          8.323228,
          8.280741,
          8.305309,
          8.608467,
          8.402472,
          8.500295,
          8.4626045,
          8.39763,
          8.272938,
          8.634545,
          8.320471,
          8.44135,
          8.628549,
          8.62675,
          8.384063,
          8.457596,
          8.412275
         ]
        },
        {
         "hoverinfo": "text",
         "marker": {
          "opacity": 0.5,
          "size": 5
         },
         "mode": "markers+text",
         "name": "12_广济桥_位于_白马寺",
         "text": [
          "",
          "",
          "",
          "",
          "",
          "",
          "",
          "",
          "",
          "",
          "",
          "",
          "",
          "",
          "",
          "",
          "",
          "",
          "",
          "",
          "",
          "",
          "",
          "",
          "",
          "",
          "",
          "",
          "12_广济桥_位于_白马寺"
         ],
         "textfont": {
          "size": 12
         },
         "type": "scattergl",
         "x": [
          8.417981,
          8.136045,
          8.490545,
          8.4553,
          8.076179,
          8.050349,
          8.314603,
          7.8741293,
          8.350694,
          7.439468,
          8.39907,
          8.053474,
          8.342201,
          8.352433,
          8.459179,
          8.19544,
          8.324327,
          8.314965,
          8.487685,
          8.07442,
          8.443798,
          8.167287,
          7.714588,
          8.417298,
          8.403005,
          8.4223175,
          7.639398,
          7.706014,
          8.197222
         ],
         "y": [
          7.8888574,
          7.7156696,
          7.854998,
          7.931145,
          7.1518507,
          7.1541996,
          7.590423,
          7.555829,
          7.688179,
          7.042,
          7.657981,
          7.16204,
          7.926216,
          7.907843,
          7.894655,
          7.1675377,
          7.764929,
          7.6176233,
          7.814221,
          7.795433,
          7.7663507,
          7.680294,
          7.40472,
          7.8457994,
          8.042717,
          7.850785,
          7.2149134,
          7.4308233,
          7.625644
         ]
        },
        {
         "hoverinfo": "text",
         "marker": {
          "opacity": 0.5,
          "size": 5
         },
         "mode": "markers+text",
         "name": "13_防控_疫情_景区",
         "text": [
          "",
          "",
          "",
          "",
          "",
          "",
          "",
          "",
          "",
          "",
          "",
          "",
          "",
          "",
          "",
          "",
          "",
          "",
          "",
          "",
          "",
          "",
          "",
          "",
          "",
          "",
          "",
          "13_防控_疫情_景区"
         ],
         "textfont": {
          "size": 12
         },
         "type": "scattergl",
         "x": [
          1.5636522,
          1.536404,
          1.2467126,
          1.2876387,
          1.377638,
          1.2719204,
          1.3243262,
          1.2475903,
          1.5743464,
          1.2946664,
          1.3678961,
          1.3173593,
          1.54472,
          1.2749435,
          1.2911842,
          1.396771,
          1.4711256,
          1.501355,
          1.3768746,
          1.4979118,
          1.302934,
          1.7513105,
          1.5666101,
          1.7400069,
          1.3057128,
          1.4316667,
          1.5018859,
          1.4209319
         ],
         "y": [
          6.482235,
          6.5109587,
          6.154742,
          6.198553,
          6.291393,
          6.174914,
          6.2227654,
          6.1796317,
          6.4861693,
          6.197301,
          6.2280006,
          6.2458363,
          6.574306,
          6.160317,
          6.1930647,
          6.8747663,
          6.0078897,
          6.4171443,
          6.2778397,
          6.559209,
          6.191727,
          6.7738957,
          6.523777,
          6.3177843,
          6.1879854,
          6.349892,
          6.456992,
          6.3421893
         ]
        },
        {
         "hoverinfo": "text",
         "marker": {
          "opacity": 0.5,
          "size": 5
         },
         "mode": "markers+text",
         "name": "14_五一_数据_预订",
         "text": [
          "",
          "",
          "",
          "",
          "",
          "",
          "",
          "",
          "",
          "",
          "",
          "",
          "",
          "",
          "",
          "",
          "",
          "",
          "",
          "",
          "14_五一_数据_预订"
         ],
         "textfont": {
          "size": 12
         },
         "type": "scattergl",
         "x": [
          2.9468195,
          2.8022213,
          3.0977275,
          2.9442976,
          2.876323,
          3.1456232,
          3.1178505,
          2.922411,
          2.8025982,
          3.1160052,
          2.860687,
          3.142261,
          2.8130867,
          2.8788764,
          3.1435027,
          3.1160984,
          3.20223,
          2.8572469,
          3.106089,
          2.9129815,
          2.9902468
         ],
         "y": [
          6.798372,
          6.770873,
          6.6649866,
          6.7922688,
          6.779366,
          6.9113255,
          6.553869,
          6.737754,
          6.7882824,
          6.66509,
          6.7834153,
          6.446498,
          6.7401395,
          6.976065,
          6.473765,
          6.480474,
          7.0716515,
          6.768411,
          6.662638,
          6.776786,
          6.7321005
         ]
        },
        {
         "hoverinfo": "text",
         "marker": {
          "opacity": 0.5,
          "size": 5
         },
         "mode": "markers+text",
         "name": "15_写真_发团_成人",
         "text": [
          "",
          "",
          "",
          "",
          "",
          "",
          "",
          "",
          "",
          "",
          "",
          "",
          "",
          "",
          "",
          "",
          "",
          "",
          "",
          "",
          "15_写真_发团_成人"
         ],
         "textfont": {
          "size": 12
         },
         "type": "scattergl",
         "x": [
          6.3013005,
          6.5832944,
          6.610083,
          7.015954,
          6.8937364,
          6.1187162,
          6.5716863,
          7.097343,
          6.949756,
          6.780254,
          6.6192007,
          7.0966725,
          6.9779773,
          7.0954347,
          6.83319,
          6.8803544,
          7.070144,
          6.165466,
          6.6784167,
          6.948898,
          6.7643943
         ],
         "y": [
          4.5770664,
          4.79242,
          4.833704,
          4.7266793,
          4.9868846,
          4.7812967,
          4.7445874,
          4.843001,
          4.822334,
          4.791221,
          4.695757,
          4.7450743,
          4.8533616,
          4.7685895,
          4.9052505,
          4.880622,
          4.7320457,
          4.5720587,
          4.889092,
          4.857328,
          4.789919
         ]
        },
        {
         "hoverinfo": "text",
         "marker": {
          "opacity": 0.5,
          "size": 5
         },
         "mode": "markers+text",
         "name": "16_博物馆_历史_停车场",
         "text": [
          "",
          "",
          "",
          "",
          "",
          "",
          "",
          "",
          "",
          "",
          "",
          "",
          "",
          "",
          "",
          "",
          "",
          "",
          "",
          "16_博物馆_历史_停车场"
         ],
         "textfont": {
          "size": 12
         },
         "type": "scattergl",
         "x": [
          4.9777403,
          4.8993697,
          3.7960641,
          4.835216,
          4.906389,
          4.195323,
          4.207573,
          4.860309,
          4.2475195,
          4.822072,
          4.8135796,
          4.893682,
          3.5307171,
          3.7757268,
          3.4122686,
          4.848369,
          4.6313806,
          4.865067,
          3.4336472,
          4.418527
         ],
         "y": [
          7.0223365,
          7.0450544,
          7.176411,
          7.402217,
          7.3826394,
          7.315372,
          7.3147006,
          7.0139766,
          7.325287,
          7.125364,
          7.113198,
          7.147494,
          7.07648,
          7.4366837,
          7.140605,
          7.1502075,
          7.163205,
          7.1780972,
          6.802666,
          7.1753683
         ]
        },
        {
         "hoverinfo": "text",
         "marker": {
          "opacity": 0.5,
          "size": 5
         },
         "mode": "markers+text",
         "name": "17_景区_度假区_公示",
         "text": [
          "",
          "",
          "",
          "",
          "",
          "",
          "",
          "",
          "",
          "",
          "",
          "",
          "",
          "",
          "",
          "",
          "",
          "",
          "",
          "17_景区_度假区_公示"
         ],
         "textfont": {
          "size": 12
         },
         "type": "scattergl",
         "x": [
          1.9807984,
          2.0517678,
          1.8815053,
          2.0344262,
          1.7668457,
          2.4410694,
          1.8039787,
          2.0158167,
          1.8369259,
          1.7568337,
          1.9107063,
          2.1114762,
          1.8305709,
          2.0377378,
          2.128005,
          2.105449,
          1.9311349,
          1.8354717,
          2.0367892,
          1.9735427
         ],
         "y": [
          7.540865,
          7.572221,
          7.4479485,
          7.5615635,
          7.274077,
          7.6916847,
          7.426426,
          7.5650053,
          7.1127543,
          7.167283,
          7.467434,
          7.2663937,
          7.4066277,
          7.443704,
          7.6898127,
          7.457263,
          7.503053,
          7.4137616,
          7.5389085,
          7.4498305
         ]
        },
        {
         "hoverinfo": "text",
         "marker": {
          "opacity": 0.5,
          "size": 5
         },
         "mode": "markers+text",
         "name": "18_话题_大寒_隋唐洛阳城",
         "text": [
          "",
          "",
          "",
          "",
          "",
          "",
          "",
          "",
          "",
          "",
          "",
          "",
          "",
          "",
          "18_话题_大寒_隋唐洛阳城"
         ],
         "textfont": {
          "size": 12
         },
         "type": "scattergl",
         "x": [
          6.0796757,
          5.8590236,
          5.826507,
          5.4921274,
          5.701893,
          5.6409435,
          5.594273,
          5.6301284,
          5.6632752,
          6.051534,
          5.5999837,
          5.624083,
          5.631228,
          5.8778872,
          5.7337537
         ],
         "y": [
          5.8449974,
          5.9426446,
          5.9918466,
          6.36081,
          6.0878444,
          6.121488,
          6.0054665,
          6.01324,
          6.0870004,
          6.0212297,
          6.4548407,
          6.1025677,
          6.288641,
          5.993818,
          6.0940313
         ]
        },
        {
         "hoverinfo": "text",
         "marker": {
          "opacity": 0.5,
          "size": 5
         },
         "mode": "markers+text",
         "name": "19_福昌_龙门石窟_城隍庙",
         "text": [
          "",
          "",
          "",
          "",
          "",
          "",
          "",
          "",
          "",
          "",
          "",
          "",
          "19_福昌_龙门石窟_城隍庙"
         ],
         "textfont": {
          "size": 12
         },
         "type": "scattergl",
         "x": [
          8.393396,
          8.226497,
          8.36702,
          8.211627,
          8.262023,
          8.226603,
          8.742275,
          8.309343,
          8.287909,
          8.387744,
          8.308723,
          8.316181,
          8.336612
         ],
         "y": [
          8.60943,
          8.921933,
          8.549905,
          8.881017,
          8.879326,
          8.919617,
          8.619223,
          8.63297,
          8.634504,
          8.6444235,
          8.676108,
          8.644356,
          8.717735
         ]
        },
        {
         "hoverinfo": "text",
         "marker": {
          "opacity": 0.5,
          "size": 5
         },
         "mode": "markers+text",
         "name": "20_民宿_酒店_巧克力",
         "text": [
          "",
          "",
          "",
          "",
          "",
          "",
          "",
          "",
          "",
          "",
          "20_民宿_酒店_巧克力"
         ],
         "textfont": {
          "size": 12
         },
         "type": "scattergl",
         "x": [
          7.471921,
          7.444446,
          7.558793,
          7.5291386,
          7.385862,
          7.5328193,
          7.567098,
          7.543374,
          7.4839993,
          7.4247327,
          7.4942183
         ],
         "y": [
          5.220556,
          5.0970907,
          5.07972,
          5.077905,
          5.335228,
          5.1009655,
          5.0741935,
          5.087461,
          5.088854,
          5.264439,
          5.142641
         ]
        }
       ],
       "layout": {
        "annotations": [
         {
          "showarrow": false,
          "text": "D1",
          "x": 0.19850630089640617,
          "y": 6.8352285563945765,
          "yshift": 10
         },
         {
          "showarrow": false,
          "text": "D2",
          "x": 5.863720604404807,
          "xshift": 10,
          "y": 10.690071535110473
         }
        ],
        "height": 750,
        "shapes": [
         {
          "line": {
           "color": "#CFD8DC",
           "width": 2
          },
          "type": "line",
          "x0": 5.863720604404807,
          "x1": 5.863720604404807,
          "y0": 2.9803855776786805,
          "y1": 10.690071535110473
         },
         {
          "line": {
           "color": "#9E9E9E",
           "width": 2
          },
          "type": "line",
          "x0": 0.19850630089640617,
          "x1": 11.528934907913207,
          "y0": 6.8352285563945765,
          "y1": 6.8352285563945765
         }
        ],
        "template": {
         "data": {
          "bar": [
           {
            "error_x": {
             "color": "rgb(36,36,36)"
            },
            "error_y": {
             "color": "rgb(36,36,36)"
            },
            "marker": {
             "line": {
              "color": "white",
              "width": 0.5
             },
             "pattern": {
              "fillmode": "overlay",
              "size": 10,
              "solidity": 0.2
             }
            },
            "type": "bar"
           }
          ],
          "barpolar": [
           {
            "marker": {
             "line": {
              "color": "white",
              "width": 0.5
             },
             "pattern": {
              "fillmode": "overlay",
              "size": 10,
              "solidity": 0.2
             }
            },
            "type": "barpolar"
           }
          ],
          "carpet": [
           {
            "aaxis": {
             "endlinecolor": "rgb(36,36,36)",
             "gridcolor": "white",
             "linecolor": "white",
             "minorgridcolor": "white",
             "startlinecolor": "rgb(36,36,36)"
            },
            "baxis": {
             "endlinecolor": "rgb(36,36,36)",
             "gridcolor": "white",
             "linecolor": "white",
             "minorgridcolor": "white",
             "startlinecolor": "rgb(36,36,36)"
            },
            "type": "carpet"
           }
          ],
          "choropleth": [
           {
            "colorbar": {
             "outlinewidth": 1,
             "tickcolor": "rgb(36,36,36)",
             "ticks": "outside"
            },
            "type": "choropleth"
           }
          ],
          "contour": [
           {
            "colorbar": {
             "outlinewidth": 1,
             "tickcolor": "rgb(36,36,36)",
             "ticks": "outside"
            },
            "colorscale": [
             [
              0,
              "#440154"
             ],
             [
              0.1111111111111111,
              "#482878"
             ],
             [
              0.2222222222222222,
              "#3e4989"
             ],
             [
              0.3333333333333333,
              "#31688e"
             ],
             [
              0.4444444444444444,
              "#26828e"
             ],
             [
              0.5555555555555556,
              "#1f9e89"
             ],
             [
              0.6666666666666666,
              "#35b779"
             ],
             [
              0.7777777777777778,
              "#6ece58"
             ],
             [
              0.8888888888888888,
              "#b5de2b"
             ],
             [
              1,
              "#fde725"
             ]
            ],
            "type": "contour"
           }
          ],
          "contourcarpet": [
           {
            "colorbar": {
             "outlinewidth": 1,
             "tickcolor": "rgb(36,36,36)",
             "ticks": "outside"
            },
            "type": "contourcarpet"
           }
          ],
          "heatmap": [
           {
            "colorbar": {
             "outlinewidth": 1,
             "tickcolor": "rgb(36,36,36)",
             "ticks": "outside"
            },
            "colorscale": [
             [
              0,
              "#440154"
             ],
             [
              0.1111111111111111,
              "#482878"
             ],
             [
              0.2222222222222222,
              "#3e4989"
             ],
             [
              0.3333333333333333,
              "#31688e"
             ],
             [
              0.4444444444444444,
              "#26828e"
             ],
             [
              0.5555555555555556,
              "#1f9e89"
             ],
             [
              0.6666666666666666,
              "#35b779"
             ],
             [
              0.7777777777777778,
              "#6ece58"
             ],
             [
              0.8888888888888888,
              "#b5de2b"
             ],
             [
              1,
              "#fde725"
             ]
            ],
            "type": "heatmap"
           }
          ],
          "heatmapgl": [
           {
            "colorbar": {
             "outlinewidth": 1,
             "tickcolor": "rgb(36,36,36)",
             "ticks": "outside"
            },
            "colorscale": [
             [
              0,
              "#440154"
             ],
             [
              0.1111111111111111,
              "#482878"
             ],
             [
              0.2222222222222222,
              "#3e4989"
             ],
             [
              0.3333333333333333,
              "#31688e"
             ],
             [
              0.4444444444444444,
              "#26828e"
             ],
             [
              0.5555555555555556,
              "#1f9e89"
             ],
             [
              0.6666666666666666,
              "#35b779"
             ],
             [
              0.7777777777777778,
              "#6ece58"
             ],
             [
              0.8888888888888888,
              "#b5de2b"
             ],
             [
              1,
              "#fde725"
             ]
            ],
            "type": "heatmapgl"
           }
          ],
          "histogram": [
           {
            "marker": {
             "line": {
              "color": "white",
              "width": 0.6
             }
            },
            "type": "histogram"
           }
          ],
          "histogram2d": [
           {
            "colorbar": {
             "outlinewidth": 1,
             "tickcolor": "rgb(36,36,36)",
             "ticks": "outside"
            },
            "colorscale": [
             [
              0,
              "#440154"
             ],
             [
              0.1111111111111111,
              "#482878"
             ],
             [
              0.2222222222222222,
              "#3e4989"
             ],
             [
              0.3333333333333333,
              "#31688e"
             ],
             [
              0.4444444444444444,
              "#26828e"
             ],
             [
              0.5555555555555556,
              "#1f9e89"
             ],
             [
              0.6666666666666666,
              "#35b779"
             ],
             [
              0.7777777777777778,
              "#6ece58"
             ],
             [
              0.8888888888888888,
              "#b5de2b"
             ],
             [
              1,
              "#fde725"
             ]
            ],
            "type": "histogram2d"
           }
          ],
          "histogram2dcontour": [
           {
            "colorbar": {
             "outlinewidth": 1,
             "tickcolor": "rgb(36,36,36)",
             "ticks": "outside"
            },
            "colorscale": [
             [
              0,
              "#440154"
             ],
             [
              0.1111111111111111,
              "#482878"
             ],
             [
              0.2222222222222222,
              "#3e4989"
             ],
             [
              0.3333333333333333,
              "#31688e"
             ],
             [
              0.4444444444444444,
              "#26828e"
             ],
             [
              0.5555555555555556,
              "#1f9e89"
             ],
             [
              0.6666666666666666,
              "#35b779"
             ],
             [
              0.7777777777777778,
              "#6ece58"
             ],
             [
              0.8888888888888888,
              "#b5de2b"
             ],
             [
              1,
              "#fde725"
             ]
            ],
            "type": "histogram2dcontour"
           }
          ],
          "mesh3d": [
           {
            "colorbar": {
             "outlinewidth": 1,
             "tickcolor": "rgb(36,36,36)",
             "ticks": "outside"
            },
            "type": "mesh3d"
           }
          ],
          "parcoords": [
           {
            "line": {
             "colorbar": {
              "outlinewidth": 1,
              "tickcolor": "rgb(36,36,36)",
              "ticks": "outside"
             }
            },
            "type": "parcoords"
           }
          ],
          "pie": [
           {
            "automargin": true,
            "type": "pie"
           }
          ],
          "scatter": [
           {
            "fillpattern": {
             "fillmode": "overlay",
             "size": 10,
             "solidity": 0.2
            },
            "type": "scatter"
           }
          ],
          "scatter3d": [
           {
            "line": {
             "colorbar": {
              "outlinewidth": 1,
              "tickcolor": "rgb(36,36,36)",
              "ticks": "outside"
             }
            },
            "marker": {
             "colorbar": {
              "outlinewidth": 1,
              "tickcolor": "rgb(36,36,36)",
              "ticks": "outside"
             }
            },
            "type": "scatter3d"
           }
          ],
          "scattercarpet": [
           {
            "marker": {
             "colorbar": {
              "outlinewidth": 1,
              "tickcolor": "rgb(36,36,36)",
              "ticks": "outside"
             }
            },
            "type": "scattercarpet"
           }
          ],
          "scattergeo": [
           {
            "marker": {
             "colorbar": {
              "outlinewidth": 1,
              "tickcolor": "rgb(36,36,36)",
              "ticks": "outside"
             }
            },
            "type": "scattergeo"
           }
          ],
          "scattergl": [
           {
            "marker": {
             "colorbar": {
              "outlinewidth": 1,
              "tickcolor": "rgb(36,36,36)",
              "ticks": "outside"
             }
            },
            "type": "scattergl"
           }
          ],
          "scattermapbox": [
           {
            "marker": {
             "colorbar": {
              "outlinewidth": 1,
              "tickcolor": "rgb(36,36,36)",
              "ticks": "outside"
             }
            },
            "type": "scattermapbox"
           }
          ],
          "scatterpolar": [
           {
            "marker": {
             "colorbar": {
              "outlinewidth": 1,
              "tickcolor": "rgb(36,36,36)",
              "ticks": "outside"
             }
            },
            "type": "scatterpolar"
           }
          ],
          "scatterpolargl": [
           {
            "marker": {
             "colorbar": {
              "outlinewidth": 1,
              "tickcolor": "rgb(36,36,36)",
              "ticks": "outside"
             }
            },
            "type": "scatterpolargl"
           }
          ],
          "scatterternary": [
           {
            "marker": {
             "colorbar": {
              "outlinewidth": 1,
              "tickcolor": "rgb(36,36,36)",
              "ticks": "outside"
             }
            },
            "type": "scatterternary"
           }
          ],
          "surface": [
           {
            "colorbar": {
             "outlinewidth": 1,
             "tickcolor": "rgb(36,36,36)",
             "ticks": "outside"
            },
            "colorscale": [
             [
              0,
              "#440154"
             ],
             [
              0.1111111111111111,
              "#482878"
             ],
             [
              0.2222222222222222,
              "#3e4989"
             ],
             [
              0.3333333333333333,
              "#31688e"
             ],
             [
              0.4444444444444444,
              "#26828e"
             ],
             [
              0.5555555555555556,
              "#1f9e89"
             ],
             [
              0.6666666666666666,
              "#35b779"
             ],
             [
              0.7777777777777778,
              "#6ece58"
             ],
             [
              0.8888888888888888,
              "#b5de2b"
             ],
             [
              1,
              "#fde725"
             ]
            ],
            "type": "surface"
           }
          ],
          "table": [
           {
            "cells": {
             "fill": {
              "color": "rgb(237,237,237)"
             },
             "line": {
              "color": "white"
             }
            },
            "header": {
             "fill": {
              "color": "rgb(217,217,217)"
             },
             "line": {
              "color": "white"
             }
            },
            "type": "table"
           }
          ]
         },
         "layout": {
          "annotationdefaults": {
           "arrowhead": 0,
           "arrowwidth": 1
          },
          "autotypenumbers": "strict",
          "coloraxis": {
           "colorbar": {
            "outlinewidth": 1,
            "tickcolor": "rgb(36,36,36)",
            "ticks": "outside"
           }
          },
          "colorscale": {
           "diverging": [
            [
             0,
             "rgb(103,0,31)"
            ],
            [
             0.1,
             "rgb(178,24,43)"
            ],
            [
             0.2,
             "rgb(214,96,77)"
            ],
            [
             0.3,
             "rgb(244,165,130)"
            ],
            [
             0.4,
             "rgb(253,219,199)"
            ],
            [
             0.5,
             "rgb(247,247,247)"
            ],
            [
             0.6,
             "rgb(209,229,240)"
            ],
            [
             0.7,
             "rgb(146,197,222)"
            ],
            [
             0.8,
             "rgb(67,147,195)"
            ],
            [
             0.9,
             "rgb(33,102,172)"
            ],
            [
             1,
             "rgb(5,48,97)"
            ]
           ],
           "sequential": [
            [
             0,
             "#440154"
            ],
            [
             0.1111111111111111,
             "#482878"
            ],
            [
             0.2222222222222222,
             "#3e4989"
            ],
            [
             0.3333333333333333,
             "#31688e"
            ],
            [
             0.4444444444444444,
             "#26828e"
            ],
            [
             0.5555555555555556,
             "#1f9e89"
            ],
            [
             0.6666666666666666,
             "#35b779"
            ],
            [
             0.7777777777777778,
             "#6ece58"
            ],
            [
             0.8888888888888888,
             "#b5de2b"
            ],
            [
             1,
             "#fde725"
            ]
           ],
           "sequentialminus": [
            [
             0,
             "#440154"
            ],
            [
             0.1111111111111111,
             "#482878"
            ],
            [
             0.2222222222222222,
             "#3e4989"
            ],
            [
             0.3333333333333333,
             "#31688e"
            ],
            [
             0.4444444444444444,
             "#26828e"
            ],
            [
             0.5555555555555556,
             "#1f9e89"
            ],
            [
             0.6666666666666666,
             "#35b779"
            ],
            [
             0.7777777777777778,
             "#6ece58"
            ],
            [
             0.8888888888888888,
             "#b5de2b"
            ],
            [
             1,
             "#fde725"
            ]
           ]
          },
          "colorway": [
           "#1F77B4",
           "#FF7F0E",
           "#2CA02C",
           "#D62728",
           "#9467BD",
           "#8C564B",
           "#E377C2",
           "#7F7F7F",
           "#BCBD22",
           "#17BECF"
          ],
          "font": {
           "color": "rgb(36,36,36)"
          },
          "geo": {
           "bgcolor": "white",
           "lakecolor": "white",
           "landcolor": "white",
           "showlakes": true,
           "showland": true,
           "subunitcolor": "white"
          },
          "hoverlabel": {
           "align": "left"
          },
          "hovermode": "closest",
          "mapbox": {
           "style": "light"
          },
          "paper_bgcolor": "white",
          "plot_bgcolor": "white",
          "polar": {
           "angularaxis": {
            "gridcolor": "rgb(232,232,232)",
            "linecolor": "rgb(36,36,36)",
            "showgrid": false,
            "showline": true,
            "ticks": "outside"
           },
           "bgcolor": "white",
           "radialaxis": {
            "gridcolor": "rgb(232,232,232)",
            "linecolor": "rgb(36,36,36)",
            "showgrid": false,
            "showline": true,
            "ticks": "outside"
           }
          },
          "scene": {
           "xaxis": {
            "backgroundcolor": "white",
            "gridcolor": "rgb(232,232,232)",
            "gridwidth": 2,
            "linecolor": "rgb(36,36,36)",
            "showbackground": true,
            "showgrid": false,
            "showline": true,
            "ticks": "outside",
            "zeroline": false,
            "zerolinecolor": "rgb(36,36,36)"
           },
           "yaxis": {
            "backgroundcolor": "white",
            "gridcolor": "rgb(232,232,232)",
            "gridwidth": 2,
            "linecolor": "rgb(36,36,36)",
            "showbackground": true,
            "showgrid": false,
            "showline": true,
            "ticks": "outside",
            "zeroline": false,
            "zerolinecolor": "rgb(36,36,36)"
           },
           "zaxis": {
            "backgroundcolor": "white",
            "gridcolor": "rgb(232,232,232)",
            "gridwidth": 2,
            "linecolor": "rgb(36,36,36)",
            "showbackground": true,
            "showgrid": false,
            "showline": true,
            "ticks": "outside",
            "zeroline": false,
            "zerolinecolor": "rgb(36,36,36)"
           }
          },
          "shapedefaults": {
           "fillcolor": "black",
           "line": {
            "width": 0
           },
           "opacity": 0.3
          },
          "ternary": {
           "aaxis": {
            "gridcolor": "rgb(232,232,232)",
            "linecolor": "rgb(36,36,36)",
            "showgrid": false,
            "showline": true,
            "ticks": "outside"
           },
           "baxis": {
            "gridcolor": "rgb(232,232,232)",
            "linecolor": "rgb(36,36,36)",
            "showgrid": false,
            "showline": true,
            "ticks": "outside"
           },
           "bgcolor": "white",
           "caxis": {
            "gridcolor": "rgb(232,232,232)",
            "linecolor": "rgb(36,36,36)",
            "showgrid": false,
            "showline": true,
            "ticks": "outside"
           }
          },
          "title": {
           "x": 0.05
          },
          "xaxis": {
           "automargin": true,
           "gridcolor": "rgb(232,232,232)",
           "linecolor": "rgb(36,36,36)",
           "showgrid": false,
           "showline": true,
           "ticks": "outside",
           "title": {
            "standoff": 15
           },
           "zeroline": false,
           "zerolinecolor": "rgb(36,36,36)"
          },
          "yaxis": {
           "automargin": true,
           "gridcolor": "rgb(232,232,232)",
           "linecolor": "rgb(36,36,36)",
           "showgrid": false,
           "showline": true,
           "ticks": "outside",
           "title": {
            "standoff": 15
           },
           "zeroline": false,
           "zerolinecolor": "rgb(36,36,36)"
          }
         }
        },
        "title": {
         "font": {
          "color": "Black",
          "size": 22
         },
         "text": "<b>Documents and Topics</b>",
         "x": 0.5,
         "xanchor": "center",
         "yanchor": "top"
        },
        "width": 1200,
        "xaxis": {
         "visible": false
        },
        "yaxis": {
         "visible": false
        }
       }
      }
     },
     "metadata": {},
     "output_type": "display_data"
    }
   ],
   "source": [
    "reduced_embeddings = UMAP(n_neighbors=10, n_components=2, min_dist=0.0, metric='cosine').fit_transform(embeddings)\n",
    "topic_model.visualize_documents(docs, reduced_embeddings=reduced_embeddings, hide_document_hover=True)"
   ]
  },
  {
   "cell_type": "markdown",
   "metadata": {},
   "source": [
    "# 层次聚类"
   ]
  },
  {
   "cell_type": "code",
   "execution_count": 25,
   "metadata": {},
   "outputs": [
    {
     "name": "stderr",
     "output_type": "stream",
     "text": [
      "100%|██████████| 20/20 [00:00<00:00, 231.61it/s]\n"
     ]
    },
    {
     "data": {
      "application/vnd.plotly.v1+json": {
       "config": {
        "plotlyServerURL": "https://plot.ly"
       },
       "data": [
        {
         "hoverinfo": "text",
         "marker": {
          "color": "rgb(61,153,112)"
         },
         "mode": "lines",
         "text": [
          "福昌_龙门石窟_城隍庙_龙门_博物馆",
          "",
          "",
          "石窟_中国_龙门石窟_艺术_世界"
         ],
         "type": "scatter",
         "x": [
          0,
          0.5057545992385941,
          0.5057545992385941,
          0
         ],
         "xaxis": "x",
         "y": [
          -5,
          -5,
          -15,
          -15
         ],
         "yaxis": "y"
        },
        {
         "hoverinfo": "text",
         "marker": {
          "color": "rgb(255,65,54)"
         },
         "mode": "lines",
         "text": [
          "泉州_洛阳桥_旅行_历史_济南",
          "",
          "",
          "王府_竹海_旅行_河南_景区"
         ],
         "type": "scatter",
         "x": [
          0,
          0.7136400838677608,
          0.7136400838677608,
          0
         ],
         "xaxis": "x",
         "y": [
          -35,
          -35,
          -45,
          -45
         ],
         "yaxis": "y"
        },
        {
         "hoverinfo": "text",
         "marker": {
          "color": "rgb(255,65,54)"
         },
         "mode": "lines",
         "text": [
          "旅行_王府_竹海_泉州_河南",
          "",
          "",
          "广济桥_位于_白马寺_建筑_鸡冠"
         ],
         "type": "scatter",
         "x": [
          0.7136400838677608,
          0.758998907068849,
          0.758998907068849,
          0
         ],
         "xaxis": "x",
         "y": [
          -40,
          -40,
          -55,
          -55
         ],
         "yaxis": "y"
        },
        {
         "hoverinfo": "text",
         "marker": {
          "color": "rgb(255,65,54)"
         },
         "mode": "lines",
         "text": [
          "河南_造纸_巩义_历史_龙亭",
          "",
          "",
          "旅行_历史_河南_中国_泉州"
         ],
         "type": "scatter",
         "x": [
          0,
          0.8692835965278367,
          0.8692835965278367,
          0.758998907068849
         ],
         "xaxis": "x",
         "y": [
          -25,
          -25,
          -47.5,
          -47.5
         ],
         "yaxis": "y"
        },
        {
         "hoverinfo": "text",
         "marker": {
          "color": "rgb(255,65,54)"
         },
         "mode": "lines",
         "text": [
          "地方_很多_一天_一点_已经",
          "",
          "",
          "写真_发团_成人_儿童_地点"
         ],
         "type": "scatter",
         "x": [
          0,
          0.8010566606343938,
          0.8010566606343938,
          0
         ],
         "xaxis": "x",
         "y": [
          -75,
          -75,
          -85,
          -85
         ],
         "yaxis": "y"
        },
        {
         "hoverinfo": "text",
         "marker": {
          "color": "rgb(255,65,54)"
         },
         "mode": "lines",
         "text": [
          "民宿_酒店_巧克力_孩子_余舍",
          "",
          "",
          "地方_西安_很多_一天_写真"
         ],
         "type": "scatter",
         "x": [
          0,
          0.9006034133878535,
          0.9006034133878535,
          0.8010566606343938
         ],
         "xaxis": "x",
         "y": [
          -65,
          -65,
          -80,
          -80
         ],
         "yaxis": "y"
        },
        {
         "hoverinfo": "text",
         "marker": {
          "color": "rgb(255,65,54)"
         },
         "mode": "lines",
         "text": [
          "民宿_酒店_地方_西安_很多",
          "",
          "",
          "话题_大寒_隋唐洛阳城_同安_风起"
         ],
         "type": "scatter",
         "x": [
          0.9006034133878535,
          0.9325433489328923,
          0.9325433489328923,
          0
         ],
         "xaxis": "x",
         "y": [
          -72.5,
          -72.5,
          -95,
          -95
         ],
         "yaxis": "y"
        },
        {
         "hoverinfo": "text",
         "marker": {
          "color": "rgb(255,65,54)"
         },
         "mode": "lines",
         "text": [
          "旅行_历史_河南_中国_泉州",
          "",
          "",
          "酒店_民宿_地方_感受_体验"
         ],
         "type": "scatter",
         "x": [
          0.8692835965278367,
          0.9551646121727781,
          0.9551646121727781,
          0.9325433489328923
         ],
         "xaxis": "x",
         "y": [
          -36.25,
          -36.25,
          -83.75,
          -83.75
         ],
         "yaxis": "y"
        },
        {
         "hoverinfo": "text",
         "marker": {
          "color": "rgb(0,116,217)"
         },
         "mode": "lines",
         "text": [
          "龙门石窟_石窟_中国_艺术_世界",
          "",
          "",
          "旅行_河南_历史_中国_地方"
         ],
         "type": "scatter",
         "x": [
          0.5057545992385941,
          1.1205479190532555,
          1.1205479190532555,
          0.9551646121727781
         ],
         "xaxis": "x",
         "y": [
          -10,
          -10,
          -60,
          -60
         ],
         "yaxis": "y"
        },
        {
         "hoverinfo": "text",
         "marker": {
          "color": "rgb(35,205,205)"
         },
         "mode": "lines",
         "text": [
          "银杏_文旅文创_发展_大会_中国",
          "",
          "",
          "博物馆_历史_停车场_白马寺_建设"
         ],
         "type": "scatter",
         "x": [
          0,
          0.7425811099159476,
          0.7425811099159476,
          0
         ],
         "xaxis": "x",
         "y": [
          -105,
          -105,
          -115,
          -115
         ],
         "yaxis": "y"
        },
        {
         "hoverinfo": "text",
         "marker": {
          "color": "rgb(35,205,205)"
         },
         "mode": "lines",
         "text": [
          "机场_建设_规划_项目_自驾车",
          "",
          "",
          "项目_消费_文旅_发展_建设"
         ],
         "type": "scatter",
         "x": [
          0,
          0.6267200852145871,
          0.6267200852145871,
          0
         ],
         "xaxis": "x",
         "y": [
          -125,
          -125,
          -135,
          -135
         ],
         "yaxis": "y"
        },
        {
         "hoverinfo": "text",
         "marker": {
          "color": "rgb(35,205,205)"
         },
         "mode": "lines",
         "text": [
          "项目_建设_机场_国家_发展",
          "",
          "",
          "工作_集团_河洛_建设_投资"
         ],
         "type": "scatter",
         "x": [
          0.6267200852145871,
          0.7005901732768767,
          0.7005901732768767,
          0
         ],
         "xaxis": "x",
         "y": [
          -130,
          -130,
          -145,
          -145
         ],
         "yaxis": "y"
        },
        {
         "hoverinfo": "text",
         "marker": {
          "color": "rgb(35,205,205)"
         },
         "mode": "lines",
         "text": [
          "博物馆_银杏_发展_中国_文旅文创",
          "",
          "",
          "项目_建设_发展_规划_工作"
         ],
         "type": "scatter",
         "x": [
          0.7425811099159476,
          0.7674165525662214,
          0.7674165525662214,
          0.7005901732768767
         ],
         "xaxis": "x",
         "y": [
          -110,
          -110,
          -137.5,
          -137.5
         ],
         "yaxis": "y"
        },
        {
         "hoverinfo": "text",
         "marker": {
          "color": "rgb(133,20,75)"
         },
         "mode": "lines",
         "text": [
          "景区_度假区_公示_等级_评定",
          "",
          "",
          "防控_疫情_景区_开放_场所"
         ],
         "type": "scatter",
         "x": [
          0,
          0.7908057650730669,
          0.7908057650730669,
          0
         ],
         "xaxis": "x",
         "y": [
          -155,
          -155,
          -165,
          -165
         ],
         "yaxis": "y"
        },
        {
         "hoverinfo": "text",
         "marker": {
          "color": "rgb(133,20,75)"
         },
         "mode": "lines",
         "text": [
          "活动_门票_景区_免费_时间",
          "",
          "",
          "旅客_年票_客流_郑州_列车"
         ],
         "type": "scatter",
         "x": [
          0,
          0.7068023546461416,
          0.7068023546461416,
          0
         ],
         "xaxis": "x",
         "y": [
          -175,
          -175,
          -185,
          -185
         ],
         "yaxis": "y"
        },
        {
         "hoverinfo": "text",
         "marker": {
          "color": "rgb(133,20,75)"
         },
         "mode": "lines",
         "text": [
          "景区_防控_疫情_开放_度假区",
          "",
          "",
          "旅客_景区_高速_门票_年票"
         ],
         "type": "scatter",
         "x": [
          0.7908057650730669,
          0.8615560656892243,
          0.8615560656892243,
          0.7068023546461416
         ],
         "xaxis": "x",
         "y": [
          -160,
          -160,
          -180,
          -180
         ],
         "yaxis": "y"
        },
        {
         "hoverinfo": "text",
         "marker": {
          "color": "rgb(133,20,75)"
         },
         "mode": "lines",
         "text": [
          "游客_景区_午餐_老君山_网友",
          "",
          "",
          "五一_数据_预订_增长_热门"
         ],
         "type": "scatter",
         "x": [
          0,
          0.8217866214335633,
          0.8217866214335633,
          0
         ],
         "xaxis": "x",
         "y": [
          -195,
          -195,
          -205,
          -205
         ],
         "yaxis": "y"
        },
        {
         "hoverinfo": "text",
         "marker": {
          "color": "rgb(133,20,75)"
         },
         "mode": "lines",
         "text": [
          "景区_旅客_郑州_年票_高速",
          "",
          "",
          "游客_景区_显示_假期_五一"
         ],
         "type": "scatter",
         "x": [
          0.8615560656892243,
          0.9151234346297069,
          0.9151234346297069,
          0.8217866214335633
         ],
         "xaxis": "x",
         "y": [
          -170,
          -170,
          -200,
          -200
         ],
         "yaxis": "y"
        },
        {
         "hoverinfo": "text",
         "marker": {
          "color": "rgb(0,116,217)"
         },
         "mode": "lines",
         "text": [
          "建设_项目_发展_博物馆_工作",
          "",
          "",
          "景区_游客_旅客_郑州_门票"
         ],
         "type": "scatter",
         "x": [
          0.7674165525662214,
          1.1310707399068711,
          1.1310707399068711,
          0.9151234346297069
         ],
         "xaxis": "x",
         "y": [
          -123.75,
          -123.75,
          -185,
          -185
         ],
         "yaxis": "y"
        },
        {
         "hoverinfo": "text",
         "marker": {
          "color": "rgb(0,116,217)"
         },
         "mode": "lines",
         "text": [
          "中国_龙门石窟_石窟_旅行_河南",
          "",
          "",
          "景区_游客_项目_活动_发展"
         ],
         "type": "scatter",
         "x": [
          1.1205479190532555,
          1.322405502927335,
          1.322405502927335,
          1.1310707399068711
         ],
         "xaxis": "x",
         "y": [
          -35,
          -35,
          -154.375,
          -154.375
         ],
         "yaxis": "y"
        },
        {
         "hoverinfo": "text",
         "hovertext": [
          "旅行_王府_竹海_泉州_河南",
          "民宿_酒店_地方_西安_很多",
          "旅行_历史_河南_中国_泉州",
          "龙门石窟_石窟_中国_艺术_世界",
          "项目_建设_机场_国家_发展",
          "博物馆_银杏_发展_中国_文旅文创",
          "景区_防控_疫情_开放_度假区",
          "景区_旅客_郑州_年票_高速",
          "建设_项目_发展_博物馆_工作",
          "中国_龙门石窟_石窟_旅行_河南"
         ],
         "marker": {
          "color": "black"
         },
         "mode": "markers",
         "showlegend": false,
         "type": "scatter",
         "x": [
          0.7136400838677608,
          0.9006034133878535,
          0.8692835965278367,
          0.5057545992385941,
          0.6267200852145871,
          0.7425811099159476,
          0.7908057650730669,
          0.8615560656892243,
          0.7674165525662214,
          1.1205479190532555
         ],
         "y": [
          -40,
          -72.5,
          -36.25,
          -10,
          -130,
          -110,
          -160,
          -170,
          -123.75,
          -35
         ]
        },
        {
         "hoverinfo": "text",
         "hovertext": [
          "旅行_历史_河南_中国_泉州",
          "地方_西安_很多_一天_写真",
          "酒店_民宿_地方_感受_体验",
          "旅行_河南_历史_中国_地方",
          "项目_建设_发展_规划_工作",
          "旅客_景区_高速_门票_年票",
          "游客_景区_显示_假期_五一",
          "景区_游客_旅客_郑州_门票",
          "景区_游客_项目_活动_发展"
         ],
         "marker": {
          "color": "black"
         },
         "mode": "markers",
         "showlegend": false,
         "type": "scatter",
         "x": [
          0.758998907068849,
          0.8010566606343938,
          0.9325433489328923,
          0.9551646121727781,
          0.7005901732768767,
          0.7068023546461416,
          0.8217866214335633,
          0.9151234346297069,
          1.1310707399068711
         ],
         "y": [
          -47.5,
          -80,
          -83.75,
          -60,
          -137.5,
          -180,
          -200,
          -185,
          -154.375
         ]
        }
       ],
       "layout": {
        "autosize": false,
        "height": 515,
        "hoverlabel": {
         "bgcolor": "white",
         "font": {
          "family": "Rockwell",
          "size": 16
         }
        },
        "hovermode": "closest",
        "plot_bgcolor": "#ECEFF1",
        "showlegend": false,
        "template": {
         "data": {
          "bar": [
           {
            "error_x": {
             "color": "#2a3f5f"
            },
            "error_y": {
             "color": "#2a3f5f"
            },
            "marker": {
             "line": {
              "color": "white",
              "width": 0.5
             },
             "pattern": {
              "fillmode": "overlay",
              "size": 10,
              "solidity": 0.2
             }
            },
            "type": "bar"
           }
          ],
          "barpolar": [
           {
            "marker": {
             "line": {
              "color": "white",
              "width": 0.5
             },
             "pattern": {
              "fillmode": "overlay",
              "size": 10,
              "solidity": 0.2
             }
            },
            "type": "barpolar"
           }
          ],
          "carpet": [
           {
            "aaxis": {
             "endlinecolor": "#2a3f5f",
             "gridcolor": "#C8D4E3",
             "linecolor": "#C8D4E3",
             "minorgridcolor": "#C8D4E3",
             "startlinecolor": "#2a3f5f"
            },
            "baxis": {
             "endlinecolor": "#2a3f5f",
             "gridcolor": "#C8D4E3",
             "linecolor": "#C8D4E3",
             "minorgridcolor": "#C8D4E3",
             "startlinecolor": "#2a3f5f"
            },
            "type": "carpet"
           }
          ],
          "choropleth": [
           {
            "colorbar": {
             "outlinewidth": 0,
             "ticks": ""
            },
            "type": "choropleth"
           }
          ],
          "contour": [
           {
            "colorbar": {
             "outlinewidth": 0,
             "ticks": ""
            },
            "colorscale": [
             [
              0,
              "#0d0887"
             ],
             [
              0.1111111111111111,
              "#46039f"
             ],
             [
              0.2222222222222222,
              "#7201a8"
             ],
             [
              0.3333333333333333,
              "#9c179e"
             ],
             [
              0.4444444444444444,
              "#bd3786"
             ],
             [
              0.5555555555555556,
              "#d8576b"
             ],
             [
              0.6666666666666666,
              "#ed7953"
             ],
             [
              0.7777777777777778,
              "#fb9f3a"
             ],
             [
              0.8888888888888888,
              "#fdca26"
             ],
             [
              1,
              "#f0f921"
             ]
            ],
            "type": "contour"
           }
          ],
          "contourcarpet": [
           {
            "colorbar": {
             "outlinewidth": 0,
             "ticks": ""
            },
            "type": "contourcarpet"
           }
          ],
          "heatmap": [
           {
            "colorbar": {
             "outlinewidth": 0,
             "ticks": ""
            },
            "colorscale": [
             [
              0,
              "#0d0887"
             ],
             [
              0.1111111111111111,
              "#46039f"
             ],
             [
              0.2222222222222222,
              "#7201a8"
             ],
             [
              0.3333333333333333,
              "#9c179e"
             ],
             [
              0.4444444444444444,
              "#bd3786"
             ],
             [
              0.5555555555555556,
              "#d8576b"
             ],
             [
              0.6666666666666666,
              "#ed7953"
             ],
             [
              0.7777777777777778,
              "#fb9f3a"
             ],
             [
              0.8888888888888888,
              "#fdca26"
             ],
             [
              1,
              "#f0f921"
             ]
            ],
            "type": "heatmap"
           }
          ],
          "heatmapgl": [
           {
            "colorbar": {
             "outlinewidth": 0,
             "ticks": ""
            },
            "colorscale": [
             [
              0,
              "#0d0887"
             ],
             [
              0.1111111111111111,
              "#46039f"
             ],
             [
              0.2222222222222222,
              "#7201a8"
             ],
             [
              0.3333333333333333,
              "#9c179e"
             ],
             [
              0.4444444444444444,
              "#bd3786"
             ],
             [
              0.5555555555555556,
              "#d8576b"
             ],
             [
              0.6666666666666666,
              "#ed7953"
             ],
             [
              0.7777777777777778,
              "#fb9f3a"
             ],
             [
              0.8888888888888888,
              "#fdca26"
             ],
             [
              1,
              "#f0f921"
             ]
            ],
            "type": "heatmapgl"
           }
          ],
          "histogram": [
           {
            "marker": {
             "pattern": {
              "fillmode": "overlay",
              "size": 10,
              "solidity": 0.2
             }
            },
            "type": "histogram"
           }
          ],
          "histogram2d": [
           {
            "colorbar": {
             "outlinewidth": 0,
             "ticks": ""
            },
            "colorscale": [
             [
              0,
              "#0d0887"
             ],
             [
              0.1111111111111111,
              "#46039f"
             ],
             [
              0.2222222222222222,
              "#7201a8"
             ],
             [
              0.3333333333333333,
              "#9c179e"
             ],
             [
              0.4444444444444444,
              "#bd3786"
             ],
             [
              0.5555555555555556,
              "#d8576b"
             ],
             [
              0.6666666666666666,
              "#ed7953"
             ],
             [
              0.7777777777777778,
              "#fb9f3a"
             ],
             [
              0.8888888888888888,
              "#fdca26"
             ],
             [
              1,
              "#f0f921"
             ]
            ],
            "type": "histogram2d"
           }
          ],
          "histogram2dcontour": [
           {
            "colorbar": {
             "outlinewidth": 0,
             "ticks": ""
            },
            "colorscale": [
             [
              0,
              "#0d0887"
             ],
             [
              0.1111111111111111,
              "#46039f"
             ],
             [
              0.2222222222222222,
              "#7201a8"
             ],
             [
              0.3333333333333333,
              "#9c179e"
             ],
             [
              0.4444444444444444,
              "#bd3786"
             ],
             [
              0.5555555555555556,
              "#d8576b"
             ],
             [
              0.6666666666666666,
              "#ed7953"
             ],
             [
              0.7777777777777778,
              "#fb9f3a"
             ],
             [
              0.8888888888888888,
              "#fdca26"
             ],
             [
              1,
              "#f0f921"
             ]
            ],
            "type": "histogram2dcontour"
           }
          ],
          "mesh3d": [
           {
            "colorbar": {
             "outlinewidth": 0,
             "ticks": ""
            },
            "type": "mesh3d"
           }
          ],
          "parcoords": [
           {
            "line": {
             "colorbar": {
              "outlinewidth": 0,
              "ticks": ""
             }
            },
            "type": "parcoords"
           }
          ],
          "pie": [
           {
            "automargin": true,
            "type": "pie"
           }
          ],
          "scatter": [
           {
            "fillpattern": {
             "fillmode": "overlay",
             "size": 10,
             "solidity": 0.2
            },
            "type": "scatter"
           }
          ],
          "scatter3d": [
           {
            "line": {
             "colorbar": {
              "outlinewidth": 0,
              "ticks": ""
             }
            },
            "marker": {
             "colorbar": {
              "outlinewidth": 0,
              "ticks": ""
             }
            },
            "type": "scatter3d"
           }
          ],
          "scattercarpet": [
           {
            "marker": {
             "colorbar": {
              "outlinewidth": 0,
              "ticks": ""
             }
            },
            "type": "scattercarpet"
           }
          ],
          "scattergeo": [
           {
            "marker": {
             "colorbar": {
              "outlinewidth": 0,
              "ticks": ""
             }
            },
            "type": "scattergeo"
           }
          ],
          "scattergl": [
           {
            "marker": {
             "colorbar": {
              "outlinewidth": 0,
              "ticks": ""
             }
            },
            "type": "scattergl"
           }
          ],
          "scattermapbox": [
           {
            "marker": {
             "colorbar": {
              "outlinewidth": 0,
              "ticks": ""
             }
            },
            "type": "scattermapbox"
           }
          ],
          "scatterpolar": [
           {
            "marker": {
             "colorbar": {
              "outlinewidth": 0,
              "ticks": ""
             }
            },
            "type": "scatterpolar"
           }
          ],
          "scatterpolargl": [
           {
            "marker": {
             "colorbar": {
              "outlinewidth": 0,
              "ticks": ""
             }
            },
            "type": "scatterpolargl"
           }
          ],
          "scatterternary": [
           {
            "marker": {
             "colorbar": {
              "outlinewidth": 0,
              "ticks": ""
             }
            },
            "type": "scatterternary"
           }
          ],
          "surface": [
           {
            "colorbar": {
             "outlinewidth": 0,
             "ticks": ""
            },
            "colorscale": [
             [
              0,
              "#0d0887"
             ],
             [
              0.1111111111111111,
              "#46039f"
             ],
             [
              0.2222222222222222,
              "#7201a8"
             ],
             [
              0.3333333333333333,
              "#9c179e"
             ],
             [
              0.4444444444444444,
              "#bd3786"
             ],
             [
              0.5555555555555556,
              "#d8576b"
             ],
             [
              0.6666666666666666,
              "#ed7953"
             ],
             [
              0.7777777777777778,
              "#fb9f3a"
             ],
             [
              0.8888888888888888,
              "#fdca26"
             ],
             [
              1,
              "#f0f921"
             ]
            ],
            "type": "surface"
           }
          ],
          "table": [
           {
            "cells": {
             "fill": {
              "color": "#EBF0F8"
             },
             "line": {
              "color": "white"
             }
            },
            "header": {
             "fill": {
              "color": "#C8D4E3"
             },
             "line": {
              "color": "white"
             }
            },
            "type": "table"
           }
          ]
         },
         "layout": {
          "annotationdefaults": {
           "arrowcolor": "#2a3f5f",
           "arrowhead": 0,
           "arrowwidth": 1
          },
          "autotypenumbers": "strict",
          "coloraxis": {
           "colorbar": {
            "outlinewidth": 0,
            "ticks": ""
           }
          },
          "colorscale": {
           "diverging": [
            [
             0,
             "#8e0152"
            ],
            [
             0.1,
             "#c51b7d"
            ],
            [
             0.2,
             "#de77ae"
            ],
            [
             0.3,
             "#f1b6da"
            ],
            [
             0.4,
             "#fde0ef"
            ],
            [
             0.5,
             "#f7f7f7"
            ],
            [
             0.6,
             "#e6f5d0"
            ],
            [
             0.7,
             "#b8e186"
            ],
            [
             0.8,
             "#7fbc41"
            ],
            [
             0.9,
             "#4d9221"
            ],
            [
             1,
             "#276419"
            ]
           ],
           "sequential": [
            [
             0,
             "#0d0887"
            ],
            [
             0.1111111111111111,
             "#46039f"
            ],
            [
             0.2222222222222222,
             "#7201a8"
            ],
            [
             0.3333333333333333,
             "#9c179e"
            ],
            [
             0.4444444444444444,
             "#bd3786"
            ],
            [
             0.5555555555555556,
             "#d8576b"
            ],
            [
             0.6666666666666666,
             "#ed7953"
            ],
            [
             0.7777777777777778,
             "#fb9f3a"
            ],
            [
             0.8888888888888888,
             "#fdca26"
            ],
            [
             1,
             "#f0f921"
            ]
           ],
           "sequentialminus": [
            [
             0,
             "#0d0887"
            ],
            [
             0.1111111111111111,
             "#46039f"
            ],
            [
             0.2222222222222222,
             "#7201a8"
            ],
            [
             0.3333333333333333,
             "#9c179e"
            ],
            [
             0.4444444444444444,
             "#bd3786"
            ],
            [
             0.5555555555555556,
             "#d8576b"
            ],
            [
             0.6666666666666666,
             "#ed7953"
            ],
            [
             0.7777777777777778,
             "#fb9f3a"
            ],
            [
             0.8888888888888888,
             "#fdca26"
            ],
            [
             1,
             "#f0f921"
            ]
           ]
          },
          "colorway": [
           "#636efa",
           "#EF553B",
           "#00cc96",
           "#ab63fa",
           "#FFA15A",
           "#19d3f3",
           "#FF6692",
           "#B6E880",
           "#FF97FF",
           "#FECB52"
          ],
          "font": {
           "color": "#2a3f5f"
          },
          "geo": {
           "bgcolor": "white",
           "lakecolor": "white",
           "landcolor": "white",
           "showlakes": true,
           "showland": true,
           "subunitcolor": "#C8D4E3"
          },
          "hoverlabel": {
           "align": "left"
          },
          "hovermode": "closest",
          "mapbox": {
           "style": "light"
          },
          "paper_bgcolor": "white",
          "plot_bgcolor": "white",
          "polar": {
           "angularaxis": {
            "gridcolor": "#EBF0F8",
            "linecolor": "#EBF0F8",
            "ticks": ""
           },
           "bgcolor": "white",
           "radialaxis": {
            "gridcolor": "#EBF0F8",
            "linecolor": "#EBF0F8",
            "ticks": ""
           }
          },
          "scene": {
           "xaxis": {
            "backgroundcolor": "white",
            "gridcolor": "#DFE8F3",
            "gridwidth": 2,
            "linecolor": "#EBF0F8",
            "showbackground": true,
            "ticks": "",
            "zerolinecolor": "#EBF0F8"
           },
           "yaxis": {
            "backgroundcolor": "white",
            "gridcolor": "#DFE8F3",
            "gridwidth": 2,
            "linecolor": "#EBF0F8",
            "showbackground": true,
            "ticks": "",
            "zerolinecolor": "#EBF0F8"
           },
           "zaxis": {
            "backgroundcolor": "white",
            "gridcolor": "#DFE8F3",
            "gridwidth": 2,
            "linecolor": "#EBF0F8",
            "showbackground": true,
            "ticks": "",
            "zerolinecolor": "#EBF0F8"
           }
          },
          "shapedefaults": {
           "line": {
            "color": "#2a3f5f"
           }
          },
          "ternary": {
           "aaxis": {
            "gridcolor": "#DFE8F3",
            "linecolor": "#A2B1C6",
            "ticks": ""
           },
           "baxis": {
            "gridcolor": "#DFE8F3",
            "linecolor": "#A2B1C6",
            "ticks": ""
           },
           "bgcolor": "white",
           "caxis": {
            "gridcolor": "#DFE8F3",
            "linecolor": "#A2B1C6",
            "ticks": ""
           }
          },
          "title": {
           "x": 0.05
          },
          "xaxis": {
           "automargin": true,
           "gridcolor": "#EBF0F8",
           "linecolor": "#EBF0F8",
           "ticks": "",
           "title": {
            "standoff": 15
           },
           "zerolinecolor": "#EBF0F8",
           "zerolinewidth": 2
          },
          "yaxis": {
           "automargin": true,
           "gridcolor": "#EBF0F8",
           "linecolor": "#EBF0F8",
           "ticks": "",
           "title": {
            "standoff": 15
           },
           "zerolinecolor": "#EBF0F8",
           "zerolinewidth": 2
          }
         }
        },
        "title": {
         "font": {
          "color": "Black",
          "size": 22
         },
         "text": "<b>Hierarchical Clustering</b>",
         "x": 0.5,
         "xanchor": "center",
         "yanchor": "top"
        },
        "width": 1000,
        "xaxis": {
         "mirror": "allticks",
         "rangemode": "tozero",
         "showgrid": false,
         "showline": true,
         "showticklabels": true,
         "ticks": "outside",
         "type": "linear",
         "zeroline": false
        },
        "yaxis": {
         "mirror": "allticks",
         "range": [
          -210,
          0
         ],
         "rangemode": "tozero",
         "showgrid": false,
         "showline": true,
         "showticklabels": true,
         "tickmode": "array",
         "ticks": "outside",
         "ticktext": [
          "19_福昌_龙门石窟_城隍庙",
          "2_石窟_中国_龙门石窟",
          "9_河南_造纸_巩义",
          "6_泉州_洛阳桥_旅行",
          "1_王府_竹海_旅行",
          "12_广济桥_位于_白马寺",
          "20_民宿_酒店_巧克力",
          "5_地方_很多_一天",
          "15_写真_发团_成人",
          "18_话题_大寒_隋唐洛阳城",
          "11_银杏_文旅文创_发展",
          "16_博物馆_历史_停车场",
          "4_机场_建设_规划",
          "10_项目_消费_文旅",
          "7_工作_集团_河洛",
          "17_景区_度假区_公示",
          "13_防控_疫情_景区",
          "0_活动_门票_景区",
          "3_旅客_年票_客流",
          "8_游客_景区_午餐",
          "14_五一_数据_预订"
         ],
         "tickvals": [
          -5,
          -15,
          -25,
          -35,
          -45,
          -55,
          -65,
          -75,
          -85,
          -95,
          -105,
          -115,
          -125,
          -135,
          -145,
          -155,
          -165,
          -175,
          -185,
          -195,
          -205
         ],
         "type": "linear",
         "zeroline": false
        }
       }
      }
     },
     "metadata": {},
     "output_type": "display_data"
    }
   ],
   "source": [
    "hierarchical_topics = topic_model.hierarchical_topics(docs)\n",
    "topic_model.visualize_hierarchy(hierarchical_topics=hierarchical_topics)"
   ]
  },
  {
   "cell_type": "markdown",
   "metadata": {},
   "source": [
    "# 合并主题"
   ]
  },
  {
   "cell_type": "code",
   "execution_count": 26,
   "metadata": {},
   "outputs": [
    {
     "data": {
      "text/html": [
       "<div>\n",
       "<style scoped>\n",
       "    .dataframe tbody tr th:only-of-type {\n",
       "        vertical-align: middle;\n",
       "    }\n",
       "\n",
       "    .dataframe tbody tr th {\n",
       "        vertical-align: top;\n",
       "    }\n",
       "\n",
       "    .dataframe thead th {\n",
       "        text-align: right;\n",
       "    }\n",
       "</style>\n",
       "<table border=\"1\" class=\"dataframe\">\n",
       "  <thead>\n",
       "    <tr style=\"text-align: right;\">\n",
       "      <th></th>\n",
       "      <th>Topic</th>\n",
       "      <th>Count</th>\n",
       "      <th>Name</th>\n",
       "      <th>Representation</th>\n",
       "      <th>Representative_Docs</th>\n",
       "    </tr>\n",
       "  </thead>\n",
       "  <tbody>\n",
       "    <tr>\n",
       "      <th>0</th>\n",
       "      <td>-1</td>\n",
       "      <td>335</td>\n",
       "      <td>-1_景区_河南_城市_中国</td>\n",
       "      <td>[景区, 河南, 城市, 中国, 游客, 活动, 洛阳市, 博物馆, 遗址, 发展]</td>\n",
       "      <td>[河南 多家 景区 陆续 发布 开园 公告 台风 杜苏芮 强度 逐渐 减弱 河南 景区 陆续...</td>\n",
       "    </tr>\n",
       "    <tr>\n",
       "      <th>1</th>\n",
       "      <td>0</td>\n",
       "      <td>244</td>\n",
       "      <td>0_河南_旅行_历史_中国</td>\n",
       "      <td>[河南, 旅行, 历史, 中国, 景区, 地方, 古城, 位于, 泉州, 郑州]</td>\n",
       "      <td>[文旅 河南 Hello 世界 外国 嘉宾 河南 印象 河南 历史 文化 圈粉 无数 日本 ...</td>\n",
       "    </tr>\n",
       "    <tr>\n",
       "      <th>2</th>\n",
       "      <td>1</td>\n",
       "      <td>205</td>\n",
       "      <td>1_景区_游客_郑州_旅客</td>\n",
       "      <td>[景区, 游客, 郑州, 旅客, 活动, 门票, 年票, 高速, 假期, 时间]</td>\n",
       "      <td>[洛阳 热门 栾川县 八大 景区 洛阳 市民 门票 第七个 中国 旅游 栾川县 八大 景区 ...</td>\n",
       "    </tr>\n",
       "    <tr>\n",
       "      <th>3</th>\n",
       "      <td>2</td>\n",
       "      <td>154</td>\n",
       "      <td>2_建设_发展_项目_河南</td>\n",
       "      <td>[建设, 发展, 项目, 河南, 博物馆, 国家, 工作, 文旅, 洛阳市, 城市]</td>\n",
       "      <td>[行走 河南 读懂 中国 关注 全省 文旅文创 发展 大会 二十大 报告 指出 坚持 以文塑...</td>\n",
       "    </tr>\n",
       "    <tr>\n",
       "      <th>4</th>\n",
       "      <td>3</td>\n",
       "      <td>62</td>\n",
       "      <td>3_中国_龙门石窟_石窟_艺术</td>\n",
       "      <td>[中国, 龙门石窟, 石窟, 艺术, 世界, 文化遗产, 少林寺, 朝代, 造像, 位于]</td>\n",
       "      <td>[洛阳 周边游 龙门石窟 中国 石刻 艺术 宝库 现为 世界 文化遗产 全国 重点 文物保护...</td>\n",
       "    </tr>\n",
       "  </tbody>\n",
       "</table>\n",
       "</div>"
      ],
      "text/plain": [
       "   Topic  Count             Name  \\\n",
       "0     -1    335   -1_景区_河南_城市_中国   \n",
       "1      0    244    0_河南_旅行_历史_中国   \n",
       "2      1    205    1_景区_游客_郑州_旅客   \n",
       "3      2    154    2_建设_发展_项目_河南   \n",
       "4      3     62  3_中国_龙门石窟_石窟_艺术   \n",
       "\n",
       "                                  Representation  \\\n",
       "0     [景区, 河南, 城市, 中国, 游客, 活动, 洛阳市, 博物馆, 遗址, 发展]   \n",
       "1       [河南, 旅行, 历史, 中国, 景区, 地方, 古城, 位于, 泉州, 郑州]   \n",
       "2       [景区, 游客, 郑州, 旅客, 活动, 门票, 年票, 高速, 假期, 时间]   \n",
       "3     [建设, 发展, 项目, 河南, 博物馆, 国家, 工作, 文旅, 洛阳市, 城市]   \n",
       "4  [中国, 龙门石窟, 石窟, 艺术, 世界, 文化遗产, 少林寺, 朝代, 造像, 位于]   \n",
       "\n",
       "                                 Representative_Docs  \n",
       "0  [河南 多家 景区 陆续 发布 开园 公告 台风 杜苏芮 强度 逐渐 减弱 河南 景区 陆续...  \n",
       "1  [文旅 河南 Hello 世界 外国 嘉宾 河南 印象 河南 历史 文化 圈粉 无数 日本 ...  \n",
       "2  [洛阳 热门 栾川县 八大 景区 洛阳 市民 门票 第七个 中国 旅游 栾川县 八大 景区 ...  \n",
       "3  [行走 河南 读懂 中国 关注 全省 文旅文创 发展 大会 二十大 报告 指出 坚持 以文塑...  \n",
       "4  [洛阳 周边游 龙门石窟 中国 石刻 艺术 宝库 现为 世界 文化遗产 全国 重点 文物保护...  "
      ]
     },
     "execution_count": 26,
     "metadata": {},
     "output_type": "execute_result"
    }
   ],
   "source": [
    "topic_model.merge_topics(docs, [\n",
    " [19, 2],\n",
    " [9, 6, 1, 12, 20, 5, 15, 18],\n",
    " [11, 16, 4, 10, 7],\n",
    " [17, 13, 0, 3, 8, 14]\n",
    "])\n",
    "\n",
    "topic_info = topic_model.get_topic_info()\n",
    "topic_info"
   ]
  },
  {
   "cell_type": "code",
   "execution_count": 27,
   "metadata": {},
   "outputs": [
    {
     "data": {
      "application/vnd.plotly.v1+json": {
       "config": {
        "plotlyServerURL": "https://plot.ly"
       },
       "data": [
        {
         "customdata": [
          [
           0,
           "河南 | 旅行 | 历史 | 中国 | 景区",
           244
          ],
          [
           1,
           "景区 | 游客 | 郑州 | 旅客 | 活动",
           205
          ],
          [
           2,
           "建设 | 发展 | 项目 | 河南 | 博物馆",
           154
          ],
          [
           3,
           "中国 | 龙门石窟 | 石窟 | 艺术 | 世界",
           62
          ]
         ],
         "hovertemplate": "<b>Topic %{customdata[0]}</b><br>%{customdata[1]}<br>Size: %{customdata[2]}",
         "legendgroup": "",
         "marker": {
          "color": "#B0BEC5",
          "line": {
           "color": "DarkSlateGrey",
           "width": 2
          },
          "size": [
           244,
           205,
           154,
           62
          ],
          "sizemode": "area",
          "sizeref": 0.1525,
          "symbol": "circle"
         },
         "mode": "markers",
         "name": "",
         "orientation": "v",
         "showlegend": false,
         "type": "scatter",
         "x": [
          19.101797,
          18.413164,
          18.80455,
          19.876333
         ],
         "xaxis": "x",
         "y": [
          6.2491245,
          5.498582,
          4.808657,
          6.229787
         ],
         "yaxis": "y"
        }
       ],
       "layout": {
        "annotations": [
         {
          "showarrow": false,
          "text": "D1",
          "x": 15.651189517974853,
          "y": 5.636925899982453,
          "yshift": 10
         },
         {
          "showarrow": false,
          "text": "D2",
          "x": 19.254486370086667,
          "xshift": 10,
          "y": 7.18649320602417
         }
        ],
        "height": 650,
        "hoverlabel": {
         "bgcolor": "white",
         "font": {
          "family": "Rockwell",
          "size": 16
         }
        },
        "legend": {
         "itemsizing": "constant",
         "tracegroupgap": 0
        },
        "margin": {
         "t": 60
        },
        "shapes": [
         {
          "line": {
           "color": "#CFD8DC",
           "width": 2
          },
          "type": "line",
          "x0": 19.254486370086667,
          "x1": 19.254486370086667,
          "y0": 4.087358593940735,
          "y1": 7.18649320602417
         },
         {
          "line": {
           "color": "#9E9E9E",
           "width": 2
          },
          "type": "line",
          "x0": 15.651189517974853,
          "x1": 22.857783222198485,
          "y0": 5.636925899982453,
          "y1": 5.636925899982453
         }
        ],
        "sliders": [
         {
          "active": 0,
          "pad": {
           "t": 50
          },
          "steps": [
           {
            "args": [
             {
              "marker.color": [
               [
                "red",
                "#B0BEC5",
                "#B0BEC5",
                "#B0BEC5"
               ]
              ]
             }
            ],
            "label": "Topic 0",
            "method": "update"
           },
           {
            "args": [
             {
              "marker.color": [
               [
                "#B0BEC5",
                "red",
                "#B0BEC5",
                "#B0BEC5"
               ]
              ]
             }
            ],
            "label": "Topic 1",
            "method": "update"
           },
           {
            "args": [
             {
              "marker.color": [
               [
                "#B0BEC5",
                "#B0BEC5",
                "red",
                "#B0BEC5"
               ]
              ]
             }
            ],
            "label": "Topic 2",
            "method": "update"
           },
           {
            "args": [
             {
              "marker.color": [
               [
                "#B0BEC5",
                "#B0BEC5",
                "#B0BEC5",
                "red"
               ]
              ]
             }
            ],
            "label": "Topic 3",
            "method": "update"
           }
          ]
         }
        ],
        "template": {
         "data": {
          "bar": [
           {
            "error_x": {
             "color": "rgb(36,36,36)"
            },
            "error_y": {
             "color": "rgb(36,36,36)"
            },
            "marker": {
             "line": {
              "color": "white",
              "width": 0.5
             },
             "pattern": {
              "fillmode": "overlay",
              "size": 10,
              "solidity": 0.2
             }
            },
            "type": "bar"
           }
          ],
          "barpolar": [
           {
            "marker": {
             "line": {
              "color": "white",
              "width": 0.5
             },
             "pattern": {
              "fillmode": "overlay",
              "size": 10,
              "solidity": 0.2
             }
            },
            "type": "barpolar"
           }
          ],
          "carpet": [
           {
            "aaxis": {
             "endlinecolor": "rgb(36,36,36)",
             "gridcolor": "white",
             "linecolor": "white",
             "minorgridcolor": "white",
             "startlinecolor": "rgb(36,36,36)"
            },
            "baxis": {
             "endlinecolor": "rgb(36,36,36)",
             "gridcolor": "white",
             "linecolor": "white",
             "minorgridcolor": "white",
             "startlinecolor": "rgb(36,36,36)"
            },
            "type": "carpet"
           }
          ],
          "choropleth": [
           {
            "colorbar": {
             "outlinewidth": 1,
             "tickcolor": "rgb(36,36,36)",
             "ticks": "outside"
            },
            "type": "choropleth"
           }
          ],
          "contour": [
           {
            "colorbar": {
             "outlinewidth": 1,
             "tickcolor": "rgb(36,36,36)",
             "ticks": "outside"
            },
            "colorscale": [
             [
              0,
              "#440154"
             ],
             [
              0.1111111111111111,
              "#482878"
             ],
             [
              0.2222222222222222,
              "#3e4989"
             ],
             [
              0.3333333333333333,
              "#31688e"
             ],
             [
              0.4444444444444444,
              "#26828e"
             ],
             [
              0.5555555555555556,
              "#1f9e89"
             ],
             [
              0.6666666666666666,
              "#35b779"
             ],
             [
              0.7777777777777778,
              "#6ece58"
             ],
             [
              0.8888888888888888,
              "#b5de2b"
             ],
             [
              1,
              "#fde725"
             ]
            ],
            "type": "contour"
           }
          ],
          "contourcarpet": [
           {
            "colorbar": {
             "outlinewidth": 1,
             "tickcolor": "rgb(36,36,36)",
             "ticks": "outside"
            },
            "type": "contourcarpet"
           }
          ],
          "heatmap": [
           {
            "colorbar": {
             "outlinewidth": 1,
             "tickcolor": "rgb(36,36,36)",
             "ticks": "outside"
            },
            "colorscale": [
             [
              0,
              "#440154"
             ],
             [
              0.1111111111111111,
              "#482878"
             ],
             [
              0.2222222222222222,
              "#3e4989"
             ],
             [
              0.3333333333333333,
              "#31688e"
             ],
             [
              0.4444444444444444,
              "#26828e"
             ],
             [
              0.5555555555555556,
              "#1f9e89"
             ],
             [
              0.6666666666666666,
              "#35b779"
             ],
             [
              0.7777777777777778,
              "#6ece58"
             ],
             [
              0.8888888888888888,
              "#b5de2b"
             ],
             [
              1,
              "#fde725"
             ]
            ],
            "type": "heatmap"
           }
          ],
          "heatmapgl": [
           {
            "colorbar": {
             "outlinewidth": 1,
             "tickcolor": "rgb(36,36,36)",
             "ticks": "outside"
            },
            "colorscale": [
             [
              0,
              "#440154"
             ],
             [
              0.1111111111111111,
              "#482878"
             ],
             [
              0.2222222222222222,
              "#3e4989"
             ],
             [
              0.3333333333333333,
              "#31688e"
             ],
             [
              0.4444444444444444,
              "#26828e"
             ],
             [
              0.5555555555555556,
              "#1f9e89"
             ],
             [
              0.6666666666666666,
              "#35b779"
             ],
             [
              0.7777777777777778,
              "#6ece58"
             ],
             [
              0.8888888888888888,
              "#b5de2b"
             ],
             [
              1,
              "#fde725"
             ]
            ],
            "type": "heatmapgl"
           }
          ],
          "histogram": [
           {
            "marker": {
             "line": {
              "color": "white",
              "width": 0.6
             }
            },
            "type": "histogram"
           }
          ],
          "histogram2d": [
           {
            "colorbar": {
             "outlinewidth": 1,
             "tickcolor": "rgb(36,36,36)",
             "ticks": "outside"
            },
            "colorscale": [
             [
              0,
              "#440154"
             ],
             [
              0.1111111111111111,
              "#482878"
             ],
             [
              0.2222222222222222,
              "#3e4989"
             ],
             [
              0.3333333333333333,
              "#31688e"
             ],
             [
              0.4444444444444444,
              "#26828e"
             ],
             [
              0.5555555555555556,
              "#1f9e89"
             ],
             [
              0.6666666666666666,
              "#35b779"
             ],
             [
              0.7777777777777778,
              "#6ece58"
             ],
             [
              0.8888888888888888,
              "#b5de2b"
             ],
             [
              1,
              "#fde725"
             ]
            ],
            "type": "histogram2d"
           }
          ],
          "histogram2dcontour": [
           {
            "colorbar": {
             "outlinewidth": 1,
             "tickcolor": "rgb(36,36,36)",
             "ticks": "outside"
            },
            "colorscale": [
             [
              0,
              "#440154"
             ],
             [
              0.1111111111111111,
              "#482878"
             ],
             [
              0.2222222222222222,
              "#3e4989"
             ],
             [
              0.3333333333333333,
              "#31688e"
             ],
             [
              0.4444444444444444,
              "#26828e"
             ],
             [
              0.5555555555555556,
              "#1f9e89"
             ],
             [
              0.6666666666666666,
              "#35b779"
             ],
             [
              0.7777777777777778,
              "#6ece58"
             ],
             [
              0.8888888888888888,
              "#b5de2b"
             ],
             [
              1,
              "#fde725"
             ]
            ],
            "type": "histogram2dcontour"
           }
          ],
          "mesh3d": [
           {
            "colorbar": {
             "outlinewidth": 1,
             "tickcolor": "rgb(36,36,36)",
             "ticks": "outside"
            },
            "type": "mesh3d"
           }
          ],
          "parcoords": [
           {
            "line": {
             "colorbar": {
              "outlinewidth": 1,
              "tickcolor": "rgb(36,36,36)",
              "ticks": "outside"
             }
            },
            "type": "parcoords"
           }
          ],
          "pie": [
           {
            "automargin": true,
            "type": "pie"
           }
          ],
          "scatter": [
           {
            "fillpattern": {
             "fillmode": "overlay",
             "size": 10,
             "solidity": 0.2
            },
            "type": "scatter"
           }
          ],
          "scatter3d": [
           {
            "line": {
             "colorbar": {
              "outlinewidth": 1,
              "tickcolor": "rgb(36,36,36)",
              "ticks": "outside"
             }
            },
            "marker": {
             "colorbar": {
              "outlinewidth": 1,
              "tickcolor": "rgb(36,36,36)",
              "ticks": "outside"
             }
            },
            "type": "scatter3d"
           }
          ],
          "scattercarpet": [
           {
            "marker": {
             "colorbar": {
              "outlinewidth": 1,
              "tickcolor": "rgb(36,36,36)",
              "ticks": "outside"
             }
            },
            "type": "scattercarpet"
           }
          ],
          "scattergeo": [
           {
            "marker": {
             "colorbar": {
              "outlinewidth": 1,
              "tickcolor": "rgb(36,36,36)",
              "ticks": "outside"
             }
            },
            "type": "scattergeo"
           }
          ],
          "scattergl": [
           {
            "marker": {
             "colorbar": {
              "outlinewidth": 1,
              "tickcolor": "rgb(36,36,36)",
              "ticks": "outside"
             }
            },
            "type": "scattergl"
           }
          ],
          "scattermapbox": [
           {
            "marker": {
             "colorbar": {
              "outlinewidth": 1,
              "tickcolor": "rgb(36,36,36)",
              "ticks": "outside"
             }
            },
            "type": "scattermapbox"
           }
          ],
          "scatterpolar": [
           {
            "marker": {
             "colorbar": {
              "outlinewidth": 1,
              "tickcolor": "rgb(36,36,36)",
              "ticks": "outside"
             }
            },
            "type": "scatterpolar"
           }
          ],
          "scatterpolargl": [
           {
            "marker": {
             "colorbar": {
              "outlinewidth": 1,
              "tickcolor": "rgb(36,36,36)",
              "ticks": "outside"
             }
            },
            "type": "scatterpolargl"
           }
          ],
          "scatterternary": [
           {
            "marker": {
             "colorbar": {
              "outlinewidth": 1,
              "tickcolor": "rgb(36,36,36)",
              "ticks": "outside"
             }
            },
            "type": "scatterternary"
           }
          ],
          "surface": [
           {
            "colorbar": {
             "outlinewidth": 1,
             "tickcolor": "rgb(36,36,36)",
             "ticks": "outside"
            },
            "colorscale": [
             [
              0,
              "#440154"
             ],
             [
              0.1111111111111111,
              "#482878"
             ],
             [
              0.2222222222222222,
              "#3e4989"
             ],
             [
              0.3333333333333333,
              "#31688e"
             ],
             [
              0.4444444444444444,
              "#26828e"
             ],
             [
              0.5555555555555556,
              "#1f9e89"
             ],
             [
              0.6666666666666666,
              "#35b779"
             ],
             [
              0.7777777777777778,
              "#6ece58"
             ],
             [
              0.8888888888888888,
              "#b5de2b"
             ],
             [
              1,
              "#fde725"
             ]
            ],
            "type": "surface"
           }
          ],
          "table": [
           {
            "cells": {
             "fill": {
              "color": "rgb(237,237,237)"
             },
             "line": {
              "color": "white"
             }
            },
            "header": {
             "fill": {
              "color": "rgb(217,217,217)"
             },
             "line": {
              "color": "white"
             }
            },
            "type": "table"
           }
          ]
         },
         "layout": {
          "annotationdefaults": {
           "arrowhead": 0,
           "arrowwidth": 1
          },
          "autotypenumbers": "strict",
          "coloraxis": {
           "colorbar": {
            "outlinewidth": 1,
            "tickcolor": "rgb(36,36,36)",
            "ticks": "outside"
           }
          },
          "colorscale": {
           "diverging": [
            [
             0,
             "rgb(103,0,31)"
            ],
            [
             0.1,
             "rgb(178,24,43)"
            ],
            [
             0.2,
             "rgb(214,96,77)"
            ],
            [
             0.3,
             "rgb(244,165,130)"
            ],
            [
             0.4,
             "rgb(253,219,199)"
            ],
            [
             0.5,
             "rgb(247,247,247)"
            ],
            [
             0.6,
             "rgb(209,229,240)"
            ],
            [
             0.7,
             "rgb(146,197,222)"
            ],
            [
             0.8,
             "rgb(67,147,195)"
            ],
            [
             0.9,
             "rgb(33,102,172)"
            ],
            [
             1,
             "rgb(5,48,97)"
            ]
           ],
           "sequential": [
            [
             0,
             "#440154"
            ],
            [
             0.1111111111111111,
             "#482878"
            ],
            [
             0.2222222222222222,
             "#3e4989"
            ],
            [
             0.3333333333333333,
             "#31688e"
            ],
            [
             0.4444444444444444,
             "#26828e"
            ],
            [
             0.5555555555555556,
             "#1f9e89"
            ],
            [
             0.6666666666666666,
             "#35b779"
            ],
            [
             0.7777777777777778,
             "#6ece58"
            ],
            [
             0.8888888888888888,
             "#b5de2b"
            ],
            [
             1,
             "#fde725"
            ]
           ],
           "sequentialminus": [
            [
             0,
             "#440154"
            ],
            [
             0.1111111111111111,
             "#482878"
            ],
            [
             0.2222222222222222,
             "#3e4989"
            ],
            [
             0.3333333333333333,
             "#31688e"
            ],
            [
             0.4444444444444444,
             "#26828e"
            ],
            [
             0.5555555555555556,
             "#1f9e89"
            ],
            [
             0.6666666666666666,
             "#35b779"
            ],
            [
             0.7777777777777778,
             "#6ece58"
            ],
            [
             0.8888888888888888,
             "#b5de2b"
            ],
            [
             1,
             "#fde725"
            ]
           ]
          },
          "colorway": [
           "#1F77B4",
           "#FF7F0E",
           "#2CA02C",
           "#D62728",
           "#9467BD",
           "#8C564B",
           "#E377C2",
           "#7F7F7F",
           "#BCBD22",
           "#17BECF"
          ],
          "font": {
           "color": "rgb(36,36,36)"
          },
          "geo": {
           "bgcolor": "white",
           "lakecolor": "white",
           "landcolor": "white",
           "showlakes": true,
           "showland": true,
           "subunitcolor": "white"
          },
          "hoverlabel": {
           "align": "left"
          },
          "hovermode": "closest",
          "mapbox": {
           "style": "light"
          },
          "paper_bgcolor": "white",
          "plot_bgcolor": "white",
          "polar": {
           "angularaxis": {
            "gridcolor": "rgb(232,232,232)",
            "linecolor": "rgb(36,36,36)",
            "showgrid": false,
            "showline": true,
            "ticks": "outside"
           },
           "bgcolor": "white",
           "radialaxis": {
            "gridcolor": "rgb(232,232,232)",
            "linecolor": "rgb(36,36,36)",
            "showgrid": false,
            "showline": true,
            "ticks": "outside"
           }
          },
          "scene": {
           "xaxis": {
            "backgroundcolor": "white",
            "gridcolor": "rgb(232,232,232)",
            "gridwidth": 2,
            "linecolor": "rgb(36,36,36)",
            "showbackground": true,
            "showgrid": false,
            "showline": true,
            "ticks": "outside",
            "zeroline": false,
            "zerolinecolor": "rgb(36,36,36)"
           },
           "yaxis": {
            "backgroundcolor": "white",
            "gridcolor": "rgb(232,232,232)",
            "gridwidth": 2,
            "linecolor": "rgb(36,36,36)",
            "showbackground": true,
            "showgrid": false,
            "showline": true,
            "ticks": "outside",
            "zeroline": false,
            "zerolinecolor": "rgb(36,36,36)"
           },
           "zaxis": {
            "backgroundcolor": "white",
            "gridcolor": "rgb(232,232,232)",
            "gridwidth": 2,
            "linecolor": "rgb(36,36,36)",
            "showbackground": true,
            "showgrid": false,
            "showline": true,
            "ticks": "outside",
            "zeroline": false,
            "zerolinecolor": "rgb(36,36,36)"
           }
          },
          "shapedefaults": {
           "fillcolor": "black",
           "line": {
            "width": 0
           },
           "opacity": 0.3
          },
          "ternary": {
           "aaxis": {
            "gridcolor": "rgb(232,232,232)",
            "linecolor": "rgb(36,36,36)",
            "showgrid": false,
            "showline": true,
            "ticks": "outside"
           },
           "baxis": {
            "gridcolor": "rgb(232,232,232)",
            "linecolor": "rgb(36,36,36)",
            "showgrid": false,
            "showline": true,
            "ticks": "outside"
           },
           "bgcolor": "white",
           "caxis": {
            "gridcolor": "rgb(232,232,232)",
            "linecolor": "rgb(36,36,36)",
            "showgrid": false,
            "showline": true,
            "ticks": "outside"
           }
          },
          "title": {
           "x": 0.05
          },
          "xaxis": {
           "automargin": true,
           "gridcolor": "rgb(232,232,232)",
           "linecolor": "rgb(36,36,36)",
           "showgrid": false,
           "showline": true,
           "ticks": "outside",
           "title": {
            "standoff": 15
           },
           "zeroline": false,
           "zerolinecolor": "rgb(36,36,36)"
          },
          "yaxis": {
           "automargin": true,
           "gridcolor": "rgb(232,232,232)",
           "linecolor": "rgb(36,36,36)",
           "showgrid": false,
           "showline": true,
           "ticks": "outside",
           "title": {
            "standoff": 15
           },
           "zeroline": false,
           "zerolinecolor": "rgb(36,36,36)"
          }
         }
        },
        "title": {
         "font": {
          "color": "Black",
          "size": 22
         },
         "text": "<b>Intertopic Distance Map</b>",
         "x": 0.5,
         "xanchor": "center",
         "y": 0.95,
         "yanchor": "top"
        },
        "width": 650,
        "xaxis": {
         "anchor": "y",
         "domain": [
          0,
          1
         ],
         "range": [
          15.651189517974853,
          22.857783222198485
         ],
         "title": {
          "text": ""
         },
         "visible": false
        },
        "yaxis": {
         "anchor": "x",
         "domain": [
          0,
          1
         ],
         "range": [
          4.087358593940735,
          7.18649320602417
         ],
         "title": {
          "text": ""
         },
         "visible": false
        }
       }
      }
     },
     "metadata": {},
     "output_type": "display_data"
    }
   ],
   "source": [
    "topic_model.visualize_topics()"
   ]
  },
  {
   "cell_type": "code",
   "execution_count": 28,
   "metadata": {},
   "outputs": [
    {
     "data": {
      "application/vnd.plotly.v1+json": {
       "config": {
        "plotlyServerURL": "https://plot.ly"
       },
       "data": [
        {
         "hoverinfo": "text",
         "marker": {
          "color": "#CFD8DC",
          "opacity": 0.5,
          "size": 5
         },
         "mode": "markers+text",
         "name": "other",
         "showlegend": false,
         "type": "scattergl",
         "x": [
          2.9380887,
          6.6054125,
          2.9533606,
          3.6064255,
          8.068232,
          4.08437,
          6.7487516,
          4.6256943,
          8.137496,
          4.9240336,
          7.945387,
          6.3255844,
          7.43201,
          5.448246,
          4.023547,
          7.8255053,
          6.415694,
          6.416747,
          5.7208605,
          7.0653815,
          7.4336057,
          2.7286818,
          8.074226,
          8.801028,
          7.072255,
          6.340421,
          7.246005,
          7.422193,
          9.407403,
          4.0889745,
          4.111581,
          6.549041,
          4.9448066,
          4.066982,
          8.77525,
          5.3579555,
          5.8123817,
          6.5324044,
          2.5846822,
          4.070997,
          4.595767,
          5.3236704,
          3.1227787,
          8.7451105,
          7.2887444,
          8.787434,
          7.6687436,
          8.071056,
          7.275538,
          6.5712624,
          5.337763,
          8.71032,
          7.9762945,
          3.0948331,
          8.872524,
          4.3979564,
          6.9456687,
          7.3665147,
          7.5954456,
          3.8505924,
          2.5816305,
          3.10214,
          8.765208,
          5.6678114,
          9.473902,
          5.171169,
          8.62781,
          2.1888208,
          4.853987,
          7.465104,
          5.506585,
          9.056289,
          3.9105473,
          2.557348,
          5.3805733,
          8.059101,
          7.8397007,
          4.473459,
          5.3192253,
          6.320921,
          4.864999,
          6.9509125,
          8.797532,
          6.2669578,
          4.103014,
          8.869299,
          2.96501,
          3.9169471,
          9.415383,
          7.9584312,
          5.435696,
          6.4649644,
          5.427918,
          5.230261,
          5.9932904,
          3.2225084,
          6.628647,
          5.3163314,
          2.6930776,
          5.0994873,
          8.493014,
          2.290109,
          9.040441,
          3.1879194,
          3.2637966,
          4.510989,
          7.026414,
          8.854889,
          5.7790847,
          2.9337785,
          7.0685964,
          9.035149,
          5.779456,
          7.2648883,
          2.3814583,
          2.9822652,
          4.606125,
          4.637177,
          6.532084,
          6.4339867,
          7.192625,
          7.1938157,
          6.601894,
          9.117681,
          7.0826464,
          8.939979,
          6.72726,
          3.581303,
          5.154633,
          3.25965,
          4.2394743,
          6.5337973,
          5.340502,
          5.2035203,
          6.959095,
          3.1907148,
          8.3360815,
          3.4069266,
          8.622331,
          7.9528403,
          6.9448256,
          6.9431553,
          6.3531823,
          4.188511,
          3.7195122,
          5.961651,
          6.6859975,
          4.622741,
          4.9891334,
          7.601481,
          8.060398,
          5.2884235,
          2.9239168,
          6.5675583,
          8.107634,
          7.2741075,
          2.5754063,
          4.1981754,
          4.614163,
          6.3981256,
          7.432217,
          8.603553,
          4.0272655,
          3.6215687,
          6.9401574,
          5.8554716,
          8.640671,
          5.8612905,
          3.1469622,
          8.786413,
          5.776251,
          5.6670833,
          2.5337303,
          8.830549,
          8.258289,
          3.5624623,
          4.7601423,
          8.689792,
          6.2848077,
          3.6708555,
          7.438521,
          8.260197,
          5.7318892,
          4.1729026,
          4.6138577,
          3.991843,
          6.945535,
          7.376855,
          3.6976173,
          3.8575366,
          4.600513,
          4.277104,
          2.109528,
          8.993056,
          5.0132627,
          5.013011,
          4.7182274,
          6.1987185,
          8.793728,
          6.6809587,
          5.493597,
          4.920135,
          8.427794,
          5.447394,
          7.660902,
          4.6366663,
          8.020633,
          6.1509194,
          4.088701,
          8.818653,
          7.3744845,
          6.7670465,
          8.845674,
          6.054408,
          6.834756,
          7.3440084,
          8.871524,
          2.9506881,
          3.4671319,
          5.433363,
          4.4819093,
          5.265106,
          8.469736,
          4.614975,
          6.929611,
          5.438381,
          4.533964,
          5.4812613,
          4.4095783,
          9.403986,
          4.708207,
          8.708145,
          5.609245,
          7.9581647,
          3.1030917,
          3.1396866,
          7.148182,
          7.900646,
          6.881581,
          7.0302916,
          5.8900943,
          6.219653,
          6.3385005,
          8.613223,
          4.13965,
          9.288692,
          2.837758,
          2.952697,
          8.995255,
          5.6925807,
          8.756809,
          2.7914338,
          9.407637,
          6.052192,
          5.122323,
          5.5233393,
          8.549606,
          8.902135,
          4.583253,
          2.9285705,
          5.4990764,
          4.0453734,
          8.411223,
          3.8440597,
          5.244057,
          6.949994,
          9.407402,
          3.0882099,
          7.008278,
          6.199775,
          7.301207,
          2.9705474,
          8.476791,
          3.8233943,
          6.2487183,
          6.4980364,
          4.473383,
          2.9524925,
          7.1140513,
          7.5106454,
          3.2193105,
          6.6628127,
          6.735814,
          8.839537,
          6.972224,
          3.257664,
          3.1731324,
          5.6902857,
          6.786279,
          6.427922,
          4.614575,
          9.428597,
          3.8317573,
          4.4653993,
          9.017739,
          7.117778,
          7.0283985,
          3.464399,
          5.2155213,
          6.862563,
          7.1641154,
          3.2464657,
          2.9570875,
          3.5442538,
          3.2225962,
          2.9588587,
          7.0815706,
          7.7032194,
          8.928091,
          6.534342,
          7.99002,
          4.1307464,
          8.791246,
          9.180539,
          6.766857,
          3.5132384,
          7.898882,
          7.217362,
          2.829911,
          3.1213253,
          9.417894,
          7.1515803,
          3.6513486,
          7.0318527,
          7.74378,
          5.9451623,
          4.1483645,
          5.8570013,
          9.284723,
          5.8767033,
          7.1693473,
          6.764195,
          3.7954733,
          8.855031,
          3.4042287,
          5.98695
         ],
         "y": [
          6.6226683,
          6.132348,
          3.8554094,
          7.3514333,
          8.644993,
          5.8446693,
          7.66815,
          7.571995,
          6.6400633,
          7.1846485,
          8.566067,
          4.6367903,
          5.374737,
          7.0810337,
          5.9090295,
          5.650185,
          6.932583,
          5.126649,
          4.218788,
          5.699461,
          5.0665436,
          6.400007,
          5.1948404,
          4.9782367,
          5.945857,
          5.268957,
          6.2717304,
          5.0453525,
          7.942665,
          6.80095,
          6.9972367,
          5.7996063,
          5.01259,
          5.8740525,
          6.022029,
          5.27409,
          6.054724,
          5.660378,
          6.431775,
          7.7147355,
          6.3081803,
          5.4761267,
          6.8669963,
          6.6996655,
          5.307367,
          7.6296945,
          6.945754,
          8.482235,
          4.654066,
          7.2867084,
          5.3085184,
          8.486296,
          6.8402467,
          7.551623,
          6.282553,
          6.284256,
          4.8154883,
          8.020504,
          8.173811,
          6.278657,
          5.6603384,
          6.4170017,
          8.725825,
          6.1582093,
          8.584095,
          5.759852,
          5.766535,
          5.0458803,
          7.04675,
          4.6962547,
          6.0543585,
          8.55579,
          5.3632283,
          6.7881737,
          5.8871007,
          5.2689657,
          7.051723,
          7.0215445,
          6.497766,
          6.959344,
          5.1986384,
          8.06281,
          4.9699035,
          6.1342,
          6.7131853,
          7.237551,
          5.953037,
          7.1055875,
          7.99495,
          4.7143073,
          4.737805,
          4.7141457,
          5.7496147,
          6.2907295,
          5.1221433,
          7.4044166,
          7.377143,
          5.7901344,
          6.4141917,
          5.8959684,
          6.707934,
          7.3996177,
          5.632527,
          6.58222,
          7.43745,
          6.7043414,
          3.7443864,
          8.49933,
          6.1162577,
          7.352989,
          6.151052,
          8.333897,
          6.0603294,
          6.899195,
          6.3780828,
          6.249748,
          9.136268,
          9.116595,
          5.807731,
          4.6894665,
          6.671937,
          5.15875,
          7.581534,
          7.6603312,
          4.2887964,
          5.630872,
          5.078038,
          7.302333,
          6.011411,
          6.761789,
          6.300456,
          7.3300576,
          3.9213758,
          6.3359437,
          8.0474615,
          6.267083,
          7.957306,
          7.121946,
          6.1066775,
          8.574519,
          8.049137,
          5.6804657,
          4.158863,
          6.312984,
          6.023851,
          7.5571847,
          5.4922886,
          6.6849284,
          8.092892,
          6.5840592,
          4.5727158,
          5.5734816,
          7.282746,
          7.108936,
          7.182563,
          5.378346,
          6.893919,
          7.3288717,
          9.128973,
          6.9626446,
          5.061125,
          6.4760303,
          7.7154903,
          5.358219,
          8.054105,
          6.075633,
          8.697898,
          5.370465,
          6.90915,
          5.1692686,
          5.680706,
          6.476628,
          6.9476104,
          6.5001683,
          8.154416,
          7.476815,
          6.477474,
          8.870453,
          7.0685987,
          6.2879558,
          8.079854,
          6.6863637,
          6.217429,
          6.902419,
          9.12834,
          5.6535683,
          8.064454,
          6.252585,
          5.6029744,
          5.9901323,
          9.147065,
          6.352256,
          4.976868,
          4.8605633,
          8.053807,
          8.078124,
          6.4011436,
          6.161117,
          4.9967284,
          5.466981,
          7.1273336,
          6.1125884,
          6.9312077,
          7.0923934,
          8.379845,
          7.0699334,
          8.595169,
          6.026375,
          6.788478,
          5.0035205,
          5.014023,
          6.683257,
          7.19835,
          5.99722,
          5.6215487,
          7.6126294,
          4.946066,
          3.8577535,
          6.1577845,
          5.9706154,
          6.13261,
          5.683252,
          6.067871,
          9.130005,
          5.7219167,
          5.9695377,
          6.816615,
          4.0455623,
          5.8227377,
          7.872762,
          8.88906,
          4.930173,
          6.160356,
          8.567883,
          6.5380116,
          7.190407,
          6.1741796,
          5.8496494,
          4.7940016,
          3.738102,
          4.064087,
          7.1019125,
          5.3553753,
          6.60045,
          6.367499,
          8.027482,
          7.3550234,
          3.8627212,
          8.428501,
          4.2142015,
          7.0002246,
          6.2331,
          7.8707,
          5.6858573,
          6.059457,
          5.6959596,
          8.331836,
          5.7499623,
          9.117003,
          7.024401,
          6.1675105,
          7.5676494,
          7.9856553,
          6.6322613,
          6.1520977,
          8.056729,
          7.8686013,
          7.2889338,
          3.7386942,
          7.0937686,
          6.985038,
          7.2688537,
          6.9700336,
          6.3910923,
          6.498429,
          5.8888636,
          5.2214794,
          3.8545072,
          4.3182693,
          5.527719,
          7.94461,
          7.41949,
          7.7303224,
          7.924602,
          4.3289814,
          7.17953,
          6.632777,
          6.1491632,
          5.523071,
          6.0363107,
          9.131232,
          7.725946,
          6.5967064,
          6.140085,
          8.313471,
          5.8418245,
          3.7497268,
          7.2215443,
          7.4364047,
          5.715065,
          7.970164,
          7.5058403,
          3.847994,
          6.2175994,
          7.326034,
          3.8491805,
          6.416922,
          6.851308,
          5.6327276,
          5.5263376,
          7.3458724,
          6.3738933,
          6.2839007,
          5.8990207,
          5.8224792,
          5.3557854,
          4.7884307,
          5.324732,
          6.5586314,
          6.634912,
          7.9946938,
          6.0703397,
          7.3688235,
          6.510841,
          6.2868423,
          7.55731,
          6.9067936,
          5.4173665,
          7.5570364,
          6.590656,
          5.854607,
          6.7755933,
          7.465327,
          8.602183,
          6.88544,
          6.478012
         ]
        },
        {
         "hoverinfo": "text",
         "marker": {
          "opacity": 0.5,
          "size": 5
         },
         "mode": "markers+text",
         "name": "0_河南_旅行_历史",
         "text": [
          "",
          "",
          "",
          "",
          "",
          "",
          "",
          "",
          "",
          "",
          "",
          "",
          "",
          "",
          "",
          "",
          "",
          "",
          "",
          "",
          "",
          "",
          "",
          "",
          "",
          "",
          "",
          "",
          "",
          "",
          "",
          "",
          "",
          "",
          "",
          "",
          "",
          "",
          "",
          "",
          "",
          "",
          "",
          "",
          "",
          "",
          "",
          "",
          "",
          "",
          "",
          "",
          "",
          "",
          "",
          "",
          "",
          "",
          "",
          "",
          "",
          "",
          "",
          "",
          "",
          "",
          "",
          "",
          "",
          "",
          "",
          "",
          "",
          "",
          "",
          "",
          "",
          "",
          "",
          "",
          "",
          "",
          "",
          "",
          "",
          "",
          "",
          "",
          "",
          "",
          "",
          "",
          "",
          "",
          "",
          "",
          "",
          "",
          "",
          "",
          "",
          "",
          "",
          "",
          "",
          "",
          "",
          "",
          "",
          "",
          "",
          "",
          "",
          "",
          "",
          "",
          "",
          "",
          "",
          "",
          "",
          "",
          "",
          "",
          "",
          "",
          "",
          "",
          "",
          "",
          "",
          "",
          "",
          "",
          "",
          "",
          "",
          "",
          "",
          "",
          "",
          "",
          "",
          "",
          "",
          "",
          "",
          "",
          "",
          "",
          "",
          "",
          "",
          "",
          "",
          "",
          "",
          "",
          "",
          "",
          "",
          "",
          "",
          "",
          "",
          "",
          "",
          "",
          "",
          "",
          "",
          "",
          "",
          "",
          "",
          "",
          "",
          "",
          "",
          "",
          "",
          "",
          "",
          "",
          "",
          "",
          "",
          "",
          "",
          "",
          "",
          "",
          "",
          "",
          "",
          "",
          "",
          "",
          "",
          "",
          "",
          "",
          "",
          "",
          "",
          "",
          "",
          "",
          "",
          "",
          "",
          "",
          "",
          "",
          "",
          "",
          "",
          "",
          "",
          "",
          "",
          "",
          "",
          "",
          "",
          "",
          "",
          "",
          "",
          "",
          "",
          "",
          "",
          "",
          "",
          "",
          "",
          "",
          "",
          "",
          "",
          "",
          "",
          "",
          "0_河南_旅行_历史"
         ],
         "textfont": {
          "size": 12
         },
         "type": "scattergl",
         "x": [
          7.46307,
          8.028886,
          7.803748,
          9.325608,
          8.153217,
          9.177288,
          7.546543,
          9.568984,
          8.233297,
          8.1490555,
          8.884199,
          9.790393,
          8.207701,
          8.238767,
          7.265698,
          7.4289374,
          8.540135,
          7.686216,
          7.9387674,
          9.703111,
          8.8847275,
          8.008003,
          7.825085,
          8.080856,
          10.177401,
          8.946801,
          8.033165,
          9.817932,
          7.9604983,
          5.928453,
          9.735029,
          7.5289574,
          7.4779096,
          8.92675,
          8.237532,
          8.155009,
          9.761198,
          9.671942,
          8.3036995,
          8.630417,
          8.055729,
          8.380545,
          7.448909,
          7.8494487,
          7.4420223,
          7.3135805,
          8.0916,
          8.986817,
          8.137351,
          8.426651,
          9.744758,
          8.770179,
          10.17726,
          8.478407,
          7.8140535,
          7.3344493,
          8.216899,
          7.6112976,
          7.93123,
          8.117204,
          7.409892,
          8.050446,
          7.2889895,
          9.755778,
          8.572251,
          9.260289,
          8.092982,
          9.235392,
          9.755191,
          8.091082,
          8.427583,
          8.165134,
          8.1856365,
          8.86709,
          8.982809,
          9.06857,
          9.570718,
          8.49317,
          7.537669,
          8.113932,
          10.175046,
          8.034323,
          6.188653,
          7.496835,
          8.916037,
          8.252325,
          8.524752,
          8.126924,
          8.927046,
          7.212594,
          8.127294,
          8.376943,
          9.818217,
          9.2839365,
          9.114837,
          8.171381,
          8.145263,
          5.9803834,
          8.929253,
          7.6287303,
          8.554416,
          8.536813,
          7.827884,
          8.110566,
          9.677051,
          8.222748,
          8.622258,
          5.8897986,
          6.2311983,
          8.93582,
          5.9341373,
          8.395628,
          7.7775,
          8.868668,
          6.69771,
          9.766565,
          8.083026,
          9.872719,
          9.61193,
          9.818971,
          5.933308,
          7.7698793,
          5.7477794,
          5.9076934,
          7.911511,
          7.0918126,
          8.433418,
          8.093818,
          8.124284,
          7.2944336,
          8.82385,
          7.9621377,
          8.085336,
          8.901143,
          8.066242,
          8.066875,
          8.961577,
          7.165014,
          8.264452,
          9.042633,
          8.925553,
          8.550442,
          8.922238,
          8.389387,
          9.798785,
          8.832808,
          8.336501,
          8.289062,
          7.981719,
          7.5792027,
          8.3585415,
          9.226158,
          8.757739,
          8.917154,
          5.838191,
          8.881232,
          6.988999,
          9.186795,
          7.2250133,
          7.362996,
          8.656252,
          9.755869,
          9.552595,
          6.8329353,
          7.1871624,
          6.3973866,
          10.1088295,
          9.698299,
          8.180249,
          8.435428,
          8.948152,
          7.991319,
          8.989436,
          8.125558,
          7.997354,
          10.182476,
          8.890267,
          10.062834,
          8.208845,
          7.5353465,
          7.520152,
          7.0523033,
          7.605827,
          7.613718,
          8.570952,
          7.6154895,
          8.786861,
          8.579848,
          8.200714,
          8.508223,
          9.753293,
          6.513089,
          7.883388,
          6.5523367,
          8.00067,
          9.742602,
          6.7684927,
          9.715598,
          8.354913,
          7.912551,
          8.100221,
          9.584436,
          8.557881,
          5.8979754,
          6.2657948,
          8.705576,
          8.010339,
          7.824969,
          7.295967,
          7.304674,
          8.554756,
          8.84132,
          7.387256,
          7.4617395,
          8.880968,
          7.3527255,
          7.6507473,
          9.482807,
          8.829687,
          8.84472,
          8.864594,
          7.925941,
          8.868448,
          7.6595793,
          7.1662784,
          8.382948,
          9.006159,
          9.590316,
          8.298649,
          9.775553,
          7.645787,
          6.5655046,
          7.791638,
          7.4579854,
          8.6025915,
          8.420489,
          8.38529,
          7.370436,
          9.62837,
          8.891839,
          9.46344,
          8.295596,
          9.375605,
          9.349464,
          8.286658
         ],
         "y": [
          6.7105904,
          7.6557612,
          4.315851,
          4.8997416,
          4.7584476,
          6.3401003,
          4.7846746,
          5.268466,
          6.1907325,
          4.7380114,
          7.529975,
          4.822488,
          5.4569063,
          7.41465,
          4.5600643,
          7.1982517,
          5.909099,
          6.859646,
          7.671335,
          4.9031687,
          7.5316243,
          7.6577973,
          4.3155723,
          5.613606,
          4.369471,
          7.090652,
          7.66032,
          4.8585033,
          6.5556498,
          5.630856,
          4.7881317,
          4.5586443,
          7.2160497,
          6.221591,
          5.6366706,
          4.7490954,
          4.7956233,
          4.867627,
          5.765737,
          6.9135923,
          6.4575577,
          6.632556,
          4.8258877,
          5.05262,
          7.20804,
          6.573426,
          4.75536,
          7.301477,
          5.7979674,
          7.3592772,
          4.7647533,
          7.5037246,
          4.368781,
          5.750316,
          6.080627,
          4.612056,
          5.917517,
          4.640082,
          6.627854,
          6.5580993,
          6.8305097,
          5.796781,
          6.9595137,
          4.8077993,
          5.9576945,
          6.70049,
          5.756458,
          5.154003,
          4.8234334,
          5.624031,
          6.217445,
          7.5127454,
          6.7555614,
          6.193286,
          6.253366,
          7.2675056,
          5.020561,
          7.759647,
          6.860264,
          5.639004,
          4.3708873,
          6.2066655,
          5.528712,
          6.6357365,
          7.58229,
          7.6007724,
          5.7517223,
          4.72729,
          6.3632507,
          7.0835147,
          6.0367165,
          5.6298094,
          4.839771,
          4.9187093,
          7.137419,
          7.138822,
          4.753206,
          5.6962094,
          6.9884443,
          4.6344705,
          6.7704268,
          5.512842,
          6.1282234,
          6.0495872,
          4.938268,
          5.680177,
          7.4555817,
          5.980838,
          5.588903,
          6.9434004,
          5.670377,
          5.7211094,
          4.3386235,
          7.2198563,
          7.4379635,
          4.8307266,
          5.958519,
          4.8421226,
          5.190599,
          4.8565297,
          5.684949,
          4.2834396,
          6.08132,
          5.8076353,
          6.324238,
          7.083212,
          7.241685,
          5.7791047,
          5.6425433,
          4.4738207,
          7.3603034,
          6.597823,
          5.6476026,
          7.732618,
          5.7134213,
          6.245059,
          6.205405,
          7.0436406,
          5.8157234,
          7.0290704,
          7.46137,
          7.315991,
          7.6036825,
          7.3650055,
          4.7901154,
          6.1263704,
          5.9006963,
          7.255123,
          4.7868524,
          6.709594,
          6.1729484,
          4.97845,
          7.272263,
          7.511874,
          5.823261,
          6.8578076,
          4.23261,
          6.947871,
          7.425619,
          6.9043345,
          6.0400677,
          4.815727,
          5.330374,
          7.240734,
          7.105269,
          5.5413814,
          4.441408,
          4.911515,
          6.519183,
          5.735326,
          6.2890315,
          4.924378,
          6.2279067,
          5.8707805,
          7.669761,
          4.3626943,
          6.2472343,
          4.4995103,
          7.6897697,
          6.6521354,
          6.409548,
          4.269515,
          6.1409616,
          6.1387568,
          7.6220703,
          6.124948,
          6.268493,
          6.848886,
          7.0879664,
          7.7739425,
          4.805457,
          7.4115353,
          5.0143995,
          7.173904,
          7.6591535,
          4.842663,
          4.514135,
          4.751954,
          7.3479934,
          5.701971,
          7.6026554,
          4.898069,
          7.7106214,
          5.585131,
          5.636634,
          7.0935245,
          7.5965514,
          4.3733487,
          4.501869,
          7.246673,
          7.1103697,
          7.1857414,
          7.2576575,
          6.51288,
          5.8273067,
          7.2580576,
          7.0568843,
          4.884711,
          6.3254814,
          7.5852175,
          6.6526775,
          6.3720813,
          7.591389,
          4.5749774,
          7.0707,
          7.2436533,
          6.320428,
          4.8406878,
          7.176997,
          4.861189,
          4.628101,
          5.650626,
          6.3057194,
          6.8706765,
          6.0267816,
          5.7231765,
          7.733139,
          4.5785427,
          4.8867,
          6.9136033,
          5.1632695,
          6.0673947,
          5.118129,
          4.932546,
          6.0738163
         ]
        },
        {
         "hoverinfo": "text",
         "marker": {
          "opacity": 0.5,
          "size": 5
         },
         "mode": "markers+text",
         "name": "1_景区_游客_郑州",
         "text": [
          "",
          "",
          "",
          "",
          "",
          "",
          "",
          "",
          "",
          "",
          "",
          "",
          "",
          "",
          "",
          "",
          "",
          "",
          "",
          "",
          "",
          "",
          "",
          "",
          "",
          "",
          "",
          "",
          "",
          "",
          "",
          "",
          "",
          "",
          "",
          "",
          "",
          "",
          "",
          "",
          "",
          "",
          "",
          "",
          "",
          "",
          "",
          "",
          "",
          "",
          "",
          "",
          "",
          "",
          "",
          "",
          "",
          "",
          "",
          "",
          "",
          "",
          "",
          "",
          "",
          "",
          "",
          "",
          "",
          "",
          "",
          "",
          "",
          "",
          "",
          "",
          "",
          "",
          "",
          "",
          "",
          "",
          "",
          "",
          "",
          "",
          "",
          "",
          "",
          "",
          "",
          "",
          "",
          "",
          "",
          "",
          "",
          "",
          "",
          "",
          "",
          "",
          "",
          "",
          "",
          "",
          "",
          "",
          "",
          "",
          "",
          "",
          "",
          "",
          "",
          "",
          "",
          "",
          "",
          "",
          "",
          "",
          "",
          "",
          "",
          "",
          "",
          "",
          "",
          "",
          "",
          "",
          "",
          "",
          "",
          "",
          "",
          "",
          "",
          "",
          "",
          "",
          "",
          "",
          "",
          "",
          "",
          "",
          "",
          "",
          "",
          "",
          "",
          "",
          "",
          "",
          "",
          "",
          "",
          "",
          "",
          "",
          "",
          "",
          "",
          "",
          "",
          "",
          "",
          "",
          "",
          "",
          "",
          "",
          "",
          "",
          "",
          "",
          "",
          "",
          "",
          "",
          "",
          "",
          "",
          "",
          "",
          "",
          "",
          "",
          "",
          "",
          "",
          "",
          "",
          "",
          "",
          "",
          "",
          "",
          "",
          "",
          "",
          "",
          "",
          "1_景区_游客_郑州"
         ],
         "textfont": {
          "size": 12
         },
         "type": "scattergl",
         "x": [
          2.8000898,
          1.7287015,
          6.793224,
          3.510819,
          3.4103618,
          1.6574608,
          0.979785,
          5.5458746,
          1.7310086,
          1.2731868,
          6.003786,
          6.6495757,
          1.6615789,
          0.8186811,
          1.4975134,
          6.468354,
          2.187302,
          1.7114724,
          1.7172446,
          0.6703155,
          6.0604124,
          2.3247113,
          2.74735,
          6.631269,
          3.082599,
          1.7708261,
          2.4018807,
          5.947413,
          2.1195154,
          2.2277908,
          3.1395612,
          5.5620375,
          3.358364,
          1.5294361,
          2.678537,
          6.6240396,
          2.6092794,
          2.6337628,
          3.013343,
          1.5117297,
          0.78452927,
          5.9176574,
          6.781555,
          6.617819,
          1.9065309,
          6.2457504,
          5.7300296,
          2.653325,
          5.9187927,
          0.65798765,
          3.4471233,
          5.7249484,
          5.938219,
          2.607519,
          2.2338383,
          6.6245327,
          2.210517,
          6.5992465,
          1.4857166,
          2.5940194,
          2.6726215,
          2.6053965,
          0.87711084,
          3.331349,
          2.5317633,
          2.3439603,
          0.8235033,
          5.659052,
          5.511854,
          2.0955992,
          2.8112788,
          3.1806972,
          2.788555,
          1.7166402,
          5.488585,
          2.0541503,
          5.956869,
          6.644136,
          6.60258,
          2.112062,
          0.65758425,
          2.862393,
          5.526789,
          3.3892863,
          6.0462537,
          3.0428917,
          0.7819352,
          6.464526,
          5.5360594,
          6.4958405,
          2.785326,
          6.555254,
          0.7048504,
          2.3109968,
          6.560381,
          2.7465417,
          3.0839522,
          6.4578156,
          6.424103,
          6.4952545,
          0.9113888,
          2.2604327,
          2.6275785,
          1.61187,
          6.792802,
          6.775846,
          2.126008,
          3.4875398,
          5.9640665,
          1.496053,
          1.5254971,
          1.4979241,
          2.1419044,
          6.288264,
          2.6340497,
          2.6163774,
          1.1068373,
          2.5778885,
          2.2048235,
          3.388784,
          2.6005127,
          6.694573,
          2.1369166,
          2.2226956,
          1.4837966,
          3.8109581,
          0.7905925,
          3.1576307,
          1.9652238,
          3.0160456,
          3.3706937,
          3.1772075,
          1.5289531,
          1.5180916,
          2.6354613,
          6.1656227,
          3.1125689,
          2.5132086,
          3.0145028,
          3.3371112,
          0.9206551,
          0.97692645,
          0.98324984,
          1.9420077,
          5.932058,
          5.9304786,
          2.3001304,
          2.0985396,
          2.7634432,
          0.9722857,
          2.4603884,
          0.7973226,
          1.9675584,
          2.6107588,
          6.8114333,
          2.3261137,
          2.6371417,
          2.761711,
          6.3840313,
          6.4301233,
          3.0649996,
          0.63090956,
          5.5529237,
          0.92190915,
          1.967971,
          2.7754197,
          5.9464946,
          2.0377045,
          2.2598834,
          2.9504373,
          3.3400068,
          0.75567335,
          0.6587672,
          6.0675855,
          1.7606044,
          6.1955113,
          5.9610643,
          6.2035894,
          2.468246,
          2.7407196,
          3.118147,
          0.89968514,
          2.8343651,
          1.8782616,
          2.6890705,
          6.5917444,
          1.7581068,
          1.5122843,
          2.9889324,
          1.5816281,
          1.4731063,
          6.003047,
          5.994816,
          0.70466006,
          1.0379313,
          5.7559776,
          6.23482,
          0.81820434,
          1.9701682,
          6.529667,
          6.399621,
          2.1188724,
          1.6842438,
          2.6272125,
          0.7945608,
          3.32078
         ],
         "y": [
          4.802812,
          5.1713943,
          4.357721,
          6.1166973,
          5.9702587,
          5.1730647,
          5.9208813,
          4.119031,
          5.338329,
          5.9464536,
          4.0813,
          4.256292,
          5.1281204,
          6.1029277,
          5.00685,
          4.11194,
          6.512282,
          5.72252,
          5.350577,
          6.2875757,
          3.9294572,
          5.198194,
          5.397156,
          4.7965956,
          4.733282,
          5.3460793,
          4.7192397,
          4.0300074,
          4.9498687,
          6.5449495,
          5.8974724,
          4.572677,
          5.655303,
          4.9329653,
          5.164672,
          4.9588337,
          5.455133,
          5.46824,
          4.7532473,
          5.0540586,
          6.143203,
          4.00423,
          4.3765206,
          4.95936,
          5.6205926,
          4.0741134,
          4.211876,
          5.422724,
          4.080051,
          6.280259,
          5.6017985,
          4.545388,
          4.0014777,
          5.5267406,
          4.7007704,
          4.574638,
          4.7176256,
          4.813009,
          4.9910626,
          5.0713134,
          4.9523826,
          5.523568,
          6.028991,
          5.1869407,
          6.760924,
          4.7260947,
          6.1184855,
          4.025233,
          4.639193,
          6.500921,
          4.9188976,
          5.8156686,
          4.97249,
          5.1839895,
          4.0376167,
          6.169372,
          3.8784232,
          4.319239,
          4.199123,
          5.3758197,
          6.3067045,
          4.9509177,
          4.0407333,
          5.8223815,
          4.0411773,
          5.8840523,
          6.136022,
          4.7140846,
          4.606522,
          5.102448,
          4.926235,
          4.709773,
          6.221072,
          6.664795,
          4.838652,
          5.002237,
          5.9456544,
          4.045346,
          3.8853784,
          5.222306,
          5.961155,
          5.102967,
          5.4881597,
          4.9383483,
          4.401949,
          4.732829,
          6.479482,
          5.6390057,
          3.9742763,
          4.991028,
          5.0316215,
          4.965349,
          4.7454,
          4.3594146,
          5.414744,
          4.982653,
          5.913441,
          5.4899077,
          6.5631676,
          5.7642493,
          5.4883256,
          4.274284,
          5.425365,
          6.5867085,
          4.993484,
          7.719623,
          6.1357937,
          5.863632,
          6.3577437,
          5.767954,
          5.855908,
          5.9023137,
          5.0177145,
          4.968813,
          5.4197507,
          4.048924,
          5.965702,
          5.038959,
          5.7949986,
          5.050818,
          5.9712415,
          5.8919706,
          5.933313,
          6.3521333,
          3.9886193,
          3.9315476,
          6.513151,
          6.532945,
          5.1896486,
          5.9068694,
          5.6096168,
          6.12828,
          6.3082194,
          5.852935,
          4.724903,
          6.2944846,
          5.4407544,
          6.3224273,
          3.9395006,
          4.6818585,
          5.852166,
          6.312465,
          4.5815907,
          5.9747205,
          6.362158,
          4.945964,
          3.994632,
          6.413829,
          6.429319,
          4.7948313,
          5.7187977,
          6.161752,
          6.2803617,
          4.124665,
          5.43745,
          4.2488394,
          3.9096272,
          4.323318,
          5.6107616,
          6.2588377,
          5.849976,
          6.0024405,
          4.7965646,
          5.3024764,
          6.203392,
          4.2257805,
          5.413906,
          4.969996,
          4.7465506,
          5.034122,
          4.983177,
          4.047254,
          3.9580264,
          6.2159395,
          5.97673,
          3.9955478,
          4.2200327,
          6.1046247,
          6.0735884,
          5.2253785,
          3.9349623,
          4.94856,
          4.9778686,
          5.4820313,
          6.129391,
          5.2479796
         ]
        },
        {
         "hoverinfo": "text",
         "marker": {
          "opacity": 0.5,
          "size": 5
         },
         "mode": "markers+text",
         "name": "2_建设_发展_项目",
         "text": [
          "",
          "",
          "",
          "",
          "",
          "",
          "",
          "",
          "",
          "",
          "",
          "",
          "",
          "",
          "",
          "",
          "",
          "",
          "",
          "",
          "",
          "",
          "",
          "",
          "",
          "",
          "",
          "",
          "",
          "",
          "",
          "",
          "",
          "",
          "",
          "",
          "",
          "",
          "",
          "",
          "",
          "",
          "",
          "",
          "",
          "",
          "",
          "",
          "",
          "",
          "",
          "",
          "",
          "",
          "",
          "",
          "",
          "",
          "",
          "",
          "",
          "",
          "",
          "",
          "",
          "",
          "",
          "",
          "",
          "",
          "",
          "",
          "",
          "",
          "",
          "",
          "",
          "",
          "",
          "",
          "",
          "",
          "",
          "",
          "",
          "",
          "",
          "",
          "",
          "",
          "",
          "",
          "",
          "",
          "",
          "",
          "",
          "",
          "",
          "",
          "",
          "",
          "",
          "",
          "",
          "",
          "",
          "",
          "",
          "",
          "",
          "",
          "",
          "",
          "",
          "",
          "",
          "",
          "",
          "",
          "",
          "",
          "",
          "",
          "",
          "",
          "",
          "",
          "",
          "",
          "",
          "",
          "",
          "",
          "",
          "",
          "",
          "",
          "",
          "",
          "",
          "",
          "",
          "",
          "",
          "",
          "",
          "",
          "",
          "",
          "",
          "",
          "",
          "",
          "2_建设_发展_项目"
         ],
         "textfont": {
          "size": 12
         },
         "type": "scattergl",
         "x": [
          3.0211384,
          3.654257,
          4.376372,
          4.7142215,
          4.2595963,
          3.9706752,
          4.3545694,
          4.835687,
          4.221948,
          4.48049,
          3.2787404,
          5.2865305,
          4.1020713,
          4.737586,
          5.136576,
          4.979289,
          3.851978,
          3.9690478,
          3.3610826,
          3.0922148,
          4.2562475,
          5.0583324,
          2.801753,
          3.1811087,
          3.2164135,
          2.6762576,
          5.071234,
          4.004193,
          3.8610764,
          3.7658782,
          3.1664367,
          4.142314,
          3.2963064,
          5.146944,
          3.168439,
          5.0348544,
          3.9695854,
          4.212328,
          3.89114,
          4.0312486,
          4.380074,
          2.7116427,
          3.5569098,
          2.403128,
          4.937233,
          2.7397277,
          4.477371,
          5.0684333,
          4.8985076,
          2.3878295,
          3.663078,
          5.0605125,
          3.7340465,
          4.3396497,
          3.5967314,
          2.3656387,
          4.110663,
          4.383285,
          4.9286633,
          3.63367,
          2.5778816,
          3.9272017,
          3.814331,
          3.9212914,
          4.2357078,
          4.982187,
          4.427398,
          4.712185,
          4.965259,
          4.9641314,
          3.4231565,
          2.3839555,
          3.985524,
          4.386688,
          4.310127,
          4.9452677,
          2.4756207,
          2.9784937,
          4.056437,
          4.8551774,
          4.4438744,
          2.680062,
          5.165786,
          4.313379,
          3.713699,
          2.3530023,
          4.3942413,
          3.777094,
          3.8214548,
          4.6422124,
          3.0252743,
          4.3596387,
          4.8169255,
          4.4787307,
          3.6376052,
          3.9993565,
          4.0009055,
          2.6076272,
          3.3356957,
          5.2614646,
          3.9955924,
          3.3994446,
          3.3543513,
          4.0292406,
          4.096299,
          2.6601236,
          2.4439328,
          4.8175406,
          2.5445259,
          4.5126653,
          3.86889,
          4.439943,
          2.4261985,
          4.2387056,
          4.0162897,
          5.0110188,
          4.3375354,
          3.7896335,
          3.9028132,
          4.7233377,
          3.280365,
          4.9786305,
          3.6717498,
          3.2466626,
          4.9419055,
          2.3806999,
          4.0102973,
          4.1128464,
          5.046957,
          3.148596,
          3.8527892,
          2.7003438,
          5.2541304,
          4.9404373,
          3.2031107,
          4.7119546,
          2.6889093,
          3.49083,
          5.331293,
          3.7039325,
          4.869167,
          3.682603,
          4.0593967,
          3.3351026,
          3.0968208,
          4.134931,
          4.1443825,
          4.0631995,
          3.8164923,
          3.8645315,
          4.5342593,
          2.706929,
          5.0656757,
          3.695692,
          3.9515762
         ],
         "y": [
          6.7486987,
          6.6992207,
          5.855606,
          7.0388956,
          5.2742233,
          7.467493,
          5.598738,
          7.133248,
          7.631981,
          7.4786806,
          7.576474,
          7.513808,
          7.416509,
          7.698453,
          6.48809,
          6.6640425,
          7.500247,
          7.5957417,
          6.9117107,
          6.871498,
          7.2056675,
          7.535324,
          7.262979,
          7.4719996,
          6.7748747,
          7.3424625,
          6.462236,
          7.3817816,
          7.6073575,
          6.699313,
          7.395082,
          7.2069044,
          7.004497,
          7.5473475,
          7.4174047,
          7.4197717,
          7.272731,
          5.516998,
          7.0679765,
          7.6412764,
          7.397259,
          7.312147,
          6.418461,
          7.6993566,
          6.877948,
          7.3043694,
          6.6409416,
          6.554467,
          7.5703893,
          7.7649956,
          6.741591,
          6.5464177,
          7.024442,
          5.2867064,
          7.0692058,
          7.758114,
          5.296794,
          7.244841,
          7.5521836,
          7.1803803,
          7.5842257,
          7.5127554,
          6.7351136,
          6.767315,
          7.361097,
          7.3780484,
          7.2929325,
          7.660922,
          7.5192304,
          6.8128924,
          6.8140483,
          7.738004,
          7.594987,
          5.864945,
          5.919358,
          7.4345274,
          7.6828346,
          7.691423,
          6.2703686,
          7.1555786,
          6.5853033,
          7.7543597,
          7.553161,
          7.338188,
          6.4185724,
          7.7604537,
          5.8226666,
          7.040261,
          7.0377984,
          6.5975823,
          7.658811,
          5.3581843,
          6.5941486,
          6.650612,
          6.892703,
          7.342145,
          7.613809,
          7.460799,
          7.667223,
          7.513629,
          7.2952766,
          7.5918136,
          7.5729766,
          7.663377,
          6.591067,
          7.7296896,
          7.7421365,
          7.137976,
          7.6271033,
          5.8189354,
          7.469459,
          5.584327,
          7.757423,
          5.298354,
          5.302325,
          7.3867292,
          5.6944885,
          6.823964,
          6.3127837,
          7.688829,
          7.638853,
          7.383429,
          7.1173654,
          7.621839,
          7.281256,
          7.7584167,
          7.6015177,
          6.484597,
          6.6169086,
          6.908764,
          6.762116,
          7.342346,
          6.5583696,
          7.573207,
          6.6301184,
          6.884027,
          7.354775,
          7.4520826,
          7.5615616,
          6.892702,
          7.5867496,
          7.016994,
          7.396623,
          7.62612,
          6.8785415,
          5.299683,
          5.298371,
          7.666291,
          7.007182,
          6.9488926,
          7.384178,
          7.755739,
          6.5897036,
          6.8200126,
          7.038167
         ]
        },
        {
         "hoverinfo": "text",
         "marker": {
          "opacity": 0.5,
          "size": 5
         },
         "mode": "markers+text",
         "name": "3_中国_龙门石窟_石窟",
         "text": [
          "",
          "",
          "",
          "",
          "",
          "",
          "",
          "",
          "",
          "",
          "",
          "",
          "",
          "",
          "",
          "",
          "",
          "",
          "",
          "",
          "",
          "",
          "",
          "",
          "",
          "",
          "",
          "",
          "",
          "",
          "",
          "",
          "",
          "",
          "",
          "",
          "",
          "",
          "",
          "",
          "",
          "",
          "",
          "",
          "",
          "",
          "",
          "",
          "",
          "",
          "",
          "",
          "",
          "",
          "",
          "",
          "",
          "",
          "",
          "",
          "",
          "",
          "3_中国_龙门石窟_石窟"
         ],
         "textfont": {
          "size": 12
         },
         "type": "scattergl",
         "x": [
          8.845986,
          8.460022,
          9.257868,
          9.6537,
          8.388737,
          8.915889,
          9.451525,
          9.255575,
          8.971972,
          9.005757,
          9.623402,
          8.925741,
          9.26826,
          9.58213,
          8.581036,
          9.007902,
          8.815509,
          8.428348,
          9.287946,
          9.548666,
          9.649039,
          8.34616,
          9.5596075,
          9.014794,
          9.6717615,
          9.331308,
          9.30121,
          9.106871,
          8.806649,
          9.337688,
          8.487593,
          9.391388,
          8.910032,
          8.590172,
          9.364856,
          9.464658,
          9.060189,
          9.286255,
          9.592644,
          8.833184,
          9.337745,
          9.197506,
          9.455652,
          8.491026,
          9.452649,
          9.441282,
          8.4494705,
          9.006847,
          9.500173,
          8.979401,
          9.64289,
          8.424671,
          8.901667,
          8.414743,
          9.244789,
          9.692316,
          9.466333,
          9.378142,
          9.483044,
          9.411413,
          9.659427,
          8.915683,
          9.134337
         ],
         "y": [
          9.104712,
          8.470333,
          8.650628,
          8.692614,
          8.861301,
          8.783288,
          8.302055,
          8.462018,
          9.044015,
          9.027517,
          8.680413,
          9.012606,
          8.88731,
          8.441348,
          8.514396,
          8.915734,
          9.110874,
          8.484868,
          8.92259,
          8.737708,
          8.707039,
          8.423612,
          8.599431,
          8.873006,
          8.72023,
          8.807185,
          8.710506,
          8.765486,
          9.132558,
          8.9546995,
          8.812937,
          8.521156,
          9.094883,
          8.5043,
          8.578358,
          8.610965,
          9.057363,
          8.876428,
          8.68438,
          9.116326,
          8.83761,
          8.440013,
          8.784166,
          8.611411,
          8.448803,
          8.7052965,
          8.474088,
          8.542971,
          8.756064,
          8.879113,
          8.743519,
          8.773289,
          8.539082,
          8.788566,
          8.447955,
          8.760809,
          8.595872,
          8.387157,
          8.582404,
          8.670355,
          8.670599,
          9.069159,
          8.728476
         ]
        }
       ],
       "layout": {
        "annotations": [
         {
          "showarrow": false,
          "text": "D1",
          "x": 0.5362731277942657,
          "y": 6.8482558012008665,
          "yshift": 10
         },
         {
          "showarrow": false,
          "text": "D2",
          "x": 6.1230602890253065,
          "xshift": 10,
          "y": 10.519124937057494
         }
        ],
        "height": 750,
        "shapes": [
         {
          "line": {
           "color": "#CFD8DC",
           "width": 2
          },
          "type": "line",
          "x0": 6.1230602890253065,
          "x1": 6.1230602890253065,
          "y0": 3.177386665344238,
          "y1": 10.519124937057494
         },
         {
          "line": {
           "color": "#9E9E9E",
           "width": 2
          },
          "type": "line",
          "x0": 0.5362731277942657,
          "x1": 11.709847450256348,
          "y0": 6.8482558012008665,
          "y1": 6.8482558012008665
         }
        ],
        "template": {
         "data": {
          "bar": [
           {
            "error_x": {
             "color": "rgb(36,36,36)"
            },
            "error_y": {
             "color": "rgb(36,36,36)"
            },
            "marker": {
             "line": {
              "color": "white",
              "width": 0.5
             },
             "pattern": {
              "fillmode": "overlay",
              "size": 10,
              "solidity": 0.2
             }
            },
            "type": "bar"
           }
          ],
          "barpolar": [
           {
            "marker": {
             "line": {
              "color": "white",
              "width": 0.5
             },
             "pattern": {
              "fillmode": "overlay",
              "size": 10,
              "solidity": 0.2
             }
            },
            "type": "barpolar"
           }
          ],
          "carpet": [
           {
            "aaxis": {
             "endlinecolor": "rgb(36,36,36)",
             "gridcolor": "white",
             "linecolor": "white",
             "minorgridcolor": "white",
             "startlinecolor": "rgb(36,36,36)"
            },
            "baxis": {
             "endlinecolor": "rgb(36,36,36)",
             "gridcolor": "white",
             "linecolor": "white",
             "minorgridcolor": "white",
             "startlinecolor": "rgb(36,36,36)"
            },
            "type": "carpet"
           }
          ],
          "choropleth": [
           {
            "colorbar": {
             "outlinewidth": 1,
             "tickcolor": "rgb(36,36,36)",
             "ticks": "outside"
            },
            "type": "choropleth"
           }
          ],
          "contour": [
           {
            "colorbar": {
             "outlinewidth": 1,
             "tickcolor": "rgb(36,36,36)",
             "ticks": "outside"
            },
            "colorscale": [
             [
              0,
              "#440154"
             ],
             [
              0.1111111111111111,
              "#482878"
             ],
             [
              0.2222222222222222,
              "#3e4989"
             ],
             [
              0.3333333333333333,
              "#31688e"
             ],
             [
              0.4444444444444444,
              "#26828e"
             ],
             [
              0.5555555555555556,
              "#1f9e89"
             ],
             [
              0.6666666666666666,
              "#35b779"
             ],
             [
              0.7777777777777778,
              "#6ece58"
             ],
             [
              0.8888888888888888,
              "#b5de2b"
             ],
             [
              1,
              "#fde725"
             ]
            ],
            "type": "contour"
           }
          ],
          "contourcarpet": [
           {
            "colorbar": {
             "outlinewidth": 1,
             "tickcolor": "rgb(36,36,36)",
             "ticks": "outside"
            },
            "type": "contourcarpet"
           }
          ],
          "heatmap": [
           {
            "colorbar": {
             "outlinewidth": 1,
             "tickcolor": "rgb(36,36,36)",
             "ticks": "outside"
            },
            "colorscale": [
             [
              0,
              "#440154"
             ],
             [
              0.1111111111111111,
              "#482878"
             ],
             [
              0.2222222222222222,
              "#3e4989"
             ],
             [
              0.3333333333333333,
              "#31688e"
             ],
             [
              0.4444444444444444,
              "#26828e"
             ],
             [
              0.5555555555555556,
              "#1f9e89"
             ],
             [
              0.6666666666666666,
              "#35b779"
             ],
             [
              0.7777777777777778,
              "#6ece58"
             ],
             [
              0.8888888888888888,
              "#b5de2b"
             ],
             [
              1,
              "#fde725"
             ]
            ],
            "type": "heatmap"
           }
          ],
          "heatmapgl": [
           {
            "colorbar": {
             "outlinewidth": 1,
             "tickcolor": "rgb(36,36,36)",
             "ticks": "outside"
            },
            "colorscale": [
             [
              0,
              "#440154"
             ],
             [
              0.1111111111111111,
              "#482878"
             ],
             [
              0.2222222222222222,
              "#3e4989"
             ],
             [
              0.3333333333333333,
              "#31688e"
             ],
             [
              0.4444444444444444,
              "#26828e"
             ],
             [
              0.5555555555555556,
              "#1f9e89"
             ],
             [
              0.6666666666666666,
              "#35b779"
             ],
             [
              0.7777777777777778,
              "#6ece58"
             ],
             [
              0.8888888888888888,
              "#b5de2b"
             ],
             [
              1,
              "#fde725"
             ]
            ],
            "type": "heatmapgl"
           }
          ],
          "histogram": [
           {
            "marker": {
             "line": {
              "color": "white",
              "width": 0.6
             }
            },
            "type": "histogram"
           }
          ],
          "histogram2d": [
           {
            "colorbar": {
             "outlinewidth": 1,
             "tickcolor": "rgb(36,36,36)",
             "ticks": "outside"
            },
            "colorscale": [
             [
              0,
              "#440154"
             ],
             [
              0.1111111111111111,
              "#482878"
             ],
             [
              0.2222222222222222,
              "#3e4989"
             ],
             [
              0.3333333333333333,
              "#31688e"
             ],
             [
              0.4444444444444444,
              "#26828e"
             ],
             [
              0.5555555555555556,
              "#1f9e89"
             ],
             [
              0.6666666666666666,
              "#35b779"
             ],
             [
              0.7777777777777778,
              "#6ece58"
             ],
             [
              0.8888888888888888,
              "#b5de2b"
             ],
             [
              1,
              "#fde725"
             ]
            ],
            "type": "histogram2d"
           }
          ],
          "histogram2dcontour": [
           {
            "colorbar": {
             "outlinewidth": 1,
             "tickcolor": "rgb(36,36,36)",
             "ticks": "outside"
            },
            "colorscale": [
             [
              0,
              "#440154"
             ],
             [
              0.1111111111111111,
              "#482878"
             ],
             [
              0.2222222222222222,
              "#3e4989"
             ],
             [
              0.3333333333333333,
              "#31688e"
             ],
             [
              0.4444444444444444,
              "#26828e"
             ],
             [
              0.5555555555555556,
              "#1f9e89"
             ],
             [
              0.6666666666666666,
              "#35b779"
             ],
             [
              0.7777777777777778,
              "#6ece58"
             ],
             [
              0.8888888888888888,
              "#b5de2b"
             ],
             [
              1,
              "#fde725"
             ]
            ],
            "type": "histogram2dcontour"
           }
          ],
          "mesh3d": [
           {
            "colorbar": {
             "outlinewidth": 1,
             "tickcolor": "rgb(36,36,36)",
             "ticks": "outside"
            },
            "type": "mesh3d"
           }
          ],
          "parcoords": [
           {
            "line": {
             "colorbar": {
              "outlinewidth": 1,
              "tickcolor": "rgb(36,36,36)",
              "ticks": "outside"
             }
            },
            "type": "parcoords"
           }
          ],
          "pie": [
           {
            "automargin": true,
            "type": "pie"
           }
          ],
          "scatter": [
           {
            "fillpattern": {
             "fillmode": "overlay",
             "size": 10,
             "solidity": 0.2
            },
            "type": "scatter"
           }
          ],
          "scatter3d": [
           {
            "line": {
             "colorbar": {
              "outlinewidth": 1,
              "tickcolor": "rgb(36,36,36)",
              "ticks": "outside"
             }
            },
            "marker": {
             "colorbar": {
              "outlinewidth": 1,
              "tickcolor": "rgb(36,36,36)",
              "ticks": "outside"
             }
            },
            "type": "scatter3d"
           }
          ],
          "scattercarpet": [
           {
            "marker": {
             "colorbar": {
              "outlinewidth": 1,
              "tickcolor": "rgb(36,36,36)",
              "ticks": "outside"
             }
            },
            "type": "scattercarpet"
           }
          ],
          "scattergeo": [
           {
            "marker": {
             "colorbar": {
              "outlinewidth": 1,
              "tickcolor": "rgb(36,36,36)",
              "ticks": "outside"
             }
            },
            "type": "scattergeo"
           }
          ],
          "scattergl": [
           {
            "marker": {
             "colorbar": {
              "outlinewidth": 1,
              "tickcolor": "rgb(36,36,36)",
              "ticks": "outside"
             }
            },
            "type": "scattergl"
           }
          ],
          "scattermapbox": [
           {
            "marker": {
             "colorbar": {
              "outlinewidth": 1,
              "tickcolor": "rgb(36,36,36)",
              "ticks": "outside"
             }
            },
            "type": "scattermapbox"
           }
          ],
          "scatterpolar": [
           {
            "marker": {
             "colorbar": {
              "outlinewidth": 1,
              "tickcolor": "rgb(36,36,36)",
              "ticks": "outside"
             }
            },
            "type": "scatterpolar"
           }
          ],
          "scatterpolargl": [
           {
            "marker": {
             "colorbar": {
              "outlinewidth": 1,
              "tickcolor": "rgb(36,36,36)",
              "ticks": "outside"
             }
            },
            "type": "scatterpolargl"
           }
          ],
          "scatterternary": [
           {
            "marker": {
             "colorbar": {
              "outlinewidth": 1,
              "tickcolor": "rgb(36,36,36)",
              "ticks": "outside"
             }
            },
            "type": "scatterternary"
           }
          ],
          "surface": [
           {
            "colorbar": {
             "outlinewidth": 1,
             "tickcolor": "rgb(36,36,36)",
             "ticks": "outside"
            },
            "colorscale": [
             [
              0,
              "#440154"
             ],
             [
              0.1111111111111111,
              "#482878"
             ],
             [
              0.2222222222222222,
              "#3e4989"
             ],
             [
              0.3333333333333333,
              "#31688e"
             ],
             [
              0.4444444444444444,
              "#26828e"
             ],
             [
              0.5555555555555556,
              "#1f9e89"
             ],
             [
              0.6666666666666666,
              "#35b779"
             ],
             [
              0.7777777777777778,
              "#6ece58"
             ],
             [
              0.8888888888888888,
              "#b5de2b"
             ],
             [
              1,
              "#fde725"
             ]
            ],
            "type": "surface"
           }
          ],
          "table": [
           {
            "cells": {
             "fill": {
              "color": "rgb(237,237,237)"
             },
             "line": {
              "color": "white"
             }
            },
            "header": {
             "fill": {
              "color": "rgb(217,217,217)"
             },
             "line": {
              "color": "white"
             }
            },
            "type": "table"
           }
          ]
         },
         "layout": {
          "annotationdefaults": {
           "arrowhead": 0,
           "arrowwidth": 1
          },
          "autotypenumbers": "strict",
          "coloraxis": {
           "colorbar": {
            "outlinewidth": 1,
            "tickcolor": "rgb(36,36,36)",
            "ticks": "outside"
           }
          },
          "colorscale": {
           "diverging": [
            [
             0,
             "rgb(103,0,31)"
            ],
            [
             0.1,
             "rgb(178,24,43)"
            ],
            [
             0.2,
             "rgb(214,96,77)"
            ],
            [
             0.3,
             "rgb(244,165,130)"
            ],
            [
             0.4,
             "rgb(253,219,199)"
            ],
            [
             0.5,
             "rgb(247,247,247)"
            ],
            [
             0.6,
             "rgb(209,229,240)"
            ],
            [
             0.7,
             "rgb(146,197,222)"
            ],
            [
             0.8,
             "rgb(67,147,195)"
            ],
            [
             0.9,
             "rgb(33,102,172)"
            ],
            [
             1,
             "rgb(5,48,97)"
            ]
           ],
           "sequential": [
            [
             0,
             "#440154"
            ],
            [
             0.1111111111111111,
             "#482878"
            ],
            [
             0.2222222222222222,
             "#3e4989"
            ],
            [
             0.3333333333333333,
             "#31688e"
            ],
            [
             0.4444444444444444,
             "#26828e"
            ],
            [
             0.5555555555555556,
             "#1f9e89"
            ],
            [
             0.6666666666666666,
             "#35b779"
            ],
            [
             0.7777777777777778,
             "#6ece58"
            ],
            [
             0.8888888888888888,
             "#b5de2b"
            ],
            [
             1,
             "#fde725"
            ]
           ],
           "sequentialminus": [
            [
             0,
             "#440154"
            ],
            [
             0.1111111111111111,
             "#482878"
            ],
            [
             0.2222222222222222,
             "#3e4989"
            ],
            [
             0.3333333333333333,
             "#31688e"
            ],
            [
             0.4444444444444444,
             "#26828e"
            ],
            [
             0.5555555555555556,
             "#1f9e89"
            ],
            [
             0.6666666666666666,
             "#35b779"
            ],
            [
             0.7777777777777778,
             "#6ece58"
            ],
            [
             0.8888888888888888,
             "#b5de2b"
            ],
            [
             1,
             "#fde725"
            ]
           ]
          },
          "colorway": [
           "#1F77B4",
           "#FF7F0E",
           "#2CA02C",
           "#D62728",
           "#9467BD",
           "#8C564B",
           "#E377C2",
           "#7F7F7F",
           "#BCBD22",
           "#17BECF"
          ],
          "font": {
           "color": "rgb(36,36,36)"
          },
          "geo": {
           "bgcolor": "white",
           "lakecolor": "white",
           "landcolor": "white",
           "showlakes": true,
           "showland": true,
           "subunitcolor": "white"
          },
          "hoverlabel": {
           "align": "left"
          },
          "hovermode": "closest",
          "mapbox": {
           "style": "light"
          },
          "paper_bgcolor": "white",
          "plot_bgcolor": "white",
          "polar": {
           "angularaxis": {
            "gridcolor": "rgb(232,232,232)",
            "linecolor": "rgb(36,36,36)",
            "showgrid": false,
            "showline": true,
            "ticks": "outside"
           },
           "bgcolor": "white",
           "radialaxis": {
            "gridcolor": "rgb(232,232,232)",
            "linecolor": "rgb(36,36,36)",
            "showgrid": false,
            "showline": true,
            "ticks": "outside"
           }
          },
          "scene": {
           "xaxis": {
            "backgroundcolor": "white",
            "gridcolor": "rgb(232,232,232)",
            "gridwidth": 2,
            "linecolor": "rgb(36,36,36)",
            "showbackground": true,
            "showgrid": false,
            "showline": true,
            "ticks": "outside",
            "zeroline": false,
            "zerolinecolor": "rgb(36,36,36)"
           },
           "yaxis": {
            "backgroundcolor": "white",
            "gridcolor": "rgb(232,232,232)",
            "gridwidth": 2,
            "linecolor": "rgb(36,36,36)",
            "showbackground": true,
            "showgrid": false,
            "showline": true,
            "ticks": "outside",
            "zeroline": false,
            "zerolinecolor": "rgb(36,36,36)"
           },
           "zaxis": {
            "backgroundcolor": "white",
            "gridcolor": "rgb(232,232,232)",
            "gridwidth": 2,
            "linecolor": "rgb(36,36,36)",
            "showbackground": true,
            "showgrid": false,
            "showline": true,
            "ticks": "outside",
            "zeroline": false,
            "zerolinecolor": "rgb(36,36,36)"
           }
          },
          "shapedefaults": {
           "fillcolor": "black",
           "line": {
            "width": 0
           },
           "opacity": 0.3
          },
          "ternary": {
           "aaxis": {
            "gridcolor": "rgb(232,232,232)",
            "linecolor": "rgb(36,36,36)",
            "showgrid": false,
            "showline": true,
            "ticks": "outside"
           },
           "baxis": {
            "gridcolor": "rgb(232,232,232)",
            "linecolor": "rgb(36,36,36)",
            "showgrid": false,
            "showline": true,
            "ticks": "outside"
           },
           "bgcolor": "white",
           "caxis": {
            "gridcolor": "rgb(232,232,232)",
            "linecolor": "rgb(36,36,36)",
            "showgrid": false,
            "showline": true,
            "ticks": "outside"
           }
          },
          "title": {
           "x": 0.05
          },
          "xaxis": {
           "automargin": true,
           "gridcolor": "rgb(232,232,232)",
           "linecolor": "rgb(36,36,36)",
           "showgrid": false,
           "showline": true,
           "ticks": "outside",
           "title": {
            "standoff": 15
           },
           "zeroline": false,
           "zerolinecolor": "rgb(36,36,36)"
          },
          "yaxis": {
           "automargin": true,
           "gridcolor": "rgb(232,232,232)",
           "linecolor": "rgb(36,36,36)",
           "showgrid": false,
           "showline": true,
           "ticks": "outside",
           "title": {
            "standoff": 15
           },
           "zeroline": false,
           "zerolinecolor": "rgb(36,36,36)"
          }
         }
        },
        "title": {
         "font": {
          "color": "Black",
          "size": 22
         },
         "text": "<b>Documents and Topics</b>",
         "x": 0.5,
         "xanchor": "center",
         "yanchor": "top"
        },
        "width": 1200,
        "xaxis": {
         "visible": false
        },
        "yaxis": {
         "visible": false
        }
       }
      }
     },
     "metadata": {},
     "output_type": "display_data"
    }
   ],
   "source": [
    "reduced_embeddings = UMAP(n_neighbors=10, n_components=2, min_dist=0.0, metric='cosine').fit_transform(embeddings)\n",
    "topic_model.visualize_documents(docs, reduced_embeddings=reduced_embeddings, hide_document_hover=True)"
   ]
  },
  {
   "cell_type": "markdown",
   "metadata": {},
   "source": [
    "# 动态主题模型"
   ]
  },
  {
   "cell_type": "code",
   "execution_count": 29,
   "metadata": {},
   "outputs": [
    {
     "name": "stdout",
     "output_type": "stream",
     "text": [
      "1000 [2023, 2023, 2023, 2023, 2023, 2023, 2023, 2023, 2023, 2023]\n"
     ]
    }
   ],
   "source": [
    "# 读取时间戳\n",
    "with open('./data/时间.txt', \"r\", encoding='utf-8') as file:\n",
    "    lines = file.readlines()\n",
    "    timestamps = [int(line.strip()) for line in lines]\n",
    "print(len(timestamps), timestamps[:10])"
   ]
  },
  {
   "cell_type": "code",
   "execution_count": 30,
   "metadata": {},
   "outputs": [
    {
     "data": {
      "application/vnd.plotly.v1+json": {
       "config": {
        "plotlyServerURL": "https://plot.ly"
       },
       "data": [
        {
         "hoverinfo": "text",
         "hovertext": [
          "<b>Topic 0</b><br>Words: 三彩, 成人, 儿童, 酒店, 沧州, 中国, 河南, 白云山, 艺术, 洛阳市",
          "<b>Topic 0</b><br>Words: 河南, 历史, 济南, 中国, 旅行, 水席, 巩义, 日本, 地点, 郑州",
          "<b>Topic 0</b><br>Words: 历史, 广济桥, 河南, 赵匡胤, 潮州, 中国, 很多, 江南, 一座, 洛阳桥",
          "<b>Topic 0</b><br>Words: 民宿, 写真, 大理, 黄陂, 旅行, 历史, 中国, 考古队, 图片, 古城",
          "<b>Topic 0</b><br>Words: 仙门, 旅行, 风起, 处理, 话题, 黄河, 发团, 咖啡, 地方, 不良",
          "<b>Topic 0</b><br>Words: 王府, 竹海, 景区, 造纸, 旅行, 洛阳桥, 理由, 龙亭, 推荐, 露营",
          "<b>Topic 0</b><br>Words: 旅行, 古城, 河南, 游泳, 地方, 打卡, 景区, 王府, 历史, 竹海"
         ],
         "marker": {
          "color": "#E69F00"
         },
         "mode": "lines",
         "name": "0_河南_旅行_历史_中国",
         "type": "scatter",
         "x": [
          2017,
          2018,
          2019,
          2020,
          2021,
          2022,
          2023
         ],
         "y": [
          20,
          39,
          36,
          33,
          41,
          36,
          39
         ]
        },
        {
         "hoverinfo": "text",
         "hovertext": [
          "<b>Topic 1</b><br>Words: 公厕, 度假区, 项目, 韩国, 优选, 白云山, 民生, 法华寺, 建议, 景区",
          "<b>Topic 1</b><br>Words: 景区, 活动, 游客, 门票, 旅客, 度假区, 期间, 公示, 市民, 价格",
          "<b>Topic 1</b><br>Words: 年票, 旅客, 郑州, 景区, 客流, 发送, 高峰, 高速, 免费, 续费",
          "<b>Topic 1</b><br>Words: 景区, 门票, 游客, 优惠, 执行, 半价, 旅客, 列车, 智慧, 优惠政策",
          "<b>Topic 1</b><br>Words: 景区, 午餐, 复工, 防控, 一元, 复产, 落实, 无人, 多出, 国家",
          "<b>Topic 1</b><br>Words: 景区, 城市, 开放, 假期, 地图, 疫情, 清明, 北京, 防控, 目前",
          "<b>Topic 1</b><br>Words: 景区, 疫情, 防控, 客运, 暂时, 高速, 场所, 暂停, 郑州, 班线",
          "<b>Topic 1</b><br>Words: 景区, 线路, 游客, 公交, 五一, 同期, 取消, 增长, 显示, 假期"
         ],
         "marker": {
          "color": "#56B4E9"
         },
         "mode": "lines",
         "name": "1_景区_游客_郑州_旅客",
         "type": "scatter",
         "x": [
          2016,
          2017,
          2018,
          2019,
          2020,
          2021,
          2022,
          2023
         ],
         "y": [
          12,
          31,
          45,
          13,
          12,
          30,
          30,
          32
         ]
        },
        {
         "hoverinfo": "text",
         "hovertext": [
          "<b>Topic 2</b><br>Words: 标准化, 学习, 工作, 景区, 服务, 旅发, 项目, 园中, 集团, 建设",
          "<b>Topic 2</b><br>Words: 银杏, 白云山, 主题, 活动, 博物馆, 河洛, 建设, 发展, 大鼓, 第九届",
          "<b>Topic 2</b><br>Words: 建设, 小镇, 发展, 机场, 片区, 博物馆, 温泉, 航班时刻, 规划, 协会",
          "<b>Topic 2</b><br>Words: 自驾车, 机场, 建设, 项目, 历史, 规划, 南通, 航线, 片区, 人大代表",
          "<b>Topic 2</b><br>Words: 连云港, 三门峡, 郑州, 码头, 建设, 航道, 停车场, 列车, 项目, 规划",
          "<b>Topic 2</b><br>Words: 发展, 中医药, 文旅, 灵山, 产业, 河山, 博物馆, 城市, 建设, 国家",
          "<b>Topic 2</b><br>Words: 黄河, 生态, 洛阳市, 工作, 河南省, 集团, 建设, 公路, 古籍, 书房",
          "<b>Topic 2</b><br>Words: 文旅, 大会, 文旅文创, 河南, 项目, 行走, 读懂, 发展, 文化公园, 黄河"
         ],
         "marker": {
          "color": "#009E73"
         },
         "mode": "lines",
         "name": "2_建设_发展_项目_河南",
         "type": "scatter",
         "x": [
          2016,
          2017,
          2018,
          2019,
          2020,
          2021,
          2022,
          2023
         ],
         "y": [
          12,
          29,
          20,
          25,
          19,
          12,
          19,
          18
         ]
        },
        {
         "hoverinfo": "text",
         "hovertext": [
          "<b>Topic 3</b><br>Words: 龙门石窟, 艺术, 中国, 邮票, 石窟, 朝代, 印度, 发展, 年间, 西行",
          "<b>Topic 3</b><br>Words: 大殿, 福昌, 兴福寺, 少林寺, 中国, 位于, 景区, 小浪底, 洛阳城, 世界",
          "<b>Topic 3</b><br>Words: 中国, 龙门石窟, 石窟, 艺术, 文化遗产, 朝代, 造像, 世界, 石刻, 碑刻",
          "<b>Topic 3</b><br>Words: 中国, 艺术, 龙门石窟, 石窟, 世界, 佛教, 文化遗产, 少林寺, 莫高窟, 功夫",
          "<b>Topic 3</b><br>Words: 龙门石窟, 中国, 石窟, 艺术, 朝代, 造像, 龙门, 余年, 开凿, 世界",
          "<b>Topic 3</b><br>Words: 石窟, 世界, 永宁寺, 什伐, 博物馆, 中国, 石刻, 龙门石窟, 标本, 少林寺",
          "<b>Topic 3</b><br>Words: 少林寺, 出土, 公元, 天堂, 嵩山, 少林功夫, 涂井, 忠县, 三国, 佛教",
          "<b>Topic 3</b><br>Words: 城隍庙, 修缮, 皇家, 河南, 石窟, 世界, 孔庙, 造像, 工程施工, 专家组"
         ],
         "marker": {
          "color": "#F0E442"
         },
         "mode": "lines",
         "name": "3_中国_龙门石窟_石窟_艺术",
         "type": "scatter",
         "x": [
          2016,
          2017,
          2018,
          2019,
          2020,
          2021,
          2022,
          2023
         ],
         "y": [
          3,
          6,
          14,
          14,
          11,
          7,
          4,
          3
         ]
        }
       ],
       "layout": {
        "height": 450,
        "hoverlabel": {
         "bgcolor": "white",
         "font": {
          "family": "Rockwell",
          "size": 16
         }
        },
        "legend": {
         "title": {
          "text": "<b>Global Topic Representation"
         }
        },
        "template": {
         "data": {
          "bar": [
           {
            "error_x": {
             "color": "rgb(36,36,36)"
            },
            "error_y": {
             "color": "rgb(36,36,36)"
            },
            "marker": {
             "line": {
              "color": "white",
              "width": 0.5
             },
             "pattern": {
              "fillmode": "overlay",
              "size": 10,
              "solidity": 0.2
             }
            },
            "type": "bar"
           }
          ],
          "barpolar": [
           {
            "marker": {
             "line": {
              "color": "white",
              "width": 0.5
             },
             "pattern": {
              "fillmode": "overlay",
              "size": 10,
              "solidity": 0.2
             }
            },
            "type": "barpolar"
           }
          ],
          "carpet": [
           {
            "aaxis": {
             "endlinecolor": "rgb(36,36,36)",
             "gridcolor": "white",
             "linecolor": "white",
             "minorgridcolor": "white",
             "startlinecolor": "rgb(36,36,36)"
            },
            "baxis": {
             "endlinecolor": "rgb(36,36,36)",
             "gridcolor": "white",
             "linecolor": "white",
             "minorgridcolor": "white",
             "startlinecolor": "rgb(36,36,36)"
            },
            "type": "carpet"
           }
          ],
          "choropleth": [
           {
            "colorbar": {
             "outlinewidth": 1,
             "tickcolor": "rgb(36,36,36)",
             "ticks": "outside"
            },
            "type": "choropleth"
           }
          ],
          "contour": [
           {
            "colorbar": {
             "outlinewidth": 1,
             "tickcolor": "rgb(36,36,36)",
             "ticks": "outside"
            },
            "colorscale": [
             [
              0,
              "#440154"
             ],
             [
              0.1111111111111111,
              "#482878"
             ],
             [
              0.2222222222222222,
              "#3e4989"
             ],
             [
              0.3333333333333333,
              "#31688e"
             ],
             [
              0.4444444444444444,
              "#26828e"
             ],
             [
              0.5555555555555556,
              "#1f9e89"
             ],
             [
              0.6666666666666666,
              "#35b779"
             ],
             [
              0.7777777777777778,
              "#6ece58"
             ],
             [
              0.8888888888888888,
              "#b5de2b"
             ],
             [
              1,
              "#fde725"
             ]
            ],
            "type": "contour"
           }
          ],
          "contourcarpet": [
           {
            "colorbar": {
             "outlinewidth": 1,
             "tickcolor": "rgb(36,36,36)",
             "ticks": "outside"
            },
            "type": "contourcarpet"
           }
          ],
          "heatmap": [
           {
            "colorbar": {
             "outlinewidth": 1,
             "tickcolor": "rgb(36,36,36)",
             "ticks": "outside"
            },
            "colorscale": [
             [
              0,
              "#440154"
             ],
             [
              0.1111111111111111,
              "#482878"
             ],
             [
              0.2222222222222222,
              "#3e4989"
             ],
             [
              0.3333333333333333,
              "#31688e"
             ],
             [
              0.4444444444444444,
              "#26828e"
             ],
             [
              0.5555555555555556,
              "#1f9e89"
             ],
             [
              0.6666666666666666,
              "#35b779"
             ],
             [
              0.7777777777777778,
              "#6ece58"
             ],
             [
              0.8888888888888888,
              "#b5de2b"
             ],
             [
              1,
              "#fde725"
             ]
            ],
            "type": "heatmap"
           }
          ],
          "heatmapgl": [
           {
            "colorbar": {
             "outlinewidth": 1,
             "tickcolor": "rgb(36,36,36)",
             "ticks": "outside"
            },
            "colorscale": [
             [
              0,
              "#440154"
             ],
             [
              0.1111111111111111,
              "#482878"
             ],
             [
              0.2222222222222222,
              "#3e4989"
             ],
             [
              0.3333333333333333,
              "#31688e"
             ],
             [
              0.4444444444444444,
              "#26828e"
             ],
             [
              0.5555555555555556,
              "#1f9e89"
             ],
             [
              0.6666666666666666,
              "#35b779"
             ],
             [
              0.7777777777777778,
              "#6ece58"
             ],
             [
              0.8888888888888888,
              "#b5de2b"
             ],
             [
              1,
              "#fde725"
             ]
            ],
            "type": "heatmapgl"
           }
          ],
          "histogram": [
           {
            "marker": {
             "line": {
              "color": "white",
              "width": 0.6
             }
            },
            "type": "histogram"
           }
          ],
          "histogram2d": [
           {
            "colorbar": {
             "outlinewidth": 1,
             "tickcolor": "rgb(36,36,36)",
             "ticks": "outside"
            },
            "colorscale": [
             [
              0,
              "#440154"
             ],
             [
              0.1111111111111111,
              "#482878"
             ],
             [
              0.2222222222222222,
              "#3e4989"
             ],
             [
              0.3333333333333333,
              "#31688e"
             ],
             [
              0.4444444444444444,
              "#26828e"
             ],
             [
              0.5555555555555556,
              "#1f9e89"
             ],
             [
              0.6666666666666666,
              "#35b779"
             ],
             [
              0.7777777777777778,
              "#6ece58"
             ],
             [
              0.8888888888888888,
              "#b5de2b"
             ],
             [
              1,
              "#fde725"
             ]
            ],
            "type": "histogram2d"
           }
          ],
          "histogram2dcontour": [
           {
            "colorbar": {
             "outlinewidth": 1,
             "tickcolor": "rgb(36,36,36)",
             "ticks": "outside"
            },
            "colorscale": [
             [
              0,
              "#440154"
             ],
             [
              0.1111111111111111,
              "#482878"
             ],
             [
              0.2222222222222222,
              "#3e4989"
             ],
             [
              0.3333333333333333,
              "#31688e"
             ],
             [
              0.4444444444444444,
              "#26828e"
             ],
             [
              0.5555555555555556,
              "#1f9e89"
             ],
             [
              0.6666666666666666,
              "#35b779"
             ],
             [
              0.7777777777777778,
              "#6ece58"
             ],
             [
              0.8888888888888888,
              "#b5de2b"
             ],
             [
              1,
              "#fde725"
             ]
            ],
            "type": "histogram2dcontour"
           }
          ],
          "mesh3d": [
           {
            "colorbar": {
             "outlinewidth": 1,
             "tickcolor": "rgb(36,36,36)",
             "ticks": "outside"
            },
            "type": "mesh3d"
           }
          ],
          "parcoords": [
           {
            "line": {
             "colorbar": {
              "outlinewidth": 1,
              "tickcolor": "rgb(36,36,36)",
              "ticks": "outside"
             }
            },
            "type": "parcoords"
           }
          ],
          "pie": [
           {
            "automargin": true,
            "type": "pie"
           }
          ],
          "scatter": [
           {
            "fillpattern": {
             "fillmode": "overlay",
             "size": 10,
             "solidity": 0.2
            },
            "type": "scatter"
           }
          ],
          "scatter3d": [
           {
            "line": {
             "colorbar": {
              "outlinewidth": 1,
              "tickcolor": "rgb(36,36,36)",
              "ticks": "outside"
             }
            },
            "marker": {
             "colorbar": {
              "outlinewidth": 1,
              "tickcolor": "rgb(36,36,36)",
              "ticks": "outside"
             }
            },
            "type": "scatter3d"
           }
          ],
          "scattercarpet": [
           {
            "marker": {
             "colorbar": {
              "outlinewidth": 1,
              "tickcolor": "rgb(36,36,36)",
              "ticks": "outside"
             }
            },
            "type": "scattercarpet"
           }
          ],
          "scattergeo": [
           {
            "marker": {
             "colorbar": {
              "outlinewidth": 1,
              "tickcolor": "rgb(36,36,36)",
              "ticks": "outside"
             }
            },
            "type": "scattergeo"
           }
          ],
          "scattergl": [
           {
            "marker": {
             "colorbar": {
              "outlinewidth": 1,
              "tickcolor": "rgb(36,36,36)",
              "ticks": "outside"
             }
            },
            "type": "scattergl"
           }
          ],
          "scattermapbox": [
           {
            "marker": {
             "colorbar": {
              "outlinewidth": 1,
              "tickcolor": "rgb(36,36,36)",
              "ticks": "outside"
             }
            },
            "type": "scattermapbox"
           }
          ],
          "scatterpolar": [
           {
            "marker": {
             "colorbar": {
              "outlinewidth": 1,
              "tickcolor": "rgb(36,36,36)",
              "ticks": "outside"
             }
            },
            "type": "scatterpolar"
           }
          ],
          "scatterpolargl": [
           {
            "marker": {
             "colorbar": {
              "outlinewidth": 1,
              "tickcolor": "rgb(36,36,36)",
              "ticks": "outside"
             }
            },
            "type": "scatterpolargl"
           }
          ],
          "scatterternary": [
           {
            "marker": {
             "colorbar": {
              "outlinewidth": 1,
              "tickcolor": "rgb(36,36,36)",
              "ticks": "outside"
             }
            },
            "type": "scatterternary"
           }
          ],
          "surface": [
           {
            "colorbar": {
             "outlinewidth": 1,
             "tickcolor": "rgb(36,36,36)",
             "ticks": "outside"
            },
            "colorscale": [
             [
              0,
              "#440154"
             ],
             [
              0.1111111111111111,
              "#482878"
             ],
             [
              0.2222222222222222,
              "#3e4989"
             ],
             [
              0.3333333333333333,
              "#31688e"
             ],
             [
              0.4444444444444444,
              "#26828e"
             ],
             [
              0.5555555555555556,
              "#1f9e89"
             ],
             [
              0.6666666666666666,
              "#35b779"
             ],
             [
              0.7777777777777778,
              "#6ece58"
             ],
             [
              0.8888888888888888,
              "#b5de2b"
             ],
             [
              1,
              "#fde725"
             ]
            ],
            "type": "surface"
           }
          ],
          "table": [
           {
            "cells": {
             "fill": {
              "color": "rgb(237,237,237)"
             },
             "line": {
              "color": "white"
             }
            },
            "header": {
             "fill": {
              "color": "rgb(217,217,217)"
             },
             "line": {
              "color": "white"
             }
            },
            "type": "table"
           }
          ]
         },
         "layout": {
          "annotationdefaults": {
           "arrowhead": 0,
           "arrowwidth": 1
          },
          "autotypenumbers": "strict",
          "coloraxis": {
           "colorbar": {
            "outlinewidth": 1,
            "tickcolor": "rgb(36,36,36)",
            "ticks": "outside"
           }
          },
          "colorscale": {
           "diverging": [
            [
             0,
             "rgb(103,0,31)"
            ],
            [
             0.1,
             "rgb(178,24,43)"
            ],
            [
             0.2,
             "rgb(214,96,77)"
            ],
            [
             0.3,
             "rgb(244,165,130)"
            ],
            [
             0.4,
             "rgb(253,219,199)"
            ],
            [
             0.5,
             "rgb(247,247,247)"
            ],
            [
             0.6,
             "rgb(209,229,240)"
            ],
            [
             0.7,
             "rgb(146,197,222)"
            ],
            [
             0.8,
             "rgb(67,147,195)"
            ],
            [
             0.9,
             "rgb(33,102,172)"
            ],
            [
             1,
             "rgb(5,48,97)"
            ]
           ],
           "sequential": [
            [
             0,
             "#440154"
            ],
            [
             0.1111111111111111,
             "#482878"
            ],
            [
             0.2222222222222222,
             "#3e4989"
            ],
            [
             0.3333333333333333,
             "#31688e"
            ],
            [
             0.4444444444444444,
             "#26828e"
            ],
            [
             0.5555555555555556,
             "#1f9e89"
            ],
            [
             0.6666666666666666,
             "#35b779"
            ],
            [
             0.7777777777777778,
             "#6ece58"
            ],
            [
             0.8888888888888888,
             "#b5de2b"
            ],
            [
             1,
             "#fde725"
            ]
           ],
           "sequentialminus": [
            [
             0,
             "#440154"
            ],
            [
             0.1111111111111111,
             "#482878"
            ],
            [
             0.2222222222222222,
             "#3e4989"
            ],
            [
             0.3333333333333333,
             "#31688e"
            ],
            [
             0.4444444444444444,
             "#26828e"
            ],
            [
             0.5555555555555556,
             "#1f9e89"
            ],
            [
             0.6666666666666666,
             "#35b779"
            ],
            [
             0.7777777777777778,
             "#6ece58"
            ],
            [
             0.8888888888888888,
             "#b5de2b"
            ],
            [
             1,
             "#fde725"
            ]
           ]
          },
          "colorway": [
           "#1F77B4",
           "#FF7F0E",
           "#2CA02C",
           "#D62728",
           "#9467BD",
           "#8C564B",
           "#E377C2",
           "#7F7F7F",
           "#BCBD22",
           "#17BECF"
          ],
          "font": {
           "color": "rgb(36,36,36)"
          },
          "geo": {
           "bgcolor": "white",
           "lakecolor": "white",
           "landcolor": "white",
           "showlakes": true,
           "showland": true,
           "subunitcolor": "white"
          },
          "hoverlabel": {
           "align": "left"
          },
          "hovermode": "closest",
          "mapbox": {
           "style": "light"
          },
          "paper_bgcolor": "white",
          "plot_bgcolor": "white",
          "polar": {
           "angularaxis": {
            "gridcolor": "rgb(232,232,232)",
            "linecolor": "rgb(36,36,36)",
            "showgrid": false,
            "showline": true,
            "ticks": "outside"
           },
           "bgcolor": "white",
           "radialaxis": {
            "gridcolor": "rgb(232,232,232)",
            "linecolor": "rgb(36,36,36)",
            "showgrid": false,
            "showline": true,
            "ticks": "outside"
           }
          },
          "scene": {
           "xaxis": {
            "backgroundcolor": "white",
            "gridcolor": "rgb(232,232,232)",
            "gridwidth": 2,
            "linecolor": "rgb(36,36,36)",
            "showbackground": true,
            "showgrid": false,
            "showline": true,
            "ticks": "outside",
            "zeroline": false,
            "zerolinecolor": "rgb(36,36,36)"
           },
           "yaxis": {
            "backgroundcolor": "white",
            "gridcolor": "rgb(232,232,232)",
            "gridwidth": 2,
            "linecolor": "rgb(36,36,36)",
            "showbackground": true,
            "showgrid": false,
            "showline": true,
            "ticks": "outside",
            "zeroline": false,
            "zerolinecolor": "rgb(36,36,36)"
           },
           "zaxis": {
            "backgroundcolor": "white",
            "gridcolor": "rgb(232,232,232)",
            "gridwidth": 2,
            "linecolor": "rgb(36,36,36)",
            "showbackground": true,
            "showgrid": false,
            "showline": true,
            "ticks": "outside",
            "zeroline": false,
            "zerolinecolor": "rgb(36,36,36)"
           }
          },
          "shapedefaults": {
           "fillcolor": "black",
           "line": {
            "width": 0
           },
           "opacity": 0.3
          },
          "ternary": {
           "aaxis": {
            "gridcolor": "rgb(232,232,232)",
            "linecolor": "rgb(36,36,36)",
            "showgrid": false,
            "showline": true,
            "ticks": "outside"
           },
           "baxis": {
            "gridcolor": "rgb(232,232,232)",
            "linecolor": "rgb(36,36,36)",
            "showgrid": false,
            "showline": true,
            "ticks": "outside"
           },
           "bgcolor": "white",
           "caxis": {
            "gridcolor": "rgb(232,232,232)",
            "linecolor": "rgb(36,36,36)",
            "showgrid": false,
            "showline": true,
            "ticks": "outside"
           }
          },
          "title": {
           "x": 0.05
          },
          "xaxis": {
           "automargin": true,
           "gridcolor": "rgb(232,232,232)",
           "linecolor": "rgb(36,36,36)",
           "showgrid": false,
           "showline": true,
           "ticks": "outside",
           "title": {
            "standoff": 15
           },
           "zeroline": false,
           "zerolinecolor": "rgb(36,36,36)"
          },
          "yaxis": {
           "automargin": true,
           "gridcolor": "rgb(232,232,232)",
           "linecolor": "rgb(36,36,36)",
           "showgrid": false,
           "showline": true,
           "ticks": "outside",
           "title": {
            "standoff": 15
           },
           "zeroline": false,
           "zerolinecolor": "rgb(36,36,36)"
          }
         }
        },
        "title": {
         "font": {
          "color": "Black",
          "size": 22
         },
         "text": "<b>Topics over Time</b>",
         "x": 0.4,
         "xanchor": "center",
         "y": 0.95,
         "yanchor": "top"
        },
        "width": 1250,
        "xaxis": {
         "showgrid": true
        },
        "yaxis": {
         "showgrid": true,
         "title": {
          "text": "Frequency"
         }
        }
       }
      }
     },
     "metadata": {},
     "output_type": "display_data"
    }
   ],
   "source": [
    "topics_over_time = topic_model.topics_over_time(docs, timestamps, global_tuning=False, evolution_tuning=False)\n",
    "topic_model.visualize_topics_over_time(topics_over_time)"
   ]
  }
 ],
 "metadata": {
  "kernelspec": {
   "display_name": "Python 3",
   "language": "python",
   "name": "python3"
  },
  "language_info": {
   "codemirror_mode": {
    "name": "ipython",
    "version": 3
   },
   "file_extension": ".py",
   "mimetype": "text/x-python",
   "name": "python",
   "nbconvert_exporter": "python",
   "pygments_lexer": "ipython3",
   "version": "3.10.6"
  }
 },
 "nbformat": 4,
 "nbformat_minor": 2
}
